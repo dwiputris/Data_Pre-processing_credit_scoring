{
  "cells": [
    {
      "cell_type": "markdown",
      "metadata": {
        "id": "8gyZ6eGRkuyZ"
      },
      "source": [
        "# Analysis on Loan Default Risk\n",
        "\n",
        "In this project, a credit division in a bank is asking for a report that analyzes the relation of marriage status, number of children owned, income, and borrowing purpose with probability of default on loan. A data on borrowers' debt eligibility is provided. The analyzes on this data will be used to evaluate borrowers' credit scoring that predicts the borrowers' repayment ability.\n",
        "\n",
        "Hypothesis to be tested are:\n",
        "1. Having children increases the probability of default\n",
        "2. Marriage status affects the probability of default\n",
        "3. Income affects the probability of default\n",
        "4. Borrowing purpose affects the probability of default\n"
      ]
    },
    {
      "cell_type": "markdown",
      "metadata": {
        "id": "zPsZR8xckuyg"
      },
      "source": [
        "## Import libraries and load data"
      ]
    },
    {
      "cell_type": "code",
      "execution_count": null,
      "metadata": {
        "colab": {
          "base_uri": "https://localhost:8080/"
        },
        "id": "Ql3JGIh-kuyk",
        "outputId": "623f58b9-571c-46bc-ae46-cfde7a818b49"
      },
      "outputs": [
        {
          "output_type": "stream",
          "name": "stdout",
          "text": [
            "Drive already mounted at /content/gdrive; to attempt to forcibly remount, call drive.mount(\"/content/gdrive\", force_remount=True).\n"
          ]
        }
      ],
      "source": [
        "# Import all libraries\n",
        "import pandas as pd, numpy as np, seaborn as sns, plotly.express as px\n",
        "\n",
        "from google.colab import drive\n",
        "drive.mount('/content/gdrive')\n"
      ]
    },
    {
      "cell_type": "code",
      "source": [
        "# Load data\n",
        "path ='/content/gdrive/MyDrive/data_projects/credit_scoring_eng.csv'\n",
        "credit_scoring = pd.read_csv(path)"
      ],
      "metadata": {
        "id": "LWx6lRMIlON1"
      },
      "execution_count": null,
      "outputs": []
    },
    {
      "cell_type": "markdown",
      "metadata": {
        "id": "bataRzEakuym"
      },
      "source": [
        "## Data Exploration\n",
        "\n",
        "**Data Description**\n",
        "- `children` - number of children in the household\n",
        "- `days_employed` - borrowers' number of days working experience\n",
        "- `dob_years` - borrowers' age in year\n",
        "- `education` - borrowers' level of education\n",
        "- `education_id` - ID assigned on borrowers' level of education\n",
        "- `family_status` - borrowers' marriage status\n",
        "- `family_status_id` - ID assigned on borrowers' marriage status\n",
        "- `gender` - borrowers' gender\n",
        "- `income_type` - borrowers' occupation status\n",
        "- `debt` - whether a borrower has past due loan\n",
        "- `total_income` - monthly income\n",
        "- `purpose` - borrowers' purpose of borrowing"
      ]
    },
    {
      "cell_type": "markdown",
      "source": [
        "**Explore the data and observe on:**\n",
        "1. Column name and number\n",
        "2. Number of rows, and their non-null values\n",
        "3. Number of null values in every column\n",
        "4. Sample of rows"
      ],
      "metadata": {
        "id": "o0SCN2TsJ91r"
      }
    },
    {
      "cell_type": "code",
      "execution_count": null,
      "metadata": {
        "colab": {
          "base_uri": "https://localhost:8080/"
        },
        "id": "e2jsHUFNkuyo",
        "outputId": "73533a3c-0b4e-4afd-f065-12a97bf77406"
      },
      "outputs": [
        {
          "output_type": "stream",
          "name": "stdout",
          "text": [
            "<class 'pandas.core.frame.DataFrame'>\n",
            "RangeIndex: 21525 entries, 0 to 21524\n",
            "Data columns (total 12 columns):\n",
            " #   Column            Non-Null Count  Dtype  \n",
            "---  ------            --------------  -----  \n",
            " 0   children          21525 non-null  int64  \n",
            " 1   days_employed     19351 non-null  float64\n",
            " 2   dob_years         21525 non-null  int64  \n",
            " 3   education         21525 non-null  object \n",
            " 4   education_id      21525 non-null  int64  \n",
            " 5   family_status     21525 non-null  object \n",
            " 6   family_status_id  21525 non-null  int64  \n",
            " 7   gender            21525 non-null  object \n",
            " 8   income_type       21525 non-null  object \n",
            " 9   debt              21525 non-null  int64  \n",
            " 10  total_income      19351 non-null  float64\n",
            " 11  purpose           21525 non-null  object \n",
            "dtypes: float64(2), int64(5), object(5)\n",
            "memory usage: 2.0+ MB\n"
          ]
        }
      ],
      "source": [
        "# Load general info of the dataset\n",
        "credit_scoring.info()\n"
      ]
    },
    {
      "cell_type": "code",
      "execution_count": null,
      "metadata": {
        "colab": {
          "base_uri": "https://localhost:8080/",
          "height": 300
        },
        "id": "O_s8cn9Xkuyq",
        "outputId": "29fd4538-831c-4be7-84dd-1fe44e6b77b9"
      },
      "outputs": [
        {
          "output_type": "execute_result",
          "data": {
            "text/plain": [
              "           children  days_employed     dob_years  education_id  \\\n",
              "count  21525.000000   19351.000000  21525.000000  21525.000000   \n",
              "mean       0.538908   63046.497661     43.293380      0.817236   \n",
              "std        1.381587  140827.311974     12.574584      0.548138   \n",
              "min       -1.000000  -18388.949901      0.000000      0.000000   \n",
              "25%        0.000000   -2747.423625     33.000000      1.000000   \n",
              "50%        0.000000   -1203.369529     42.000000      1.000000   \n",
              "75%        1.000000    -291.095954     53.000000      1.000000   \n",
              "max       20.000000  401755.400475     75.000000      4.000000   \n",
              "\n",
              "       family_status_id          debt   total_income  \n",
              "count      21525.000000  21525.000000   19351.000000  \n",
              "mean           0.972544      0.080883   26787.568355  \n",
              "std            1.420324      0.272661   16475.450632  \n",
              "min            0.000000      0.000000    3306.762000  \n",
              "25%            0.000000      0.000000   16488.504500  \n",
              "50%            0.000000      0.000000   23202.870000  \n",
              "75%            1.000000      0.000000   32549.611000  \n",
              "max            4.000000      1.000000  362496.645000  "
            ],
            "text/html": [
              "\n",
              "  <div id=\"df-94f975ee-975b-4694-83cc-b6102d995fd7\">\n",
              "    <div class=\"colab-df-container\">\n",
              "      <div>\n",
              "<style scoped>\n",
              "    .dataframe tbody tr th:only-of-type {\n",
              "        vertical-align: middle;\n",
              "    }\n",
              "\n",
              "    .dataframe tbody tr th {\n",
              "        vertical-align: top;\n",
              "    }\n",
              "\n",
              "    .dataframe thead th {\n",
              "        text-align: right;\n",
              "    }\n",
              "</style>\n",
              "<table border=\"1\" class=\"dataframe\">\n",
              "  <thead>\n",
              "    <tr style=\"text-align: right;\">\n",
              "      <th></th>\n",
              "      <th>children</th>\n",
              "      <th>days_employed</th>\n",
              "      <th>dob_years</th>\n",
              "      <th>education_id</th>\n",
              "      <th>family_status_id</th>\n",
              "      <th>debt</th>\n",
              "      <th>total_income</th>\n",
              "    </tr>\n",
              "  </thead>\n",
              "  <tbody>\n",
              "    <tr>\n",
              "      <th>count</th>\n",
              "      <td>21525.000000</td>\n",
              "      <td>19351.000000</td>\n",
              "      <td>21525.000000</td>\n",
              "      <td>21525.000000</td>\n",
              "      <td>21525.000000</td>\n",
              "      <td>21525.000000</td>\n",
              "      <td>19351.000000</td>\n",
              "    </tr>\n",
              "    <tr>\n",
              "      <th>mean</th>\n",
              "      <td>0.538908</td>\n",
              "      <td>63046.497661</td>\n",
              "      <td>43.293380</td>\n",
              "      <td>0.817236</td>\n",
              "      <td>0.972544</td>\n",
              "      <td>0.080883</td>\n",
              "      <td>26787.568355</td>\n",
              "    </tr>\n",
              "    <tr>\n",
              "      <th>std</th>\n",
              "      <td>1.381587</td>\n",
              "      <td>140827.311974</td>\n",
              "      <td>12.574584</td>\n",
              "      <td>0.548138</td>\n",
              "      <td>1.420324</td>\n",
              "      <td>0.272661</td>\n",
              "      <td>16475.450632</td>\n",
              "    </tr>\n",
              "    <tr>\n",
              "      <th>min</th>\n",
              "      <td>-1.000000</td>\n",
              "      <td>-18388.949901</td>\n",
              "      <td>0.000000</td>\n",
              "      <td>0.000000</td>\n",
              "      <td>0.000000</td>\n",
              "      <td>0.000000</td>\n",
              "      <td>3306.762000</td>\n",
              "    </tr>\n",
              "    <tr>\n",
              "      <th>25%</th>\n",
              "      <td>0.000000</td>\n",
              "      <td>-2747.423625</td>\n",
              "      <td>33.000000</td>\n",
              "      <td>1.000000</td>\n",
              "      <td>0.000000</td>\n",
              "      <td>0.000000</td>\n",
              "      <td>16488.504500</td>\n",
              "    </tr>\n",
              "    <tr>\n",
              "      <th>50%</th>\n",
              "      <td>0.000000</td>\n",
              "      <td>-1203.369529</td>\n",
              "      <td>42.000000</td>\n",
              "      <td>1.000000</td>\n",
              "      <td>0.000000</td>\n",
              "      <td>0.000000</td>\n",
              "      <td>23202.870000</td>\n",
              "    </tr>\n",
              "    <tr>\n",
              "      <th>75%</th>\n",
              "      <td>1.000000</td>\n",
              "      <td>-291.095954</td>\n",
              "      <td>53.000000</td>\n",
              "      <td>1.000000</td>\n",
              "      <td>1.000000</td>\n",
              "      <td>0.000000</td>\n",
              "      <td>32549.611000</td>\n",
              "    </tr>\n",
              "    <tr>\n",
              "      <th>max</th>\n",
              "      <td>20.000000</td>\n",
              "      <td>401755.400475</td>\n",
              "      <td>75.000000</td>\n",
              "      <td>4.000000</td>\n",
              "      <td>4.000000</td>\n",
              "      <td>1.000000</td>\n",
              "      <td>362496.645000</td>\n",
              "    </tr>\n",
              "  </tbody>\n",
              "</table>\n",
              "</div>\n",
              "      <button class=\"colab-df-convert\" onclick=\"convertToInteractive('df-94f975ee-975b-4694-83cc-b6102d995fd7')\"\n",
              "              title=\"Convert this dataframe to an interactive table.\"\n",
              "              style=\"display:none;\">\n",
              "        \n",
              "  <svg xmlns=\"http://www.w3.org/2000/svg\" height=\"24px\"viewBox=\"0 0 24 24\"\n",
              "       width=\"24px\">\n",
              "    <path d=\"M0 0h24v24H0V0z\" fill=\"none\"/>\n",
              "    <path d=\"M18.56 5.44l.94 2.06.94-2.06 2.06-.94-2.06-.94-.94-2.06-.94 2.06-2.06.94zm-11 1L8.5 8.5l.94-2.06 2.06-.94-2.06-.94L8.5 2.5l-.94 2.06-2.06.94zm10 10l.94 2.06.94-2.06 2.06-.94-2.06-.94-.94-2.06-.94 2.06-2.06.94z\"/><path d=\"M17.41 7.96l-1.37-1.37c-.4-.4-.92-.59-1.43-.59-.52 0-1.04.2-1.43.59L10.3 9.45l-7.72 7.72c-.78.78-.78 2.05 0 2.83L4 21.41c.39.39.9.59 1.41.59.51 0 1.02-.2 1.41-.59l7.78-7.78 2.81-2.81c.8-.78.8-2.07 0-2.86zM5.41 20L4 18.59l7.72-7.72 1.47 1.35L5.41 20z\"/>\n",
              "  </svg>\n",
              "      </button>\n",
              "      \n",
              "  <style>\n",
              "    .colab-df-container {\n",
              "      display:flex;\n",
              "      flex-wrap:wrap;\n",
              "      gap: 12px;\n",
              "    }\n",
              "\n",
              "    .colab-df-convert {\n",
              "      background-color: #E8F0FE;\n",
              "      border: none;\n",
              "      border-radius: 50%;\n",
              "      cursor: pointer;\n",
              "      display: none;\n",
              "      fill: #1967D2;\n",
              "      height: 32px;\n",
              "      padding: 0 0 0 0;\n",
              "      width: 32px;\n",
              "    }\n",
              "\n",
              "    .colab-df-convert:hover {\n",
              "      background-color: #E2EBFA;\n",
              "      box-shadow: 0px 1px 2px rgba(60, 64, 67, 0.3), 0px 1px 3px 1px rgba(60, 64, 67, 0.15);\n",
              "      fill: #174EA6;\n",
              "    }\n",
              "\n",
              "    [theme=dark] .colab-df-convert {\n",
              "      background-color: #3B4455;\n",
              "      fill: #D2E3FC;\n",
              "    }\n",
              "\n",
              "    [theme=dark] .colab-df-convert:hover {\n",
              "      background-color: #434B5C;\n",
              "      box-shadow: 0px 1px 3px 1px rgba(0, 0, 0, 0.15);\n",
              "      filter: drop-shadow(0px 1px 2px rgba(0, 0, 0, 0.3));\n",
              "      fill: #FFFFFF;\n",
              "    }\n",
              "  </style>\n",
              "\n",
              "      <script>\n",
              "        const buttonEl =\n",
              "          document.querySelector('#df-94f975ee-975b-4694-83cc-b6102d995fd7 button.colab-df-convert');\n",
              "        buttonEl.style.display =\n",
              "          google.colab.kernel.accessAllowed ? 'block' : 'none';\n",
              "\n",
              "        async function convertToInteractive(key) {\n",
              "          const element = document.querySelector('#df-94f975ee-975b-4694-83cc-b6102d995fd7');\n",
              "          const dataTable =\n",
              "            await google.colab.kernel.invokeFunction('convertToInteractive',\n",
              "                                                     [key], {});\n",
              "          if (!dataTable) return;\n",
              "\n",
              "          const docLinkHtml = 'Like what you see? Visit the ' +\n",
              "            '<a target=\"_blank\" href=https://colab.research.google.com/notebooks/data_table.ipynb>data table notebook</a>'\n",
              "            + ' to learn more about interactive tables.';\n",
              "          element.innerHTML = '';\n",
              "          dataTable['output_type'] = 'display_data';\n",
              "          await google.colab.output.renderOutput(dataTable, element);\n",
              "          const docLink = document.createElement('div');\n",
              "          docLink.innerHTML = docLinkHtml;\n",
              "          element.appendChild(docLink);\n",
              "        }\n",
              "      </script>\n",
              "    </div>\n",
              "  </div>\n",
              "  "
            ]
          },
          "metadata": {},
          "execution_count": 4
        }
      ],
      "source": [
        "# Load statistic description of the dataset\n",
        "credit_scoring.describe()"
      ]
    },
    {
      "cell_type": "code",
      "execution_count": null,
      "metadata": {
        "scrolled": true,
        "colab": {
          "base_uri": "https://localhost:8080/"
        },
        "id": "P2LgxekHkuys",
        "outputId": "a1e2678e-e2b5-4b62-cebc-2caa92773cfb"
      },
      "outputs": [
        {
          "output_type": "stream",
          "name": "stdout",
          "text": [
            "   children  days_employed  dob_years            education  education_id  \\\n",
            "0         1   -8437.673028         42    bachelor's degree             0   \n",
            "1         1   -4024.803754         36  secondary education             1   \n",
            "2         0   -5623.422610         33  Secondary Education             1   \n",
            "3         3   -4124.747207         32  secondary education             1   \n",
            "4         0  340266.072047         53  secondary education             1   \n",
            "5         0    -926.185831         27    bachelor's degree             0   \n",
            "6         0   -2879.202052         43    bachelor's degree             0   \n",
            "7         0    -152.779569         50  SECONDARY EDUCATION             1   \n",
            "8         2   -6929.865299         35    BACHELOR'S DEGREE             0   \n",
            "9         0   -2188.756445         41  secondary education             1   \n",
            "\n",
            "       family_status  family_status_id gender income_type  debt  total_income  \\\n",
            "0            married                 0      F    employee     0     40620.102   \n",
            "1            married                 0      F    employee     0     17932.802   \n",
            "2            married                 0      M    employee     0     23341.752   \n",
            "3            married                 0      M    employee     0     42820.568   \n",
            "4  civil partnership                 1      F     retiree     0     25378.572   \n",
            "5  civil partnership                 1      M    business     0     40922.170   \n",
            "6            married                 0      F    business     0     38484.156   \n",
            "7            married                 0      M    employee     0     21731.829   \n",
            "8  civil partnership                 1      F    employee     0     15337.093   \n",
            "9            married                 0      M    employee     0     23108.150   \n",
            "\n",
            "                               purpose  \n",
            "0                purchase of the house  \n",
            "1                         car purchase  \n",
            "2                purchase of the house  \n",
            "3              supplementary education  \n",
            "4                    to have a wedding  \n",
            "5                purchase of the house  \n",
            "6                 housing transactions  \n",
            "7                            education  \n",
            "8                     having a wedding  \n",
            "9  purchase of the house for my family  \n"
          ]
        }
      ],
      "source": [
        "# Load data sample\n",
        "print(credit_scoring.head(10))\n"
      ]
    },
    {
      "cell_type": "code",
      "execution_count": null,
      "metadata": {
        "colab": {
          "base_uri": "https://localhost:8080/"
        },
        "id": "8QSb8P_lkuys",
        "outputId": "55fd0b29-e274-41df-a992-baf06f754889"
      },
      "outputs": [
        {
          "output_type": "stream",
          "name": "stdout",
          "text": [
            "Number of unique values in every column\n",
            "\n",
            "children\n",
            " 0     14149\n",
            " 1      4818\n",
            " 2      2055\n",
            " 3       330\n",
            " 20       76\n",
            "-1        47\n",
            " 4        41\n",
            " 5         9\n",
            "Name: children, dtype: int64\n",
            "\n",
            "days_employed\n",
            "-8437.673028      1\n",
            "-3507.818775      1\n",
            " 354500.415854    1\n",
            "-769.717438       1\n",
            "-3963.590317      1\n",
            "                 ..\n",
            "-1099.957609      1\n",
            "-209.984794       1\n",
            " 398099.392433    1\n",
            "-1271.038880      1\n",
            "-1984.507589      1\n",
            "Name: days_employed, Length: 19351, dtype: int64\n",
            "\n",
            "dob_years\n",
            "35    617\n",
            "40    609\n",
            "41    607\n",
            "34    603\n",
            "38    598\n",
            "42    597\n",
            "33    581\n",
            "39    573\n",
            "31    560\n",
            "36    555\n",
            "44    547\n",
            "29    545\n",
            "30    540\n",
            "48    538\n",
            "37    537\n",
            "50    514\n",
            "43    513\n",
            "32    510\n",
            "49    508\n",
            "28    503\n",
            "45    497\n",
            "27    493\n",
            "56    487\n",
            "52    484\n",
            "47    480\n",
            "54    479\n",
            "46    475\n",
            "58    461\n",
            "57    460\n",
            "53    459\n",
            "51    448\n",
            "59    444\n",
            "55    443\n",
            "26    408\n",
            "60    377\n",
            "25    357\n",
            "61    355\n",
            "62    352\n",
            "63    269\n",
            "64    265\n",
            "24    264\n",
            "23    254\n",
            "65    194\n",
            "22    183\n",
            "66    183\n",
            "67    167\n",
            "21    111\n",
            "0     101\n",
            "68     99\n",
            "69     85\n",
            "70     65\n",
            "71     58\n",
            "20     51\n",
            "72     33\n",
            "19     14\n",
            "73      8\n",
            "74      6\n",
            "75      1\n",
            "Name: dob_years, dtype: int64\n",
            "\n",
            "education\n",
            "secondary education    13750\n",
            "bachelor's degree       4718\n",
            "SECONDARY EDUCATION      772\n",
            "Secondary Education      711\n",
            "some college             668\n",
            "BACHELOR'S DEGREE        274\n",
            "Bachelor's Degree        268\n",
            "primary education        250\n",
            "Some College              47\n",
            "SOME COLLEGE              29\n",
            "PRIMARY EDUCATION         17\n",
            "Primary Education         15\n",
            "graduate degree            4\n",
            "Graduate Degree            1\n",
            "GRADUATE DEGREE            1\n",
            "Name: education, dtype: int64\n",
            "\n",
            "education_id\n",
            "1    15233\n",
            "0     5260\n",
            "2      744\n",
            "3      282\n",
            "4        6\n",
            "Name: education_id, dtype: int64\n",
            "\n",
            "family_status\n",
            "married              12380\n",
            "civil partnership     4177\n",
            "unmarried             2813\n",
            "divorced              1195\n",
            "widow / widower        960\n",
            "Name: family_status, dtype: int64\n",
            "\n",
            "family_status_id\n",
            "0    12380\n",
            "1     4177\n",
            "4     2813\n",
            "3     1195\n",
            "2      960\n",
            "Name: family_status_id, dtype: int64\n",
            "\n",
            "gender\n",
            "F      14236\n",
            "M       7288\n",
            "XNA        1\n",
            "Name: gender, dtype: int64\n",
            "\n",
            "income_type\n",
            "employee                       11119\n",
            "business                        5085\n",
            "retiree                         3856\n",
            "civil servant                   1459\n",
            "unemployed                         2\n",
            "entrepreneur                       2\n",
            "student                            1\n",
            "paternity / maternity leave        1\n",
            "Name: income_type, dtype: int64\n",
            "\n",
            "debt\n",
            "0    19784\n",
            "1     1741\n",
            "Name: debt, dtype: int64\n",
            "\n",
            "total_income\n",
            "17312.717    2\n",
            "42413.096    2\n",
            "31791.384    2\n",
            "21005.772    1\n",
            "18591.443    1\n",
            "            ..\n",
            "27020.895    1\n",
            "23686.835    1\n",
            "9606.294     1\n",
            "28156.762    1\n",
            "13127.587    1\n",
            "Name: total_income, Length: 19348, dtype: int64\n",
            "\n",
            "purpose\n",
            "wedding ceremony                            797\n",
            "having a wedding                            777\n",
            "to have a wedding                           774\n",
            "real estate transactions                    676\n",
            "buy commercial real estate                  664\n",
            "buying property for renting out             653\n",
            "housing transactions                        653\n",
            "transactions with commercial real estate    651\n",
            "purchase of the house                       647\n",
            "housing                                     647\n",
            "purchase of the house for my family         641\n",
            "construction of own property                635\n",
            "property                                    634\n",
            "transactions with my real estate            630\n",
            "building a real estate                      626\n",
            "buy real estate                             624\n",
            "building a property                         620\n",
            "purchase of my own house                    620\n",
            "housing renovation                          612\n",
            "buy residential real estate                 607\n",
            "buying my own car                           505\n",
            "going to university                         496\n",
            "car                                         495\n",
            "second-hand car purchase                    489\n",
            "to own a car                                480\n",
            "buying a second-hand car                    479\n",
            "cars                                        478\n",
            "to buy a car                                472\n",
            "supplementary education                     462\n",
            "car purchase                                462\n",
            "purchase of a car                           455\n",
            "university education                        453\n",
            "education                                   447\n",
            "to get a supplementary education            447\n",
            "getting an education                        443\n",
            "profile education                           436\n",
            "getting higher education                    426\n",
            "to become educated                          412\n",
            "Name: purpose, dtype: int64\n"
          ]
        }
      ],
      "source": [
        "# Load unique values in every column\n",
        "print('Number of unique values in every column')\n",
        "print()\n",
        "print('children')\n",
        "print(credit_scoring['children'].value_counts())\n",
        "print()\n",
        "print('days_employed')\n",
        "print(credit_scoring['days_employed'].value_counts())\n",
        "print()\n",
        "print('dob_years')\n",
        "print(credit_scoring['dob_years'].value_counts())\n",
        "print()\n",
        "print('education')\n",
        "print(credit_scoring['education'].value_counts())\n",
        "print()\n",
        "print('education_id')\n",
        "print(credit_scoring['education_id'].value_counts())\n",
        "print()\n",
        "print('family_status')\n",
        "print(credit_scoring['family_status'].value_counts())\n",
        "print()\n",
        "print('family_status_id')\n",
        "print(credit_scoring['family_status_id'].value_counts())\n",
        "print()\n",
        "print('gender')\n",
        "print(credit_scoring['gender'].value_counts())\n",
        "print()\n",
        "print('income_type')\n",
        "print(credit_scoring['income_type'].value_counts())\n",
        "print()\n",
        "print('debt')\n",
        "print(credit_scoring['debt'].value_counts())\n",
        "print()\n",
        "print('total_income')\n",
        "print(credit_scoring['total_income'].value_counts())\n",
        "print()\n",
        "print('purpose')\n",
        "print(credit_scoring['purpose'].value_counts())"
      ]
    },
    {
      "cell_type": "markdown",
      "source": [
        "Several issues observed on the dataset:\n",
        "1. Nulls in `days_employed` and `total_income`\n",
        "2. Negative values in `days_employed`\n",
        "3. Type of `days_employed` is float\n",
        "4. Several values in `education` have the same meaning\n",
        "5. Negative values in `children`"
      ],
      "metadata": {
        "id": "3Lt0ZCt6K8WZ"
      }
    },
    {
      "cell_type": "code",
      "execution_count": null,
      "metadata": {
        "scrolled": false,
        "colab": {
          "base_uri": "https://localhost:8080/"
        },
        "id": "k0vbcvESkuyu",
        "outputId": "6d0ad5d5-4548-4948-841a-9386afd949b7"
      },
      "outputs": [
        {
          "output_type": "stream",
          "name": "stdout",
          "text": [
            "children               0\n",
            "days_employed       2174\n",
            "dob_years              0\n",
            "education              0\n",
            "education_id           0\n",
            "family_status          0\n",
            "family_status_id       0\n",
            "gender                 0\n",
            "income_type            0\n",
            "debt                   0\n",
            "total_income        2174\n",
            "purpose                0\n",
            "dtype: int64\n"
          ]
        }
      ],
      "source": [
        "# Load number of nulls in every column\n",
        "print(credit_scoring.isna().sum())\n"
      ]
    },
    {
      "cell_type": "markdown",
      "metadata": {
        "id": "MRrEHaKvkuyv"
      },
      "source": [
        "There are nulls in column `days_employed` and `total_income`, and their amount is the same. There might be a relation. Test is needed."
      ]
    },
    {
      "cell_type": "code",
      "execution_count": null,
      "metadata": {
        "scrolled": true,
        "colab": {
          "base_uri": "https://localhost:8080/",
          "height": 714
        },
        "id": "tx_MpFUzkuyv",
        "outputId": "6b0296a6-2005-4e0c-8e17-bade48916c2c"
      },
      "outputs": [
        {
          "output_type": "execute_result",
          "data": {
            "text/plain": [
              "      children  days_employed  dob_years            education  education_id  \\\n",
              "0            0            NaN         65  secondary education             1   \n",
              "1            0            NaN         41  secondary education             1   \n",
              "2            0            NaN         63  secondary education             1   \n",
              "3            0            NaN         50  secondary education             1   \n",
              "4            0            NaN         54  secondary education             1   \n",
              "...        ...            ...        ...                  ...           ...   \n",
              "2169         2            NaN         47  Secondary Education             1   \n",
              "2170         1            NaN         50  secondary education             1   \n",
              "2171         0            NaN         48    BACHELOR'S DEGREE             0   \n",
              "2172         1            NaN         42  secondary education             1   \n",
              "2173         2            NaN         28  secondary education             1   \n",
              "\n",
              "          family_status  family_status_id gender    income_type  debt  \\\n",
              "0     civil partnership                 1      M        retiree     0   \n",
              "1               married                 0      M  civil servant     0   \n",
              "2             unmarried                 4      F        retiree     0   \n",
              "3               married                 0      F  civil servant     0   \n",
              "4     civil partnership                 1      F        retiree     1   \n",
              "...                 ...               ...    ...            ...   ...   \n",
              "2169            married                 0      M       business     0   \n",
              "2170  civil partnership                 1      F       employee     0   \n",
              "2171            married                 0      F       business     0   \n",
              "2172            married                 0      F       employee     0   \n",
              "2173            married                 0      F       employee     0   \n",
              "\n",
              "      total_income                   purpose  \n",
              "0              NaN         to have a wedding  \n",
              "1              NaN                 education  \n",
              "2              NaN    building a real estate  \n",
              "3              NaN  second-hand car purchase  \n",
              "4              NaN         to have a wedding  \n",
              "...            ...                       ...  \n",
              "2169           NaN         purchase of a car  \n",
              "2170           NaN          wedding ceremony  \n",
              "2171           NaN       building a property  \n",
              "2172           NaN    building a real estate  \n",
              "2173           NaN              car purchase  \n",
              "\n",
              "[2174 rows x 12 columns]"
            ],
            "text/html": [
              "\n",
              "  <div id=\"df-f8969fb1-2b03-494c-af2c-b0130b4433ac\">\n",
              "    <div class=\"colab-df-container\">\n",
              "      <div>\n",
              "<style scoped>\n",
              "    .dataframe tbody tr th:only-of-type {\n",
              "        vertical-align: middle;\n",
              "    }\n",
              "\n",
              "    .dataframe tbody tr th {\n",
              "        vertical-align: top;\n",
              "    }\n",
              "\n",
              "    .dataframe thead th {\n",
              "        text-align: right;\n",
              "    }\n",
              "</style>\n",
              "<table border=\"1\" class=\"dataframe\">\n",
              "  <thead>\n",
              "    <tr style=\"text-align: right;\">\n",
              "      <th></th>\n",
              "      <th>children</th>\n",
              "      <th>days_employed</th>\n",
              "      <th>dob_years</th>\n",
              "      <th>education</th>\n",
              "      <th>education_id</th>\n",
              "      <th>family_status</th>\n",
              "      <th>family_status_id</th>\n",
              "      <th>gender</th>\n",
              "      <th>income_type</th>\n",
              "      <th>debt</th>\n",
              "      <th>total_income</th>\n",
              "      <th>purpose</th>\n",
              "    </tr>\n",
              "  </thead>\n",
              "  <tbody>\n",
              "    <tr>\n",
              "      <th>0</th>\n",
              "      <td>0</td>\n",
              "      <td>NaN</td>\n",
              "      <td>65</td>\n",
              "      <td>secondary education</td>\n",
              "      <td>1</td>\n",
              "      <td>civil partnership</td>\n",
              "      <td>1</td>\n",
              "      <td>M</td>\n",
              "      <td>retiree</td>\n",
              "      <td>0</td>\n",
              "      <td>NaN</td>\n",
              "      <td>to have a wedding</td>\n",
              "    </tr>\n",
              "    <tr>\n",
              "      <th>1</th>\n",
              "      <td>0</td>\n",
              "      <td>NaN</td>\n",
              "      <td>41</td>\n",
              "      <td>secondary education</td>\n",
              "      <td>1</td>\n",
              "      <td>married</td>\n",
              "      <td>0</td>\n",
              "      <td>M</td>\n",
              "      <td>civil servant</td>\n",
              "      <td>0</td>\n",
              "      <td>NaN</td>\n",
              "      <td>education</td>\n",
              "    </tr>\n",
              "    <tr>\n",
              "      <th>2</th>\n",
              "      <td>0</td>\n",
              "      <td>NaN</td>\n",
              "      <td>63</td>\n",
              "      <td>secondary education</td>\n",
              "      <td>1</td>\n",
              "      <td>unmarried</td>\n",
              "      <td>4</td>\n",
              "      <td>F</td>\n",
              "      <td>retiree</td>\n",
              "      <td>0</td>\n",
              "      <td>NaN</td>\n",
              "      <td>building a real estate</td>\n",
              "    </tr>\n",
              "    <tr>\n",
              "      <th>3</th>\n",
              "      <td>0</td>\n",
              "      <td>NaN</td>\n",
              "      <td>50</td>\n",
              "      <td>secondary education</td>\n",
              "      <td>1</td>\n",
              "      <td>married</td>\n",
              "      <td>0</td>\n",
              "      <td>F</td>\n",
              "      <td>civil servant</td>\n",
              "      <td>0</td>\n",
              "      <td>NaN</td>\n",
              "      <td>second-hand car purchase</td>\n",
              "    </tr>\n",
              "    <tr>\n",
              "      <th>4</th>\n",
              "      <td>0</td>\n",
              "      <td>NaN</td>\n",
              "      <td>54</td>\n",
              "      <td>secondary education</td>\n",
              "      <td>1</td>\n",
              "      <td>civil partnership</td>\n",
              "      <td>1</td>\n",
              "      <td>F</td>\n",
              "      <td>retiree</td>\n",
              "      <td>1</td>\n",
              "      <td>NaN</td>\n",
              "      <td>to have a wedding</td>\n",
              "    </tr>\n",
              "    <tr>\n",
              "      <th>...</th>\n",
              "      <td>...</td>\n",
              "      <td>...</td>\n",
              "      <td>...</td>\n",
              "      <td>...</td>\n",
              "      <td>...</td>\n",
              "      <td>...</td>\n",
              "      <td>...</td>\n",
              "      <td>...</td>\n",
              "      <td>...</td>\n",
              "      <td>...</td>\n",
              "      <td>...</td>\n",
              "      <td>...</td>\n",
              "    </tr>\n",
              "    <tr>\n",
              "      <th>2169</th>\n",
              "      <td>2</td>\n",
              "      <td>NaN</td>\n",
              "      <td>47</td>\n",
              "      <td>Secondary Education</td>\n",
              "      <td>1</td>\n",
              "      <td>married</td>\n",
              "      <td>0</td>\n",
              "      <td>M</td>\n",
              "      <td>business</td>\n",
              "      <td>0</td>\n",
              "      <td>NaN</td>\n",
              "      <td>purchase of a car</td>\n",
              "    </tr>\n",
              "    <tr>\n",
              "      <th>2170</th>\n",
              "      <td>1</td>\n",
              "      <td>NaN</td>\n",
              "      <td>50</td>\n",
              "      <td>secondary education</td>\n",
              "      <td>1</td>\n",
              "      <td>civil partnership</td>\n",
              "      <td>1</td>\n",
              "      <td>F</td>\n",
              "      <td>employee</td>\n",
              "      <td>0</td>\n",
              "      <td>NaN</td>\n",
              "      <td>wedding ceremony</td>\n",
              "    </tr>\n",
              "    <tr>\n",
              "      <th>2171</th>\n",
              "      <td>0</td>\n",
              "      <td>NaN</td>\n",
              "      <td>48</td>\n",
              "      <td>BACHELOR'S DEGREE</td>\n",
              "      <td>0</td>\n",
              "      <td>married</td>\n",
              "      <td>0</td>\n",
              "      <td>F</td>\n",
              "      <td>business</td>\n",
              "      <td>0</td>\n",
              "      <td>NaN</td>\n",
              "      <td>building a property</td>\n",
              "    </tr>\n",
              "    <tr>\n",
              "      <th>2172</th>\n",
              "      <td>1</td>\n",
              "      <td>NaN</td>\n",
              "      <td>42</td>\n",
              "      <td>secondary education</td>\n",
              "      <td>1</td>\n",
              "      <td>married</td>\n",
              "      <td>0</td>\n",
              "      <td>F</td>\n",
              "      <td>employee</td>\n",
              "      <td>0</td>\n",
              "      <td>NaN</td>\n",
              "      <td>building a real estate</td>\n",
              "    </tr>\n",
              "    <tr>\n",
              "      <th>2173</th>\n",
              "      <td>2</td>\n",
              "      <td>NaN</td>\n",
              "      <td>28</td>\n",
              "      <td>secondary education</td>\n",
              "      <td>1</td>\n",
              "      <td>married</td>\n",
              "      <td>0</td>\n",
              "      <td>F</td>\n",
              "      <td>employee</td>\n",
              "      <td>0</td>\n",
              "      <td>NaN</td>\n",
              "      <td>car purchase</td>\n",
              "    </tr>\n",
              "  </tbody>\n",
              "</table>\n",
              "<p>2174 rows × 12 columns</p>\n",
              "</div>\n",
              "      <button class=\"colab-df-convert\" onclick=\"convertToInteractive('df-f8969fb1-2b03-494c-af2c-b0130b4433ac')\"\n",
              "              title=\"Convert this dataframe to an interactive table.\"\n",
              "              style=\"display:none;\">\n",
              "        \n",
              "  <svg xmlns=\"http://www.w3.org/2000/svg\" height=\"24px\"viewBox=\"0 0 24 24\"\n",
              "       width=\"24px\">\n",
              "    <path d=\"M0 0h24v24H0V0z\" fill=\"none\"/>\n",
              "    <path d=\"M18.56 5.44l.94 2.06.94-2.06 2.06-.94-2.06-.94-.94-2.06-.94 2.06-2.06.94zm-11 1L8.5 8.5l.94-2.06 2.06-.94-2.06-.94L8.5 2.5l-.94 2.06-2.06.94zm10 10l.94 2.06.94-2.06 2.06-.94-2.06-.94-.94-2.06-.94 2.06-2.06.94z\"/><path d=\"M17.41 7.96l-1.37-1.37c-.4-.4-.92-.59-1.43-.59-.52 0-1.04.2-1.43.59L10.3 9.45l-7.72 7.72c-.78.78-.78 2.05 0 2.83L4 21.41c.39.39.9.59 1.41.59.51 0 1.02-.2 1.41-.59l7.78-7.78 2.81-2.81c.8-.78.8-2.07 0-2.86zM5.41 20L4 18.59l7.72-7.72 1.47 1.35L5.41 20z\"/>\n",
              "  </svg>\n",
              "      </button>\n",
              "      \n",
              "  <style>\n",
              "    .colab-df-container {\n",
              "      display:flex;\n",
              "      flex-wrap:wrap;\n",
              "      gap: 12px;\n",
              "    }\n",
              "\n",
              "    .colab-df-convert {\n",
              "      background-color: #E8F0FE;\n",
              "      border: none;\n",
              "      border-radius: 50%;\n",
              "      cursor: pointer;\n",
              "      display: none;\n",
              "      fill: #1967D2;\n",
              "      height: 32px;\n",
              "      padding: 0 0 0 0;\n",
              "      width: 32px;\n",
              "    }\n",
              "\n",
              "    .colab-df-convert:hover {\n",
              "      background-color: #E2EBFA;\n",
              "      box-shadow: 0px 1px 2px rgba(60, 64, 67, 0.3), 0px 1px 3px 1px rgba(60, 64, 67, 0.15);\n",
              "      fill: #174EA6;\n",
              "    }\n",
              "\n",
              "    [theme=dark] .colab-df-convert {\n",
              "      background-color: #3B4455;\n",
              "      fill: #D2E3FC;\n",
              "    }\n",
              "\n",
              "    [theme=dark] .colab-df-convert:hover {\n",
              "      background-color: #434B5C;\n",
              "      box-shadow: 0px 1px 3px 1px rgba(0, 0, 0, 0.15);\n",
              "      filter: drop-shadow(0px 1px 2px rgba(0, 0, 0, 0.3));\n",
              "      fill: #FFFFFF;\n",
              "    }\n",
              "  </style>\n",
              "\n",
              "      <script>\n",
              "        const buttonEl =\n",
              "          document.querySelector('#df-f8969fb1-2b03-494c-af2c-b0130b4433ac button.colab-df-convert');\n",
              "        buttonEl.style.display =\n",
              "          google.colab.kernel.accessAllowed ? 'block' : 'none';\n",
              "\n",
              "        async function convertToInteractive(key) {\n",
              "          const element = document.querySelector('#df-f8969fb1-2b03-494c-af2c-b0130b4433ac');\n",
              "          const dataTable =\n",
              "            await google.colab.kernel.invokeFunction('convertToInteractive',\n",
              "                                                     [key], {});\n",
              "          if (!dataTable) return;\n",
              "\n",
              "          const docLinkHtml = 'Like what you see? Visit the ' +\n",
              "            '<a target=\"_blank\" href=https://colab.research.google.com/notebooks/data_table.ipynb>data table notebook</a>'\n",
              "            + ' to learn more about interactive tables.';\n",
              "          element.innerHTML = '';\n",
              "          dataTable['output_type'] = 'display_data';\n",
              "          await google.colab.output.renderOutput(dataTable, element);\n",
              "          const docLink = document.createElement('div');\n",
              "          docLink.innerHTML = docLinkHtml;\n",
              "          element.appendChild(docLink);\n",
              "        }\n",
              "      </script>\n",
              "    </div>\n",
              "  </div>\n",
              "  "
            ]
          },
          "metadata": {},
          "execution_count": 8
        }
      ],
      "source": [
        "# Load dataset filtered on `days_employed`\n",
        "credit_scoring.loc[credit_scoring['days_employed'].isna()].reset_index(drop=True)\n"
      ]
    },
    {
      "cell_type": "markdown",
      "metadata": {
        "id": "1rSGX_bjkuyw"
      },
      "source": [
        "At a glance the filtered table shows every null row on `days_employed`and `total_income` as symmetrical. It is worth checking for a symmetrical relationship. Both column are by filtered for null to see if the number of rows are the same with the number of rows of the previous filtered table."
      ]
    },
    {
      "cell_type": "code",
      "execution_count": null,
      "metadata": {
        "colab": {
          "base_uri": "https://localhost:8080/",
          "height": 714
        },
        "id": "ZxO7IIt_kuyw",
        "outputId": "6d94f2de-6830-430b-fba9-e8c9b826adf0"
      },
      "outputs": [
        {
          "output_type": "execute_result",
          "data": {
            "text/plain": [
              "      children  days_employed  dob_years            education  education_id  \\\n",
              "0            0            NaN         65  secondary education             1   \n",
              "1            0            NaN         41  secondary education             1   \n",
              "2            0            NaN         63  secondary education             1   \n",
              "3            0            NaN         50  secondary education             1   \n",
              "4            0            NaN         54  secondary education             1   \n",
              "...        ...            ...        ...                  ...           ...   \n",
              "2169         2            NaN         47  Secondary Education             1   \n",
              "2170         1            NaN         50  secondary education             1   \n",
              "2171         0            NaN         48    BACHELOR'S DEGREE             0   \n",
              "2172         1            NaN         42  secondary education             1   \n",
              "2173         2            NaN         28  secondary education             1   \n",
              "\n",
              "          family_status  family_status_id gender    income_type  debt  \\\n",
              "0     civil partnership                 1      M        retiree     0   \n",
              "1               married                 0      M  civil servant     0   \n",
              "2             unmarried                 4      F        retiree     0   \n",
              "3               married                 0      F  civil servant     0   \n",
              "4     civil partnership                 1      F        retiree     1   \n",
              "...                 ...               ...    ...            ...   ...   \n",
              "2169            married                 0      M       business     0   \n",
              "2170  civil partnership                 1      F       employee     0   \n",
              "2171            married                 0      F       business     0   \n",
              "2172            married                 0      F       employee     0   \n",
              "2173            married                 0      F       employee     0   \n",
              "\n",
              "      total_income                   purpose  \n",
              "0              NaN         to have a wedding  \n",
              "1              NaN                 education  \n",
              "2              NaN    building a real estate  \n",
              "3              NaN  second-hand car purchase  \n",
              "4              NaN         to have a wedding  \n",
              "...            ...                       ...  \n",
              "2169           NaN         purchase of a car  \n",
              "2170           NaN          wedding ceremony  \n",
              "2171           NaN       building a property  \n",
              "2172           NaN    building a real estate  \n",
              "2173           NaN              car purchase  \n",
              "\n",
              "[2174 rows x 12 columns]"
            ],
            "text/html": [
              "\n",
              "  <div id=\"df-7d3572aa-4d78-48d6-8865-226f4c7f72d1\">\n",
              "    <div class=\"colab-df-container\">\n",
              "      <div>\n",
              "<style scoped>\n",
              "    .dataframe tbody tr th:only-of-type {\n",
              "        vertical-align: middle;\n",
              "    }\n",
              "\n",
              "    .dataframe tbody tr th {\n",
              "        vertical-align: top;\n",
              "    }\n",
              "\n",
              "    .dataframe thead th {\n",
              "        text-align: right;\n",
              "    }\n",
              "</style>\n",
              "<table border=\"1\" class=\"dataframe\">\n",
              "  <thead>\n",
              "    <tr style=\"text-align: right;\">\n",
              "      <th></th>\n",
              "      <th>children</th>\n",
              "      <th>days_employed</th>\n",
              "      <th>dob_years</th>\n",
              "      <th>education</th>\n",
              "      <th>education_id</th>\n",
              "      <th>family_status</th>\n",
              "      <th>family_status_id</th>\n",
              "      <th>gender</th>\n",
              "      <th>income_type</th>\n",
              "      <th>debt</th>\n",
              "      <th>total_income</th>\n",
              "      <th>purpose</th>\n",
              "    </tr>\n",
              "  </thead>\n",
              "  <tbody>\n",
              "    <tr>\n",
              "      <th>0</th>\n",
              "      <td>0</td>\n",
              "      <td>NaN</td>\n",
              "      <td>65</td>\n",
              "      <td>secondary education</td>\n",
              "      <td>1</td>\n",
              "      <td>civil partnership</td>\n",
              "      <td>1</td>\n",
              "      <td>M</td>\n",
              "      <td>retiree</td>\n",
              "      <td>0</td>\n",
              "      <td>NaN</td>\n",
              "      <td>to have a wedding</td>\n",
              "    </tr>\n",
              "    <tr>\n",
              "      <th>1</th>\n",
              "      <td>0</td>\n",
              "      <td>NaN</td>\n",
              "      <td>41</td>\n",
              "      <td>secondary education</td>\n",
              "      <td>1</td>\n",
              "      <td>married</td>\n",
              "      <td>0</td>\n",
              "      <td>M</td>\n",
              "      <td>civil servant</td>\n",
              "      <td>0</td>\n",
              "      <td>NaN</td>\n",
              "      <td>education</td>\n",
              "    </tr>\n",
              "    <tr>\n",
              "      <th>2</th>\n",
              "      <td>0</td>\n",
              "      <td>NaN</td>\n",
              "      <td>63</td>\n",
              "      <td>secondary education</td>\n",
              "      <td>1</td>\n",
              "      <td>unmarried</td>\n",
              "      <td>4</td>\n",
              "      <td>F</td>\n",
              "      <td>retiree</td>\n",
              "      <td>0</td>\n",
              "      <td>NaN</td>\n",
              "      <td>building a real estate</td>\n",
              "    </tr>\n",
              "    <tr>\n",
              "      <th>3</th>\n",
              "      <td>0</td>\n",
              "      <td>NaN</td>\n",
              "      <td>50</td>\n",
              "      <td>secondary education</td>\n",
              "      <td>1</td>\n",
              "      <td>married</td>\n",
              "      <td>0</td>\n",
              "      <td>F</td>\n",
              "      <td>civil servant</td>\n",
              "      <td>0</td>\n",
              "      <td>NaN</td>\n",
              "      <td>second-hand car purchase</td>\n",
              "    </tr>\n",
              "    <tr>\n",
              "      <th>4</th>\n",
              "      <td>0</td>\n",
              "      <td>NaN</td>\n",
              "      <td>54</td>\n",
              "      <td>secondary education</td>\n",
              "      <td>1</td>\n",
              "      <td>civil partnership</td>\n",
              "      <td>1</td>\n",
              "      <td>F</td>\n",
              "      <td>retiree</td>\n",
              "      <td>1</td>\n",
              "      <td>NaN</td>\n",
              "      <td>to have a wedding</td>\n",
              "    </tr>\n",
              "    <tr>\n",
              "      <th>...</th>\n",
              "      <td>...</td>\n",
              "      <td>...</td>\n",
              "      <td>...</td>\n",
              "      <td>...</td>\n",
              "      <td>...</td>\n",
              "      <td>...</td>\n",
              "      <td>...</td>\n",
              "      <td>...</td>\n",
              "      <td>...</td>\n",
              "      <td>...</td>\n",
              "      <td>...</td>\n",
              "      <td>...</td>\n",
              "    </tr>\n",
              "    <tr>\n",
              "      <th>2169</th>\n",
              "      <td>2</td>\n",
              "      <td>NaN</td>\n",
              "      <td>47</td>\n",
              "      <td>Secondary Education</td>\n",
              "      <td>1</td>\n",
              "      <td>married</td>\n",
              "      <td>0</td>\n",
              "      <td>M</td>\n",
              "      <td>business</td>\n",
              "      <td>0</td>\n",
              "      <td>NaN</td>\n",
              "      <td>purchase of a car</td>\n",
              "    </tr>\n",
              "    <tr>\n",
              "      <th>2170</th>\n",
              "      <td>1</td>\n",
              "      <td>NaN</td>\n",
              "      <td>50</td>\n",
              "      <td>secondary education</td>\n",
              "      <td>1</td>\n",
              "      <td>civil partnership</td>\n",
              "      <td>1</td>\n",
              "      <td>F</td>\n",
              "      <td>employee</td>\n",
              "      <td>0</td>\n",
              "      <td>NaN</td>\n",
              "      <td>wedding ceremony</td>\n",
              "    </tr>\n",
              "    <tr>\n",
              "      <th>2171</th>\n",
              "      <td>0</td>\n",
              "      <td>NaN</td>\n",
              "      <td>48</td>\n",
              "      <td>BACHELOR'S DEGREE</td>\n",
              "      <td>0</td>\n",
              "      <td>married</td>\n",
              "      <td>0</td>\n",
              "      <td>F</td>\n",
              "      <td>business</td>\n",
              "      <td>0</td>\n",
              "      <td>NaN</td>\n",
              "      <td>building a property</td>\n",
              "    </tr>\n",
              "    <tr>\n",
              "      <th>2172</th>\n",
              "      <td>1</td>\n",
              "      <td>NaN</td>\n",
              "      <td>42</td>\n",
              "      <td>secondary education</td>\n",
              "      <td>1</td>\n",
              "      <td>married</td>\n",
              "      <td>0</td>\n",
              "      <td>F</td>\n",
              "      <td>employee</td>\n",
              "      <td>0</td>\n",
              "      <td>NaN</td>\n",
              "      <td>building a real estate</td>\n",
              "    </tr>\n",
              "    <tr>\n",
              "      <th>2173</th>\n",
              "      <td>2</td>\n",
              "      <td>NaN</td>\n",
              "      <td>28</td>\n",
              "      <td>secondary education</td>\n",
              "      <td>1</td>\n",
              "      <td>married</td>\n",
              "      <td>0</td>\n",
              "      <td>F</td>\n",
              "      <td>employee</td>\n",
              "      <td>0</td>\n",
              "      <td>NaN</td>\n",
              "      <td>car purchase</td>\n",
              "    </tr>\n",
              "  </tbody>\n",
              "</table>\n",
              "<p>2174 rows × 12 columns</p>\n",
              "</div>\n",
              "      <button class=\"colab-df-convert\" onclick=\"convertToInteractive('df-7d3572aa-4d78-48d6-8865-226f4c7f72d1')\"\n",
              "              title=\"Convert this dataframe to an interactive table.\"\n",
              "              style=\"display:none;\">\n",
              "        \n",
              "  <svg xmlns=\"http://www.w3.org/2000/svg\" height=\"24px\"viewBox=\"0 0 24 24\"\n",
              "       width=\"24px\">\n",
              "    <path d=\"M0 0h24v24H0V0z\" fill=\"none\"/>\n",
              "    <path d=\"M18.56 5.44l.94 2.06.94-2.06 2.06-.94-2.06-.94-.94-2.06-.94 2.06-2.06.94zm-11 1L8.5 8.5l.94-2.06 2.06-.94-2.06-.94L8.5 2.5l-.94 2.06-2.06.94zm10 10l.94 2.06.94-2.06 2.06-.94-2.06-.94-.94-2.06-.94 2.06-2.06.94z\"/><path d=\"M17.41 7.96l-1.37-1.37c-.4-.4-.92-.59-1.43-.59-.52 0-1.04.2-1.43.59L10.3 9.45l-7.72 7.72c-.78.78-.78 2.05 0 2.83L4 21.41c.39.39.9.59 1.41.59.51 0 1.02-.2 1.41-.59l7.78-7.78 2.81-2.81c.8-.78.8-2.07 0-2.86zM5.41 20L4 18.59l7.72-7.72 1.47 1.35L5.41 20z\"/>\n",
              "  </svg>\n",
              "      </button>\n",
              "      \n",
              "  <style>\n",
              "    .colab-df-container {\n",
              "      display:flex;\n",
              "      flex-wrap:wrap;\n",
              "      gap: 12px;\n",
              "    }\n",
              "\n",
              "    .colab-df-convert {\n",
              "      background-color: #E8F0FE;\n",
              "      border: none;\n",
              "      border-radius: 50%;\n",
              "      cursor: pointer;\n",
              "      display: none;\n",
              "      fill: #1967D2;\n",
              "      height: 32px;\n",
              "      padding: 0 0 0 0;\n",
              "      width: 32px;\n",
              "    }\n",
              "\n",
              "    .colab-df-convert:hover {\n",
              "      background-color: #E2EBFA;\n",
              "      box-shadow: 0px 1px 2px rgba(60, 64, 67, 0.3), 0px 1px 3px 1px rgba(60, 64, 67, 0.15);\n",
              "      fill: #174EA6;\n",
              "    }\n",
              "\n",
              "    [theme=dark] .colab-df-convert {\n",
              "      background-color: #3B4455;\n",
              "      fill: #D2E3FC;\n",
              "    }\n",
              "\n",
              "    [theme=dark] .colab-df-convert:hover {\n",
              "      background-color: #434B5C;\n",
              "      box-shadow: 0px 1px 3px 1px rgba(0, 0, 0, 0.15);\n",
              "      filter: drop-shadow(0px 1px 2px rgba(0, 0, 0, 0.3));\n",
              "      fill: #FFFFFF;\n",
              "    }\n",
              "  </style>\n",
              "\n",
              "      <script>\n",
              "        const buttonEl =\n",
              "          document.querySelector('#df-7d3572aa-4d78-48d6-8865-226f4c7f72d1 button.colab-df-convert');\n",
              "        buttonEl.style.display =\n",
              "          google.colab.kernel.accessAllowed ? 'block' : 'none';\n",
              "\n",
              "        async function convertToInteractive(key) {\n",
              "          const element = document.querySelector('#df-7d3572aa-4d78-48d6-8865-226f4c7f72d1');\n",
              "          const dataTable =\n",
              "            await google.colab.kernel.invokeFunction('convertToInteractive',\n",
              "                                                     [key], {});\n",
              "          if (!dataTable) return;\n",
              "\n",
              "          const docLinkHtml = 'Like what you see? Visit the ' +\n",
              "            '<a target=\"_blank\" href=https://colab.research.google.com/notebooks/data_table.ipynb>data table notebook</a>'\n",
              "            + ' to learn more about interactive tables.';\n",
              "          element.innerHTML = '';\n",
              "          dataTable['output_type'] = 'display_data';\n",
              "          await google.colab.output.renderOutput(dataTable, element);\n",
              "          const docLink = document.createElement('div');\n",
              "          docLink.innerHTML = docLinkHtml;\n",
              "          element.appendChild(docLink);\n",
              "        }\n",
              "      </script>\n",
              "    </div>\n",
              "  </div>\n",
              "  "
            ]
          },
          "metadata": {},
          "execution_count": 9
        }
      ],
      "source": [
        "# Load dataset null-filtered both on `days_employed`and `total_income`\n",
        "(credit_scoring.loc[(credit_scoring['days_employed'].isna()) & (credit_scoring['total_income'].isna())]).reset_index(drop=True)"
      ]
    },
    {
      "cell_type": "markdown",
      "source": [
        "It appears that the number of rows is 2,174, exactly the same number with filtered only on one of either two columns."
      ],
      "metadata": {
        "id": "k6yXV9SLg7JG"
      }
    },
    {
      "cell_type": "code",
      "execution_count": null,
      "metadata": {
        "colab": {
          "base_uri": "https://localhost:8080/"
        },
        "id": "B7-oYyX6kuyx",
        "outputId": "8c43e918-8b56-4015-e599-ee660c2e365d"
      },
      "outputs": [
        {
          "output_type": "execute_result",
          "data": {
            "text/plain": [
              "children             0.0\n",
              "days_employed       10.1\n",
              "dob_years            0.0\n",
              "education            0.0\n",
              "education_id         0.0\n",
              "family_status        0.0\n",
              "family_status_id     0.0\n",
              "gender               0.0\n",
              "income_type          0.0\n",
              "debt                 0.0\n",
              "total_income        10.1\n",
              "purpose              0.0\n",
              "dtype: float64"
            ]
          },
          "metadata": {},
          "execution_count": 10
        }
      ],
      "source": [
        "# percentage of missing values\n",
        "round(credit_scoring.isna().sum()/len(credit_scoring)*100,2)"
      ]
    },
    {
      "cell_type": "markdown",
      "metadata": {
        "id": "9J4_4oyCkuyy"
      },
      "source": [
        "**Interim Conclusion**\n",
        "\n",
        "From filtering dataset looking at nulls in both `days_employed` and `total_income`, it is shown that their rows are symmetrical. \n",
        "\n",
        "In the next step,  a relation in both columns will be observed more.\n",
        "\n",
        "Percentage of the missing values was computed and it showed around 10% portion. Before dealing with them, more checking is needed.\n",
        "\n",
        "Income is generally related to occupation. Hence distribution on `income_type` will be checked next. \n",
        "\n",
        "And a relation to `education` and other categorical columns: `family_status` and `gender`, will be checked as well."
      ]
    },
    {
      "cell_type": "code",
      "execution_count": null,
      "metadata": {
        "id": "zk5KDX2Nkuyy"
      },
      "outputs": [],
      "source": [
        "# Save filtered dataset on missing values `days_employed`\n",
        "data_nan = credit_scoring.loc[(credit_scoring['days_employed'].isna())].reset_index(drop=True)\n"
      ]
    },
    {
      "cell_type": "code",
      "execution_count": null,
      "metadata": {
        "colab": {
          "base_uri": "https://localhost:8080/"
        },
        "id": "_y5azLFVkuyz",
        "outputId": "0647812a-39b3-4cee-cd5f-7669b2b19069"
      },
      "outputs": [
        {
          "output_type": "stream",
          "name": "stdout",
          "text": [
            "employee         0.508280\n",
            "business         0.233671\n",
            "retiree          0.189972\n",
            "civil servant    0.067617\n",
            "entrepreneur     0.000460\n",
            "Name: income_type, dtype: float64\n"
          ]
        }
      ],
      "source": [
        "# Load distribution of unique values of `income_type` for rows with missing values\n",
        "print(data_nan['income_type'].value_counts(normalize=True))\n"
      ]
    },
    {
      "cell_type": "code",
      "execution_count": null,
      "metadata": {
        "scrolled": true,
        "colab": {
          "base_uri": "https://localhost:8080/"
        },
        "id": "M_385UtNkuy0",
        "outputId": "f39ab972-8831-44c4-9414-c961c6b17ea3"
      },
      "outputs": [
        {
          "output_type": "stream",
          "name": "stdout",
          "text": [
            "employee                       0.516562\n",
            "business                       0.236237\n",
            "retiree                        0.179141\n",
            "civil servant                  0.067782\n",
            "unemployed                     0.000093\n",
            "entrepreneur                   0.000093\n",
            "student                        0.000046\n",
            "paternity / maternity leave    0.000046\n",
            "Name: income_type, dtype: float64\n"
          ]
        }
      ],
      "source": [
        "# Load distribution of unique values of `income_type` for rows in original data\n",
        "print(credit_scoring['income_type'].value_counts(normalize=True))"
      ]
    },
    {
      "cell_type": "markdown",
      "source": [
        "When comparing distribution of `income_type` in data with missing values only against the original one, the distribution seems similar, with employee's portion around 50%, followed by business 23% and retiree 18%. That means no certain pattern is shown yet. That then means no conclusion to what has caused the missing values can be drawn so far.\n",
        "\n",
        "Hence the investigation is expanded to another columns. The same checking on distribution in column `education`, `family_status`, and `gender` will be the next step."
      ],
      "metadata": {
        "id": "CGxFNbVUSyoe"
      }
    },
    {
      "cell_type": "code",
      "execution_count": null,
      "metadata": {
        "scrolled": true,
        "colab": {
          "base_uri": "https://localhost:8080/"
        },
        "id": "WLaLYEUKkuy1",
        "outputId": "cd2b3da1-8acf-47ad-e8e3-df3ec3124e90"
      },
      "outputs": [
        {
          "output_type": "execute_result",
          "data": {
            "text/plain": [
              "secondary education    0.647654\n",
              "bachelor's degree      0.228151\n",
              "SECONDARY EDUCATION    0.030819\n",
              "Secondary Education    0.029899\n",
              "some college           0.025299\n",
              "Bachelor's Degree      0.011500\n",
              "BACHELOR'S DEGREE      0.010580\n",
              "primary education      0.008740\n",
              "Some College           0.003220\n",
              "SOME COLLEGE           0.003220\n",
              "Primary Education      0.000460\n",
              "PRIMARY EDUCATION      0.000460\n",
              "Name: education, dtype: float64"
            ]
          },
          "metadata": {},
          "execution_count": 14
        }
      ],
      "source": [
        "# Load distribution of unique values of `education` for rows with missing values\n",
        "data_nan['education'].value_counts(normalize=True)\n"
      ]
    },
    {
      "cell_type": "code",
      "execution_count": null,
      "metadata": {
        "colab": {
          "base_uri": "https://localhost:8080/"
        },
        "id": "ozOATkVnkuy1",
        "outputId": "6e9acd9f-a818-430c-d899-83400b7af808"
      },
      "outputs": [
        {
          "output_type": "execute_result",
          "data": {
            "text/plain": [
              "secondary education    0.638792\n",
              "bachelor's degree      0.219187\n",
              "SECONDARY EDUCATION    0.035865\n",
              "Secondary Education    0.033031\n",
              "some college           0.031034\n",
              "BACHELOR'S DEGREE      0.012729\n",
              "Bachelor's Degree      0.012451\n",
              "primary education      0.011614\n",
              "Some College           0.002184\n",
              "SOME COLLEGE           0.001347\n",
              "PRIMARY EDUCATION      0.000790\n",
              "Primary Education      0.000697\n",
              "graduate degree        0.000186\n",
              "Graduate Degree        0.000046\n",
              "GRADUATE DEGREE        0.000046\n",
              "Name: education, dtype: float64"
            ]
          },
          "metadata": {},
          "execution_count": 15
        }
      ],
      "source": [
        "# Load distribution of unique values of `education` for rows in original data\n",
        "credit_scoring['education'].value_counts(normalize=True)\n"
      ]
    },
    {
      "cell_type": "code",
      "execution_count": null,
      "metadata": {
        "scrolled": true,
        "colab": {
          "base_uri": "https://localhost:8080/"
        },
        "id": "Fd9Ni-iDkuy1",
        "outputId": "7b2189f4-f029-441b-ac72-a64ee114bcc3"
      },
      "outputs": [
        {
          "output_type": "execute_result",
          "data": {
            "text/plain": [
              "married              0.568997\n",
              "civil partnership    0.203312\n",
              "unmarried            0.132475\n",
              "divorced             0.051518\n",
              "widow / widower      0.043698\n",
              "Name: family_status, dtype: float64"
            ]
          },
          "metadata": {},
          "execution_count": 16
        }
      ],
      "source": [
        "# Load distribution of unique values of `family_status` for rows with missing values\n",
        "data_nan['family_status'].value_counts(normalize=True)\n"
      ]
    },
    {
      "cell_type": "code",
      "execution_count": null,
      "metadata": {
        "colab": {
          "base_uri": "https://localhost:8080/"
        },
        "id": "IDZPyFTpkuy1",
        "outputId": "5b31ac82-8831-4703-f084-e9d9eb24bf1e"
      },
      "outputs": [
        {
          "output_type": "execute_result",
          "data": {
            "text/plain": [
              "married              0.575145\n",
              "civil partnership    0.194053\n",
              "unmarried            0.130685\n",
              "divorced             0.055517\n",
              "widow / widower      0.044599\n",
              "Name: family_status, dtype: float64"
            ]
          },
          "metadata": {},
          "execution_count": 17
        }
      ],
      "source": [
        "# Load distribution of unique values of `family_status` for rows in original data\n",
        "credit_scoring['family_status'].value_counts(normalize=True)\n"
      ]
    },
    {
      "cell_type": "code",
      "execution_count": null,
      "metadata": {
        "scrolled": true,
        "colab": {
          "base_uri": "https://localhost:8080/"
        },
        "id": "tmq3mAIokuy2",
        "outputId": "12d82c49-21ec-4da0-dbb7-a2b3a82d2f69"
      },
      "outputs": [
        {
          "output_type": "execute_result",
          "data": {
            "text/plain": [
              "F    0.682613\n",
              "M    0.317387\n",
              "Name: gender, dtype: float64"
            ]
          },
          "metadata": {},
          "execution_count": 18
        }
      ],
      "source": [
        "# Load distribution of unique values of `gender` for rows with missing values\n",
        "data_nan['gender'].value_counts(normalize=True)\n"
      ]
    },
    {
      "cell_type": "code",
      "execution_count": null,
      "metadata": {
        "colab": {
          "base_uri": "https://localhost:8080/"
        },
        "id": "H0ynT5ZJkuy2",
        "outputId": "73437125-9225-40d6-9316-a6dbe74c2a45"
      },
      "outputs": [
        {
          "output_type": "execute_result",
          "data": {
            "text/plain": [
              "F      0.661370\n",
              "M      0.338583\n",
              "XNA    0.000046\n",
              "Name: gender, dtype: float64"
            ]
          },
          "metadata": {},
          "execution_count": 19
        }
      ],
      "source": [
        "# Load distribution of unique values of `gender` for rows in original data\n",
        "credit_scoring['gender'].value_counts(normalize=True)\n"
      ]
    },
    {
      "cell_type": "markdown",
      "metadata": {
        "id": "BCbVG9REkuy3"
      },
      "source": [
        "**Interim Conclusion**\n",
        "\n",
        "When comparing distribution of `education`, `family_status`, and`gender` in data with missing values only against the original one, the distribution seems similar. That means once again there's no certain pattern is shown. \n",
        "\n",
        "Side note came from checking the distribution in `education`, there's an implicit duplicates in the data that are caused by use of capital letter."
      ]
    },
    {
      "cell_type": "markdown",
      "metadata": {
        "id": "bqsBzfbhkuy3"
      },
      "source": [
        "**Conclusion**\n",
        "\n",
        "After making comparison over distribution of `education`, `family_status`, and`gender` in data containing only rows with all missing values to ditribution of the original one, there is no particular pattern appears that would show the possible cause of the missing values. \n",
        "\n",
        "In the next step:\n",
        "1. Categorisations will be made over data in column `dob_years`, `income_type` and `purpose` to show a clearer depiction of the dataset, as well as the possible cause of the missing values.\n",
        "2. Transformation of data by handling the missing values, replacing the values that do not make sense, handling the implicit duplicates, and also the explicit ones."
      ]
    },
    {
      "cell_type": "markdown",
      "metadata": {
        "id": "tZrASueEkuy4"
      },
      "source": [
        "## Data Transformation"
      ]
    },
    {
      "cell_type": "markdown",
      "metadata": {
        "id": "FYExHtxFjxHk"
      },
      "source": [
        "In the next step, column `education` is checked\n",
        "\n",
        "---\n",
        "\n"
      ]
    },
    {
      "cell_type": "code",
      "execution_count": null,
      "metadata": {
        "colab": {
          "base_uri": "https://localhost:8080/"
        },
        "id": "vr9oRgAJkuy4",
        "outputId": "686f29b1-263a-4b87-9a7e-6687b168dc77"
      },
      "outputs": [
        {
          "output_type": "execute_result",
          "data": {
            "text/plain": [
              "secondary education    13750\n",
              "bachelor's degree       4718\n",
              "SECONDARY EDUCATION      772\n",
              "Secondary Education      711\n",
              "some college             668\n",
              "BACHELOR'S DEGREE        274\n",
              "Bachelor's Degree        268\n",
              "primary education        250\n",
              "Some College              47\n",
              "SOME COLLEGE              29\n",
              "PRIMARY EDUCATION         17\n",
              "Primary Education         15\n",
              "graduate degree            4\n",
              "Graduate Degree            1\n",
              "GRADUATE DEGREE            1\n",
              "Name: education, dtype: int64"
            ]
          },
          "metadata": {},
          "execution_count": 20
        }
      ],
      "source": [
        "# Load all unique values in education\n",
        "credit_scoring['education'].value_counts()"
      ]
    },
    {
      "cell_type": "code",
      "execution_count": null,
      "metadata": {
        "scrolled": true,
        "id": "Tg1Akevnkuy4"
      },
      "outputs": [],
      "source": [
        "# Fix writing in education\n",
        "credit_scoring['education'] = credit_scoring['education'].str.lower()"
      ]
    },
    {
      "cell_type": "code",
      "execution_count": null,
      "metadata": {
        "colab": {
          "base_uri": "https://localhost:8080/"
        },
        "id": "6bk4rTdGkuy5",
        "outputId": "044f8baf-13a4-4b10-99f4-2c4dbaae4396"
      },
      "outputs": [
        {
          "output_type": "execute_result",
          "data": {
            "text/plain": [
              "secondary education    15233\n",
              "bachelor's degree       5260\n",
              "some college             744\n",
              "primary education        282\n",
              "graduate degree            6\n",
              "Name: education, dtype: int64"
            ]
          },
          "metadata": {},
          "execution_count": 22
        }
      ],
      "source": [
        "# Re-check all unique values\n",
        "credit_scoring['education'].value_counts()\n"
      ]
    },
    {
      "cell_type": "markdown",
      "metadata": {
        "id": "7TmtXCcZkuy6"
      },
      "source": [
        "In the next step, column `children` is checked"
      ]
    },
    {
      "cell_type": "code",
      "execution_count": null,
      "metadata": {
        "colab": {
          "base_uri": "https://localhost:8080/"
        },
        "id": "bAynIAhSkuy6",
        "outputId": "c5694003-3c9f-4bb4-85c8-d371345cb9eb"
      },
      "outputs": [
        {
          "output_type": "execute_result",
          "data": {
            "text/plain": [
              " 0     14149\n",
              " 1      4818\n",
              " 2      2055\n",
              " 3       330\n",
              " 20       76\n",
              "-1        47\n",
              " 4        41\n",
              " 5         9\n",
              "Name: children, dtype: int64"
            ]
          },
          "metadata": {},
          "execution_count": 23
        }
      ],
      "source": [
        "# Load unique values in `children`\n",
        "credit_scoring['children'].value_counts()"
      ]
    },
    {
      "cell_type": "markdown",
      "metadata": {
        "id": "9OhOGhUWkuy6"
      },
      "source": [
        "There is an odd value in `children`.\n",
        "The number of children should not be negative. It is possible that some respondents misunderstood by answering -1 for answer 1. Every -1 will be changed to 1. Aside, there is value of 20, which is unlikely for number of children. Probably a 0 was misplaced, so 20 will be changed to 2."
      ]
    },
    {
      "cell_type": "code",
      "execution_count": null,
      "metadata": {
        "id": "Erj2USKqkuy7"
      },
      "outputs": [],
      "source": [
        "# Change -1 to 1\n",
        "credit_scoring.loc[credit_scoring['children'] == -1, 'children'] = 1"
      ]
    },
    {
      "cell_type": "code",
      "execution_count": null,
      "metadata": {
        "id": "n4CCDe4Ykuy7"
      },
      "outputs": [],
      "source": [
        "# Change 20 to 2\n",
        "credit_scoring.loc[credit_scoring['children'] == 20, 'children'] = 2"
      ]
    },
    {
      "cell_type": "code",
      "execution_count": null,
      "metadata": {
        "colab": {
          "base_uri": "https://localhost:8080/"
        },
        "id": "-EuY63JKkuy7",
        "outputId": "2c1fda1e-6cea-4dbb-a352-7aa21e0faa5b"
      },
      "outputs": [
        {
          "output_type": "execute_result",
          "data": {
            "text/plain": [
              "0    14149\n",
              "1     4865\n",
              "2     2131\n",
              "3      330\n",
              "4       41\n",
              "5        9\n",
              "Name: children, dtype: int64"
            ]
          },
          "metadata": {},
          "execution_count": 26
        }
      ],
      "source": [
        "# Re-check unique values in `children`\n",
        "credit_scoring['children'].value_counts()"
      ]
    },
    {
      "cell_type": "markdown",
      "metadata": {
        "id": "1mUv25hFkuy7"
      },
      "source": [
        "The `days_employed` column, in addition to having missing values, is also expressed in decimal, and also has many negative numbers.\n",
        "For now we will deal with negative numbers. This is probably caused by a technical error. \n",
        "\n",
        "But before replacing them with their absolute number, their total income will be checked to conclude that indeed the issue was caused by technical error."
      ]
    },
    {
      "cell_type": "code",
      "execution_count": null,
      "metadata": {
        "scrolled": true,
        "colab": {
          "base_uri": "https://localhost:8080/"
        },
        "id": "SMMQ-1wgkuy8",
        "outputId": "b89223aa-5f98-4f6a-90f2-451a478ff0ea"
      },
      "outputs": [
        {
          "output_type": "stream",
          "name": "stdout",
          "text": [
            "15906\n",
            "0.7389547038327526\n"
          ]
        }
      ],
      "source": [
        "# Load number of negative in days_employed\n",
        "print((credit_scoring['days_employed'] < 0).sum())\n",
        "\n",
        "# Load the portion\n",
        "print(len(credit_scoring['days_employed'][credit_scoring['days_employed'] < 0]) / \n",
        "      len(credit_scoring['days_employed']))"
      ]
    },
    {
      "cell_type": "markdown",
      "metadata": {
        "id": "EBNdM9A7kuy8"
      },
      "source": [
        "It appears that the negative values ​​in `days_employed` comprises around 74% of total data. It also appears that each negative `days_employed` has income. So it can be concluded that these negative values are probably caused by a technical error, so they can be replaced with their absolute values."
      ]
    },
    {
      "cell_type": "code",
      "execution_count": null,
      "metadata": {
        "scrolled": false,
        "id": "33YYdp8bkuy9"
      },
      "outputs": [],
      "source": [
        "# Replace all values with their absolute\n",
        "\n",
        "credit_scoring['days_employed'] = credit_scoring['days_employed'].abs()"
      ]
    },
    {
      "cell_type": "code",
      "execution_count": null,
      "metadata": {
        "scrolled": true,
        "colab": {
          "base_uri": "https://localhost:8080/"
        },
        "id": "hIbN5XQBkuy9",
        "outputId": "d7d37d4a-d770-4ec2-e90d-e6220c109023"
      },
      "outputs": [
        {
          "output_type": "execute_result",
          "data": {
            "text/plain": [
              "False    21525\n",
              "Name: days_employed, dtype: int64"
            ]
          },
          "metadata": {},
          "execution_count": 29
        }
      ],
      "source": [
        "# Re-check negative values\n",
        "(credit_scoring['days_employed'] < 0).value_counts()"
      ]
    },
    {
      "cell_type": "markdown",
      "source": [
        "In the next step, unreasonable values will be checked. Maximum age of the respondents is 75 years old. A value of more than 75 years or 27,375 days in `days_employed` will then be unreasonable."
      ],
      "metadata": {
        "id": "5qrEwsfpnGuX"
      }
    },
    {
      "cell_type": "code",
      "execution_count": null,
      "metadata": {
        "scrolled": true,
        "colab": {
          "base_uri": "https://localhost:8080/",
          "height": 300
        },
        "id": "gMYUYIL3kuy-",
        "outputId": "a5a49be6-ffe1-4502-900e-9211bdca44a9"
      },
      "outputs": [
        {
          "output_type": "execute_result",
          "data": {
            "text/plain": [
              "       days_employed\n",
              "count    3445.000000\n",
              "mean   365004.309916\n",
              "std     21075.016396\n",
              "min    328728.720605\n",
              "25%    346639.413916\n",
              "50%    365213.306266\n",
              "75%    383246.444219\n",
              "max    401755.400475"
            ],
            "text/html": [
              "\n",
              "  <div id=\"df-700fe893-43fd-4a52-bb09-2c87b7c91dd6\">\n",
              "    <div class=\"colab-df-container\">\n",
              "      <div>\n",
              "<style scoped>\n",
              "    .dataframe tbody tr th:only-of-type {\n",
              "        vertical-align: middle;\n",
              "    }\n",
              "\n",
              "    .dataframe tbody tr th {\n",
              "        vertical-align: top;\n",
              "    }\n",
              "\n",
              "    .dataframe thead th {\n",
              "        text-align: right;\n",
              "    }\n",
              "</style>\n",
              "<table border=\"1\" class=\"dataframe\">\n",
              "  <thead>\n",
              "    <tr style=\"text-align: right;\">\n",
              "      <th></th>\n",
              "      <th>days_employed</th>\n",
              "    </tr>\n",
              "  </thead>\n",
              "  <tbody>\n",
              "    <tr>\n",
              "      <th>count</th>\n",
              "      <td>3445.000000</td>\n",
              "    </tr>\n",
              "    <tr>\n",
              "      <th>mean</th>\n",
              "      <td>365004.309916</td>\n",
              "    </tr>\n",
              "    <tr>\n",
              "      <th>std</th>\n",
              "      <td>21075.016396</td>\n",
              "    </tr>\n",
              "    <tr>\n",
              "      <th>min</th>\n",
              "      <td>328728.720605</td>\n",
              "    </tr>\n",
              "    <tr>\n",
              "      <th>25%</th>\n",
              "      <td>346639.413916</td>\n",
              "    </tr>\n",
              "    <tr>\n",
              "      <th>50%</th>\n",
              "      <td>365213.306266</td>\n",
              "    </tr>\n",
              "    <tr>\n",
              "      <th>75%</th>\n",
              "      <td>383246.444219</td>\n",
              "    </tr>\n",
              "    <tr>\n",
              "      <th>max</th>\n",
              "      <td>401755.400475</td>\n",
              "    </tr>\n",
              "  </tbody>\n",
              "</table>\n",
              "</div>\n",
              "      <button class=\"colab-df-convert\" onclick=\"convertToInteractive('df-700fe893-43fd-4a52-bb09-2c87b7c91dd6')\"\n",
              "              title=\"Convert this dataframe to an interactive table.\"\n",
              "              style=\"display:none;\">\n",
              "        \n",
              "  <svg xmlns=\"http://www.w3.org/2000/svg\" height=\"24px\"viewBox=\"0 0 24 24\"\n",
              "       width=\"24px\">\n",
              "    <path d=\"M0 0h24v24H0V0z\" fill=\"none\"/>\n",
              "    <path d=\"M18.56 5.44l.94 2.06.94-2.06 2.06-.94-2.06-.94-.94-2.06-.94 2.06-2.06.94zm-11 1L8.5 8.5l.94-2.06 2.06-.94-2.06-.94L8.5 2.5l-.94 2.06-2.06.94zm10 10l.94 2.06.94-2.06 2.06-.94-2.06-.94-.94-2.06-.94 2.06-2.06.94z\"/><path d=\"M17.41 7.96l-1.37-1.37c-.4-.4-.92-.59-1.43-.59-.52 0-1.04.2-1.43.59L10.3 9.45l-7.72 7.72c-.78.78-.78 2.05 0 2.83L4 21.41c.39.39.9.59 1.41.59.51 0 1.02-.2 1.41-.59l7.78-7.78 2.81-2.81c.8-.78.8-2.07 0-2.86zM5.41 20L4 18.59l7.72-7.72 1.47 1.35L5.41 20z\"/>\n",
              "  </svg>\n",
              "      </button>\n",
              "      \n",
              "  <style>\n",
              "    .colab-df-container {\n",
              "      display:flex;\n",
              "      flex-wrap:wrap;\n",
              "      gap: 12px;\n",
              "    }\n",
              "\n",
              "    .colab-df-convert {\n",
              "      background-color: #E8F0FE;\n",
              "      border: none;\n",
              "      border-radius: 50%;\n",
              "      cursor: pointer;\n",
              "      display: none;\n",
              "      fill: #1967D2;\n",
              "      height: 32px;\n",
              "      padding: 0 0 0 0;\n",
              "      width: 32px;\n",
              "    }\n",
              "\n",
              "    .colab-df-convert:hover {\n",
              "      background-color: #E2EBFA;\n",
              "      box-shadow: 0px 1px 2px rgba(60, 64, 67, 0.3), 0px 1px 3px 1px rgba(60, 64, 67, 0.15);\n",
              "      fill: #174EA6;\n",
              "    }\n",
              "\n",
              "    [theme=dark] .colab-df-convert {\n",
              "      background-color: #3B4455;\n",
              "      fill: #D2E3FC;\n",
              "    }\n",
              "\n",
              "    [theme=dark] .colab-df-convert:hover {\n",
              "      background-color: #434B5C;\n",
              "      box-shadow: 0px 1px 3px 1px rgba(0, 0, 0, 0.15);\n",
              "      filter: drop-shadow(0px 1px 2px rgba(0, 0, 0, 0.3));\n",
              "      fill: #FFFFFF;\n",
              "    }\n",
              "  </style>\n",
              "\n",
              "      <script>\n",
              "        const buttonEl =\n",
              "          document.querySelector('#df-700fe893-43fd-4a52-bb09-2c87b7c91dd6 button.colab-df-convert');\n",
              "        buttonEl.style.display =\n",
              "          google.colab.kernel.accessAllowed ? 'block' : 'none';\n",
              "\n",
              "        async function convertToInteractive(key) {\n",
              "          const element = document.querySelector('#df-700fe893-43fd-4a52-bb09-2c87b7c91dd6');\n",
              "          const dataTable =\n",
              "            await google.colab.kernel.invokeFunction('convertToInteractive',\n",
              "                                                     [key], {});\n",
              "          if (!dataTable) return;\n",
              "\n",
              "          const docLinkHtml = 'Like what you see? Visit the ' +\n",
              "            '<a target=\"_blank\" href=https://colab.research.google.com/notebooks/data_table.ipynb>data table notebook</a>'\n",
              "            + ' to learn more about interactive tables.';\n",
              "          element.innerHTML = '';\n",
              "          dataTable['output_type'] = 'display_data';\n",
              "          await google.colab.output.renderOutput(dataTable, element);\n",
              "          const docLink = document.createElement('div');\n",
              "          docLink.innerHTML = docLinkHtml;\n",
              "          element.appendChild(docLink);\n",
              "        }\n",
              "      </script>\n",
              "    </div>\n",
              "  </div>\n",
              "  "
            ]
          },
          "metadata": {},
          "execution_count": 30
        }
      ],
      "source": [
        "# Load unreasonable values in days_employed\n",
        "\n",
        "credit_scoring.loc[credit_scoring['days_employed'] > 27375, ['days_employed']].describe()"
      ]
    },
    {
      "cell_type": "code",
      "execution_count": null,
      "metadata": {
        "colab": {
          "base_uri": "https://localhost:8080/"
        },
        "id": "_6O3MlFYkuy-",
        "outputId": "823560a3-dd7a-4570-dcc0-a6c436881a5c"
      },
      "outputs": [
        {
          "output_type": "execute_result",
          "data": {
            "text/plain": [
              "16.004645760743323"
            ]
          },
          "metadata": {},
          "execution_count": 31
        }
      ],
      "source": [
        "# Check the percentage\n",
        "\n",
        "len(credit_scoring.loc[credit_scoring['days_employed'] > 27375, ['days_employed']])/len(credit_scoring)*100"
      ]
    },
    {
      "cell_type": "code",
      "execution_count": null,
      "metadata": {
        "scrolled": false,
        "id": "EKL-b3Flkuy_"
      },
      "outputs": [],
      "source": [
        "# Drop unreasonable values\n",
        "credit_scoring = credit_scoring.drop(credit_scoring.loc[credit_scoring['days_employed'] > 27375].index)\n"
      ]
    },
    {
      "cell_type": "code",
      "execution_count": null,
      "metadata": {
        "scrolled": true,
        "colab": {
          "base_uri": "https://localhost:8080/",
          "height": 300
        },
        "id": "L28sStFKkuy_",
        "outputId": "007208e0-280b-4b70-8c12-e91466f0e6fe"
      },
      "outputs": [
        {
          "output_type": "execute_result",
          "data": {
            "text/plain": [
              "           children  days_employed     dob_years  education_id  \\\n",
              "count  18080.000000   15906.000000  18080.000000  18080.000000   \n",
              "mean       0.552876    2353.015932     40.276825      0.798673   \n",
              "std        0.790152    2304.243851     10.974709      0.551921   \n",
              "min        0.000000      24.141633      0.000000      0.000000   \n",
              "25%        0.000000     756.371964     32.000000      0.000000   \n",
              "50%        0.000000    1630.019381     40.000000      1.000000   \n",
              "75%        1.000000    3157.480084     48.000000      1.000000   \n",
              "max        5.000000   18388.949901     75.000000      4.000000   \n",
              "\n",
              "       family_status_id          debt   total_income  \n",
              "count      18080.000000  18080.000000   15906.000000  \n",
              "mean           0.970299      0.086228   27837.509634  \n",
              "std            1.439355      0.280708   16980.846677  \n",
              "min            0.000000      0.000000    3418.824000  \n",
              "25%            0.000000      0.000000   17323.415000  \n",
              "50%            0.000000      0.000000   24181.535000  \n",
              "75%            1.000000      0.000000   33839.106500  \n",
              "max            4.000000      1.000000  362496.645000  "
            ],
            "text/html": [
              "\n",
              "  <div id=\"df-06078a1b-edf0-4db8-81d6-c613dfaf6145\">\n",
              "    <div class=\"colab-df-container\">\n",
              "      <div>\n",
              "<style scoped>\n",
              "    .dataframe tbody tr th:only-of-type {\n",
              "        vertical-align: middle;\n",
              "    }\n",
              "\n",
              "    .dataframe tbody tr th {\n",
              "        vertical-align: top;\n",
              "    }\n",
              "\n",
              "    .dataframe thead th {\n",
              "        text-align: right;\n",
              "    }\n",
              "</style>\n",
              "<table border=\"1\" class=\"dataframe\">\n",
              "  <thead>\n",
              "    <tr style=\"text-align: right;\">\n",
              "      <th></th>\n",
              "      <th>children</th>\n",
              "      <th>days_employed</th>\n",
              "      <th>dob_years</th>\n",
              "      <th>education_id</th>\n",
              "      <th>family_status_id</th>\n",
              "      <th>debt</th>\n",
              "      <th>total_income</th>\n",
              "    </tr>\n",
              "  </thead>\n",
              "  <tbody>\n",
              "    <tr>\n",
              "      <th>count</th>\n",
              "      <td>18080.000000</td>\n",
              "      <td>15906.000000</td>\n",
              "      <td>18080.000000</td>\n",
              "      <td>18080.000000</td>\n",
              "      <td>18080.000000</td>\n",
              "      <td>18080.000000</td>\n",
              "      <td>15906.000000</td>\n",
              "    </tr>\n",
              "    <tr>\n",
              "      <th>mean</th>\n",
              "      <td>0.552876</td>\n",
              "      <td>2353.015932</td>\n",
              "      <td>40.276825</td>\n",
              "      <td>0.798673</td>\n",
              "      <td>0.970299</td>\n",
              "      <td>0.086228</td>\n",
              "      <td>27837.509634</td>\n",
              "    </tr>\n",
              "    <tr>\n",
              "      <th>std</th>\n",
              "      <td>0.790152</td>\n",
              "      <td>2304.243851</td>\n",
              "      <td>10.974709</td>\n",
              "      <td>0.551921</td>\n",
              "      <td>1.439355</td>\n",
              "      <td>0.280708</td>\n",
              "      <td>16980.846677</td>\n",
              "    </tr>\n",
              "    <tr>\n",
              "      <th>min</th>\n",
              "      <td>0.000000</td>\n",
              "      <td>24.141633</td>\n",
              "      <td>0.000000</td>\n",
              "      <td>0.000000</td>\n",
              "      <td>0.000000</td>\n",
              "      <td>0.000000</td>\n",
              "      <td>3418.824000</td>\n",
              "    </tr>\n",
              "    <tr>\n",
              "      <th>25%</th>\n",
              "      <td>0.000000</td>\n",
              "      <td>756.371964</td>\n",
              "      <td>32.000000</td>\n",
              "      <td>0.000000</td>\n",
              "      <td>0.000000</td>\n",
              "      <td>0.000000</td>\n",
              "      <td>17323.415000</td>\n",
              "    </tr>\n",
              "    <tr>\n",
              "      <th>50%</th>\n",
              "      <td>0.000000</td>\n",
              "      <td>1630.019381</td>\n",
              "      <td>40.000000</td>\n",
              "      <td>1.000000</td>\n",
              "      <td>0.000000</td>\n",
              "      <td>0.000000</td>\n",
              "      <td>24181.535000</td>\n",
              "    </tr>\n",
              "    <tr>\n",
              "      <th>75%</th>\n",
              "      <td>1.000000</td>\n",
              "      <td>3157.480084</td>\n",
              "      <td>48.000000</td>\n",
              "      <td>1.000000</td>\n",
              "      <td>1.000000</td>\n",
              "      <td>0.000000</td>\n",
              "      <td>33839.106500</td>\n",
              "    </tr>\n",
              "    <tr>\n",
              "      <th>max</th>\n",
              "      <td>5.000000</td>\n",
              "      <td>18388.949901</td>\n",
              "      <td>75.000000</td>\n",
              "      <td>4.000000</td>\n",
              "      <td>4.000000</td>\n",
              "      <td>1.000000</td>\n",
              "      <td>362496.645000</td>\n",
              "    </tr>\n",
              "  </tbody>\n",
              "</table>\n",
              "</div>\n",
              "      <button class=\"colab-df-convert\" onclick=\"convertToInteractive('df-06078a1b-edf0-4db8-81d6-c613dfaf6145')\"\n",
              "              title=\"Convert this dataframe to an interactive table.\"\n",
              "              style=\"display:none;\">\n",
              "        \n",
              "  <svg xmlns=\"http://www.w3.org/2000/svg\" height=\"24px\"viewBox=\"0 0 24 24\"\n",
              "       width=\"24px\">\n",
              "    <path d=\"M0 0h24v24H0V0z\" fill=\"none\"/>\n",
              "    <path d=\"M18.56 5.44l.94 2.06.94-2.06 2.06-.94-2.06-.94-.94-2.06-.94 2.06-2.06.94zm-11 1L8.5 8.5l.94-2.06 2.06-.94-2.06-.94L8.5 2.5l-.94 2.06-2.06.94zm10 10l.94 2.06.94-2.06 2.06-.94-2.06-.94-.94-2.06-.94 2.06-2.06.94z\"/><path d=\"M17.41 7.96l-1.37-1.37c-.4-.4-.92-.59-1.43-.59-.52 0-1.04.2-1.43.59L10.3 9.45l-7.72 7.72c-.78.78-.78 2.05 0 2.83L4 21.41c.39.39.9.59 1.41.59.51 0 1.02-.2 1.41-.59l7.78-7.78 2.81-2.81c.8-.78.8-2.07 0-2.86zM5.41 20L4 18.59l7.72-7.72 1.47 1.35L5.41 20z\"/>\n",
              "  </svg>\n",
              "      </button>\n",
              "      \n",
              "  <style>\n",
              "    .colab-df-container {\n",
              "      display:flex;\n",
              "      flex-wrap:wrap;\n",
              "      gap: 12px;\n",
              "    }\n",
              "\n",
              "    .colab-df-convert {\n",
              "      background-color: #E8F0FE;\n",
              "      border: none;\n",
              "      border-radius: 50%;\n",
              "      cursor: pointer;\n",
              "      display: none;\n",
              "      fill: #1967D2;\n",
              "      height: 32px;\n",
              "      padding: 0 0 0 0;\n",
              "      width: 32px;\n",
              "    }\n",
              "\n",
              "    .colab-df-convert:hover {\n",
              "      background-color: #E2EBFA;\n",
              "      box-shadow: 0px 1px 2px rgba(60, 64, 67, 0.3), 0px 1px 3px 1px rgba(60, 64, 67, 0.15);\n",
              "      fill: #174EA6;\n",
              "    }\n",
              "\n",
              "    [theme=dark] .colab-df-convert {\n",
              "      background-color: #3B4455;\n",
              "      fill: #D2E3FC;\n",
              "    }\n",
              "\n",
              "    [theme=dark] .colab-df-convert:hover {\n",
              "      background-color: #434B5C;\n",
              "      box-shadow: 0px 1px 3px 1px rgba(0, 0, 0, 0.15);\n",
              "      filter: drop-shadow(0px 1px 2px rgba(0, 0, 0, 0.3));\n",
              "      fill: #FFFFFF;\n",
              "    }\n",
              "  </style>\n",
              "\n",
              "      <script>\n",
              "        const buttonEl =\n",
              "          document.querySelector('#df-06078a1b-edf0-4db8-81d6-c613dfaf6145 button.colab-df-convert');\n",
              "        buttonEl.style.display =\n",
              "          google.colab.kernel.accessAllowed ? 'block' : 'none';\n",
              "\n",
              "        async function convertToInteractive(key) {\n",
              "          const element = document.querySelector('#df-06078a1b-edf0-4db8-81d6-c613dfaf6145');\n",
              "          const dataTable =\n",
              "            await google.colab.kernel.invokeFunction('convertToInteractive',\n",
              "                                                     [key], {});\n",
              "          if (!dataTable) return;\n",
              "\n",
              "          const docLinkHtml = 'Like what you see? Visit the ' +\n",
              "            '<a target=\"_blank\" href=https://colab.research.google.com/notebooks/data_table.ipynb>data table notebook</a>'\n",
              "            + ' to learn more about interactive tables.';\n",
              "          element.innerHTML = '';\n",
              "          dataTable['output_type'] = 'display_data';\n",
              "          await google.colab.output.renderOutput(dataTable, element);\n",
              "          const docLink = document.createElement('div');\n",
              "          docLink.innerHTML = docLinkHtml;\n",
              "          element.appendChild(docLink);\n",
              "        }\n",
              "      </script>\n",
              "    </div>\n",
              "  </div>\n",
              "  "
            ]
          },
          "metadata": {},
          "execution_count": 33
        }
      ],
      "source": [
        "# Re-check statisical descprition\n",
        "credit_scoring.describe()"
      ]
    },
    {
      "cell_type": "markdown",
      "metadata": {
        "id": "sGXM5QDBkuzA"
      },
      "source": [
        "In the next step `dob_years` will be observed."
      ]
    },
    {
      "cell_type": "code",
      "execution_count": null,
      "metadata": {
        "scrolled": true,
        "colab": {
          "base_uri": "https://localhost:8080/"
        },
        "id": "AISLCsVakuzB",
        "outputId": "da2eb9df-aac5-454b-f527-b46188d9fd26"
      },
      "outputs": [
        {
          "output_type": "execute_result",
          "data": {
            "text/plain": [
              "dob_years\n",
              "0            84\n",
              "dtype: int64"
            ]
          },
          "metadata": {},
          "execution_count": 34
        }
      ],
      "source": [
        "# Check `dob_years` less than 15\n",
        "credit_scoring.loc[credit_scoring['dob_years'] < 15, ['dob_years']].value_counts()\n"
      ]
    },
    {
      "cell_type": "markdown",
      "metadata": {
        "id": "nfq9uBu-kuzB"
      },
      "source": [
        "There is 0 value in the `dob_years`. This value is unreasonable, so rows with 0 will be dropped."
      ]
    },
    {
      "cell_type": "code",
      "source": [
        "# Drop 0 value\n",
        "credit_scoring = credit_scoring.drop(credit_scoring.loc[credit_scoring['dob_years'] == 0].index)"
      ],
      "metadata": {
        "id": "1HyPslrJrHGR"
      },
      "execution_count": null,
      "outputs": []
    },
    {
      "cell_type": "code",
      "source": [
        "# Re-check for 0 value\n",
        "credit_scoring.loc[credit_scoring['dob_years'] == 0, ['dob_years']].value_counts()"
      ],
      "metadata": {
        "colab": {
          "base_uri": "https://localhost:8080/"
        },
        "id": "vrpMNCmsrQqi",
        "outputId": "94d30ccf-363d-496d-8a38-a63de300e934"
      },
      "execution_count": null,
      "outputs": [
        {
          "output_type": "execute_result",
          "data": {
            "text/plain": [
              "Series([], dtype: int64)"
            ]
          },
          "metadata": {},
          "execution_count": 36
        }
      ]
    },
    {
      "cell_type": "markdown",
      "metadata": {
        "id": "vfkJ9fHzkuzC"
      },
      "source": [
        "In the next step, column `family_status` is observed."
      ]
    },
    {
      "cell_type": "code",
      "execution_count": null,
      "metadata": {
        "colab": {
          "base_uri": "https://localhost:8080/"
        },
        "id": "d1hvRI59kuzD",
        "outputId": "6d8c4140-9225-4d58-bf55-b083d45572ac"
      },
      "outputs": [
        {
          "output_type": "execute_result",
          "data": {
            "text/plain": [
              "married              10466\n",
              "civil partnership     3579\n",
              "unmarried             2488\n",
              "divorced               988\n",
              "widow / widower        475\n",
              "Name: family_status, dtype: int64"
            ]
          },
          "metadata": {},
          "execution_count": 37
        }
      ],
      "source": [
        "# Load unique values in family_status\n",
        "credit_scoring['family_status'].value_counts(dropna=False)\n"
      ]
    },
    {
      "cell_type": "markdown",
      "metadata": {
        "id": "EETEdu37kuzE"
      },
      "source": [
        "In the next step, column `gender` is observed."
      ]
    },
    {
      "cell_type": "code",
      "execution_count": null,
      "metadata": {
        "colab": {
          "base_uri": "https://localhost:8080/"
        },
        "id": "eX1sMslXkuzE",
        "outputId": "a69e6fb0-93de-410d-baae-b6f0a44a5d31"
      },
      "outputs": [
        {
          "output_type": "execute_result",
          "data": {
            "text/plain": [
              "F      11373\n",
              "M       6622\n",
              "XNA        1\n",
              "Name: gender, dtype: int64"
            ]
          },
          "metadata": {},
          "execution_count": 38
        }
      ],
      "source": [
        "# Load unique values in gender\n",
        "credit_scoring['gender'].value_counts(dropna=False)"
      ]
    },
    {
      "cell_type": "markdown",
      "source": [
        "\n",
        "In the `gender` column there is 1 outlier, namely XNA. Since it maked only 1, it will be changed to F which makes the larget portion of all values."
      ],
      "metadata": {
        "id": "Z3BqYSzpsLxM"
      }
    },
    {
      "cell_type": "code",
      "execution_count": null,
      "metadata": {
        "id": "Xq_XLAiskuzE"
      },
      "outputs": [],
      "source": [
        "# Change XNA to F\n",
        "\n",
        "credit_scoring.loc[credit_scoring['gender'] == 'XNA', 'gender'] = 'F'"
      ]
    },
    {
      "cell_type": "code",
      "execution_count": null,
      "metadata": {
        "colab": {
          "base_uri": "https://localhost:8080/"
        },
        "id": "pXuqW6DokuzF",
        "outputId": "b2e273d4-eb19-48a4-8eb7-664f928b0e58"
      },
      "outputs": [
        {
          "output_type": "execute_result",
          "data": {
            "text/plain": [
              "F    11374\n",
              "M     6622\n",
              "Name: gender, dtype: int64"
            ]
          },
          "metadata": {},
          "execution_count": 40
        }
      ],
      "source": [
        "# Re-check unique values\n",
        "credit_scoring['gender'].value_counts(dropna=False)\n"
      ]
    },
    {
      "cell_type": "markdown",
      "metadata": {
        "id": "22hIyZoUkuzF"
      },
      "source": [
        "In the next step, `income_type` will be observed."
      ]
    },
    {
      "cell_type": "code",
      "execution_count": null,
      "metadata": {
        "colab": {
          "base_uri": "https://localhost:8080/"
        },
        "id": "RlXoyx4DkuzF",
        "outputId": "f7848f3f-ad5c-466a-e3dd-2f154ca76d4c"
      },
      "outputs": [
        {
          "output_type": "execute_result",
          "data": {
            "text/plain": [
              "employee                       11064\n",
              "business                        5065\n",
              "civil servant                   1453\n",
              "retiree                          410\n",
              "entrepreneur                       2\n",
              "student                            1\n",
              "paternity / maternity leave        1\n",
              "Name: income_type, dtype: int64"
            ]
          },
          "metadata": {},
          "execution_count": 41
        }
      ],
      "source": [
        "# Mari kita lihat nilai dalam kolom ini\n",
        "credit_scoring['income_type'].value_counts(dropna=False)"
      ]
    },
    {
      "cell_type": "markdown",
      "source": [
        "There is an `entrepreneur` value which is essentially the same as `business`, so `entrepreneur` will be replaced with `business`. Also then `paternity / maternity leave` will be changed to `employee`. Also `student` will be changed with `unemployed`. These four values ​​only have 1 or 2 rows. So replacing them will not change the data significantly, while it helps to have less categories."
      ],
      "metadata": {
        "id": "O8Tfc2Cyv8XK"
      }
    },
    {
      "cell_type": "code",
      "execution_count": null,
      "metadata": {
        "id": "EFL6KPTykuzG"
      },
      "outputs": [],
      "source": [
        "# Replace the values to combine them to other values\n",
        "credit_scoring.loc[credit_scoring['income_type'] == 'paternity / maternity leave', 'income_type'] = 'employee'\n",
        "credit_scoring.loc[credit_scoring['income_type'] == 'student', 'income_type'] = 'unemployed'\n",
        "credit_scoring.loc[credit_scoring['income_type'] == 'entrepreneur', 'income_type'] = 'business'"
      ]
    },
    {
      "cell_type": "code",
      "execution_count": null,
      "metadata": {
        "colab": {
          "base_uri": "https://localhost:8080/"
        },
        "id": "UohvxC5DkuzH",
        "outputId": "3d6a4109-dd02-492a-9526-4e075a7e4908"
      },
      "outputs": [
        {
          "output_type": "execute_result",
          "data": {
            "text/plain": [
              "employee         11065\n",
              "business          5067\n",
              "civil servant     1453\n",
              "retiree            410\n",
              "unemployed           1\n",
              "Name: income_type, dtype: int64"
            ]
          },
          "metadata": {},
          "execution_count": 43
        }
      ],
      "source": [
        "# Re-check unique values\n",
        "credit_scoring['income_type'].value_counts()\n"
      ]
    },
    {
      "cell_type": "markdown",
      "metadata": {
        "id": "zRfnaeV4kuzH"
      },
      "source": [
        "In the next step, duplicate is checked."
      ]
    },
    {
      "cell_type": "code",
      "execution_count": null,
      "metadata": {
        "colab": {
          "base_uri": "https://localhost:8080/"
        },
        "id": "SqtM1RSbkuzH",
        "outputId": "788df3c7-34dd-4981-ac1e-bb98033958ef"
      },
      "outputs": [
        {
          "output_type": "execute_result",
          "data": {
            "text/plain": [
              "71"
            ]
          },
          "metadata": {},
          "execution_count": 44
        }
      ],
      "source": [
        "# Check duplicates\n",
        "credit_scoring.duplicated().sum()"
      ]
    },
    {
      "cell_type": "code",
      "execution_count": null,
      "metadata": {
        "colab": {
          "base_uri": "https://localhost:8080/",
          "height": 696
        },
        "id": "ed2f_ISekuzI",
        "outputId": "3d0e52e7-365d-4ca8-ab99-def7be7a3235"
      },
      "outputs": [
        {
          "output_type": "execute_result",
          "data": {
            "text/plain": [
              "    children  days_employed  dob_years            education  education_id  \\\n",
              "0          0            NaN         41  secondary education             1   \n",
              "1          0            NaN         58  secondary education             1   \n",
              "2          1            NaN         34    bachelor's degree             0   \n",
              "3          0            NaN         60  secondary education             1   \n",
              "4          0            NaN         58  secondary education             1   \n",
              "..       ...            ...        ...                  ...           ...   \n",
              "66         0            NaN         64  secondary education             1   \n",
              "67         0            NaN         60  secondary education             1   \n",
              "68         0            NaN         47  secondary education             1   \n",
              "69         1            NaN         30    bachelor's degree             0   \n",
              "70         0            NaN         54  secondary education             1   \n",
              "\n",
              "        family_status  family_status_id gender income_type  debt  \\\n",
              "0             married                 0      F    employee     0   \n",
              "1   civil partnership                 1      F     retiree     0   \n",
              "2   civil partnership                 1      F    employee     0   \n",
              "3   civil partnership                 1      F     retiree     0   \n",
              "4   civil partnership                 1      F     retiree     0   \n",
              "..                ...               ...    ...         ...   ...   \n",
              "66            married                 0      F     retiree     0   \n",
              "67            married                 0      F     retiree     0   \n",
              "68            married                 0      F    employee     0   \n",
              "69            married                 0      F    employee     0   \n",
              "70            married                 0      F     retiree     0   \n",
              "\n",
              "    total_income                              purpose  \n",
              "0            NaN  purchase of the house for my family  \n",
              "1            NaN                    to have a wedding  \n",
              "2            NaN                     wedding ceremony  \n",
              "3            NaN                     wedding ceremony  \n",
              "4            NaN                    to have a wedding  \n",
              "..           ...                                  ...  \n",
              "66           NaN              supplementary education  \n",
              "67           NaN                   to become educated  \n",
              "68           NaN                   housing renovation  \n",
              "69           NaN           buy commercial real estate  \n",
              "70           NaN                 housing transactions  \n",
              "\n",
              "[71 rows x 12 columns]"
            ],
            "text/html": [
              "\n",
              "  <div id=\"df-65eec4c3-49eb-4022-aa77-d861cfd4baf8\">\n",
              "    <div class=\"colab-df-container\">\n",
              "      <div>\n",
              "<style scoped>\n",
              "    .dataframe tbody tr th:only-of-type {\n",
              "        vertical-align: middle;\n",
              "    }\n",
              "\n",
              "    .dataframe tbody tr th {\n",
              "        vertical-align: top;\n",
              "    }\n",
              "\n",
              "    .dataframe thead th {\n",
              "        text-align: right;\n",
              "    }\n",
              "</style>\n",
              "<table border=\"1\" class=\"dataframe\">\n",
              "  <thead>\n",
              "    <tr style=\"text-align: right;\">\n",
              "      <th></th>\n",
              "      <th>children</th>\n",
              "      <th>days_employed</th>\n",
              "      <th>dob_years</th>\n",
              "      <th>education</th>\n",
              "      <th>education_id</th>\n",
              "      <th>family_status</th>\n",
              "      <th>family_status_id</th>\n",
              "      <th>gender</th>\n",
              "      <th>income_type</th>\n",
              "      <th>debt</th>\n",
              "      <th>total_income</th>\n",
              "      <th>purpose</th>\n",
              "    </tr>\n",
              "  </thead>\n",
              "  <tbody>\n",
              "    <tr>\n",
              "      <th>0</th>\n",
              "      <td>0</td>\n",
              "      <td>NaN</td>\n",
              "      <td>41</td>\n",
              "      <td>secondary education</td>\n",
              "      <td>1</td>\n",
              "      <td>married</td>\n",
              "      <td>0</td>\n",
              "      <td>F</td>\n",
              "      <td>employee</td>\n",
              "      <td>0</td>\n",
              "      <td>NaN</td>\n",
              "      <td>purchase of the house for my family</td>\n",
              "    </tr>\n",
              "    <tr>\n",
              "      <th>1</th>\n",
              "      <td>0</td>\n",
              "      <td>NaN</td>\n",
              "      <td>58</td>\n",
              "      <td>secondary education</td>\n",
              "      <td>1</td>\n",
              "      <td>civil partnership</td>\n",
              "      <td>1</td>\n",
              "      <td>F</td>\n",
              "      <td>retiree</td>\n",
              "      <td>0</td>\n",
              "      <td>NaN</td>\n",
              "      <td>to have a wedding</td>\n",
              "    </tr>\n",
              "    <tr>\n",
              "      <th>2</th>\n",
              "      <td>1</td>\n",
              "      <td>NaN</td>\n",
              "      <td>34</td>\n",
              "      <td>bachelor's degree</td>\n",
              "      <td>0</td>\n",
              "      <td>civil partnership</td>\n",
              "      <td>1</td>\n",
              "      <td>F</td>\n",
              "      <td>employee</td>\n",
              "      <td>0</td>\n",
              "      <td>NaN</td>\n",
              "      <td>wedding ceremony</td>\n",
              "    </tr>\n",
              "    <tr>\n",
              "      <th>3</th>\n",
              "      <td>0</td>\n",
              "      <td>NaN</td>\n",
              "      <td>60</td>\n",
              "      <td>secondary education</td>\n",
              "      <td>1</td>\n",
              "      <td>civil partnership</td>\n",
              "      <td>1</td>\n",
              "      <td>F</td>\n",
              "      <td>retiree</td>\n",
              "      <td>0</td>\n",
              "      <td>NaN</td>\n",
              "      <td>wedding ceremony</td>\n",
              "    </tr>\n",
              "    <tr>\n",
              "      <th>4</th>\n",
              "      <td>0</td>\n",
              "      <td>NaN</td>\n",
              "      <td>58</td>\n",
              "      <td>secondary education</td>\n",
              "      <td>1</td>\n",
              "      <td>civil partnership</td>\n",
              "      <td>1</td>\n",
              "      <td>F</td>\n",
              "      <td>retiree</td>\n",
              "      <td>0</td>\n",
              "      <td>NaN</td>\n",
              "      <td>to have a wedding</td>\n",
              "    </tr>\n",
              "    <tr>\n",
              "      <th>...</th>\n",
              "      <td>...</td>\n",
              "      <td>...</td>\n",
              "      <td>...</td>\n",
              "      <td>...</td>\n",
              "      <td>...</td>\n",
              "      <td>...</td>\n",
              "      <td>...</td>\n",
              "      <td>...</td>\n",
              "      <td>...</td>\n",
              "      <td>...</td>\n",
              "      <td>...</td>\n",
              "      <td>...</td>\n",
              "    </tr>\n",
              "    <tr>\n",
              "      <th>66</th>\n",
              "      <td>0</td>\n",
              "      <td>NaN</td>\n",
              "      <td>64</td>\n",
              "      <td>secondary education</td>\n",
              "      <td>1</td>\n",
              "      <td>married</td>\n",
              "      <td>0</td>\n",
              "      <td>F</td>\n",
              "      <td>retiree</td>\n",
              "      <td>0</td>\n",
              "      <td>NaN</td>\n",
              "      <td>supplementary education</td>\n",
              "    </tr>\n",
              "    <tr>\n",
              "      <th>67</th>\n",
              "      <td>0</td>\n",
              "      <td>NaN</td>\n",
              "      <td>60</td>\n",
              "      <td>secondary education</td>\n",
              "      <td>1</td>\n",
              "      <td>married</td>\n",
              "      <td>0</td>\n",
              "      <td>F</td>\n",
              "      <td>retiree</td>\n",
              "      <td>0</td>\n",
              "      <td>NaN</td>\n",
              "      <td>to become educated</td>\n",
              "    </tr>\n",
              "    <tr>\n",
              "      <th>68</th>\n",
              "      <td>0</td>\n",
              "      <td>NaN</td>\n",
              "      <td>47</td>\n",
              "      <td>secondary education</td>\n",
              "      <td>1</td>\n",
              "      <td>married</td>\n",
              "      <td>0</td>\n",
              "      <td>F</td>\n",
              "      <td>employee</td>\n",
              "      <td>0</td>\n",
              "      <td>NaN</td>\n",
              "      <td>housing renovation</td>\n",
              "    </tr>\n",
              "    <tr>\n",
              "      <th>69</th>\n",
              "      <td>1</td>\n",
              "      <td>NaN</td>\n",
              "      <td>30</td>\n",
              "      <td>bachelor's degree</td>\n",
              "      <td>0</td>\n",
              "      <td>married</td>\n",
              "      <td>0</td>\n",
              "      <td>F</td>\n",
              "      <td>employee</td>\n",
              "      <td>0</td>\n",
              "      <td>NaN</td>\n",
              "      <td>buy commercial real estate</td>\n",
              "    </tr>\n",
              "    <tr>\n",
              "      <th>70</th>\n",
              "      <td>0</td>\n",
              "      <td>NaN</td>\n",
              "      <td>54</td>\n",
              "      <td>secondary education</td>\n",
              "      <td>1</td>\n",
              "      <td>married</td>\n",
              "      <td>0</td>\n",
              "      <td>F</td>\n",
              "      <td>retiree</td>\n",
              "      <td>0</td>\n",
              "      <td>NaN</td>\n",
              "      <td>housing transactions</td>\n",
              "    </tr>\n",
              "  </tbody>\n",
              "</table>\n",
              "<p>71 rows × 12 columns</p>\n",
              "</div>\n",
              "      <button class=\"colab-df-convert\" onclick=\"convertToInteractive('df-65eec4c3-49eb-4022-aa77-d861cfd4baf8')\"\n",
              "              title=\"Convert this dataframe to an interactive table.\"\n",
              "              style=\"display:none;\">\n",
              "        \n",
              "  <svg xmlns=\"http://www.w3.org/2000/svg\" height=\"24px\"viewBox=\"0 0 24 24\"\n",
              "       width=\"24px\">\n",
              "    <path d=\"M0 0h24v24H0V0z\" fill=\"none\"/>\n",
              "    <path d=\"M18.56 5.44l.94 2.06.94-2.06 2.06-.94-2.06-.94-.94-2.06-.94 2.06-2.06.94zm-11 1L8.5 8.5l.94-2.06 2.06-.94-2.06-.94L8.5 2.5l-.94 2.06-2.06.94zm10 10l.94 2.06.94-2.06 2.06-.94-2.06-.94-.94-2.06-.94 2.06-2.06.94z\"/><path d=\"M17.41 7.96l-1.37-1.37c-.4-.4-.92-.59-1.43-.59-.52 0-1.04.2-1.43.59L10.3 9.45l-7.72 7.72c-.78.78-.78 2.05 0 2.83L4 21.41c.39.39.9.59 1.41.59.51 0 1.02-.2 1.41-.59l7.78-7.78 2.81-2.81c.8-.78.8-2.07 0-2.86zM5.41 20L4 18.59l7.72-7.72 1.47 1.35L5.41 20z\"/>\n",
              "  </svg>\n",
              "      </button>\n",
              "      \n",
              "  <style>\n",
              "    .colab-df-container {\n",
              "      display:flex;\n",
              "      flex-wrap:wrap;\n",
              "      gap: 12px;\n",
              "    }\n",
              "\n",
              "    .colab-df-convert {\n",
              "      background-color: #E8F0FE;\n",
              "      border: none;\n",
              "      border-radius: 50%;\n",
              "      cursor: pointer;\n",
              "      display: none;\n",
              "      fill: #1967D2;\n",
              "      height: 32px;\n",
              "      padding: 0 0 0 0;\n",
              "      width: 32px;\n",
              "    }\n",
              "\n",
              "    .colab-df-convert:hover {\n",
              "      background-color: #E2EBFA;\n",
              "      box-shadow: 0px 1px 2px rgba(60, 64, 67, 0.3), 0px 1px 3px 1px rgba(60, 64, 67, 0.15);\n",
              "      fill: #174EA6;\n",
              "    }\n",
              "\n",
              "    [theme=dark] .colab-df-convert {\n",
              "      background-color: #3B4455;\n",
              "      fill: #D2E3FC;\n",
              "    }\n",
              "\n",
              "    [theme=dark] .colab-df-convert:hover {\n",
              "      background-color: #434B5C;\n",
              "      box-shadow: 0px 1px 3px 1px rgba(0, 0, 0, 0.15);\n",
              "      filter: drop-shadow(0px 1px 2px rgba(0, 0, 0, 0.3));\n",
              "      fill: #FFFFFF;\n",
              "    }\n",
              "  </style>\n",
              "\n",
              "      <script>\n",
              "        const buttonEl =\n",
              "          document.querySelector('#df-65eec4c3-49eb-4022-aa77-d861cfd4baf8 button.colab-df-convert');\n",
              "        buttonEl.style.display =\n",
              "          google.colab.kernel.accessAllowed ? 'block' : 'none';\n",
              "\n",
              "        async function convertToInteractive(key) {\n",
              "          const element = document.querySelector('#df-65eec4c3-49eb-4022-aa77-d861cfd4baf8');\n",
              "          const dataTable =\n",
              "            await google.colab.kernel.invokeFunction('convertToInteractive',\n",
              "                                                     [key], {});\n",
              "          if (!dataTable) return;\n",
              "\n",
              "          const docLinkHtml = 'Like what you see? Visit the ' +\n",
              "            '<a target=\"_blank\" href=https://colab.research.google.com/notebooks/data_table.ipynb>data table notebook</a>'\n",
              "            + ' to learn more about interactive tables.';\n",
              "          element.innerHTML = '';\n",
              "          dataTable['output_type'] = 'display_data';\n",
              "          await google.colab.output.renderOutput(dataTable, element);\n",
              "          const docLink = document.createElement('div');\n",
              "          docLink.innerHTML = docLinkHtml;\n",
              "          element.appendChild(docLink);\n",
              "        }\n",
              "      </script>\n",
              "    </div>\n",
              "  </div>\n",
              "  "
            ]
          },
          "metadata": {},
          "execution_count": 45
        }
      ],
      "source": [
        "# Load duplicate rows\n",
        "credit_scoring.loc[credit_scoring.duplicated()].reset_index(drop=True)"
      ]
    },
    {
      "cell_type": "code",
      "execution_count": null,
      "metadata": {
        "id": "ClDVOvwZkuzI"
      },
      "outputs": [],
      "source": [
        "# Drop duplicates\n",
        "credit_scoring.drop_duplicates(inplace=True, ignore_index=True)"
      ]
    },
    {
      "cell_type": "code",
      "execution_count": null,
      "metadata": {
        "colab": {
          "base_uri": "https://localhost:8080/"
        },
        "id": "2MatyaTZkuzI",
        "outputId": "674e3012-71b6-406b-cd48-0f67c1d1eed7"
      },
      "outputs": [
        {
          "output_type": "execute_result",
          "data": {
            "text/plain": [
              "0"
            ]
          },
          "metadata": {},
          "execution_count": 47
        }
      ],
      "source": [
        "# Re-check duplicates\n",
        "credit_scoring.duplicated().sum()"
      ]
    },
    {
      "cell_type": "code",
      "execution_count": null,
      "metadata": {
        "colab": {
          "base_uri": "https://localhost:8080/"
        },
        "id": "xGSQUtfakuzJ",
        "outputId": "c84c6ab5-c4af-459e-d70f-0c901133a6af"
      },
      "outputs": [
        {
          "output_type": "stream",
          "name": "stdout",
          "text": [
            "<class 'pandas.core.frame.DataFrame'>\n",
            "RangeIndex: 17925 entries, 0 to 17924\n",
            "Data columns (total 12 columns):\n",
            " #   Column            Non-Null Count  Dtype  \n",
            "---  ------            --------------  -----  \n",
            " 0   children          17925 non-null  int64  \n",
            " 1   days_employed     15832 non-null  float64\n",
            " 2   dob_years         17925 non-null  int64  \n",
            " 3   education         17925 non-null  object \n",
            " 4   education_id      17925 non-null  int64  \n",
            " 5   family_status     17925 non-null  object \n",
            " 6   family_status_id  17925 non-null  int64  \n",
            " 7   gender            17925 non-null  object \n",
            " 8   income_type       17925 non-null  object \n",
            " 9   debt              17925 non-null  int64  \n",
            " 10  total_income      15832 non-null  float64\n",
            " 11  purpose           17925 non-null  object \n",
            "dtypes: float64(2), int64(5), object(5)\n",
            "memory usage: 1.6+ MB\n"
          ]
        }
      ],
      "source": [
        "# Load general info on dataset\n",
        "credit_scoring.info()"
      ]
    },
    {
      "cell_type": "markdown",
      "metadata": {
        "id": "QO8DS8BWkuzJ"
      },
      "source": [
        "Now the new dataset has fewer rows, that is 21,454. The number of columns remains 12. And with fewer missing values, that is 2,103 missing values ​​in each of the days_employed and total_income columns.\n"
      ]
    },
    {
      "cell_type": "markdown",
      "metadata": {
        "id": "2I7HhsWkkuzK"
      },
      "source": [
        "# Work with missing values"
      ]
    },
    {
      "cell_type": "markdown",
      "metadata": {
        "id": "rGiypQYukuzO"
      },
      "source": [
        "### Handle missing values in `total_income`"
      ]
    },
    {
      "cell_type": "markdown",
      "metadata": {
        "id": "51wrwwTfkuzO"
      },
      "source": [
        "In the next steps, the missing values ​​in total_income will be worked first. A new column that categorise ages will be created. From the description of statistics, it shows facts about age. The first, and third quartiles are 33 and 53, respectively. The median is 42. The highest is 75. And the mean is 43.\n",
        "Therefore categorisation of age will be made using the function below."
      ]
    },
    {
      "cell_type": "code",
      "execution_count": null,
      "metadata": {
        "id": "J18oaClukuzP"
      },
      "outputs": [],
      "source": [
        "# Define function to categorize age\n",
        "def assign_age_group(age):\n",
        "    try:\n",
        "        if age < 18 or np.isnan(age):\n",
        "            return 'below18'\n",
        "        elif age < 30:\n",
        "            return 'young_adult'\n",
        "        elif age < 64:\n",
        "            return 'adult'\n",
        "        else:\n",
        "            return 'elderly'\n",
        "    except:\n",
        "        return 'NA'\n",
        "   "
      ]
    },
    {
      "cell_type": "code",
      "execution_count": null,
      "metadata": {
        "colab": {
          "base_uri": "https://localhost:8080/"
        },
        "id": "-OEk773ukuzP",
        "outputId": "b5d5ad1a-74ad-4dbc-c077-46615590b451"
      },
      "outputs": [
        {
          "output_type": "stream",
          "name": "stdout",
          "text": [
            "below18\n",
            "below18\n",
            "young_adult\n",
            "adult\n",
            "elderly\n"
          ]
        }
      ],
      "source": [
        "# Test function to see if it works\n",
        "test_Nan = assign_age_group(float('Nan'))\n",
        "print(test_Nan)\n",
        "test_17 = assign_age_group(17)\n",
        "print(test_17)\n",
        "test_27 = assign_age_group(27)\n",
        "print(test_27)\n",
        "test_40 = assign_age_group(40)\n",
        "print(test_40)\n",
        "test_82 = assign_age_group(82)\n",
        "print(test_82)"
      ]
    },
    {
      "cell_type": "code",
      "execution_count": null,
      "metadata": {
        "id": "ydmr226DkuzP"
      },
      "outputs": [],
      "source": [
        "# Create new column for age using deob_years\n",
        "credit_scoring['dob_group'] = credit_scoring['dob_years'].apply(assign_age_group)\n"
      ]
    },
    {
      "cell_type": "code",
      "execution_count": null,
      "metadata": {
        "colab": {
          "base_uri": "https://localhost:8080/"
        },
        "id": "cZyl7sI6kuzQ",
        "outputId": "2fdb912f-985a-4abc-991e-6eab40c6d376"
      },
      "outputs": [
        {
          "output_type": "execute_result",
          "data": {
            "text/plain": [
              "adult          14477\n",
              "young_adult     3173\n",
              "elderly          275\n",
              "Name: dob_group, dtype: int64"
            ]
          },
          "metadata": {},
          "execution_count": 52
        }
      ],
      "source": [
        "# Check unique values in the new column\n",
        "credit_scoring['dob_group'].value_counts()\n"
      ]
    },
    {
      "cell_type": "markdown",
      "metadata": {
        "id": "BhT2SrpakuzQ"
      },
      "source": [
        "From the available observed data, factors that usually relate to a person's income are:\n",
        "1. Age\n",
        "2. Income source/ type\n",
        "3. Education level\n",
        "\n",
        "In the next steps, a new dataset that is clean from missing values will be created. Then typical data (mean or median) of total_income that are based on those 3 factors will be inferred."
      ]
    },
    {
      "cell_type": "markdown",
      "metadata": {
        "id": "LtDvkmgZkuzR"
      },
      "source": [
        "Before filling in missing values, a new dataset excluding missing values will be created."
      ]
    },
    {
      "cell_type": "code",
      "execution_count": null,
      "metadata": {
        "scrolled": true,
        "colab": {
          "base_uri": "https://localhost:8080/",
          "height": 357
        },
        "id": "muAbvgapkuzR",
        "outputId": "8f2147db-a004-4d0d-f5ca-9e3b9a0fe550"
      },
      "outputs": [
        {
          "output_type": "execute_result",
          "data": {
            "text/plain": [
              "   children  days_employed  dob_years            education  education_id  \\\n",
              "0         1    8437.673028         42    bachelor's degree             0   \n",
              "1         1    4024.803754         36  secondary education             1   \n",
              "2         0    5623.422610         33  secondary education             1   \n",
              "3         3    4124.747207         32  secondary education             1   \n",
              "4         0     926.185831         27    bachelor's degree             0   \n",
              "\n",
              "       family_status  family_status_id gender income_type  debt  total_income  \\\n",
              "0            married                 0      F    employee     0     40620.102   \n",
              "1            married                 0      F    employee     0     17932.802   \n",
              "2            married                 0      M    employee     0     23341.752   \n",
              "3            married                 0      M    employee     0     42820.568   \n",
              "4  civil partnership                 1      M    business     0     40922.170   \n",
              "\n",
              "                   purpose    dob_group  \n",
              "0    purchase of the house        adult  \n",
              "1             car purchase        adult  \n",
              "2    purchase of the house        adult  \n",
              "3  supplementary education        adult  \n",
              "4    purchase of the house  young_adult  "
            ],
            "text/html": [
              "\n",
              "  <div id=\"df-e975fb78-55c7-45de-9f72-5256a1672fef\">\n",
              "    <div class=\"colab-df-container\">\n",
              "      <div>\n",
              "<style scoped>\n",
              "    .dataframe tbody tr th:only-of-type {\n",
              "        vertical-align: middle;\n",
              "    }\n",
              "\n",
              "    .dataframe tbody tr th {\n",
              "        vertical-align: top;\n",
              "    }\n",
              "\n",
              "    .dataframe thead th {\n",
              "        text-align: right;\n",
              "    }\n",
              "</style>\n",
              "<table border=\"1\" class=\"dataframe\">\n",
              "  <thead>\n",
              "    <tr style=\"text-align: right;\">\n",
              "      <th></th>\n",
              "      <th>children</th>\n",
              "      <th>days_employed</th>\n",
              "      <th>dob_years</th>\n",
              "      <th>education</th>\n",
              "      <th>education_id</th>\n",
              "      <th>family_status</th>\n",
              "      <th>family_status_id</th>\n",
              "      <th>gender</th>\n",
              "      <th>income_type</th>\n",
              "      <th>debt</th>\n",
              "      <th>total_income</th>\n",
              "      <th>purpose</th>\n",
              "      <th>dob_group</th>\n",
              "    </tr>\n",
              "  </thead>\n",
              "  <tbody>\n",
              "    <tr>\n",
              "      <th>0</th>\n",
              "      <td>1</td>\n",
              "      <td>8437.673028</td>\n",
              "      <td>42</td>\n",
              "      <td>bachelor's degree</td>\n",
              "      <td>0</td>\n",
              "      <td>married</td>\n",
              "      <td>0</td>\n",
              "      <td>F</td>\n",
              "      <td>employee</td>\n",
              "      <td>0</td>\n",
              "      <td>40620.102</td>\n",
              "      <td>purchase of the house</td>\n",
              "      <td>adult</td>\n",
              "    </tr>\n",
              "    <tr>\n",
              "      <th>1</th>\n",
              "      <td>1</td>\n",
              "      <td>4024.803754</td>\n",
              "      <td>36</td>\n",
              "      <td>secondary education</td>\n",
              "      <td>1</td>\n",
              "      <td>married</td>\n",
              "      <td>0</td>\n",
              "      <td>F</td>\n",
              "      <td>employee</td>\n",
              "      <td>0</td>\n",
              "      <td>17932.802</td>\n",
              "      <td>car purchase</td>\n",
              "      <td>adult</td>\n",
              "    </tr>\n",
              "    <tr>\n",
              "      <th>2</th>\n",
              "      <td>0</td>\n",
              "      <td>5623.422610</td>\n",
              "      <td>33</td>\n",
              "      <td>secondary education</td>\n",
              "      <td>1</td>\n",
              "      <td>married</td>\n",
              "      <td>0</td>\n",
              "      <td>M</td>\n",
              "      <td>employee</td>\n",
              "      <td>0</td>\n",
              "      <td>23341.752</td>\n",
              "      <td>purchase of the house</td>\n",
              "      <td>adult</td>\n",
              "    </tr>\n",
              "    <tr>\n",
              "      <th>3</th>\n",
              "      <td>3</td>\n",
              "      <td>4124.747207</td>\n",
              "      <td>32</td>\n",
              "      <td>secondary education</td>\n",
              "      <td>1</td>\n",
              "      <td>married</td>\n",
              "      <td>0</td>\n",
              "      <td>M</td>\n",
              "      <td>employee</td>\n",
              "      <td>0</td>\n",
              "      <td>42820.568</td>\n",
              "      <td>supplementary education</td>\n",
              "      <td>adult</td>\n",
              "    </tr>\n",
              "    <tr>\n",
              "      <th>4</th>\n",
              "      <td>0</td>\n",
              "      <td>926.185831</td>\n",
              "      <td>27</td>\n",
              "      <td>bachelor's degree</td>\n",
              "      <td>0</td>\n",
              "      <td>civil partnership</td>\n",
              "      <td>1</td>\n",
              "      <td>M</td>\n",
              "      <td>business</td>\n",
              "      <td>0</td>\n",
              "      <td>40922.170</td>\n",
              "      <td>purchase of the house</td>\n",
              "      <td>young_adult</td>\n",
              "    </tr>\n",
              "  </tbody>\n",
              "</table>\n",
              "</div>\n",
              "      <button class=\"colab-df-convert\" onclick=\"convertToInteractive('df-e975fb78-55c7-45de-9f72-5256a1672fef')\"\n",
              "              title=\"Convert this dataframe to an interactive table.\"\n",
              "              style=\"display:none;\">\n",
              "        \n",
              "  <svg xmlns=\"http://www.w3.org/2000/svg\" height=\"24px\"viewBox=\"0 0 24 24\"\n",
              "       width=\"24px\">\n",
              "    <path d=\"M0 0h24v24H0V0z\" fill=\"none\"/>\n",
              "    <path d=\"M18.56 5.44l.94 2.06.94-2.06 2.06-.94-2.06-.94-.94-2.06-.94 2.06-2.06.94zm-11 1L8.5 8.5l.94-2.06 2.06-.94-2.06-.94L8.5 2.5l-.94 2.06-2.06.94zm10 10l.94 2.06.94-2.06 2.06-.94-2.06-.94-.94-2.06-.94 2.06-2.06.94z\"/><path d=\"M17.41 7.96l-1.37-1.37c-.4-.4-.92-.59-1.43-.59-.52 0-1.04.2-1.43.59L10.3 9.45l-7.72 7.72c-.78.78-.78 2.05 0 2.83L4 21.41c.39.39.9.59 1.41.59.51 0 1.02-.2 1.41-.59l7.78-7.78 2.81-2.81c.8-.78.8-2.07 0-2.86zM5.41 20L4 18.59l7.72-7.72 1.47 1.35L5.41 20z\"/>\n",
              "  </svg>\n",
              "      </button>\n",
              "      \n",
              "  <style>\n",
              "    .colab-df-container {\n",
              "      display:flex;\n",
              "      flex-wrap:wrap;\n",
              "      gap: 12px;\n",
              "    }\n",
              "\n",
              "    .colab-df-convert {\n",
              "      background-color: #E8F0FE;\n",
              "      border: none;\n",
              "      border-radius: 50%;\n",
              "      cursor: pointer;\n",
              "      display: none;\n",
              "      fill: #1967D2;\n",
              "      height: 32px;\n",
              "      padding: 0 0 0 0;\n",
              "      width: 32px;\n",
              "    }\n",
              "\n",
              "    .colab-df-convert:hover {\n",
              "      background-color: #E2EBFA;\n",
              "      box-shadow: 0px 1px 2px rgba(60, 64, 67, 0.3), 0px 1px 3px 1px rgba(60, 64, 67, 0.15);\n",
              "      fill: #174EA6;\n",
              "    }\n",
              "\n",
              "    [theme=dark] .colab-df-convert {\n",
              "      background-color: #3B4455;\n",
              "      fill: #D2E3FC;\n",
              "    }\n",
              "\n",
              "    [theme=dark] .colab-df-convert:hover {\n",
              "      background-color: #434B5C;\n",
              "      box-shadow: 0px 1px 3px 1px rgba(0, 0, 0, 0.15);\n",
              "      filter: drop-shadow(0px 1px 2px rgba(0, 0, 0, 0.3));\n",
              "      fill: #FFFFFF;\n",
              "    }\n",
              "  </style>\n",
              "\n",
              "      <script>\n",
              "        const buttonEl =\n",
              "          document.querySelector('#df-e975fb78-55c7-45de-9f72-5256a1672fef button.colab-df-convert');\n",
              "        buttonEl.style.display =\n",
              "          google.colab.kernel.accessAllowed ? 'block' : 'none';\n",
              "\n",
              "        async function convertToInteractive(key) {\n",
              "          const element = document.querySelector('#df-e975fb78-55c7-45de-9f72-5256a1672fef');\n",
              "          const dataTable =\n",
              "            await google.colab.kernel.invokeFunction('convertToInteractive',\n",
              "                                                     [key], {});\n",
              "          if (!dataTable) return;\n",
              "\n",
              "          const docLinkHtml = 'Like what you see? Visit the ' +\n",
              "            '<a target=\"_blank\" href=https://colab.research.google.com/notebooks/data_table.ipynb>data table notebook</a>'\n",
              "            + ' to learn more about interactive tables.';\n",
              "          element.innerHTML = '';\n",
              "          dataTable['output_type'] = 'display_data';\n",
              "          await google.colab.output.renderOutput(dataTable, element);\n",
              "          const docLink = document.createElement('div');\n",
              "          docLink.innerHTML = docLinkHtml;\n",
              "          element.appendChild(docLink);\n",
              "        }\n",
              "      </script>\n",
              "    </div>\n",
              "  </div>\n",
              "  "
            ]
          },
          "metadata": {},
          "execution_count": 53
        }
      ],
      "source": [
        "# Create new dataset excluding missing values, and then load data sample\n",
        "data_clean = credit_scoring.dropna().reset_index(drop=True)\n",
        "data_clean.head()"
      ]
    },
    {
      "cell_type": "code",
      "execution_count": null,
      "metadata": {
        "colab": {
          "base_uri": "https://localhost:8080/"
        },
        "id": "1kFQkRoakuzR",
        "outputId": "aaa21033-67f0-4497-8529-282a1dd7dd75"
      },
      "outputs": [
        {
          "output_type": "stream",
          "name": "stdout",
          "text": [
            "<class 'pandas.core.frame.DataFrame'>\n",
            "RangeIndex: 15832 entries, 0 to 15831\n",
            "Data columns (total 13 columns):\n",
            " #   Column            Non-Null Count  Dtype  \n",
            "---  ------            --------------  -----  \n",
            " 0   children          15832 non-null  int64  \n",
            " 1   days_employed     15832 non-null  float64\n",
            " 2   dob_years         15832 non-null  int64  \n",
            " 3   education         15832 non-null  object \n",
            " 4   education_id      15832 non-null  int64  \n",
            " 5   family_status     15832 non-null  object \n",
            " 6   family_status_id  15832 non-null  int64  \n",
            " 7   gender            15832 non-null  object \n",
            " 8   income_type       15832 non-null  object \n",
            " 9   debt              15832 non-null  int64  \n",
            " 10  total_income      15832 non-null  float64\n",
            " 11  purpose           15832 non-null  object \n",
            " 12  dob_group         15832 non-null  object \n",
            "dtypes: float64(2), int64(5), object(6)\n",
            "memory usage: 1.6+ MB\n"
          ]
        }
      ],
      "source": [
        "# Load general info on the new clean dataset\n",
        "data_clean.info()"
      ]
    },
    {
      "cell_type": "code",
      "execution_count": null,
      "metadata": {
        "scrolled": true,
        "colab": {
          "base_uri": "https://localhost:8080/",
          "height": 206
        },
        "id": "WkELs3KzkuzR",
        "outputId": "228b75e2-af2d-4db5-d749-bb25ecbef2d7"
      },
      "outputs": [
        {
          "output_type": "execute_result",
          "data": {
            "text/plain": [
              "                     mean       median\n",
              "             total_income total_income\n",
              "dob_group                             \n",
              "adult        28330.324243   24565.6280\n",
              "elderly      30135.480741   25648.0425\n",
              "young_adult  25559.861636   22794.7330"
            ],
            "text/html": [
              "\n",
              "  <div id=\"df-4ef64438-2a8a-4cfe-9a4b-60b7ce97153c\">\n",
              "    <div class=\"colab-df-container\">\n",
              "      <div>\n",
              "<style scoped>\n",
              "    .dataframe tbody tr th:only-of-type {\n",
              "        vertical-align: middle;\n",
              "    }\n",
              "\n",
              "    .dataframe tbody tr th {\n",
              "        vertical-align: top;\n",
              "    }\n",
              "\n",
              "    .dataframe thead tr th {\n",
              "        text-align: left;\n",
              "    }\n",
              "\n",
              "    .dataframe thead tr:last-of-type th {\n",
              "        text-align: right;\n",
              "    }\n",
              "</style>\n",
              "<table border=\"1\" class=\"dataframe\">\n",
              "  <thead>\n",
              "    <tr>\n",
              "      <th></th>\n",
              "      <th>mean</th>\n",
              "      <th>median</th>\n",
              "    </tr>\n",
              "    <tr>\n",
              "      <th></th>\n",
              "      <th>total_income</th>\n",
              "      <th>total_income</th>\n",
              "    </tr>\n",
              "    <tr>\n",
              "      <th>dob_group</th>\n",
              "      <th></th>\n",
              "      <th></th>\n",
              "    </tr>\n",
              "  </thead>\n",
              "  <tbody>\n",
              "    <tr>\n",
              "      <th>adult</th>\n",
              "      <td>28330.324243</td>\n",
              "      <td>24565.6280</td>\n",
              "    </tr>\n",
              "    <tr>\n",
              "      <th>elderly</th>\n",
              "      <td>30135.480741</td>\n",
              "      <td>25648.0425</td>\n",
              "    </tr>\n",
              "    <tr>\n",
              "      <th>young_adult</th>\n",
              "      <td>25559.861636</td>\n",
              "      <td>22794.7330</td>\n",
              "    </tr>\n",
              "  </tbody>\n",
              "</table>\n",
              "</div>\n",
              "      <button class=\"colab-df-convert\" onclick=\"convertToInteractive('df-4ef64438-2a8a-4cfe-9a4b-60b7ce97153c')\"\n",
              "              title=\"Convert this dataframe to an interactive table.\"\n",
              "              style=\"display:none;\">\n",
              "        \n",
              "  <svg xmlns=\"http://www.w3.org/2000/svg\" height=\"24px\"viewBox=\"0 0 24 24\"\n",
              "       width=\"24px\">\n",
              "    <path d=\"M0 0h24v24H0V0z\" fill=\"none\"/>\n",
              "    <path d=\"M18.56 5.44l.94 2.06.94-2.06 2.06-.94-2.06-.94-.94-2.06-.94 2.06-2.06.94zm-11 1L8.5 8.5l.94-2.06 2.06-.94-2.06-.94L8.5 2.5l-.94 2.06-2.06.94zm10 10l.94 2.06.94-2.06 2.06-.94-2.06-.94-.94-2.06-.94 2.06-2.06.94z\"/><path d=\"M17.41 7.96l-1.37-1.37c-.4-.4-.92-.59-1.43-.59-.52 0-1.04.2-1.43.59L10.3 9.45l-7.72 7.72c-.78.78-.78 2.05 0 2.83L4 21.41c.39.39.9.59 1.41.59.51 0 1.02-.2 1.41-.59l7.78-7.78 2.81-2.81c.8-.78.8-2.07 0-2.86zM5.41 20L4 18.59l7.72-7.72 1.47 1.35L5.41 20z\"/>\n",
              "  </svg>\n",
              "      </button>\n",
              "      \n",
              "  <style>\n",
              "    .colab-df-container {\n",
              "      display:flex;\n",
              "      flex-wrap:wrap;\n",
              "      gap: 12px;\n",
              "    }\n",
              "\n",
              "    .colab-df-convert {\n",
              "      background-color: #E8F0FE;\n",
              "      border: none;\n",
              "      border-radius: 50%;\n",
              "      cursor: pointer;\n",
              "      display: none;\n",
              "      fill: #1967D2;\n",
              "      height: 32px;\n",
              "      padding: 0 0 0 0;\n",
              "      width: 32px;\n",
              "    }\n",
              "\n",
              "    .colab-df-convert:hover {\n",
              "      background-color: #E2EBFA;\n",
              "      box-shadow: 0px 1px 2px rgba(60, 64, 67, 0.3), 0px 1px 3px 1px rgba(60, 64, 67, 0.15);\n",
              "      fill: #174EA6;\n",
              "    }\n",
              "\n",
              "    [theme=dark] .colab-df-convert {\n",
              "      background-color: #3B4455;\n",
              "      fill: #D2E3FC;\n",
              "    }\n",
              "\n",
              "    [theme=dark] .colab-df-convert:hover {\n",
              "      background-color: #434B5C;\n",
              "      box-shadow: 0px 1px 3px 1px rgba(0, 0, 0, 0.15);\n",
              "      filter: drop-shadow(0px 1px 2px rgba(0, 0, 0, 0.3));\n",
              "      fill: #FFFFFF;\n",
              "    }\n",
              "  </style>\n",
              "\n",
              "      <script>\n",
              "        const buttonEl =\n",
              "          document.querySelector('#df-4ef64438-2a8a-4cfe-9a4b-60b7ce97153c button.colab-df-convert');\n",
              "        buttonEl.style.display =\n",
              "          google.colab.kernel.accessAllowed ? 'block' : 'none';\n",
              "\n",
              "        async function convertToInteractive(key) {\n",
              "          const element = document.querySelector('#df-4ef64438-2a8a-4cfe-9a4b-60b7ce97153c');\n",
              "          const dataTable =\n",
              "            await google.colab.kernel.invokeFunction('convertToInteractive',\n",
              "                                                     [key], {});\n",
              "          if (!dataTable) return;\n",
              "\n",
              "          const docLinkHtml = 'Like what you see? Visit the ' +\n",
              "            '<a target=\"_blank\" href=https://colab.research.google.com/notebooks/data_table.ipynb>data table notebook</a>'\n",
              "            + ' to learn more about interactive tables.';\n",
              "          element.innerHTML = '';\n",
              "          dataTable['output_type'] = 'display_data';\n",
              "          await google.colab.output.renderOutput(dataTable, element);\n",
              "          const docLink = document.createElement('div');\n",
              "          docLink.innerHTML = docLinkHtml;\n",
              "          element.appendChild(docLink);\n",
              "        }\n",
              "      </script>\n",
              "    </div>\n",
              "  </div>\n",
              "  "
            ]
          },
          "metadata": {},
          "execution_count": 55
        }
      ],
      "source": [
        "# Load mean and median of total_income based on dob_group\n",
        "data_clean.pivot_table(index = 'dob_group', values = 'total_income', aggfunc=['mean', 'median'])"
      ]
    },
    {
      "cell_type": "code",
      "execution_count": null,
      "metadata": {
        "scrolled": true,
        "colab": {
          "base_uri": "https://localhost:8080/",
          "height": 269
        },
        "id": "lM3VdsUdkuzS",
        "outputId": "088e921b-362e-4cd4-a18b-9d2108411e18"
      },
      "outputs": [
        {
          "output_type": "execute_result",
          "data": {
            "text/plain": [
              "                             mean       median\n",
              "                     total_income total_income\n",
              "education                                     \n",
              "bachelor's degree    33895.773014   28744.4340\n",
              "graduate degree      27772.929500   25161.5835\n",
              "primary education    22990.762982   20823.9590\n",
              "secondary education  25506.021789   22678.9820\n",
              "some college         29419.492013   26119.0075"
            ],
            "text/html": [
              "\n",
              "  <div id=\"df-af4bb6da-6486-487b-87e8-20394b9b46f7\">\n",
              "    <div class=\"colab-df-container\">\n",
              "      <div>\n",
              "<style scoped>\n",
              "    .dataframe tbody tr th:only-of-type {\n",
              "        vertical-align: middle;\n",
              "    }\n",
              "\n",
              "    .dataframe tbody tr th {\n",
              "        vertical-align: top;\n",
              "    }\n",
              "\n",
              "    .dataframe thead tr th {\n",
              "        text-align: left;\n",
              "    }\n",
              "\n",
              "    .dataframe thead tr:last-of-type th {\n",
              "        text-align: right;\n",
              "    }\n",
              "</style>\n",
              "<table border=\"1\" class=\"dataframe\">\n",
              "  <thead>\n",
              "    <tr>\n",
              "      <th></th>\n",
              "      <th>mean</th>\n",
              "      <th>median</th>\n",
              "    </tr>\n",
              "    <tr>\n",
              "      <th></th>\n",
              "      <th>total_income</th>\n",
              "      <th>total_income</th>\n",
              "    </tr>\n",
              "    <tr>\n",
              "      <th>education</th>\n",
              "      <th></th>\n",
              "      <th></th>\n",
              "    </tr>\n",
              "  </thead>\n",
              "  <tbody>\n",
              "    <tr>\n",
              "      <th>bachelor's degree</th>\n",
              "      <td>33895.773014</td>\n",
              "      <td>28744.4340</td>\n",
              "    </tr>\n",
              "    <tr>\n",
              "      <th>graduate degree</th>\n",
              "      <td>27772.929500</td>\n",
              "      <td>25161.5835</td>\n",
              "    </tr>\n",
              "    <tr>\n",
              "      <th>primary education</th>\n",
              "      <td>22990.762982</td>\n",
              "      <td>20823.9590</td>\n",
              "    </tr>\n",
              "    <tr>\n",
              "      <th>secondary education</th>\n",
              "      <td>25506.021789</td>\n",
              "      <td>22678.9820</td>\n",
              "    </tr>\n",
              "    <tr>\n",
              "      <th>some college</th>\n",
              "      <td>29419.492013</td>\n",
              "      <td>26119.0075</td>\n",
              "    </tr>\n",
              "  </tbody>\n",
              "</table>\n",
              "</div>\n",
              "      <button class=\"colab-df-convert\" onclick=\"convertToInteractive('df-af4bb6da-6486-487b-87e8-20394b9b46f7')\"\n",
              "              title=\"Convert this dataframe to an interactive table.\"\n",
              "              style=\"display:none;\">\n",
              "        \n",
              "  <svg xmlns=\"http://www.w3.org/2000/svg\" height=\"24px\"viewBox=\"0 0 24 24\"\n",
              "       width=\"24px\">\n",
              "    <path d=\"M0 0h24v24H0V0z\" fill=\"none\"/>\n",
              "    <path d=\"M18.56 5.44l.94 2.06.94-2.06 2.06-.94-2.06-.94-.94-2.06-.94 2.06-2.06.94zm-11 1L8.5 8.5l.94-2.06 2.06-.94-2.06-.94L8.5 2.5l-.94 2.06-2.06.94zm10 10l.94 2.06.94-2.06 2.06-.94-2.06-.94-.94-2.06-.94 2.06-2.06.94z\"/><path d=\"M17.41 7.96l-1.37-1.37c-.4-.4-.92-.59-1.43-.59-.52 0-1.04.2-1.43.59L10.3 9.45l-7.72 7.72c-.78.78-.78 2.05 0 2.83L4 21.41c.39.39.9.59 1.41.59.51 0 1.02-.2 1.41-.59l7.78-7.78 2.81-2.81c.8-.78.8-2.07 0-2.86zM5.41 20L4 18.59l7.72-7.72 1.47 1.35L5.41 20z\"/>\n",
              "  </svg>\n",
              "      </button>\n",
              "      \n",
              "  <style>\n",
              "    .colab-df-container {\n",
              "      display:flex;\n",
              "      flex-wrap:wrap;\n",
              "      gap: 12px;\n",
              "    }\n",
              "\n",
              "    .colab-df-convert {\n",
              "      background-color: #E8F0FE;\n",
              "      border: none;\n",
              "      border-radius: 50%;\n",
              "      cursor: pointer;\n",
              "      display: none;\n",
              "      fill: #1967D2;\n",
              "      height: 32px;\n",
              "      padding: 0 0 0 0;\n",
              "      width: 32px;\n",
              "    }\n",
              "\n",
              "    .colab-df-convert:hover {\n",
              "      background-color: #E2EBFA;\n",
              "      box-shadow: 0px 1px 2px rgba(60, 64, 67, 0.3), 0px 1px 3px 1px rgba(60, 64, 67, 0.15);\n",
              "      fill: #174EA6;\n",
              "    }\n",
              "\n",
              "    [theme=dark] .colab-df-convert {\n",
              "      background-color: #3B4455;\n",
              "      fill: #D2E3FC;\n",
              "    }\n",
              "\n",
              "    [theme=dark] .colab-df-convert:hover {\n",
              "      background-color: #434B5C;\n",
              "      box-shadow: 0px 1px 3px 1px rgba(0, 0, 0, 0.15);\n",
              "      filter: drop-shadow(0px 1px 2px rgba(0, 0, 0, 0.3));\n",
              "      fill: #FFFFFF;\n",
              "    }\n",
              "  </style>\n",
              "\n",
              "      <script>\n",
              "        const buttonEl =\n",
              "          document.querySelector('#df-af4bb6da-6486-487b-87e8-20394b9b46f7 button.colab-df-convert');\n",
              "        buttonEl.style.display =\n",
              "          google.colab.kernel.accessAllowed ? 'block' : 'none';\n",
              "\n",
              "        async function convertToInteractive(key) {\n",
              "          const element = document.querySelector('#df-af4bb6da-6486-487b-87e8-20394b9b46f7');\n",
              "          const dataTable =\n",
              "            await google.colab.kernel.invokeFunction('convertToInteractive',\n",
              "                                                     [key], {});\n",
              "          if (!dataTable) return;\n",
              "\n",
              "          const docLinkHtml = 'Like what you see? Visit the ' +\n",
              "            '<a target=\"_blank\" href=https://colab.research.google.com/notebooks/data_table.ipynb>data table notebook</a>'\n",
              "            + ' to learn more about interactive tables.';\n",
              "          element.innerHTML = '';\n",
              "          dataTable['output_type'] = 'display_data';\n",
              "          await google.colab.output.renderOutput(dataTable, element);\n",
              "          const docLink = document.createElement('div');\n",
              "          docLink.innerHTML = docLinkHtml;\n",
              "          element.appendChild(docLink);\n",
              "        }\n",
              "      </script>\n",
              "    </div>\n",
              "  </div>\n",
              "  "
            ]
          },
          "metadata": {},
          "execution_count": 56
        }
      ],
      "source": [
        "# Load mean and median of total_income based on education\n",
        "data_clean.pivot_table(index = 'education', values = 'total_income', aggfunc=['mean', 'median'])"
      ]
    },
    {
      "cell_type": "code",
      "source": [
        "# Load mean and median of total_income based on income_type\n",
        "data_clean.pivot_table(index = 'income_type', values = 'total_income', aggfunc=['mean', 'median'])"
      ],
      "metadata": {
        "colab": {
          "base_uri": "https://localhost:8080/",
          "height": 238
        },
        "id": "fkjesmZPxaw4",
        "outputId": "7ff9e9f2-cfb9-4a95-9a47-4a11eeabea6c"
      },
      "execution_count": null,
      "outputs": [
        {
          "output_type": "execute_result",
          "data": {
            "text/plain": [
              "                       mean       median\n",
              "               total_income total_income\n",
              "income_type                             \n",
              "business       32407.766937   27571.0825\n",
              "civil servant  27361.316126   24083.5065\n",
              "employee       25822.952345   22814.0140\n",
              "unemployed     15712.260000   15712.2600"
            ],
            "text/html": [
              "\n",
              "  <div id=\"df-2270d190-e1c9-49b7-adad-2c090397fee7\">\n",
              "    <div class=\"colab-df-container\">\n",
              "      <div>\n",
              "<style scoped>\n",
              "    .dataframe tbody tr th:only-of-type {\n",
              "        vertical-align: middle;\n",
              "    }\n",
              "\n",
              "    .dataframe tbody tr th {\n",
              "        vertical-align: top;\n",
              "    }\n",
              "\n",
              "    .dataframe thead tr th {\n",
              "        text-align: left;\n",
              "    }\n",
              "\n",
              "    .dataframe thead tr:last-of-type th {\n",
              "        text-align: right;\n",
              "    }\n",
              "</style>\n",
              "<table border=\"1\" class=\"dataframe\">\n",
              "  <thead>\n",
              "    <tr>\n",
              "      <th></th>\n",
              "      <th>mean</th>\n",
              "      <th>median</th>\n",
              "    </tr>\n",
              "    <tr>\n",
              "      <th></th>\n",
              "      <th>total_income</th>\n",
              "      <th>total_income</th>\n",
              "    </tr>\n",
              "    <tr>\n",
              "      <th>income_type</th>\n",
              "      <th></th>\n",
              "      <th></th>\n",
              "    </tr>\n",
              "  </thead>\n",
              "  <tbody>\n",
              "    <tr>\n",
              "      <th>business</th>\n",
              "      <td>32407.766937</td>\n",
              "      <td>27571.0825</td>\n",
              "    </tr>\n",
              "    <tr>\n",
              "      <th>civil servant</th>\n",
              "      <td>27361.316126</td>\n",
              "      <td>24083.5065</td>\n",
              "    </tr>\n",
              "    <tr>\n",
              "      <th>employee</th>\n",
              "      <td>25822.952345</td>\n",
              "      <td>22814.0140</td>\n",
              "    </tr>\n",
              "    <tr>\n",
              "      <th>unemployed</th>\n",
              "      <td>15712.260000</td>\n",
              "      <td>15712.2600</td>\n",
              "    </tr>\n",
              "  </tbody>\n",
              "</table>\n",
              "</div>\n",
              "      <button class=\"colab-df-convert\" onclick=\"convertToInteractive('df-2270d190-e1c9-49b7-adad-2c090397fee7')\"\n",
              "              title=\"Convert this dataframe to an interactive table.\"\n",
              "              style=\"display:none;\">\n",
              "        \n",
              "  <svg xmlns=\"http://www.w3.org/2000/svg\" height=\"24px\"viewBox=\"0 0 24 24\"\n",
              "       width=\"24px\">\n",
              "    <path d=\"M0 0h24v24H0V0z\" fill=\"none\"/>\n",
              "    <path d=\"M18.56 5.44l.94 2.06.94-2.06 2.06-.94-2.06-.94-.94-2.06-.94 2.06-2.06.94zm-11 1L8.5 8.5l.94-2.06 2.06-.94-2.06-.94L8.5 2.5l-.94 2.06-2.06.94zm10 10l.94 2.06.94-2.06 2.06-.94-2.06-.94-.94-2.06-.94 2.06-2.06.94z\"/><path d=\"M17.41 7.96l-1.37-1.37c-.4-.4-.92-.59-1.43-.59-.52 0-1.04.2-1.43.59L10.3 9.45l-7.72 7.72c-.78.78-.78 2.05 0 2.83L4 21.41c.39.39.9.59 1.41.59.51 0 1.02-.2 1.41-.59l7.78-7.78 2.81-2.81c.8-.78.8-2.07 0-2.86zM5.41 20L4 18.59l7.72-7.72 1.47 1.35L5.41 20z\"/>\n",
              "  </svg>\n",
              "      </button>\n",
              "      \n",
              "  <style>\n",
              "    .colab-df-container {\n",
              "      display:flex;\n",
              "      flex-wrap:wrap;\n",
              "      gap: 12px;\n",
              "    }\n",
              "\n",
              "    .colab-df-convert {\n",
              "      background-color: #E8F0FE;\n",
              "      border: none;\n",
              "      border-radius: 50%;\n",
              "      cursor: pointer;\n",
              "      display: none;\n",
              "      fill: #1967D2;\n",
              "      height: 32px;\n",
              "      padding: 0 0 0 0;\n",
              "      width: 32px;\n",
              "    }\n",
              "\n",
              "    .colab-df-convert:hover {\n",
              "      background-color: #E2EBFA;\n",
              "      box-shadow: 0px 1px 2px rgba(60, 64, 67, 0.3), 0px 1px 3px 1px rgba(60, 64, 67, 0.15);\n",
              "      fill: #174EA6;\n",
              "    }\n",
              "\n",
              "    [theme=dark] .colab-df-convert {\n",
              "      background-color: #3B4455;\n",
              "      fill: #D2E3FC;\n",
              "    }\n",
              "\n",
              "    [theme=dark] .colab-df-convert:hover {\n",
              "      background-color: #434B5C;\n",
              "      box-shadow: 0px 1px 3px 1px rgba(0, 0, 0, 0.15);\n",
              "      filter: drop-shadow(0px 1px 2px rgba(0, 0, 0, 0.3));\n",
              "      fill: #FFFFFF;\n",
              "    }\n",
              "  </style>\n",
              "\n",
              "      <script>\n",
              "        const buttonEl =\n",
              "          document.querySelector('#df-2270d190-e1c9-49b7-adad-2c090397fee7 button.colab-df-convert');\n",
              "        buttonEl.style.display =\n",
              "          google.colab.kernel.accessAllowed ? 'block' : 'none';\n",
              "\n",
              "        async function convertToInteractive(key) {\n",
              "          const element = document.querySelector('#df-2270d190-e1c9-49b7-adad-2c090397fee7');\n",
              "          const dataTable =\n",
              "            await google.colab.kernel.invokeFunction('convertToInteractive',\n",
              "                                                     [key], {});\n",
              "          if (!dataTable) return;\n",
              "\n",
              "          const docLinkHtml = 'Like what you see? Visit the ' +\n",
              "            '<a target=\"_blank\" href=https://colab.research.google.com/notebooks/data_table.ipynb>data table notebook</a>'\n",
              "            + ' to learn more about interactive tables.';\n",
              "          element.innerHTML = '';\n",
              "          dataTable['output_type'] = 'display_data';\n",
              "          await google.colab.output.renderOutput(dataTable, element);\n",
              "          const docLink = document.createElement('div');\n",
              "          docLink.innerHTML = docLinkHtml;\n",
              "          element.appendChild(docLink);\n",
              "        }\n",
              "      </script>\n",
              "    </div>\n",
              "  </div>\n",
              "  "
            ]
          },
          "metadata": {},
          "execution_count": 57
        }
      ]
    },
    {
      "cell_type": "code",
      "execution_count": null,
      "metadata": {
        "colab": {
          "base_uri": "https://localhost:8080/",
          "height": 354
        },
        "id": "Wr2M8tTtkuzU",
        "outputId": "3255df5b-9a30-4de8-d998-bb7524bd2661"
      },
      "outputs": [
        {
          "output_type": "stream",
          "name": "stderr",
          "text": [
            "/usr/local/lib/python3.8/dist-packages/seaborn/_decorators.py:36: FutureWarning: Pass the following variable as a keyword arg: x. From version 0.12, the only valid positional argument will be `data`, and passing other arguments without an explicit keyword will result in an error or misinterpretation.\n",
            "  warnings.warn(\n"
          ]
        },
        {
          "output_type": "execute_result",
          "data": {
            "text/plain": [
              "<matplotlib.axes._subplots.AxesSubplot at 0x7f64812c7160>"
            ]
          },
          "metadata": {},
          "execution_count": 58
        },
        {
          "output_type": "display_data",
          "data": {
            "text/plain": [
              "<Figure size 432x288 with 1 Axes>"
            ],
            "image/png": "[encoded data removed]"
          },
          "metadata": {
            "needs_background": "light"
          }
        }
      ],
      "source": [
        "# Check for outliers\n",
        "\n",
        "sns.boxplot(data_clean['total_income'])"
      ]
    },
    {
      "cell_type": "markdown",
      "metadata": {
        "id": "MGEnHeaZkuzU"
      },
      "source": [
        "The original data has a median total_income of 23,202 and a mean of 26,787. The highest income is 36,249 and the lowest is 3,306.\n",
        "\n",
        "Just like the median and mean of the clean dataset, it appears that they differ significantly. Since the data contains many outliers, its median is a better representative of typical value. So the median will be used to fill in the missing values.\n",
        "\n",
        "The most related factors to income are age group and type of income. Therefore the median that is based on thse two columns will be used."
      ]
    },
    {
      "cell_type": "code",
      "execution_count": null,
      "metadata": {
        "scrolled": true,
        "colab": {
          "base_uri": "https://localhost:8080/",
          "height": 363
        },
        "id": "Hg38Ny0lkuzU",
        "outputId": "dc8e2e98-2f43-4b5b-db6d-b6ef78fac4ae"
      },
      "outputs": [
        {
          "output_type": "execute_result",
          "data": {
            "text/plain": [
              "     dob_group    income_type  total_income\n",
              "0        adult       business    28372.6700\n",
              "1        adult  civil servant    24137.1830\n",
              "2        adult       employee    23054.3295\n",
              "3      elderly       business    29127.8650\n",
              "4      elderly  civil servant    26089.6870\n",
              "5      elderly       employee    24643.1985\n",
              "6  young_adult       business    25599.1250\n",
              "7  young_adult  civil servant    23504.5105\n",
              "8  young_adult       employee    21537.4790\n",
              "9  young_adult     unemployed    15712.2600"
            ],
            "text/html": [
              "\n",
              "  <div id=\"df-dfcad09e-1f56-4c68-b451-e26c3b21e23c\">\n",
              "    <div class=\"colab-df-container\">\n",
              "      <div>\n",
              "<style scoped>\n",
              "    .dataframe tbody tr th:only-of-type {\n",
              "        vertical-align: middle;\n",
              "    }\n",
              "\n",
              "    .dataframe tbody tr th {\n",
              "        vertical-align: top;\n",
              "    }\n",
              "\n",
              "    .dataframe thead th {\n",
              "        text-align: right;\n",
              "    }\n",
              "</style>\n",
              "<table border=\"1\" class=\"dataframe\">\n",
              "  <thead>\n",
              "    <tr style=\"text-align: right;\">\n",
              "      <th></th>\n",
              "      <th>dob_group</th>\n",
              "      <th>income_type</th>\n",
              "      <th>total_income</th>\n",
              "    </tr>\n",
              "  </thead>\n",
              "  <tbody>\n",
              "    <tr>\n",
              "      <th>0</th>\n",
              "      <td>adult</td>\n",
              "      <td>business</td>\n",
              "      <td>28372.6700</td>\n",
              "    </tr>\n",
              "    <tr>\n",
              "      <th>1</th>\n",
              "      <td>adult</td>\n",
              "      <td>civil servant</td>\n",
              "      <td>24137.1830</td>\n",
              "    </tr>\n",
              "    <tr>\n",
              "      <th>2</th>\n",
              "      <td>adult</td>\n",
              "      <td>employee</td>\n",
              "      <td>23054.3295</td>\n",
              "    </tr>\n",
              "    <tr>\n",
              "      <th>3</th>\n",
              "      <td>elderly</td>\n",
              "      <td>business</td>\n",
              "      <td>29127.8650</td>\n",
              "    </tr>\n",
              "    <tr>\n",
              "      <th>4</th>\n",
              "      <td>elderly</td>\n",
              "      <td>civil servant</td>\n",
              "      <td>26089.6870</td>\n",
              "    </tr>\n",
              "    <tr>\n",
              "      <th>5</th>\n",
              "      <td>elderly</td>\n",
              "      <td>employee</td>\n",
              "      <td>24643.1985</td>\n",
              "    </tr>\n",
              "    <tr>\n",
              "      <th>6</th>\n",
              "      <td>young_adult</td>\n",
              "      <td>business</td>\n",
              "      <td>25599.1250</td>\n",
              "    </tr>\n",
              "    <tr>\n",
              "      <th>7</th>\n",
              "      <td>young_adult</td>\n",
              "      <td>civil servant</td>\n",
              "      <td>23504.5105</td>\n",
              "    </tr>\n",
              "    <tr>\n",
              "      <th>8</th>\n",
              "      <td>young_adult</td>\n",
              "      <td>employee</td>\n",
              "      <td>21537.4790</td>\n",
              "    </tr>\n",
              "    <tr>\n",
              "      <th>9</th>\n",
              "      <td>young_adult</td>\n",
              "      <td>unemployed</td>\n",
              "      <td>15712.2600</td>\n",
              "    </tr>\n",
              "  </tbody>\n",
              "</table>\n",
              "</div>\n",
              "      <button class=\"colab-df-convert\" onclick=\"convertToInteractive('df-dfcad09e-1f56-4c68-b451-e26c3b21e23c')\"\n",
              "              title=\"Convert this dataframe to an interactive table.\"\n",
              "              style=\"display:none;\">\n",
              "        \n",
              "  <svg xmlns=\"http://www.w3.org/2000/svg\" height=\"24px\"viewBox=\"0 0 24 24\"\n",
              "       width=\"24px\">\n",
              "    <path d=\"M0 0h24v24H0V0z\" fill=\"none\"/>\n",
              "    <path d=\"M18.56 5.44l.94 2.06.94-2.06 2.06-.94-2.06-.94-.94-2.06-.94 2.06-2.06.94zm-11 1L8.5 8.5l.94-2.06 2.06-.94-2.06-.94L8.5 2.5l-.94 2.06-2.06.94zm10 10l.94 2.06.94-2.06 2.06-.94-2.06-.94-.94-2.06-.94 2.06-2.06.94z\"/><path d=\"M17.41 7.96l-1.37-1.37c-.4-.4-.92-.59-1.43-.59-.52 0-1.04.2-1.43.59L10.3 9.45l-7.72 7.72c-.78.78-.78 2.05 0 2.83L4 21.41c.39.39.9.59 1.41.59.51 0 1.02-.2 1.41-.59l7.78-7.78 2.81-2.81c.8-.78.8-2.07 0-2.86zM5.41 20L4 18.59l7.72-7.72 1.47 1.35L5.41 20z\"/>\n",
              "  </svg>\n",
              "      </button>\n",
              "      \n",
              "  <style>\n",
              "    .colab-df-container {\n",
              "      display:flex;\n",
              "      flex-wrap:wrap;\n",
              "      gap: 12px;\n",
              "    }\n",
              "\n",
              "    .colab-df-convert {\n",
              "      background-color: #E8F0FE;\n",
              "      border: none;\n",
              "      border-radius: 50%;\n",
              "      cursor: pointer;\n",
              "      display: none;\n",
              "      fill: #1967D2;\n",
              "      height: 32px;\n",
              "      padding: 0 0 0 0;\n",
              "      width: 32px;\n",
              "    }\n",
              "\n",
              "    .colab-df-convert:hover {\n",
              "      background-color: #E2EBFA;\n",
              "      box-shadow: 0px 1px 2px rgba(60, 64, 67, 0.3), 0px 1px 3px 1px rgba(60, 64, 67, 0.15);\n",
              "      fill: #174EA6;\n",
              "    }\n",
              "\n",
              "    [theme=dark] .colab-df-convert {\n",
              "      background-color: #3B4455;\n",
              "      fill: #D2E3FC;\n",
              "    }\n",
              "\n",
              "    [theme=dark] .colab-df-convert:hover {\n",
              "      background-color: #434B5C;\n",
              "      box-shadow: 0px 1px 3px 1px rgba(0, 0, 0, 0.15);\n",
              "      filter: drop-shadow(0px 1px 2px rgba(0, 0, 0, 0.3));\n",
              "      fill: #FFFFFF;\n",
              "    }\n",
              "  </style>\n",
              "\n",
              "      <script>\n",
              "        const buttonEl =\n",
              "          document.querySelector('#df-dfcad09e-1f56-4c68-b451-e26c3b21e23c button.colab-df-convert');\n",
              "        buttonEl.style.display =\n",
              "          google.colab.kernel.accessAllowed ? 'block' : 'none';\n",
              "\n",
              "        async function convertToInteractive(key) {\n",
              "          const element = document.querySelector('#df-dfcad09e-1f56-4c68-b451-e26c3b21e23c');\n",
              "          const dataTable =\n",
              "            await google.colab.kernel.invokeFunction('convertToInteractive',\n",
              "                                                     [key], {});\n",
              "          if (!dataTable) return;\n",
              "\n",
              "          const docLinkHtml = 'Like what you see? Visit the ' +\n",
              "            '<a target=\"_blank\" href=https://colab.research.google.com/notebooks/data_table.ipynb>data table notebook</a>'\n",
              "            + ' to learn more about interactive tables.';\n",
              "          element.innerHTML = '';\n",
              "          dataTable['output_type'] = 'display_data';\n",
              "          await google.colab.output.renderOutput(dataTable, element);\n",
              "          const docLink = document.createElement('div');\n",
              "          docLink.innerHTML = docLinkHtml;\n",
              "          element.appendChild(docLink);\n",
              "        }\n",
              "      </script>\n",
              "    </div>\n",
              "  </div>\n",
              "  "
            ]
          },
          "metadata": {},
          "execution_count": 59
        }
      ],
      "source": [
        "# Load median of total_income based on dob_group and income_type\n",
        "data_clean.groupby(['dob_group', 'income_type'])['total_income'].median().reset_index()"
      ]
    },
    {
      "cell_type": "code",
      "execution_count": null,
      "metadata": {
        "id": "v9CdjfYzkuzV"
      },
      "outputs": [],
      "source": [
        "#  Define function to fill in missing values\n",
        "def fill_na(df, agg_column_1, agg_column_2, value_column):\n",
        "    grouped_values = df.groupby([agg_column_1, agg_column_2])[value_column].median().reset_index()\n",
        "    size = len(grouped_values)\n",
        "    for n in range(size):\n",
        "        group1 = grouped_values[agg_column_1][n]\n",
        "        group2 = grouped_values[agg_column_2][n]\n",
        "        value = grouped_values[value_column][n]\n",
        "        df.loc[(df[agg_column_1]==group1) & (df[agg_column_2]==group2) & (df[value_column].isna()), value_column] = value\n",
        "    return df"
      ]
    },
    {
      "cell_type": "code",
      "execution_count": null,
      "metadata": {
        "id": "dq4eN5B0kuzV"
      },
      "outputs": [],
      "source": [
        "# Apply function to create new dataset with filled-in missing values\n",
        "credit_scoring = fill_na(df=credit_scoring, \n",
        "                         agg_column_1='dob_group', \n",
        "                         agg_column_2='income_type', \n",
        "                         value_column='total_income')"
      ]
    },
    {
      "cell_type": "code",
      "execution_count": null,
      "metadata": {
        "scrolled": true,
        "colab": {
          "base_uri": "https://localhost:8080/"
        },
        "id": "7lR6zZfwkuzX",
        "outputId": "d7568172-ed0c-47e6-d0e1-775ee593d261"
      },
      "outputs": [
        {
          "output_type": "stream",
          "name": "stdout",
          "text": [
            "<class 'pandas.core.frame.DataFrame'>\n",
            "RangeIndex: 17925 entries, 0 to 17924\n",
            "Data columns (total 13 columns):\n",
            " #   Column            Non-Null Count  Dtype  \n",
            "---  ------            --------------  -----  \n",
            " 0   children          17925 non-null  int64  \n",
            " 1   days_employed     15832 non-null  float64\n",
            " 2   dob_years         17925 non-null  int64  \n",
            " 3   education         17925 non-null  object \n",
            " 4   education_id      17925 non-null  int64  \n",
            " 5   family_status     17925 non-null  object \n",
            " 6   family_status_id  17925 non-null  int64  \n",
            " 7   gender            17925 non-null  object \n",
            " 8   income_type       17925 non-null  object \n",
            " 9   debt              17925 non-null  int64  \n",
            " 10  total_income      17542 non-null  float64\n",
            " 11  purpose           17925 non-null  object \n",
            " 12  dob_group         17925 non-null  object \n",
            "dtypes: float64(2), int64(5), object(6)\n",
            "memory usage: 1.8+ MB\n"
          ]
        }
      ],
      "source": [
        "# Load general info of the dataset\n",
        "credit_scoring.info()"
      ]
    },
    {
      "cell_type": "markdown",
      "metadata": {
        "id": "vRjFi1GGkuzY"
      },
      "source": [
        "###  Handle missing values in `days_employed`"
      ]
    },
    {
      "cell_type": "markdown",
      "metadata": {
        "id": "14mXSqabkuzY"
      },
      "source": [
        "From the available observed data, factors that usually relate to a person's days working are:\n",
        "1. Age\n",
        "2. Education level\n",
        "\n",
        "In the next steps, the typical data (mean or median) of days_employed that are based on those 2 factors will be inferred."
      ]
    },
    {
      "cell_type": "code",
      "execution_count": null,
      "metadata": {
        "pycharm": {
          "name": "#%%\n"
        },
        "colab": {
          "base_uri": "https://localhost:8080/",
          "height": 175
        },
        "id": "GhZuFaB7kuzZ",
        "outputId": "ac6fa7d9-49ef-4724-e8b9-4fd4f86f58f0"
      },
      "outputs": [
        {
          "output_type": "execute_result",
          "data": {
            "text/plain": [
              "                  median         mean\n",
              "dob_group                            \n",
              "adult        1874.546554  2589.399590\n",
              "elderly      2579.458493  4020.774858\n",
              "young_adult   996.761544  1209.928267"
            ],
            "text/html": [
              "\n",
              "  <div id=\"df-9b647738-c159-4950-bfb0-b44026ea9c85\">\n",
              "    <div class=\"colab-df-container\">\n",
              "      <div>\n",
              "<style scoped>\n",
              "    .dataframe tbody tr th:only-of-type {\n",
              "        vertical-align: middle;\n",
              "    }\n",
              "\n",
              "    .dataframe tbody tr th {\n",
              "        vertical-align: top;\n",
              "    }\n",
              "\n",
              "    .dataframe thead th {\n",
              "        text-align: right;\n",
              "    }\n",
              "</style>\n",
              "<table border=\"1\" class=\"dataframe\">\n",
              "  <thead>\n",
              "    <tr style=\"text-align: right;\">\n",
              "      <th></th>\n",
              "      <th>median</th>\n",
              "      <th>mean</th>\n",
              "    </tr>\n",
              "    <tr>\n",
              "      <th>dob_group</th>\n",
              "      <th></th>\n",
              "      <th></th>\n",
              "    </tr>\n",
              "  </thead>\n",
              "  <tbody>\n",
              "    <tr>\n",
              "      <th>adult</th>\n",
              "      <td>1874.546554</td>\n",
              "      <td>2589.399590</td>\n",
              "    </tr>\n",
              "    <tr>\n",
              "      <th>elderly</th>\n",
              "      <td>2579.458493</td>\n",
              "      <td>4020.774858</td>\n",
              "    </tr>\n",
              "    <tr>\n",
              "      <th>young_adult</th>\n",
              "      <td>996.761544</td>\n",
              "      <td>1209.928267</td>\n",
              "    </tr>\n",
              "  </tbody>\n",
              "</table>\n",
              "</div>\n",
              "      <button class=\"colab-df-convert\" onclick=\"convertToInteractive('df-9b647738-c159-4950-bfb0-b44026ea9c85')\"\n",
              "              title=\"Convert this dataframe to an interactive table.\"\n",
              "              style=\"display:none;\">\n",
              "        \n",
              "  <svg xmlns=\"http://www.w3.org/2000/svg\" height=\"24px\"viewBox=\"0 0 24 24\"\n",
              "       width=\"24px\">\n",
              "    <path d=\"M0 0h24v24H0V0z\" fill=\"none\"/>\n",
              "    <path d=\"M18.56 5.44l.94 2.06.94-2.06 2.06-.94-2.06-.94-.94-2.06-.94 2.06-2.06.94zm-11 1L8.5 8.5l.94-2.06 2.06-.94-2.06-.94L8.5 2.5l-.94 2.06-2.06.94zm10 10l.94 2.06.94-2.06 2.06-.94-2.06-.94-.94-2.06-.94 2.06-2.06.94z\"/><path d=\"M17.41 7.96l-1.37-1.37c-.4-.4-.92-.59-1.43-.59-.52 0-1.04.2-1.43.59L10.3 9.45l-7.72 7.72c-.78.78-.78 2.05 0 2.83L4 21.41c.39.39.9.59 1.41.59.51 0 1.02-.2 1.41-.59l7.78-7.78 2.81-2.81c.8-.78.8-2.07 0-2.86zM5.41 20L4 18.59l7.72-7.72 1.47 1.35L5.41 20z\"/>\n",
              "  </svg>\n",
              "      </button>\n",
              "      \n",
              "  <style>\n",
              "    .colab-df-container {\n",
              "      display:flex;\n",
              "      flex-wrap:wrap;\n",
              "      gap: 12px;\n",
              "    }\n",
              "\n",
              "    .colab-df-convert {\n",
              "      background-color: #E8F0FE;\n",
              "      border: none;\n",
              "      border-radius: 50%;\n",
              "      cursor: pointer;\n",
              "      display: none;\n",
              "      fill: #1967D2;\n",
              "      height: 32px;\n",
              "      padding: 0 0 0 0;\n",
              "      width: 32px;\n",
              "    }\n",
              "\n",
              "    .colab-df-convert:hover {\n",
              "      background-color: #E2EBFA;\n",
              "      box-shadow: 0px 1px 2px rgba(60, 64, 67, 0.3), 0px 1px 3px 1px rgba(60, 64, 67, 0.15);\n",
              "      fill: #174EA6;\n",
              "    }\n",
              "\n",
              "    [theme=dark] .colab-df-convert {\n",
              "      background-color: #3B4455;\n",
              "      fill: #D2E3FC;\n",
              "    }\n",
              "\n",
              "    [theme=dark] .colab-df-convert:hover {\n",
              "      background-color: #434B5C;\n",
              "      box-shadow: 0px 1px 3px 1px rgba(0, 0, 0, 0.15);\n",
              "      filter: drop-shadow(0px 1px 2px rgba(0, 0, 0, 0.3));\n",
              "      fill: #FFFFFF;\n",
              "    }\n",
              "  </style>\n",
              "\n",
              "      <script>\n",
              "        const buttonEl =\n",
              "          document.querySelector('#df-9b647738-c159-4950-bfb0-b44026ea9c85 button.colab-df-convert');\n",
              "        buttonEl.style.display =\n",
              "          google.colab.kernel.accessAllowed ? 'block' : 'none';\n",
              "\n",
              "        async function convertToInteractive(key) {\n",
              "          const element = document.querySelector('#df-9b647738-c159-4950-bfb0-b44026ea9c85');\n",
              "          const dataTable =\n",
              "            await google.colab.kernel.invokeFunction('convertToInteractive',\n",
              "                                                     [key], {});\n",
              "          if (!dataTable) return;\n",
              "\n",
              "          const docLinkHtml = 'Like what you see? Visit the ' +\n",
              "            '<a target=\"_blank\" href=https://colab.research.google.com/notebooks/data_table.ipynb>data table notebook</a>'\n",
              "            + ' to learn more about interactive tables.';\n",
              "          element.innerHTML = '';\n",
              "          dataTable['output_type'] = 'display_data';\n",
              "          await google.colab.output.renderOutput(dataTable, element);\n",
              "          const docLink = document.createElement('div');\n",
              "          docLink.innerHTML = docLinkHtml;\n",
              "          element.appendChild(docLink);\n",
              "        }\n",
              "      </script>\n",
              "    </div>\n",
              "  </div>\n",
              "  "
            ]
          },
          "metadata": {},
          "execution_count": 63
        }
      ],
      "source": [
        "# Load median and mean in days_employed based on dob_group\n",
        "data_clean.groupby('dob_group')['days_employed'].agg(['median', 'mean'])\n"
      ]
    },
    {
      "cell_type": "code",
      "execution_count": null,
      "metadata": {
        "pycharm": {
          "name": "#%%\n"
        },
        "colab": {
          "base_uri": "https://localhost:8080/",
          "height": 238
        },
        "id": "8IYiXIG1kuza",
        "outputId": "6babb0ed-12ad-4324-bb42-90d695dd4493"
      },
      "outputs": [
        {
          "output_type": "execute_result",
          "data": {
            "text/plain": [
              "                          median         mean\n",
              "education                                    \n",
              "bachelor's degree    1611.056758  2277.650856\n",
              "graduate degree      3851.735057  3520.186537\n",
              "primary education    1189.581396  1940.672957\n",
              "secondary education  1686.419677  2435.122216\n",
              "some college         1151.756703  1567.252403"
            ],
            "text/html": [
              "\n",
              "  <div id=\"df-35a27f85-03d8-4516-91cf-7c2f4d961107\">\n",
              "    <div class=\"colab-df-container\">\n",
              "      <div>\n",
              "<style scoped>\n",
              "    .dataframe tbody tr th:only-of-type {\n",
              "        vertical-align: middle;\n",
              "    }\n",
              "\n",
              "    .dataframe tbody tr th {\n",
              "        vertical-align: top;\n",
              "    }\n",
              "\n",
              "    .dataframe thead th {\n",
              "        text-align: right;\n",
              "    }\n",
              "</style>\n",
              "<table border=\"1\" class=\"dataframe\">\n",
              "  <thead>\n",
              "    <tr style=\"text-align: right;\">\n",
              "      <th></th>\n",
              "      <th>median</th>\n",
              "      <th>mean</th>\n",
              "    </tr>\n",
              "    <tr>\n",
              "      <th>education</th>\n",
              "      <th></th>\n",
              "      <th></th>\n",
              "    </tr>\n",
              "  </thead>\n",
              "  <tbody>\n",
              "    <tr>\n",
              "      <th>bachelor's degree</th>\n",
              "      <td>1611.056758</td>\n",
              "      <td>2277.650856</td>\n",
              "    </tr>\n",
              "    <tr>\n",
              "      <th>graduate degree</th>\n",
              "      <td>3851.735057</td>\n",
              "      <td>3520.186537</td>\n",
              "    </tr>\n",
              "    <tr>\n",
              "      <th>primary education</th>\n",
              "      <td>1189.581396</td>\n",
              "      <td>1940.672957</td>\n",
              "    </tr>\n",
              "    <tr>\n",
              "      <th>secondary education</th>\n",
              "      <td>1686.419677</td>\n",
              "      <td>2435.122216</td>\n",
              "    </tr>\n",
              "    <tr>\n",
              "      <th>some college</th>\n",
              "      <td>1151.756703</td>\n",
              "      <td>1567.252403</td>\n",
              "    </tr>\n",
              "  </tbody>\n",
              "</table>\n",
              "</div>\n",
              "      <button class=\"colab-df-convert\" onclick=\"convertToInteractive('df-35a27f85-03d8-4516-91cf-7c2f4d961107')\"\n",
              "              title=\"Convert this dataframe to an interactive table.\"\n",
              "              style=\"display:none;\">\n",
              "        \n",
              "  <svg xmlns=\"http://www.w3.org/2000/svg\" height=\"24px\"viewBox=\"0 0 24 24\"\n",
              "       width=\"24px\">\n",
              "    <path d=\"M0 0h24v24H0V0z\" fill=\"none\"/>\n",
              "    <path d=\"M18.56 5.44l.94 2.06.94-2.06 2.06-.94-2.06-.94-.94-2.06-.94 2.06-2.06.94zm-11 1L8.5 8.5l.94-2.06 2.06-.94-2.06-.94L8.5 2.5l-.94 2.06-2.06.94zm10 10l.94 2.06.94-2.06 2.06-.94-2.06-.94-.94-2.06-.94 2.06-2.06.94z\"/><path d=\"M17.41 7.96l-1.37-1.37c-.4-.4-.92-.59-1.43-.59-.52 0-1.04.2-1.43.59L10.3 9.45l-7.72 7.72c-.78.78-.78 2.05 0 2.83L4 21.41c.39.39.9.59 1.41.59.51 0 1.02-.2 1.41-.59l7.78-7.78 2.81-2.81c.8-.78.8-2.07 0-2.86zM5.41 20L4 18.59l7.72-7.72 1.47 1.35L5.41 20z\"/>\n",
              "  </svg>\n",
              "      </button>\n",
              "      \n",
              "  <style>\n",
              "    .colab-df-container {\n",
              "      display:flex;\n",
              "      flex-wrap:wrap;\n",
              "      gap: 12px;\n",
              "    }\n",
              "\n",
              "    .colab-df-convert {\n",
              "      background-color: #E8F0FE;\n",
              "      border: none;\n",
              "      border-radius: 50%;\n",
              "      cursor: pointer;\n",
              "      display: none;\n",
              "      fill: #1967D2;\n",
              "      height: 32px;\n",
              "      padding: 0 0 0 0;\n",
              "      width: 32px;\n",
              "    }\n",
              "\n",
              "    .colab-df-convert:hover {\n",
              "      background-color: #E2EBFA;\n",
              "      box-shadow: 0px 1px 2px rgba(60, 64, 67, 0.3), 0px 1px 3px 1px rgba(60, 64, 67, 0.15);\n",
              "      fill: #174EA6;\n",
              "    }\n",
              "\n",
              "    [theme=dark] .colab-df-convert {\n",
              "      background-color: #3B4455;\n",
              "      fill: #D2E3FC;\n",
              "    }\n",
              "\n",
              "    [theme=dark] .colab-df-convert:hover {\n",
              "      background-color: #434B5C;\n",
              "      box-shadow: 0px 1px 3px 1px rgba(0, 0, 0, 0.15);\n",
              "      filter: drop-shadow(0px 1px 2px rgba(0, 0, 0, 0.3));\n",
              "      fill: #FFFFFF;\n",
              "    }\n",
              "  </style>\n",
              "\n",
              "      <script>\n",
              "        const buttonEl =\n",
              "          document.querySelector('#df-35a27f85-03d8-4516-91cf-7c2f4d961107 button.colab-df-convert');\n",
              "        buttonEl.style.display =\n",
              "          google.colab.kernel.accessAllowed ? 'block' : 'none';\n",
              "\n",
              "        async function convertToInteractive(key) {\n",
              "          const element = document.querySelector('#df-35a27f85-03d8-4516-91cf-7c2f4d961107');\n",
              "          const dataTable =\n",
              "            await google.colab.kernel.invokeFunction('convertToInteractive',\n",
              "                                                     [key], {});\n",
              "          if (!dataTable) return;\n",
              "\n",
              "          const docLinkHtml = 'Like what you see? Visit the ' +\n",
              "            '<a target=\"_blank\" href=https://colab.research.google.com/notebooks/data_table.ipynb>data table notebook</a>'\n",
              "            + ' to learn more about interactive tables.';\n",
              "          element.innerHTML = '';\n",
              "          dataTable['output_type'] = 'display_data';\n",
              "          await google.colab.output.renderOutput(dataTable, element);\n",
              "          const docLink = document.createElement('div');\n",
              "          docLink.innerHTML = docLinkHtml;\n",
              "          element.appendChild(docLink);\n",
              "        }\n",
              "      </script>\n",
              "    </div>\n",
              "  </div>\n",
              "  "
            ]
          },
          "metadata": {},
          "execution_count": 64
        }
      ],
      "source": [
        "# Load median and mean in days_employed based on education\n",
        "data_clean.groupby('education')['days_employed'].agg(['median', 'mean'])\n"
      ]
    },
    {
      "cell_type": "code",
      "execution_count": null,
      "metadata": {
        "colab": {
          "base_uri": "https://localhost:8080/",
          "height": 354
        },
        "id": "_Urr6JyOkuza",
        "outputId": "9f937c34-43d9-4381-9b60-f59b3a884177"
      },
      "outputs": [
        {
          "output_type": "stream",
          "name": "stderr",
          "text": [
            "/usr/local/lib/python3.8/dist-packages/seaborn/_decorators.py:36: FutureWarning: Pass the following variable as a keyword arg: x. From version 0.12, the only valid positional argument will be `data`, and passing other arguments without an explicit keyword will result in an error or misinterpretation.\n",
            "  warnings.warn(\n"
          ]
        },
        {
          "output_type": "execute_result",
          "data": {
            "text/plain": [
              "<matplotlib.axes._subplots.AxesSubplot at 0x7f6481207190>"
            ]
          },
          "metadata": {},
          "execution_count": 65
        },
        {
          "output_type": "display_data",
          "data": {
            "text/plain": [
              "<Figure size 432x288 with 1 Axes>"
            ],
            "image/png": "[encoded data removed]"
          },
          "metadata": {
            "needs_background": "light"
          }
        }
      ],
      "source": [
        "# Check for outliers\n",
        "sns.boxplot(data_clean['days_employed'])"
      ]
    },
    {
      "cell_type": "markdown",
      "metadata": {
        "id": "O07Xsd8Nkuzb"
      },
      "source": [
        "There are many outliers in `days_employed`. It is better then taking the median as a representative of typical values, and using it to fill in the missing values."
      ]
    },
    {
      "cell_type": "code",
      "execution_count": null,
      "metadata": {
        "id": "z7TfGntZkuzd"
      },
      "outputs": [],
      "source": [
        "# Fill in missing values in days_employed by applying the already defined function\n",
        "credit_scoring = fill_na(df=credit_scoring,\n",
        "                         agg_column_1='dob_group', \n",
        "                         agg_column_2='education', \n",
        "                         value_column='days_employed')\n"
      ]
    },
    {
      "cell_type": "code",
      "execution_count": null,
      "metadata": {
        "colab": {
          "base_uri": "https://localhost:8080/"
        },
        "id": "zL75HiR7kuzd",
        "outputId": "2a7446be-6314-48e6-8bb0-14ec11efea49"
      },
      "outputs": [
        {
          "output_type": "stream",
          "name": "stdout",
          "text": [
            "<class 'pandas.core.frame.DataFrame'>\n",
            "RangeIndex: 17925 entries, 0 to 17924\n",
            "Data columns (total 13 columns):\n",
            " #   Column            Non-Null Count  Dtype  \n",
            "---  ------            --------------  -----  \n",
            " 0   children          17925 non-null  int64  \n",
            " 1   days_employed     17925 non-null  float64\n",
            " 2   dob_years         17925 non-null  int64  \n",
            " 3   education         17925 non-null  object \n",
            " 4   education_id      17925 non-null  int64  \n",
            " 5   family_status     17925 non-null  object \n",
            " 6   family_status_id  17925 non-null  int64  \n",
            " 7   gender            17925 non-null  object \n",
            " 8   income_type       17925 non-null  object \n",
            " 9   debt              17925 non-null  int64  \n",
            " 10  total_income      17542 non-null  float64\n",
            " 11  purpose           17925 non-null  object \n",
            " 12  dob_group         17925 non-null  object \n",
            "dtypes: float64(2), int64(5), object(6)\n",
            "memory usage: 1.8+ MB\n"
          ]
        }
      ],
      "source": [
        "# Check general info on the new dataset\n",
        "credit_scoring.info()"
      ]
    },
    {
      "cell_type": "markdown",
      "metadata": {
        "id": "Y3VSyxhdkuzd"
      },
      "source": [
        "The missing values in days_employed have been filled in.\n",
        "\n",
        "In the next step, data type of days_employed is changed to type integer."
      ]
    },
    {
      "cell_type": "code",
      "execution_count": null,
      "metadata": {
        "id": "vmG_16Vjkuze"
      },
      "outputs": [],
      "source": [
        "# Change data type\n",
        "credit_scoring['days_employed'] = credit_scoring['days_employed'].astype('int')"
      ]
    },
    {
      "cell_type": "markdown",
      "metadata": {
        "id": "WwnX7zOUkuze"
      },
      "source": [
        "## Data Categorization\n",
        "\n",
        "In order to address the mentioned hypothesis, categorisation of values in total_income and purpose will be made."
      ]
    },
    {
      "cell_type": "markdown",
      "metadata": {
        "id": "YzmVzm9vkuzf"
      },
      "source": [
        "In the next step, unique values in 'purpose' is checked"
      ]
    },
    {
      "cell_type": "code",
      "execution_count": null,
      "metadata": {
        "colab": {
          "base_uri": "https://localhost:8080/"
        },
        "id": "tPHAm6wNkuzf",
        "outputId": "d14a2c6d-20e4-403d-b6bc-b3f3cf4de424"
      },
      "outputs": [
        {
          "output_type": "execute_result",
          "data": {
            "text/plain": [
              "array(['purchase of the house', 'car purchase', 'supplementary education',\n",
              "       'housing transactions', 'education', 'having a wedding',\n",
              "       'purchase of the house for my family', 'buy real estate',\n",
              "       'buy commercial real estate', 'to have a wedding',\n",
              "       'buy residential real estate', 'construction of own property',\n",
              "       'property', 'building a property', 'buying my own car',\n",
              "       'buying a second-hand car', 'building a real estate', 'housing',\n",
              "       'transactions with my real estate', 'cars', 'to become educated',\n",
              "       'second-hand car purchase', 'getting an education', 'car',\n",
              "       'wedding ceremony', 'to get a supplementary education',\n",
              "       'purchase of my own house', 'real estate transactions',\n",
              "       'getting higher education',\n",
              "       'transactions with commercial real estate', 'to own a car',\n",
              "       'purchase of a car', 'profile education', 'university education',\n",
              "       'to buy a car', 'buying property for renting out',\n",
              "       'housing renovation', 'going to university'], dtype=object)"
            ]
          },
          "metadata": {},
          "execution_count": 110
        }
      ],
      "source": [
        "# Load unique values in purpose\n",
        "credit_scoring['purpose'].unique()"
      ]
    },
    {
      "cell_type": "markdown",
      "metadata": {
        "id": "OyHRKvQSkuzf"
      },
      "source": [
        "It appears that unique values in 'purpose' can be grouped into general topics:\n",
        "1. Wedding\n",
        "2. Property\n",
        "3. Education\n",
        "4. Car\n"
      ]
    },
    {
      "cell_type": "code",
      "execution_count": null,
      "metadata": {
        "id": "HpxHiX4Ekuzg"
      },
      "outputs": [],
      "source": [
        "# Define function to categorize the values into the general group\n",
        "def purpose_topic(row):\n",
        "    if row in values_wedding:\n",
        "        return 'wedding'\n",
        "    elif row in values_property:\n",
        "        return 'property'\n",
        "    elif row in values_education:\n",
        "        return 'education'\n",
        "    elif row in values_car:\n",
        "         return 'car'"
      ]
    },
    {
      "cell_type": "code",
      "execution_count": null,
      "metadata": {
        "id": "WYFpxz7-kuzg"
      },
      "outputs": [],
      "source": [
        "# Save values for wedding group\n",
        "values_wedding = ['to have a wedding', 'having a wedding', 'wedding ceremony']\n",
        "\n",
        "# Save values for property group\n",
        "values_property = ['purchase of the house', 'housing transactions', 'purchase of the house for my family', 'buy real estate', 'buy commercial real estate', 'buy residential real estate', 'construction of own property', 'property', 'building a property',\n",
        "      'transactions with commercial real estate', 'building a real estate', 'housing', 'transactions with my real estate', 'purchase of my own house', 'real estate transactions', 'buying property for renting out', 'housing renovation']\n",
        "\n",
        "# Save values for education group\n",
        "values_education = ['supplementary education', 'education', 'to become educated', 'getting an education', 'to get a supplementary education', \n",
        "                    'getting higher education', 'profile education', 'university education', 'going to university']\n",
        "\n",
        "# Save values for car group\n",
        "values_car = ['car purchase', 'buying a second-hand car',\n",
        "       'buying my own car', 'cars', 'second-hand car purchase', 'car', 'to own a car', 'purchase of a car', 'to buy a car']\n"
      ]
    },
    {
      "cell_type": "code",
      "execution_count": null,
      "metadata": {
        "scrolled": true,
        "colab": {
          "base_uri": "https://localhost:8080/"
        },
        "id": "N3U6XQWhkuzg",
        "outputId": "4ff59ea8-dbb9-4867-ce95-b97ea1b7e06c"
      },
      "outputs": [
        {
          "output_type": "execute_result",
          "data": {
            "text/plain": [
              "property     9070\n",
              "car          3572\n",
              "education    3347\n",
              "wedding      1936\n",
              "Name: purpose_topic, dtype: int64"
            ]
          },
          "metadata": {},
          "execution_count": 113
        }
      ],
      "source": [
        "# Create new column for general group by applying the function and check the values\n",
        "credit_scoring['purpose_topic'] = credit_scoring['purpose'].apply(purpose_topic)\n",
        "credit_scoring['purpose_topic'].value_counts()"
      ]
    },
    {
      "cell_type": "markdown",
      "metadata": {
        "id": "qI6EgZVqkuzh"
      },
      "source": [
        "In the next step, total_income will be categorised and a new column will be created."
      ]
    },
    {
      "cell_type": "code",
      "execution_count": null,
      "metadata": {
        "colab": {
          "base_uri": "https://localhost:8080/"
        },
        "id": "FmFRBnclkuzh",
        "outputId": "98d42a2d-14e3-44a2-f028-88d08f4cc154"
      },
      "outputs": [
        {
          "output_type": "execute_result",
          "data": {
            "text/plain": [
              "3418.824      1\n",
              "4036.463      1\n",
              "4212.770      1\n",
              "4245.348      1\n",
              "4494.861      1\n",
              "             ..\n",
              "273809.483    1\n",
              "274402.943    1\n",
              "276204.162    1\n",
              "352136.354    1\n",
              "362496.645    1\n",
              "Name: total_income, Length: 15835, dtype: int64"
            ]
          },
          "metadata": {},
          "execution_count": 114
        }
      ],
      "source": [
        "# Load all unique values\n",
        "credit_scoring['total_income'].value_counts().sort_index()"
      ]
    },
    {
      "cell_type": "code",
      "execution_count": null,
      "metadata": {
        "scrolled": true,
        "colab": {
          "base_uri": "https://localhost:8080/"
        },
        "id": "SQOwcoGPkuzi",
        "outputId": "618978eb-7880-4def-ca9a-6a1cccb0eafa"
      },
      "outputs": [
        {
          "output_type": "execute_result",
          "data": {
            "text/plain": [
              "count     17542.0\n",
              "mean      27511.0\n",
              "std       16202.0\n",
              "min        3419.0\n",
              "25%       17992.0\n",
              "50%       23724.0\n",
              "75%       32327.0\n",
              "max      362497.0\n",
              "Name: total_income, dtype: float64"
            ]
          },
          "metadata": {},
          "execution_count": 115
        }
      ],
      "source": [
        "# Load statistical description\n",
        "round(credit_scoring['total_income'].describe(),0)\n"
      ]
    },
    {
      "cell_type": "code",
      "execution_count": null,
      "metadata": {
        "colab": {
          "base_uri": "https://localhost:8080/",
          "height": 542
        },
        "id": "22uylON-kuzi",
        "outputId": "eed3db8a-6270-49d9-95d9-7b895fda2479"
      },
      "outputs": [
        {
          "output_type": "display_data",
          "data": {
            "text/html": [
              "<html>\n",
              "<head><meta charset=\"utf-8\" /></head>\n",
              "<body>\n",
              "    <div>            <script src=\"https://cdnjs.cloudflare.com/ajax/libs/mathjax/2.7.5/MathJax.js?config=TeX-AMS-MML_SVG\"></script><script type=\"text/javascript\">if (window.MathJax) {MathJax.Hub.Config({SVG: {font: \"STIX-Web\"}});}</script>                <script type=\"text/javascript\">window.PlotlyConfig = {MathJaxConfig: 'local'};</script>\n",
              "        <script src=\"https://cdn.plot.ly/plotly-2.8.3.min.js\"></script>                <div id=\"d127652f-c4a0-4930-be8e-4141628251ed\" class=\"plotly-graph-div\" style=\"height:525px; width:100%;\"></div>            <script type=\"text/javascript\">                                    window.PLOTLYENV=window.PLOTLYENV || {};                                    if (document.getElementById(\"d127652f-c4a0-4930-be8e-4141628251ed\")) {                    Plotly.newPlot(                        \"d127652f-c4a0-4930-be8e-4141628251ed\",                        [{\"alignmentgroup\":\"True\",\"hovertemplate\":\"total_income=%{y}<extra></extra>\",\"legendgroup\":\"\",\"marker\":{\"color\":\"#636efa\"},\"name\":\"\",\"notched\":false,\"offsetgroup\":\"\",\"orientation\":\"v\",\"showlegend\":false,\"x0\":\" \",\"xaxis\":\"x\",\"y\":[40620.102,17932.802,23341.752,42820.568,40922.17,38484.156,21731.829,15337.093,23108.15,18230.959,12331.077,null,20873.317,26420.466,18691.345,46272.433,14465.694,38852.977,33528.422999999995,21089.953,23948.983,20522.515,24137.183,49415.837,30058.118,null,44077.71,22249.194,25159.326,16745.672,22212.904,24660.621,30759.568,120678.528,22858.493,24137.183,13130.414,43673.141,16124.879,17021.747,29229.194,57004.465,25930.483,7134.689,32511.949,8439.428,49832.576,14758.21,null,9378.625,66304.672,41819.121,20784.365,27837.996,69662.11099999999,17600.698,45264.075,25599.125,23234.324,null,94731.434,14599.529,33209.835,24137.183,15671.495,12982.845,13109.661,23838.725,22535.036,40589.074,13238.466,17733.314,23054.3295,23054.3295,40945.468,8659.769,7914.227,23054.3295,24941.897,30623.674,52982.334,28372.67,15070.06,23054.3295,23054.3295,28221.581,20273.056,22757.038,12301.47,27499.477000000006,32478.203,28808.28,17222.988,18968.257,27823.459,44949.489,19304.81600000001,22955.474,15655.723999999998,13338.611,28636.021,18171.554,23054.3295,25599.125,16580.491,13422.851,28007.428,29825.399,54322.778,32524.736,15335.319,11782.014,39396.479,26562.526,25599.125,43107.834,19172.425,31509.132,16337.758,23054.3295,24171.11,45479.693,null,15793.557,11925.616000000002,23225.474,74094.397,6542.581,21560.12,22898.133,11326.133999999998,12887.558,31741.888,13937.139,10652.419,12636.092,59133.934,36526.28,23051.794,35315.049,19475.503,36031.647,29276.818,66633.9,28372.67,22593.709,27691.871,28446.402,33961.154,25599.125,13027.153,43550.88,25744.913,32264.057,41606.026,27767.149,23054.3295,25742.636,34950.721,21737.742,40934.138,25720.728,22535.94,22267.106,9367.94,32180.168,13919.489,14553.751,26203.964,23054.3295,18037.741,25998.723,31221.342,5863.853,38351.619,37022.373,50327.519,41674.463,19001.243,34114.255,13912.788,25599.125,30237.228,15133.941,24622.762,21240.698,22787.943,30173.703,17934.496,11938.7,22942.571,22471.631,20026.55,32430.361,37669.985,69870.203,21247.559,23054.3295,24137.183,61398.905,20951.298,31547.17,25336.012,null,41521.792,30110.454,23054.3295,36806.42,52340.278,19180.665,13266.093,32727.192000000006,23853.232000000004,33916.081,45845.418,23026.168,26973.822,23054.3295,34557.671,42662.71900000001,12853.455,19810.253,52852.559,7659.414000000002,25730.322,19562.113,21537.479,23054.3295,null,33180.058,36971.018,16492.483,13098.098,16738.258,22886.818,13778.763,24550.335,25677.319,16450.615,21341.368,53603.948,18021.287,32531.739,22941.339,17783.56,37693.333,35680.26,27903.376,31052.373,10087.689,7205.312,22119.802000000003,20428.472,41777.794,25005.113,23054.3295,52070.544,17821.678,32340.031000000006,21537.479,49691.913,67747.647,23054.3295,28372.67,null,36433.019,51312.148,25068.895,23678.277,24643.1985,39926.249,28052.577,23806.413,46482.459,36846.741,35330.446,38322.404,66728.287,21062.978,56618.24400000001,12761.093,8767.534,15763.615,25029.511,30931.02,22190.587000000003,17264.987,25943.447,37649.763,18356.312,46524.918,30804.632,25219.967,54974.069,61209.89599999999,44607.597,22880.843,42521.377,23851.444,25599.125,null,45537.608,32510.002,28372.67,88579.877,49406.434,11880.549,10253.75,57626.158,18611.793,53039.263,41038.071,69995.429,36843.668,10161.765,21537.479,13459.136,28869.977000000006,81083.838,27369.272,27497.588,23658.135,28372.67,9154.054,21844.005,30298.713,24137.183,53055.239,34773.308,13788.159,19481.594,30337.351,21785.588,46854.926,60576.988,25000.834,30664.261,17199.98,41695.019,25880.731,10137.273,37629.598,17754.107,27014.206,42808.074,14656.558,51015.404,26016.69100000001,null,null,16027.129,36919.09,23054.3295,20813.998,22184.6,11823.664,10478.259,13690.702,12638.438999999997,9552.381,13858.262,17880.832,35918.871,23898.854,38055.263,32438.966,26897.646,21274.992,24545.06,36221.716,14568.568,23054.3295,23990.901,26270.512,10539.625,30338.434,52819.493,36631.29,20693.849,20226.86,52130.82900000001,41720.513,10051.604,48333.136,28372.67,22485.009,27376.046,12274.018999999998,19084.094,18968.37,null,70821.134,22251.341,18804.629,20401.114,15862.481000000002,7365.89,78443.464,33401.067,15842.458,37279.448,17784.268,17398.164,12505.248,31358.338,27969.82,26812.935,43309.761,9965.884,11074.431,25599.125,40779.284,33861.01,16727.556,53089.044,33179.984,38810.716,49742.31,31952.012,23054.3295,20062.765,23054.3295,22924.296,25181.947,12888.591,75537.082,35971.789,23756.714,17779.05,13380.501,19221.415,28372.67,30032.669,10217.11,25599.125,17848.576,23054.3295,18187.055,15522.068,22146.719,36377.049,18566.503,12259.723,11402.117,18985.194,15096.781,21665.196,16446.002,21473.031000000006,45647.708,31885.23,20616.131,22180.802000000003,56088.353,23054.3295,15278.577,18690.543,37321.331,21537.479,21045.945,36554.146,14856.798,14167.168,20080.584,29104.482000000004,23054.3295,25780.672,23579.904,25413.411,16300.29,23736.135,41950.332,36434.915,41163.721,11379.34,43720.152,17131.558999999994,19361.115,23409.661,11523.29,46669.804,24137.183,20365.32,12234.339,64463.804,38946.6,49353.718,25916.187,40815.451,25240.851,31489.43,33726.21,23873.894,14664.162,56013.68700000001,51884.49,19804.264,21333.365,11586.104,20729.041,23288.271,12016.911,25440.185,21047.502,6239.686,16347.457,13309.5,17814.601000000002,24504.942000000006,17794.871,23253.578,24348.298,34158.894,9206.834,20812.517,25214.926,16296.83,20209.468,14779.318,11513.508999999998,24629.445,18093.297,24278.732000000004,28372.67,52016.01,24002.261,26962.621,16791.343999999994,45582.81200000001,23054.3295,29104.38,16886.229,40364.439,30223.993,26568.92,23632.609,24617.199,9899.078,26091.989,19281.446,12708.792,22684.92,21576.745,19273.054,32213.758,23054.3295,23054.3295,9993.31,29889.124,28372.67,25599.125,23054.3295,23054.3295,25798.227000000006,29515.404,25886.716,23114.886,27580.68,13236.952,32713.462000000003,31493.514,16522.65,23678.736,14031.324,26270.499,45171.572,15712.339,28697.078,30250.784,29107.342,17057.712,55693.005,46420.85400000001,27002.28,23328.196,24137.183,23054.3295,34952.081,23054.3295,20146.658,85902.224,null,41939.954,16681.42,21297.907000000007,14077.886,30024.05,17061.259,23939.008,23361.466,38529.078,26788.871,22061.264,7925.919,40973.936,30536.303,12135.027,47023.288,25599.125,23054.3295,42786.456,21796.467,24350.969,25444.18,23054.3295,18079.798,107568.984,14722.493,25599.125,95439.477,37403.731,10237.242,36557.427,18469.808,23143.77,14725.563,32458.071,9023.078,28372.67,27718.688,27276.563,10971.682,10282.887,21537.479,9147.787,29946.749,38486.088,43236.993,14443.396,26714.461,21402.952,23384.403,42745.483,24068.343,50887.535,33670.463,24231.337000000003,28582.945,23054.3295,10830.132,11069.128,25599.125,13936.308,12929.944,43907.921,35163.956,12672.413,25706.461,7660.946999999999,27356.192000000006,25067.845,16727.306,31150.266,20169.594,40285.897,25951.749,24635.415,23125.436,9995.396,19557.322,19937.064,38528.069,42094.087,28372.67,26930.732000000004,45566.611,14876.635,20505.192,42658.01,40072.012,15638.91,44123.325,11410.906,21087.446,44999.958,74028.407,35272.873,21132.267000000003,17816.617,16472.892,47535.43,7154.823,76849.79,61621.668,23893.453,15921.75,21251.004,17599.182,47717.46400000001,6825.629,50179.39,9491.761,17365.373,15304.414,22687.198,31903.592,28372.67,25599.125,28981.136,21215.459,26113.229,14129.326,23054.3295,25946.21,32771.982,24264.901,10398.756,38318.405,21153.44100000001,21102.632,16762.422,15819.805,37269.427,31188.281000000006,28372.67,37058.13,23054.3295,30768.978,25599.125,50794.348,16552.071,28873.08,23058.4,21723.689,17037.111,14328.565,10407.901,7073.155,11320.723,20465.333,44650.737,56393.103,40748.959,59310.083,12786.5,35492.344,31202.24,44602.572,36210.807,48871.98,25441.23,50184.516,24043.997000000007,84050.76199999999,25741.608,107686.47,21537.479,27719.469,23054.3295,37047.868,37459.907,14089.913,19380.597,29411.892000000003,32327.178,86840.98199999999,14211.458,73112.916,35746.363,13929.003,87385.381,38090.458,13638.872,35485.792,28390.192000000006,7826.522,47468.24400000001,37871.785,21173.744,28088.668,68448.125,26478.703,34929.987,35412.624,null,94941.063,17747.152,28372.67,21537.479,23066.187,25334.742,96742.706,16767.211,27046.483,23054.3295,41653.768,28126.0,26089.687,13811.697,25397.17,16145.075,12536.197,null,48478.904,47940.028,13376.333,32061.46,18354.593,33482.199,28372.67,14577.595,21983.759,19991.388,12759.696000000002,12684.185,37426.098,41732.125,21537.479,14791.766,19347.007,17616.09,11216.537,30534.614,24655.897,23054.3295,23054.3295,17190.878,29937.559,37799.108,21537.479,65940.37299999999,23054.3295,48619.955,35993.405,22037.556,52066.415,28372.67,22673.422,31159.689,23054.3295,15192.924,24839.71,38634.174,11374.623,16777.963,32459.086,25556.533,12663.626,22168.346,16355.296,21686.588,38107.128,23054.3295,null,10733.515,40156.514,11332.755,null,23054.3295,17479.254,26358.465,46977.053,24708.679,41097.0,40243.837,58894.39599999999,14599.245,25236.294,24658.149,17814.139,28700.63,28664.476,25287.799,16207.397,48122.855,23054.3295,25009.461,41483.049,14397.944,15519.124,41710.624,12169.125,54788.54,45060.768,23504.5105,15632.504,23041.753,12871.71,52302.474,20181.829,23054.3295,18024.583,28372.67,25572.597,18305.161,25599.125,21886.98,53265.42,13508.99,36148.844,21537.479,53021.544,43215.638,56604.783,19945.885,47918.215,44329.722,18247.917,23054.3295,18196.556,36722.966,23054.3295,20485.652,27213.589,18530.762,10253.776,28372.67,19895.194,26536.68,19744.945,40233.09,16564.878,28065.74,15542.049,61658.955,30150.343,29122.087000000003,23054.3295,24076.115,27923.575,36492.832,28126.285,25221.055,44729.98,36483.261,19076.164,30276.685,18772.671,31550.592,20150.124,35078.888,18792.536,32621.508,17338.551,64926.451,15561.709,66294.77799999999,23785.301,36456.292,23054.3295,22835.314,17248.613999999998,13458.598,19688.268,30508.168,32516.958,21129.517000000003,15986.961,81140.898,20746.989,17094.499,null,78893.291,35042.24,20234.821,23054.3295,17348.008,29099.52,15975.559,36648.319,18632.038,26585.352000000006,23515.096,14599.808,9588.307,27583.46,12553.166,18561.596,32265.718,50788.46599999999,19442.171,32618.658,35795.542,20161.826,24482.744,52925.019,23203.786,null,10591.538,57241.124,40919.379,25638.625,47619.075,8774.978000000001,35147.561,19297.519,25509.367,20060.414,43628.175,16026.784,16269.707,12592.701,19147.465,39480.863,29106.131,20733.729,11179.592,null,19054.419,18449.956,35089.916,18390.927,22669.47,27686.423,26587.674,23054.3295,32203.28,31645.322,30743.863,10509.465,19796.83,26965.521,39338.826,24137.183,null,16687.481,26482.269,21060.693,18118.345,19756.578,20125.86,15966.4,21136.528,14559.813999999997,15604.688999999997,28431.965,45952.347,37340.169,21294.55,22230.511,21537.479,23054.3295,14880.953,19199.518,53867.487,17298.717,42757.723,18620.761,null,15597.494,21694.111,10293.567,18461.562,21002.171,7383.236,23054.3295,29503.774,23054.3295,35000.44,41359.964,10180.821,24534.157000000007,28372.67,14321.294,24891.052000000003,38022.229,27611.629,24850.092,55659.873,35912.638,23056.273,10970.621,32753.479,38757.009,40849.009,20863.29,23054.3295,29433.39,25652.141,17879.4,9746.35,14782.012,17574.588,15886.744,17122.443,19922.853,21420.451,31277.588,11308.345,14321.866000000002,11350.022,23054.3295,28013.476,14773.784,20721.902,12855.292,9816.437,30026.032000000007,10013.861,34947.555,27665.265,38623.848,25438.724,53108.232,24643.1985,59537.77400000001,33134.597,29775.487,18358.072,18323.63,24800.245,34697.804,25599.125,19137.631,28381.393,11454.558,11940.54,47406.45400000001,17453.892,22910.243,21183.98,25477.888,36816.394,21537.479,21054.756,21311.443,22708.021,19051.563,21957.358,14052.853,12619.337,27697.381,44699.679,23054.3295,15513.198,null,23968.488,45983.55,17464.201,19127.795,31386.31600000001,15139.855,17607.495,26022.39,35782.383,34957.394,18589.004,13142.452,32605.519,21084.285,40751.746,21715.039,15962.168,36381.258,21149.219,11128.112,25823.327,28372.67,29027.597,20822.01,22935.257,18804.306,24751.917,21628.212000000003,6567.414000000002,29113.043,14668.872,28372.67,31831.192000000006,29397.414,53574.465,20433.797,74812.94900000001,20998.057,64355.883,65488.193,8804.584,35529.309,21537.479,28195.232000000004,28522.309,38813.18700000001,23169.042,39878.09,20702.657,31309.406000000006,32983.137,41941.545,14529.91,29753.125,36361.341,17746.52,17670.006,14141.851,29325.509,27982.299,32716.6,20399.51,25783.825,23054.3295,26364.664,38283.131,28421.429,26440.954,23550.512,17794.527,28955.26,14245.981000000002,34964.491,18166.827,18332.241,23054.3295,58540.211,28561.749,13701.742,12578.282,21537.479,54169.947,22870.991,21073.751,10943.017,35037.097,18814.417,8514.371,19920.914,23054.3295,18036.087,20893.882,29911.943,20616.569,41963.032,18858.831,21168.829,26366.572,18451.688,19102.985,30693.338,7632.026999999999,75752.927,20561.043,39945.414,28547.648,30890.367,41028.775,10509.526000000002,12863.17,12222.903,34431.002,39644.594,32691.552000000003,33317.192,22546.488,24548.788,13876.542,22349.404,21178.855,23054.3295,21642.551,17344.853,61129.732,62660.72900000001,17386.034,18654.595,26093.161,29916.975,10168.324,25339.259,35751.586,26423.277,17423.403000000002,11449.045,25805.094,23825.133,23445.527,26323.058,16283.476,23054.3295,null,48702.474,21954.733,20226.282,22888.645,40108.101,32878.485,31667.976,16633.352,23054.3295,29267.428,7863.603,23677.348,48749.307,22948.072,14904.334,21163.606,18185.91,43829.935,24808.573,17676.747,14173.552,49570.71900000001,28906.398,12824.744,32823.891,21690.718,19130.216,18415.999,47112.381,11249.09,49731.166,16533.664,14989.541,30236.647,30235.0,23020.004,32200.575,14698.472,15671.577,108231.05,47401.156,null,53076.713,18652.118,23054.3295,47632.065,28101.398,17005.185,41824.569,13893.049,23054.3295,25599.125,10261.159,29228.023,31228.847,66508.11099999999,28372.67,19635.802,16104.859,34372.667,46597.61900000001,15486.7,34725.075,23158.696,9514.677,23536.245,22794.733,35849.924,29165.211,174259.24899999998,16270.577,24974.98,22086.386,28372.67,20359.688,13444.462,25110.845,24412.398,32843.373,65445.412,15273.638,44744.139,54799.006,42397.745,13099.491000000002,24643.1985,8094.861,24493.225,21825.803,32290.886,23054.3295,23038.612,23504.5105,23054.3295,46295.2,33887.28,25204.776,17158.917,23054.3295,31395.397,27440.313,13633.864,23054.3295,34592.045,12388.785,28327.97,36978.238,21138.494,9832.891,29228.48,24749.67,23054.3295,23352.347,9781.051,15125.044,35868.069,44881.112,17772.322,37434.419,28209.807,23219.889,31234.66,28372.67,27655.862,39350.504,23431.53,15919.776000000002,26986.807,17089.103,null,23934.463,26144.03,11791.025,14101.847,34416.973,23336.712000000003,17029.779,14255.809,37208.439,25348.303,24141.946,23914.641,28767.067000000006,44921.47,null,26211.926,34832.765,13651.334,30364.068,17451.379,28254.671,8643.091,21425.964,31351.256,28939.499,45369.866,28959.097,34485.439,15765.583,40971.975,29742.529,29620.185,30651.214,13789.712,74405.905,27265.293,39623.805,33775.901,41641.58,23054.3295,12186.855,37812.06200000001,28372.67,10375.418,22543.688,24137.183,23054.3295,16604.843999999994,36299.974,24402.345,22375.367,null,14446.236,24888.362,19821.272,39972.85,18407.372,12856.635,18693.361,14570.066,18837.897,30305.949,25553.246,12098.303,18242.696,22219.991,15273.148,23054.3295,17424.859,33434.913,24215.528,21277.272,37248.851,17813.435,25893.858,95428.761,22157.273,59966.946,10594.218,31583.926,11936.954,26893.57,14060.641,28372.67,23823.166,28372.67,27742.701,36343.534,37866.259,22449.01,28372.67,58103.014,13486.24,27299.635,23054.3295,23054.3295,28372.67,38419.337,24291.496,23068.132,13268.121,32340.648,14254.181,39818.721,35320.067,31483.641,27635.726,13004.737,55701.593,26171.1,27117.841,25364.31600000001,15218.018,42289.188,34945.905,11932.865,15185.363,68870.822,24533.045,26074.035,35135.542,50212.961,24103.648,18252.403,21537.479,16295.511,28449.547,31602.533,46389.195,14170.14,32803.308,21537.479,28437.553,21745.742,31206.916,20538.383,35281.591,22856.633,10906.562,26003.541,24143.671,13491.988,50209.842,59783.255,40272.329,24137.183,22023.283,32622.491,17740.506999999998,117259.557,39574.971,16890.247,19495.921,20998.196,32281.463,7366.366999999998,16310.572,25599.125,41562.411,19999.675,130983.738,18427.632,15659.478,23054.3295,7782.166999999998,16169.971,46835.605,17210.289,29836.558,20292.7,23054.3295,8598.879,33170.449,23054.3295,25599.125,20253.199,17178.867,24537.143,38250.302,30713.335,26426.465,29269.789,41060.445,36083.963,35747.424,21671.757,22160.203,23054.3295,23054.3295,30023.384,15835.893,10406.695,14539.93,15398.815,16685.73,22165.602000000006,20940.631,12985.961,10693.158,null,21711.044,12597.703,42744.644,25159.221,13365.987,14998.561000000003,28372.67,19603.442,25963.101,27868.888,32840.395,7828.0030000000015,22119.526,13743.403,14529.388,14570.383999999998,33295.584,17459.451,26012.89,53921.769,22880.622000000007,54737.968,16159.591,23054.3295,23054.3295,33512.815,29134.457,23054.3295,26395.409,12870.135,18797.753,13348.348999999998,15146.606000000002,21490.403,28372.67,18499.024,64317.795,31656.068,25916.327,36450.523,11219.855,29879.886,22956.96,25145.184,30649.963,21537.479,19947.15,30638.078,28372.67,21481.61,23054.3295,14112.103,35066.262,25618.464,10586.424,24835.466,16011.869,22238.655,50397.545,44180.025,90866.822,17764.578,9459.851,19306.332,18556.397,25998.703,9206.703,17185.197,13093.581,24137.183,21037.493,33558.899,86182.98800000001,45326.184,69067.91,33879.672,10670.101,18153.914,35805.697,23054.3295,23969.276,23054.3295,34234.941,54529.037,20358.547,22863.185,36240.442,32941.812999999995,24888.155,18542.432,25169.848,27144.296,20543.498,29641.114,18392.559,15464.713,10660.069,17334.129,12691.471,39686.611,22113.272,8186.023,15009.535,15744.323,10578.077,28372.67,29050.629,32526.413,23223.899,43675.88,13908.391,19846.273,21629.101,11186.243,14703.084,null,53016.768,28411.425,27673.225,18705.357,32598.667,null,26918.793,29469.848,39266.11,16716.814,21508.003,20607.879,26622.248,23082.521,21590.2,15177.932,25567.185,11759.407,8339.044,25407.214,12957.77,26933.434,16594.162,67065.644,26022.177000000003,48275.68900000001,39086.408,22705.66,32262.846,35376.406,24137.183,24533.012,25433.766,23054.3295,21695.528,15375.043,24643.1985,54327.831,17603.595,23054.3295,23179.112,21896.794,28372.67,16308.321000000002,10770.811000000003,20605.962,9483.167,16635.988,13730.198,16503.598,14057.52,34348.526,28969.579,19592.626,25019.74,50970.318,23054.3295,23886.673,32428.276,23054.3295,18966.982,18656.547,28710.517000000003,12051.403,41147.303,36554.418,13386.595,14489.279,12776.666,47840.87,9463.566,23440.009,22717.216,27994.069,25240.59,51259.208,79922.54400000001,18723.799,12695.162,27379.184,25672.488,16564.244,37368.523,27754.098,24309.013,52428.573,26489.386,18786.947,22261.727000000006,14532.142,26012.532000000007,10539.268,19868.129,17118.587,38989.306,36127.711,35144.697,49618.245,12309.628,43379.691,12002.754,21824.999,28241.573,37174.474,16236.4,44298.383,24137.183,21150.174,11624.433,19577.043,34875.723,61219.712,20786.214,11387.847,null,17904.071,53891.852,null,23398.893,26115.507,17631.67,20035.743,22204.653,6431.765,28372.67,18770.323,22653.974,16842.165,21537.479,62045.303,23890.202,30604.113,14788.032,23200.877,30144.464,26423.853,17549.319,75587.609,31437.118,30875.597,23054.3295,28372.67,33215.607,42521.457,11628.776000000002,26275.709,10585.52,19887.121,23663.582,13354.128,204579.617,22455.656000000006,null,13456.948,27487.988,26760.707,23278.019,44375.672,null,16523.833,21487.229,53274.081,25606.897,16643.473,14633.944,22700.328,15314.458,17306.058,14805.216,24738.922,19765.533,23565.814,22207.402,26064.362,47160.096,17674.144,8785.565999999999,50517.787,28372.67,29200.343,23079.375,37262.866,32732.504,22049.728,34513.126000000004,33976.694,22806.28,39349.506,15764.261,13407.103,12624.133,null,13382.972,30999.222,9572.307,14907.215,28688.36,14455.102,13940.355,21968.807,24398.048,26294.502,18161.383,35549.158,10238.991,19346.12,20201.989,26074.076,47108.281,20559.622,42045.137,32576.825,32456.447,29485.84,20842.536,43921.115,21537.479,23708.073,69900.16900000001,34420.457,45206.345,23054.3295,59620.631,16585.034,14053.1,31594.043,null,10606.664,25366.094,23222.049,12300.229,5591.44,13349.92,18243.426,18120.808,15492.91,21681.444,57248.407,28993.934,12234.832,54150.936,69488.37700000001,40214.211,37585.979,22098.554,25287.344,22965.041,33284.576,null,33580.504,30046.07,49643.373,23054.3295,17781.726000000002,17934.663,18541.182,32415.764,36876.724,20646.435,23054.3295,9344.647,11826.039,23054.3295,16446.388,56104.59,31562.195,28372.67,31561.82,14788.597,21223.937,37080.82,32037.122000000007,11755.443,19525.176,23054.3295,20195.68,28372.67,25688.77,20966.25,26989.219,12548.276000000002,22814.014,17968.514,19191.772,40534.592,20611.06,21216.715,14296.606000000002,30462.609,13395.45,71392.242,44392.528,12676.321000000002,24772.382,18106.23,30818.497000000007,31388.111,24137.183,9364.764,24259.687,16938.281000000006,33096.953,20274.964,26832.229,8677.451,23054.3295,36387.486,19629.73,28778.744,22406.213,16895.122,29022.292,61223.817,16973.592,20611.87,14381.271,20893.31600000001,19981.29,34567.751000000004,11430.502,18289.206,33917.617999999995,24228.824,88661.162,23879.081,14581.835,16201.346,24271.472,29225.277,29836.024,58472.787,18129.038,32465.038,23080.778,23670.884,27594.39,42397.513,10710.551,24303.837000000003,46348.504,10151.267,17664.078999999998,27538.85,20718.552,29435.97,35735.79,25273.676,33515.379,20570.288,14928.951,25921.236,28588.506,56567.017,26768.937,11354.7,51386.392,112236.822,43408.878,42762.4,31199.254,10698.303,31780.162,8691.072,7157.482,22707.093,41264.54,15044.669,14000.648,23273.875,25972.338,57327.498,16213.372,50676.676,14104.366000000002,14944.6,49471.743,20779.75,27462.299,22489.717,20566.905,39016.499,19920.069,16330.998,31927.262,22511.779,13868.073,42315.974,17413.082,19284.877,18333.748,31699.799,14177.272,20307.695,21141.402,27345.082,5837.099,40421.683,24609.76,23054.3295,38499.574,21084.301,17015.075,20415.23,18511.319,23054.3295,38425.96,27559.585,15970.025,8802.244,23249.028,23198.565,15521.997,20607.374,35130.85,32874.845,22085.11,37008.585,21537.479,20416.616,24490.795,null,26938.4,16212.38,33665.676,23532.268,10980.172,16194.514,95139.274,25375.57,19439.34,27103.971,16900.591,24614.214,16467.782,24329.629,20925.756,11543.458,13406.826,21714.7,16337.295,25889.243,13568.92,19425.708,13141.116000000002,53883.283,44431.162,19975.104,32493.779,21978.383,15863.012,24137.183,23374.435,52129.361,44576.471,16865.76,9841.484,23501.238,49505.665,15854.381,20163.885,29713.807,47483.512,null,35623.02,29174.656000000006,24821.475,27720.285,19016.126,28230.634,7034.877,23054.3295,29783.478,21537.479,24137.183,23054.3295,25445.544,24821.07,null,64235.289,17616.884,7615.566,22906.45,30526.509,33795.797,16026.86,25568.943,19330.13,22069.54,18712.32,23355.64,22781.846,14499.699,27657.218,43335.281,36707.061,59350.928,25984.832,15187.078,18703.415,10240.265,52885.145,16034.238,24137.183,23054.3295,14801.714,16719.161,19514.508,19155.428,10786.899,48562.923,27231.848,28372.67,28372.67,23054.3295,41606.447,33452.066,21537.479,75621.911,11281.688999999997,13736.17,null,37655.237,29138.247000000007,23054.3295,23054.3295,40558.424,41199.599,21470.207,23646.63,28653.228,32529.32,10647.334,40835.772,13004.329,23054.3295,11246.313,25190.222,90790.461,25240.448,36622.899,25116.987,23655.611,9944.631,16934.845,17303.017,28372.67,23054.3295,37132.593,null,27369.759,17065.405,30502.891,28372.67,56922.42,21031.237,54817.766,40284.457,25709.898,18950.226,32749.659,24485.147,15204.102,28372.67,21308.776,16701.369,15841.937,24476.207,null,21114.762,27362.896,20312.874,31991.653,14485.758999999998,64536.919,36727.399,27587.994,16284.996,17175.082,30253.379,31555.921,4860.001,55521.823,54717.153,30616.074,23054.3295,24617.036,35833.169,31132.697,20873.855,30063.881,25684.587000000003,31948.008,41335.647,12941.123,29780.938,27123.095,21642.797,37535.002,23054.3295,62410.27400000001,22928.48,41554.281,20731.432,24137.183,67322.662,36167.739,33948.793,31228.97,11970.799,14015.873,13719.89,10883.469,40445.204,49303.676,23725.425,18010.523,23054.3295,47751.82700000001,18189.616,30269.694,42965.587,34017.088,13905.38,19264.965,53048.887,26223.09,34350.444,37142.7,32343.306,11259.82,5167.9940000000015,26875.379,20256.146,17022.798,23054.3295,32363.773,15374.426,29209.358,76440.12700000001,76387.01299999999,40526.785,37706.59,63114.432,33176.014,12605.411,9781.049,23095.92,25785.409,23054.3295,31732.914,25186.067000000006,28523.189,15223.029,23613.738,6966.223000000001,28372.67,9347.581,16493.185,23098.324,41662.716,36136.189,50593.003,22666.08,39627.089,35487.15,12151.186000000003,31227.213,31219.807,16023.832,17602.099,13794.967,28372.67,43435.647,44278.443,47610.169,19902.234,42805.975,37604.466,55899.431,19357.298,17672.203,47332.408,30190.798,25905.975,9222.473,8788.626,15034.029,14894.338,33282.762,14249.388,30782.471,23054.3295,17684.064,10292.621,24137.183,14326.638,27034.187,34197.228,14867.837,42893.21,83858.43,8203.737,23054.3295,14250.477,30524.821,13865.176,21239.289,25321.744,17110.404,28372.67,25599.125,25119.277,62423.683,8136.258000000002,20653.65,31070.801,24644.985,18603.743,16018.312,35244.656,null,17573.996,18241.7,76369.056,24927.663,32412.658,20965.809,13851.901000000002,30387.841,29985.268,28723.328,15778.608,31379.177000000003,31715.369,41420.733,89395.668,13249.702,null,9287.188,38537.548,29815.706,28557.738,25599.125,37194.879,33388.827000000005,28117.82,62741.705,30016.828,13322.161,28372.67,22881.546,23982.995,23087.859,38602.307,41386.054,10419.851,20844.883,null,61932.28400000001,31383.563,19470.62,19337.509,19005.086,23054.3295,19714.931,28372.67,25378.416,29255.85,22210.618,24137.183,50053.422,22383.434,25083.413,17936.226000000002,35333.807,null,41072.852,20565.658,23054.3295,23324.403,26725.057,21537.479,23421.403,12642.014,25599.125,21395.654,20479.344,26941.616,10383.129,42637.946,31620.697,28855.12,22219.526,24027.902,31256.954,32809.332,29131.637,21537.479,15276.994,11067.49,40382.777,23971.427000000003,34371.685,41431.463,29124.265,24049.896,42706.543,36132.229,23232.095,17513.536,27971.328,23857.077,23489.419,null,23054.3295,48784.103,23054.3295,29652.401,16930.88,40700.633,44046.879,57726.592,13349.889,14635.892,22140.6,33243.992,29609.46,113230.059,25609.515,46376.198,46797.981,18845.405,23054.3295,28633.628,20546.989,27503.559,57226.609,21479.197,35618.121,19221.419,12868.465,10482.09,null,39942.188,30699.618,33842.994,27294.411,13845.945,28372.67,20596.652,23054.3295,28791.058,31737.754,31219.812,23054.3295,42772.951,23054.3295,22676.555,20361.389,null,145672.235,40561.982,40050.352,69312.63799999999,24811.299,10408.17,null,15940.965,16733.209,12537.648,11136.075,23054.3295,23730.549,36503.76,56117.542,22806.783,24100.176,28053.918,28477.783,27603.069,102546.068,28372.67,26978.655,22240.795,28372.67,31033.89,11887.364,38967.206,9107.739,42118.983,42950.073,38996.88200000001,12594.642,24137.183,43960.056,24171.637,23054.3295,24620.564,68244.709,25279.052000000003,20832.719,32084.173,15341.808,19211.589,54857.666,16752.293999999998,18490.29,14222.985,25847.877,45914.887,16862.808999999994,24980.993,10377.24,18313.361,18574.867,27130.564,12889.817,19541.958,18865.198,24386.053,33198.031,7772.395,25482.28,15321.22,29486.633,23152.851,42449.61,42703.02400000001,32723.012,42978.336,23504.5105,28390.696,59965.322,20559.633,23054.3295,36346.421,44648.608,18176.62,17589.061999999998,21672.752,20948.727,31182.82,78922.833,27096.723,21537.479,42381.935,36396.822,17900.137,15988.868,26159.155,21977.934,25389.607000000004,18574.15,23054.3295,21537.479,48815.038,24160.662,9356.77,31234.843,25721.297,24511.436,71558.119,11301.88,37624.125,21859.468,14416.691,33583.713,42371.813,22894.851,109855.748,27530.727000000006,20717.274,18058.525,18615.704,15901.112,29234.343,11698.547,17620.221,13391.103,31199.08,24137.183,15152.711,38802.167,14876.21,28590.714,12718.838,44880.228,31500.317000000006,28964.104,82285.319,39341.49,32759.818,13993.893,14238.199,55135.506,53000.404,25370.474,33573.291,45260.213,27451.338,15006.668,11114.715,38362.741,44920.25,11883.098,12589.345,31448.856,20701.295,16893.367,27099.669,42872.81400000001,17662.868000000002,21319.507,24960.638,17587.702,58186.961,27675.659,27814.895,25599.125,60171.042,19117.549,32018.704,30849.237,31463.923,34763.581,21060.371,24137.183,17291.464,35916.882000000005,29215.916,20241.093,18505.087,20192.458,12467.076,23273.374,21537.479,11998.32,14624.72,16856.714,44448.205,22946.913,14261.926,39281.948,29851.35,23164.267000000003,19503.263,15830.88,29951.501,15190.414,34055.024,25044.922,10817.812,10134.333,19195.318,23236.339,28372.67,17038.848,36202.37,null,37819.027,21924.131,17908.292,28372.67,20260.881,26433.285,24870.556,19011.926,23054.3295,26904.998,16027.985,22989.285,23296.569,17664.463,23092.844,26633.037,16612.931,46340.278,23612.936,36695.708,19414.911,22836.082,24110.639,17244.075,14761.994,27253.455,15644.481000000002,26040.671,null,19184.407,29306.86,21962.639,33250.815,18134.556,31962.449,null,34473.937999999995,8457.309000000001,8987.315,35350.429,27838.952,15933.296,16046.176,23054.3295,28372.67,13464.111,28372.67,30541.892000000003,23054.3295,37116.38,null,21787.506,24137.183,28372.67,7874.9659999999985,16892.314,17455.022,22635.372000000007,15418.586,8546.684000000001,50322.264,31973.551,35116.343,46084.516,8384.917,37027.662,25190.741,17056.192,57441.082,24282.543,22983.456,33484.886,23066.235,32000.284,18984.188,12916.987,32775.384,32202.621,27462.827,16560.142,50614.606,29132.623,35892.946,68721.854,null,42176.96,11822.136,38926.177,30885.58,28372.67,46717.304,21537.479,27163.92,27339.294,13776.303999999998,14185.238,28425.089,41757.25700000001,38397.391,26368.659,18339.214,26134.556,13081.417,77747.993,37563.06,23593.439,27159.884,20766.777,20283.952,28372.67,9201.289,34981.922,23054.3295,31393.84,23706.195,30194.947,14640.795,55766.726,31308.811,23875.883,null,38778.026,15218.864,15011.749,23054.3295,13704.683,28072.317000000006,16558.037,7862.656,20254.266,51409.43900000001,15987.157,16957.471,20146.233,33211.049,10661.428999999998,27527.89,19886.404,17549.712,null,16408.143,10310.087,14553.446000000002,15548.609,78410.774,25735.96,12899.992,30867.782000000007,19704.42,15835.538,20148.261,24137.183,18462.459,40594.049,21537.479,16860.182,23054.3295,47217.55,23054.3295,28758.666,34554.285,18117.57,36243.70200000001,28372.67,25599.125,32363.662,23054.3295,45474.685,30890.742,10735.617,15216.914,null,null,37303.791,25747.261,19792.238,14010.487,23054.3295,19515.41,56346.283,24821.706,23054.3295,36402.595,28372.67,34592.145,42138.006,91723.092,null,15051.501,24541.775,16896.949,16394.308,50959.586,36586.176,13368.506,null,32282.88,28372.67,70774.201,16573.573,37914.91,33909.249,47069.775,12671.291,32079.627,21078.674,10302.714,98873.467,11517.438999999997,28372.67,47568.706,20149.858,21100.068,26171.119,20346.553,17960.672,27272.827,null,null,16298.261,null,19138.107,21028.483,35387.06,28332.435,28847.377,41431.936,null,63112.11900000001,17497.074,28815.907000000007,12569.103,34802.027,51146.923,21397.361,25602.391,20259.942,44149.45400000001,8788.985999999999,null,36342.543,23054.3295,14441.607,22705.838,34416.527,16496.877,24018.45,30845.763,29586.384,30889.712000000003,24137.183,30381.245,49280.542,44729.121,18405.001,24137.183,28343.4,20663.483,20383.39,15547.352,12847.771,25599.125,23054.3295,25933.698,23807.963,53442.813,19645.648,23086.757,26103.283,16200.879,36498.609,22002.396,14273.82,23054.3295,57725.781,16273.322,12264.164,62410.058,27142.801,28372.67,34116.473,12451.834,71035.08099999999,38627.172,23385.01,12118.708,23054.3295,28372.67,24181.008,32290.439,12330.636,18460.911,13693.67,16092.726,40244.168,21854.692000000006,28700.004,38005.98,21537.479,22815.296,16502.928,40983.773,45079.179,16258.132,23320.927000000003,36935.015,7681.2559999999985,20680.005,30974.448,14746.252,46902.627,null,28956.253,15169.247,8869.47,31498.375,45321.904,25260.537,33493.067,28372.67,14164.291,20397.831,21952.103,17938.863999999998,14839.387,25977.828,12559.242,24137.183,23054.3295,12858.876,27194.577,43122.17,10707.67,22807.672,44214.679,17373.587,42510.935,8828.192,15619.995,21960.699,20077.643,21537.479,23054.3295,10105.798,20271.299,58551.506,55268.006,49562.457,39159.768,10940.17,10079.223,18391.548,5220.544,21462.073,26750.898,31440.019,39033.628,33300.568,17081.915,31035.365,19752.72,39607.676,36106.642,25899.759,17588.953999999998,9941.149,18471.104,40770.15,21020.238,24179.295,57741.947,19401.939,25710.33,22412.864,23054.3295,14029.25,39237.152,43106.88200000001,35486.127,32535.451,13223.207,null,30595.154,37873.49,26758.809,111045.796,21102.846,24271.073,13509.686000000003,12759.899,22419.712000000003,13213.206,15451.844,14268.84,30833.463,53415.68,30849.176,14031.067,33544.83,21264.571,23054.3295,26319.692000000006,15270.508999999998,13035.76,23054.3295,22226.862,34571.477,67626.52799999999,31110.323,28372.67,15424.13,23117.338,24950.644,28888.671,28566.653,20480.628,33645.097,23901.995,74336.408,26415.676,34859.562999999995,13504.055,13985.589,17221.213,16384.228,55976.608,31855.419,22501.439,13610.431,23054.3295,9979.291,13332.292,24137.183,10995.754,10825.407,43291.655,26461.125,13654.473999999998,31236.018,26420.006,23054.3295,8074.093000000002,49393.826,49963.223,32534.645,50632.865,10823.538,39862.786,13514.481000000002,23054.3295,7323.363,23054.3295,21808.049,31500.221,24643.1985,39876.858,31397.661,34444.181000000004,27543.6,23054.3295,22072.528,17469.288,73535.774,28372.67,10899.705,23054.3295,28988.65,18085.789,22156.658,null,19420.617,31555.511,16255.208,45687.64599999999,18686.025,23504.5105,18409.25,29991.209,24399.452,20913.369,15438.47,34703.064,32532.51,7132.445,26768.928,16379.341,24100.924,31748.661,14091.139,61903.256,14051.148,17005.395,13788.432,34179.259,19507.164,14982.686000000003,16699.202,25027.453,29784.052000000003,23915.451,26593.137,32208.512,18424.935,8545.862,32498.179,23054.3295,20898.394,12856.068,36878.34,12439.091,17588.995,23054.3295,15625.299,16115.037,17344.981,39902.864,19110.794,27069.23,36833.058,26891.712000000003,50539.321,51245.726,23054.3295,31781.183,13524.445,16991.398,21815.587000000003,15497.365,34729.974,11028.156,23054.3295,16811.889,26830.038,22177.022,25485.482000000004,37121.661,25634.709,27175.428,27444.656000000006,28796.69,23054.3295,81877.15400000001,25813.889,21290.376,121411.489,45729.319,29056.077,38217.057,21537.479,44550.567,29333.966,20053.427,17101.535,10848.465,37939.874,24137.183,24816.632,23054.3295,14676.518,17467.237,17155.978,6770.851,26507.501,25599.125,26976.928,57330.785,13512.831,24650.541,23489.395,64945.609,32750.228,15520.255,24073.622000000007,17112.107,40036.682,52598.995,28158.254,28372.67,35447.092000000004,15260.419,24850.339,12837.765,10880.017,41051.149,23432.144,21327.518,21029.482000000004,23054.3295,31852.125,24959.428,21537.479,42071.14,16817.221999999998,37278.1,41081.804,25800.677000000003,13755.791,17299.359,17257.277,12666.609,22709.149,30823.658,23313.49,20837.034,48965.97900000001,23054.3295,59789.946,19412.168,31171.23,null,17302.987,28372.67,30829.864,13028.532,45950.056,null,25795.595,23344.393,39489.143,16807.19,18041.4,38838.889,28545.097,29189.6,28372.67,17271.186999999998,14700.281,18172.489,40867.235,21852.577,33983.615,26203.839,33189.074,20868.325,27896.256,28372.67,65312.878,25517.044,22645.203,81617.15,50212.205,null,13875.237,19304.713,57657.766,18803.632,36025.579,13487.421,14997.998,null,36873.078,19055.793,18987.023,160716.231,31468.054,15969.91,28372.67,26947.6,22152.007,23708.232000000004,6701.803000000001,19220.895,28372.67,41028.212,72234.664,34587.473,31284.302000000003,29027.784,38594.488,13921.447,16435.031000000006,23054.3295,28247.661,21537.479,13452.885,21176.78,28698.853,23054.3295,28757.093,17682.155,21524.948,18555.627,12580.98,22960.921,111362.488,23508.137,12771.178,31771.321,17696.655,20868.168,23926.104,18014.409,33927.379,15565.813,24520.852000000006,29039.995,14525.016,15689.643999999998,33526.13,22456.385,10285.683,20422.26,23757.851,10224.388,27305.901,54658.766,10948.178999999998,24022.571,32532.741,23054.3295,25599.125,24536.247000000007,16103.321000000002,29733.577,36220.123,63963.279,23054.3295,43855.958,19092.083,28372.67,15646.204,21653.41,18072.257,23054.3295,5029.439,18212.584,16694.887,23054.3295,13601.802,46960.548,47371.78,54532.705,26346.358,37409.528,51884.676,11705.687,23016.493,37931.422,23032.115,25025.711,17152.782,14775.491000000002,36124.493,20223.747,79027.605,22474.103,13725.815,66130.26400000001,46169.756,21537.479,24588.957,21423.358,26206.49,14963.013,28563.229,18558.162,26846.884,30055.271,46387.677,28372.67,26306.35,17607.0,54905.39599999999,36104.958,40876.067,16264.95,33143.994,13031.284,21138.148,16103.226,12309.656,41831.919,29540.091,32075.784,44981.506,28372.67,23054.3295,14693.149,41498.096,28023.023,20494.31600000001,null,9943.02,25539.708,20602.512,14777.157,32979.755,23931.745,20546.643,27745.134,24287.655,47392.669,42839.18700000001,24920.888,19609.719,38071.059,10713.99,13955.593,73997.179,18513.476,26273.392000000003,23096.632,24137.183,26688.84,9554.916,11724.538,10289.865,17140.321,26071.803,null,10195.465,27054.738,40991.087,23054.3295,32938.974,28372.67,35397.728,14850.984,16028.457,44005.253,18101.945,89842.82400000002,40898.793,18270.497,11701.957,26747.864,32534.756,28766.928,21890.898,30667.544,32926.254,25800.842,95452.512,30573.932,28372.67,38895.125,23135.569,13809.188999999997,25230.623,22912.993,17507.786,12558.006,7710.874,17502.272,14251.551,27143.522,49934.984,30775.06600000001,11380.215,14355.306,26819.567000000006,25318.813,17189.031000000006,15808.027,19857.351,30213.348,16231.893,43049.742,21537.479,19919.663,27709.983,18664.579,null,15006.775,36076.266,25402.504,8760.863000000001,36511.88,19658.617,19043.677,14547.191,22607.598,18078.216,23054.3295,13563.053999999998,11378.323,59477.582,52332.376,26953.748,25997.777,15715.448,28372.67,46765.337,20684.737,39795.863,11873.881,16447.014,23840.096,23857.962000000003,32518.902,26458.025,164943.86800000002,30144.288,21537.479,12484.49,8293.454,27542.43,17727.206000000002,20690.891,19402.705,35835.351,35065.159,35813.765,10137.058,24366.08,7766.383000000002,32750.608,22064.193,35777.754,23054.3295,19885.104,17318.837,53437.359,78237.319,5968.521,18900.544,25567.55,38680.134,74283.021,27139.817000000006,31225.457,21708.543,50483.693,40328.613,18440.065,30120.483,24888.159,20637.627,28969.872000000007,23406.889,21666.285,17653.297,8438.872,27667.14,28300.486,17006.321,25636.623,29964.016,36326.539,18558.804,14600.053,18662.99,32758.299,28557.199,23054.3295,23054.3295,28478.217,21537.479,22201.496,30479.586,15733.373,26643.131,24061.142000000003,18875.205,14218.547,27616.367,16878.011000000002,21084.828,8706.475,32735.227000000006,14630.538,35782.026,12663.581,17859.378,23054.3295,31498.497000000007,23054.3295,21199.985,26434.483,21289.475,22723.861,18404.157,23054.3295,13732.933,15135.013,19476.031000000006,20009.081,32764.289,19760.203,58621.129,23054.3295,31689.71,null,26622.013,21215.981,89129.28199999998,5112.186,23054.3295,32850.99,34435.19,26480.043,28910.971,25687.155,36876.167,32892.16,27348.587000000003,22176.099,23054.3295,13828.012,29498.173,23054.3295,15245.836,25656.915,23869.533,10245.257,22435.069,20815.767,23054.3295,31237.061,25589.044,40981.048,15921.555,26089.743,21574.11,10561.342,16420.538,20835.012,26605.614,17715.08,38625.916,25638.872000000007,17886.996,39565.979,22253.161,15720.418,23054.3295,55742.496,31361.515,21577.255,21032.918,17693.288,14598.431,26512.761,21058.394,29765.801,23054.3295,68783.807,13125.048,27368.988,16546.076,38343.704,42662.879,21810.843,15819.508999999998,18839.773,11598.709,11210.154,16922.596999999998,14528.239,31705.199,23998.993,15285.287,52248.56,23021.811,17129.945,29314.003,13128.244,18797.727,28372.67,64850.212,13359.083,22267.639,26060.169,20632.291,24643.1985,28975.719,18559.909,9609.215,44622.356,20303.31600000001,31265.85,29743.861,20658.364,23122.567000000006,35267.385,14923.107,23054.3295,11643.927,13792.428999999998,98963.64,25623.604,28025.085,23054.3295,28086.381,54533.788,46570.158,11106.357,26068.256,69574.73599999999,16349.395,21446.357000000004,25977.28,13630.568,32488.543,22097.19,22567.673,15393.869,37076.92,29816.163,41080.081,24670.054,24340.134,20576.239,51492.005,34183.006,39253.599,20353.682,12964.811000000003,16328.162,18874.363,25400.966,30352.129,23931.357000000004,19617.035,16439.856,13785.618,18555.803,24137.183,11168.481000000002,29249.35,48903.256,25440.293,25969.209,43851.871,22102.647,21049.354,44143.027,55833.957,80680.42,20330.79,10048.878,38264.667,36229.844,25149.868,38688.037,19556.226,12158.73,62181.418,18885.134,21524.272,26827.559,34065.415,33405.425,38138.074,20142.039,63207.489,52383.963,23136.094,15098.45,33289.658,24643.1985,130009.491,10161.308,27938.435,24538.165,19567.833,71130.38799999999,35930.732,35303.28,18573.175,41007.107,49358.02099999999,73111.413,29211.657000000007,27910.403,52151.43,24431.317000000006,23420.662,38131.579,24200.625,58740.0,11772.348999999998,97027.332,28397.181,16564.256999999998,19753.375,40699.839,40461.748,28372.67,21256.185,21295.081,16750.099,32171.997000000007,23054.3295,36538.944,14686.241000000002,46263.668,13880.433,23054.3295,43098.076,23054.3295,27979.376,55794.92,14138.091,14324.243,23054.3295,8072.196999999999,20272.116,11462.525,19635.417,31154.97,43640.214000000014,16765.816000000006,43275.035,91620.2,109640.859,38521.551,26615.537,26464.196,23054.3295,16103.475,7685.186,40995.738,19434.265,15442.805,48424.906,29167.163,21446.986,18804.909,30791.867,32005.618,7850.343000000002,27715.458,23879.679,20069.79,36613.527,18728.488,13978.578,12809.573,29944.244,36175.291,29542.609,46030.959,33953.666,10905.45,21798.904,22369.551,20708.864,39995.06,8988.221,22109.735,37258.121,null,37228.307,23054.3295,12782.139,23054.3295,22136.001,40226.758,33802.736000000004,51220.773,6975.773,25057.842,23572.545,25248.568,45232.319,47198.641,25363.59,24708.514,36323.125,18918.883,16026.44,20152.862,11087.981000000002,15576.472,17867.611,49727.499,18105.694,28372.67,22735.911,23611.697,23894.809,15229.187,21031.475,13088.128,29460.046,36040.501,24123.15,24671.863,30248.858,30857.89,35630.381,7240.0059999999985,24137.183,20445.71,32214.831,36130.81,40461.158,18084.615,41940.92,58833.2,43968.243,30282.503,14091.932,9893.691,24339.141,26614.885,19347.263,19513.215,12179.354,49559.085,42051.358,27046.015,22557.125,21537.479,34403.5,35531.681000000004,21394.198,24767.114,26925.815,31193.9,21589.734,53593.832,null,22663.469,16408.611,8353.164,36112.371,25599.125,9794.076,21310.147,23890.474,22080.861,16922.625,61339.858,17728.628,25305.141,19232.334,18976.502,23054.3295,11244.236,33910.903,19243.235,23685.81600000001,18635.281000000006,17366.102,15391.273,30868.819,14356.391,25845.874,23054.3295,37537.402,32985.812999999995,23054.3295,13940.235,28372.67,14521.398,18471.106,19727.554,16242.078,31902.685,47851.014,27154.006,16750.913,18490.61,77300.871,18255.823,23044.788,29602.865,15390.453,18347.662,20342.641,54097.932,45712.043,null,30021.496,24792.765,18961.305,72971.157,16960.168,42733.302,23054.3295,49124.463,28372.67,22484.859,25406.978,24185.267000000003,20496.131,34239.304,38011.273,29899.538,41632.535,13317.175,7683.118,22547.797,10167.95,27846.107000000004,41858.061,42298.188,31047.025,7402.649,7349.507,23054.3295,13967.492,28372.67,17947.889,22307.149,20210.753,17000.321,20777.655,23054.3295,132642.668,14457.642,29198.565,25964.319,30785.039,23054.3295,20354.571,8473.41,23054.3295,12570.011,20412.753,null,21324.687,23054.3295,38543.322,15747.1,6023.274,null,null,67555.473,19926.856,21713.601,41055.729,13475.33,15632.468,22091.48,21670.069,28372.67,11749.92,23077.662,23054.3295,48018.654,37531.19,29098.659,23054.3295,20900.02,41897.505,23054.3295,15411.647,22816.193,14208.251,28959.686,27351.358,13662.584,23016.834,42309.261,14845.125,17480.332,27721.447,11119.469,34029.163,33766.584,73815.1,35343.027,17059.8,25997.866,27999.488,31195.258,17929.62,19367.641,21537.479,13096.556,26297.235,41491.055,31765.511,31803.656000000006,25984.216,26658.842,44918.24400000001,52474.02400000001,16577.42,28372.67,26546.324,39093.594,48080.027,18574.701,7540.3409999999985,23034.944,52611.599,13536.098999999998,41461.011,19155.72,31149.019,21672.103,34374.223,34922.182,21537.479,8670.671,22681.724,18017.397,24137.183,21288.308,27784.937,35773.084,14494.369,11183.442,39836.855,11771.882,33675.3,16145.674,44796.914,30901.522,48442.743,20151.328,37023.417,39568.177,37937.473,44174.46,27282.307,28790.202,28589.141,28372.67,52037.583,20211.822,31107.767000000003,null,22851.014,55581.105,21537.479,23054.3295,33238.147000000004,19899.832,28147.231,41096.339,21920.653,10979.925,null,23166.169,18783.245,15814.108,10534.5,15723.719,15985.67,65054.156,68225.083,23054.3295,47065.513,22685.968,23822.231,12669.662,29737.821,36014.017,18753.084,23054.3295,11221.229,24237.607000000004,28372.67,16620.195,17852.155,28592.151,31890.185,18041.782,33848.059,42155.207,15264.643999999998,16068.261,28372.67,11679.853,24309.544,23054.3295,45437.995,16142.767,10654.763,30861.56,55715.349,16508.122,26014.06600000001,41741.17,10751.598999999998,19431.718,24137.183,28860.407000000007,16802.061,15895.694,24770.876,21199.726,21925.651,35057.737,38803.959,13784.845,13556.778,23054.3295,22407.473,27273.381,35330.105,44568.054,16296.548,19546.341,19315.347,15985.436000000003,10286.792,20235.027,51215.809,59375.24400000001,22796.752,35510.332,44593.283,35524.974,6844.451999999998,21353.436,28372.67,23054.3295,58104.319,29449.491,14694.633999999998,19755.9,21688.245,13258.718,10392.73,28496.243,147343.635,24608.58,28500.678,13559.067,40478.17,16901.176,12478.348999999998,14838.434,36268.229,38254.261,24244.425,16767.04,20968.862,23054.3295,35433.843,25850.044,25539.733,28372.67,38537.66,21229.327,39224.594,25721.814,16066.438,13422.415,13745.128,28372.67,19552.401,11772.774,18339.417,17723.563000000002,15730.36,18347.68,9401.771,23054.3295,25609.428,29961.023,59914.559,23054.3295,25029.014,28713.054,23504.5105,42660.764,33465.379,34282.086,32772.4,45596.46,46399.849,54719.254,31627.46,null,20173.264,24248.342,22178.666,28372.67,34355.353,21371.822,46836.77099999999,14536.131,19897.161,15122.497,32800.792,25390.05,28372.67,28952.233,35802.388,14061.262,36529.699,38485.215,null,24625.496,29853.436,23054.3295,22062.706,null,23054.3295,17707.821,10947.008999999998,17876.602,21961.758,15647.024,23638.289,20304.234,14678.126,23054.3295,23054.3295,39447.198,20991.854,23613.587000000003,24666.564,26745.86,16667.278000000002,29883.233,15623.228,28096.568,11670.808,40439.177,null,21580.56,80632.062,23128.461,14977.582,12930.065,11861.826,39250.059,20440.811,58553.505,50678.335,22289.676,34237.195,22304.509,65455.058,15850.428999999998,32739.842,30852.002,46035.325,12646.154,21121.062,16931.514,45117.461,37972.111,18009.2,28372.67,33876.115,14601.707,26476.811,20699.521,23855.797,77817.261,10820.312,23680.133,33385.437999999995,12421.847,14129.115,24434.127,15887.618,23229.463,40061.343,29944.054,25342.612,41009.979,44082.765,18078.361,11819.008,24760.312,80849.713,25951.876,13947.336,15839.348,18123.338,20239.047,23054.3295,33788.746,28144.41,29459.253,22850.509,11742.067,25201.745,48096.54,14756.461,28807.428,26001.787,13799.973,23773.054,23054.3295,21327.871,89419.36300000003,15069.553999999998,22606.334,29674.315,45770.36,27753.465,27999.319,23369.434,12047.766,45449.438,30234.44100000001,18074.38,24894.34,8393.761,14709.761,64194.743,49307.717,29839.349,13860.678,23054.3295,46633.811,33641.318,13687.305,43183.86,23054.3295,17471.967,30719.797,23054.3295,28372.67,29190.928,12104.399,18080.708,7642.623,10567.026000000002,19391.195,17247.708,27026.576,23504.5105,30893.758,27884.63,23054.3295,29166.752,23054.3295,5496.834,31111.278,41646.114,29062.13,7797.513000000001,24717.689,36877.339,21334.101,22873.999,37085.208,28372.67,23512.695,28404.39,18109.411,25223.836,33451.914,32685.117,28372.67,25975.551,32425.205,14575.717,23054.3295,40640.003,21537.479,32010.431,13047.822,30126.237,14057.651000000002,24495.671,36898.064,18169.53,28473.789,25304.995,10588.979,23236.669,16775.295,28601.82,13024.104,23054.3295,20898.498,33491.804,23265.194,20062.57,10713.229,21424.232000000004,19542.857,54487.403,14232.231000000002,10427.666,11767.202,39601.034,25283.752,47305.68900000001,27110.108,26359.672,43902.465,13506.11,7388.226,28739.916,25665.144,19210.185,23054.3295,16469.564,16113.985,49778.364,49744.595,9684.573,17722.268,null,18264.789,41823.415,17971.34,24975.325,28372.67,59847.794,19630.289,16971.34,21974.858,10228.686,15457.344,23054.3295,21095.602000000006,31042.448,28184.155,32399.544,7780.778,19292.859,22383.717,29973.664,39227.664,24137.183,18666.698,39786.511,33968.21,23024.203,47737.957,18201.351,26679.429,21537.479,44789.061,23242.886,13503.803999999998,54024.283,26160.428,29121.119,29190.135,31722.578,17099.189,28286.555,10084.722,19125.977,18243.706,14747.335,9651.991,15052.293,89680.849,26153.177000000003,13850.468,16906.176,17844.858,12199.856000000002,23054.3295,11733.424,25599.125,41034.77,26538.164,66814.076,15232.826,24137.183,63778.125,23513.279,20657.299,35388.567,23054.3295,14685.362,10768.042,15782.457,25823.001,28772.731,18560.924,42142.71,14226.346,67917.27799999999,12697.798,23175.34,26475.339,50849.47900000001,37745.303,22290.807,23316.469,21283.905,55043.386,17944.782,46523.041,51348.709,23054.3295,53922.651,84385.064,68287.882,20642.753,34494.706,25184.617,36686.643,90399.451,16565.065,18064.251,36483.349,13257.731000000002,21537.479,34818.892,22912.349,16116.354,16624.896,19571.947,24570.135,null,26740.198,11524.821000000002,35060.529,17901.374,14458.598,15622.596,12681.176,22858.988,26258.621,17108.552,45183.35400000001,20992.378,18901.819,24765.309,19730.885,29295.537,25813.001,22971.221,23054.3295,20999.538,48882.292,13523.967,37985.031,26799.041,null,41089.609,27433.447,19706.952,21651.152,22678.982000000004,14886.996,41941.278,16940.561,10454.408,12908.316,15271.543,24070.272,19081.829,47151.121,36276.727,23054.3295,58867.425,26379.687,24086.901,27426.591,23054.3295,17019.016,21537.479,34064.642,38412.098,38706.46,18106.697,23054.3295,17610.67,22085.689,19674.842,23452.215,23054.3295,15846.667,18244.402,10271.113,15078.807,36642.514,21897.587000000003,86078.502,28372.67,12925.583,18599.162,41641.31200000001,44018.607,16123.98,25359.397,19892.046,41660.386,42716.48,16590.916,23899.565,21808.261,30771.439,33952.132000000005,23000.167,23054.3295,53191.335,16686.575,19118.216,17248.598,9723.147,22899.716,13725.297,23656.748,27765.264,9579.657,17477.375,19944.144,8375.071,25749.671,26047.868,29973.213,57463.168,89276.258,null,17902.208,23054.3295,53112.398,26016.572,15055.905,19204.339,21854.631,17065.082,18788.385,17398.27,18677.494,26495.023,31009.586,58601.087,14177.214,14183.258999999998,10379.57,22947.091,22639.514,26190.247000000007,17386.049,30446.247000000007,24971.05,null,14228.827,17117.463,22976.21,26002.127,9216.557,23054.3295,37767.411,36264.696,23054.3295,21316.542,7860.81,18155.595,29253.515,32207.898,17381.756999999998,29428.116,24663.088,14005.493,17591.429,27434.06600000001,21721.697,41645.31200000001,30402.46,71763.781,9528.126,38796.261,25535.995,13153.899,66310.538,42708.131,55634.502,21162.728,34037.07,30018.591,19647.257,22342.922,28372.67,19785.072,28372.67,59454.358,18574.967,9201.897,21916.289,13372.992,12435.455,29537.874,23054.3295,6557.178000000001,19810.806,59357.717,12401.23,21336.423,15194.741000000002,18327.273,23966.207,17564.804,11974.528,16423.686999999998,30141.462000000003,12131.579,22807.967,13380.604,34413.462,32166.571,17885.127,12915.097,11643.67,24643.1985,21537.479,18576.348,15218.462,16716.842,37615.1,28860.163,24146.33,26911.051,33037.59,10369.462,13132.459,35352.816,23054.3295,56792.666,25055.433,29427.855,34089.056000000004,22699.37,11915.704,16110.626,35350.126000000004,40112.181,47460.433,46522.456,18177.522,9292.747,21223.112,45612.06200000001,43599.691,28763.397,18841.512,70284.825,25341.607000000004,22881.353,11837.807,15781.677,21868.365,16622.841,21308.546,16955.783,63532.25900000001,40969.962,21452.48,35864.431000000004,54576.995,31927.112,13493.671,11838.983,21670.978,20363.623,36542.818,27429.423,30379.202,28627.517000000003,16602.515,21539.043,46201.957,66204.446,33134.881,23156.74,46237.958,9075.274,23054.3295,null,24137.183,16903.906000000006,31286.979,25482.484,21537.479,24280.015,28372.67,17289.531000000006,18485.13,23054.3295,31441.359,28406.377,17146.416,13455.941,19925.426,12208.7,null,40814.04,18967.697,19034.207,32993.62,11741.079,25599.125,13962.855,55021.407,37108.01,24735.064,19091.725,null,18482.275,21066.309,54850.977,15325.713,37181.824,27950.967,13860.298,22105.708,34774.61,30402.333,23054.3295,21537.479,15457.059,21573.02,18681.521,24996.94100000001,23054.3295,null,39796.052,40188.698,11745.142,8619.706,22912.988,15262.44,19973.994,27105.351,12321.36,32465.646,15862.844,23054.3295,26348.626,17735.628,19492.818,40454.932,20193.205,23482.917,22581.388,23212.39,12937.303999999998,26437.32,16942.795,20402.956,22548.938,27702.633,23730.277,11182.445,17576.178,22359.223,33609.795,6242.321,15666.642,12677.172,16289.676,19728.559,11358.913,12700.683,23054.3295,46328.107,24223.258,28200.986,35549.105,37033.79,37826.309,17701.953,25351.11,26448.67,23054.3295,40743.081,19585.787,38589.932,25976.702,52200.71599999999,13163.049,66252.319,28083.62,13230.073,13028.157,28009.064,25490.333,14515.227,23896.53,26820.151,56394.867,39324.504,32988.146,33205.596,45047.502,29718.47,12891.467,41271.891,22246.089,15301.278,20085.127,15401.126,46292.461,28372.67,17415.622,22705.301,14133.69,43728.989,14347.062,23425.261,22403.549,16506.64,26828.245,29388.647,11152.397,10680.184,18046.348,29634.345,31644.697,23054.3295,24706.713,28372.67,10654.808,27554.298,22130.409,16534.163,38707.38200000001,43495.672,15939.285,20340.53,47236.824,13066.632,9961.687,63180.395,24224.92,14824.092,23054.3295,18958.208,17567.805,30712.178,26974.357000000004,12457.577,35300.421,46046.03400000001,41800.589,27001.002,28511.011,38745.83,27876.358,20968.985,55947.006,23054.3295,21038.27,88295.079,73387.204,20265.501,32951.708,23345.489,44107.25,21466.11,null,31984.616,23186.534,70228.532,25990.13,17311.88,32488.958,46209.366,32921.913,20070.156000000006,20795.499,34987.901,49202.64900000001,15518.233,60648.541,29086.902,20312.89,34103.703,23222.083,22758.267000000003,8843.222,31766.726,34645.381,27920.251,32620.632,37089.921,44205.095,31511.072,16791.931,63685.921,18453.528,27236.809,28268.394,12806.306,22799.258,12893.803,19657.752,21537.479,27060.157000000007,31428.501,16098.244,16367.355,37384.806,21498.206,24137.183,20762.506,13870.793,15633.451,24926.673,24280.787,17717.306,46513.455,null,15059.219,20504.469,34566.866,45837.12,17390.193,15109.668,19025.071,25186.684,25703.817000000006,31788.985,20719.238,21255.738,35259.968,22433.149,37075.225,31415.722,26675.552000000003,19240.844,17056.45,16327.318,23054.3295,23054.3295,19703.231,48958.171,27700.22,30599.19,43261.086,20646.283,16795.061,21255.245,23054.3295,13951.956,null,null,17294.336,5820.374,63547.011,12735.648,15645.48,28330.068,23380.023,19748.82,26469.437,24519.626,19545.213,14221.208,17392.821,54289.875,22960.277,40966.307,21987.15,21570.199,42216.563,48750.32900000001,16803.335,23054.3295,13684.87,19554.766,13579.273,13318.57,23054.3295,28362.435,12833.323,30519.401,56385.918,15805.336,10481.132,17381.525,20067.768,12255.933,30958.733,23054.3295,28372.67,21537.479,60300.656,49965.398,25142.109,42351.054,17774.686,8134.4209999999985,15612.253,23317.281000000006,23054.3295,38592.378,70645.606,30483.462000000003,12779.846,23262.344,14162.159,13193.662,11603.052,25177.877,24208.41,34770.16,29942.798,27113.583,16894.964,27639.471,22798.072,23937.669,30665.979,23054.3295,19775.085,50332.213,29731.993,11555.328,16745.795,21537.479,12793.212,24428.466,26513.999,47915.57900000001,65400.614,24593.902,40763.147,19481.702,44838.503,13183.258999999998,16027.66,22983.795,30375.529,19754.064,28372.67,12612.604,144136.876,42645.641,null,24137.183,14543.15,10839.229,23054.3295,32972.215,23054.3295,41563.93,13847.181,28372.67,18995.013,15762.305,25724.857000000004,74693.058,43934.069,20091.76,15092.856000000002,36212.968,15739.732,18680.311,22342.202,12356.691,23054.3295,25437.331,23497.181,76134.582,20240.072,16889.175,42271.43700000001,23975.544,14694.23,28903.335,53098.123,19655.425,20171.213,12005.594,23360.06600000001,23054.3295,22481.365,null,65301.72900000001,19871.565,28372.67,38772.405,24872.475,null,15446.597,8320.6,23504.5105,41402.858,36708.14,21537.479,45032.41099999999,40251.102,43798.261,22237.156000000006,55569.278,42945.794,9333.515,26980.68,22380.933,29555.639,23165.53,23066.173,45506.70200000001,19191.795,26174.593,9920.223,24619.087000000003,11097.166,30253.131,31522.725,8207.823,21785.765,20762.764,53880.467,10936.432,18206.496,27145.514,26749.866,16477.408,23238.388,17464.803,21978.452,18414.765,42643.158,18344.857,19431.705,105470.914,11686.556,10687.448,21341.912,21882.366,20779.216,null,56202.927,53963.418,45069.075,23326.852000000006,34365.705,15953.206,12671.659,40964.46,28532.112,24753.266,34541.019,21347.075,42413.096,26410.722,14833.639,15931.191,10872.446000000002,19461.659,30545.949,23678.132,63420.992,23054.3295,34579.242999999995,21507.238,17594.322,20741.777,35031.27,53907.95200000001,20245.897,32890.774,36142.565,34998.823,33965.913,23054.3295,40679.391,15958.824,131588.163,36859.216,16600.807,57452.35,28828.748,25920.052000000003,12349.283,59319.412,11147.593,28372.67,30987.423,30301.571,21808.795,28372.67,31744.576,28828.385,23054.3295,33051.588,17011.005,20722.625,17023.838,8548.648000000001,25652.875,13767.602,19724.457,null,27797.374,28372.67,22662.814,30515.914,26614.458,23054.3295,38374.94,28378.455,73795.216,14770.002,28690.147,28372.67,29155.079,23054.3295,10533.332,33666.478,21638.215,21537.479,21752.796,23915.675,28160.203,26746.131,19327.459,38682.501,18709.426,72263.662,25892.579,35337.198,38182.106,12783.181,18270.477,30369.811,27882.09,23025.27,null,44420.201,13664.951,24752.294,26202.031000000006,13864.795,15607.369,null,68522.993,21384.664,16537.179,null,21695.318,44359.445,29807.5,13454.398,23054.3295,32747.253,23054.3295,18431.348,60122.965,17951.589,39182.123,23240.369,14653.965,26009.258,15409.887,22471.869,20337.342,21537.479,19578.286,25381.595,44298.755,40203.198,32607.172,27294.29,21537.479,33217.654,14769.368,39995.251,27102.117,17253.183,10509.574,21441.921,39854.297,11450.111,19234.996,28372.67,16716.226000000002,46485.082,23054.3295,19118.259,13276.538,22871.871,16720.556,26859.115,45638.051,18925.511,19675.71,49297.25,36016.792,16693.357,9521.968,21933.996,35958.837,45221.483,19747.313,15776.455,23226.336,64474.551,23542.491,49464.575,14746.735,35439.375,20977.945,35489.594,34741.952000000005,55843.862,18174.127,15316.403,17696.336,26673.183,21907.757,37261.11,18947.777,19679.29,21210.606,18446.774,53162.368,25830.279,100422.296,37735.234,40539.979,23522.103,22449.409,9589.269,32244.391,15682.671,64700.82,19158.458,33042.261,56369.408,42960.29,24137.183,13582.6,24368.464,21463.019,36625.714,16374.91,24921.971,23854.026,34078.584,50083.638,12951.971,21433.718,14308.103,23452.99,16154.992,32776.97,49467.371,27481.592,8087.795,24185.083,23836.608,18636.721,38627.063,9601.986,38967.287,58149.50900000001,18334.752,15561.191,47333.418,null,30141.296,81005.43400000001,23308.987,17050.973,65727.992,14871.726,15261.923,16304.307,26023.168,22355.085,49096.57,27785.979,23054.3295,35259.512,27379.347,23054.3295,16474.87,31518.163,13833.51,36563.806,15835.934,18603.957,35906.353,20140.808,8121.52,15984.83,25030.208,12222.387,9200.016,13837.15,24548.924,36125.333,21537.479,23054.3295,25261.5,26070.927000000003,23309.214,24789.718,47977.836,28372.67,27039.536,13988.276000000002,19558.217,32547.166,25406.728,34149.003,25931.517000000003,26945.732000000004,11562.911,22571.974,16763.836,22075.195,26337.084,17881.433999999994,40277.091,32289.725,22063.842,9074.223,41535.491,23054.3295,52054.03,52811.813,14993.819,12857.594,29796.064,18047.935,28372.67,37076.58,45304.29,32353.842,15663.375,36856.596,13330.452,7441.7959999999985,7999.371,14933.75,25200.699,18541.002,17440.921000000002,23054.3295,23054.3295,13365.114,21166.852000000006,13932.941,35337.937999999995,24178.161,27515.411,29317.471,58764.273,25687.724,null,35273.248,46348.732,39850.835,58191.745,28723.405,23822.646,30610.797,44350.151,37329.354,19328.358,20897.615,23054.3295,24165.114,23054.3295,28499.206,17452.017,13735.176,12679.373,59828.17,33421.663,21609.789,23361.509,24520.206,28585.524,24721.904,18470.176,20757.445,35147.679,19536.579,23054.3295,17549.108,30056.601,23054.3295,20010.374,16033.003,24223.273,44746.492,18225.287,26676.15,11298.303,16905.947,28125.397,15926.661,42796.686,25014.221,25599.125,10726.227,31141.257,23054.3295,24713.39,15710.698,16374.058,16690.019,18417.436,23054.3295,30643.137,19994.767,43412.711,10147.76,10900.402,34790.85,23054.3295,21537.479,104212.201,13096.28,41935.372,29604.201,27617.44100000001,34596.906,14722.38,28146.481,92432.828,28908.174,19912.329,26483.295,10804.736,null,19814.288,16275.878,53028.39,11751.744,27989.237,23738.758,26154.875,23054.3295,27143.465,17244.81,31776.667,16714.301,35000.044,26705.31600000001,31287.991,23054.3295,23054.3295,38455.983,14660.18,13703.149,22030.97,28372.67,31227.104,30887.178,39851.708,15274.708,17999.018,14137.902,30566.885,25237.234,22876.894,26913.823,14039.84,32346.594,24931.195,28156.762,23686.835,27020.895,33165.241,12795.723,21537.479,11745.294,13535.014,35720.99,15843.571000000002,23745.643,31577.182,16418.68,22612.968,25024.328,26934.033,22179.55,15980.173,13644.847,20553.414,12406.198,63316.433,18372.663,12548.908,23054.3295,21146.053,17871.523999999998,20832.834,18292.539,28372.67,null,12853.381,40575.773,10170.101,13501.571000000002,17943.181,19581.04,32255.75,43804.148,11357.893999999998,10650.458,26721.578,22155.593,27665.237,21854.08,20243.745,36713.705,22339.766,14968.423,46518.201,24972.176,11169.95,21491.395,18047.114,21470.354,29187.501,34499.02,29490.42,20660.177,8905.229,23054.3295,38917.785,33866.061,27705.654,23944.447,33000.872,28372.67,17034.061999999998,22179.775,36205.246,28372.67,23054.3295,21537.479,17647.914,30141.082,27042.873,32901.19,20373.244,20358.496,34117.877,10778.589,48049.093,60978.817,11216.013,17673.913,16453.92,33790.568,26895.495,55478.044,22414.482000000004,14690.496,15620.794,23054.3295,35010.403,16914.234,24664.355,22765.69100000001,10727.242,7698.01,17135.449,24998.537,18889.91,23357.125,31926.4,37196.404,20675.379,31720.255,18139.036,44062.217,16258.322,16265.276000000002,32875.329,15837.295,65449.92,11574.609,32226.385,25210.974,17197.703999999998,5905.745,null,61881.302,31546.442000000006,18350.249,14889.623,34430.52,19771.536,35535.994,22569.397,15506.031,23508.603,14713.878,27517.273,79802.75200000001,null,9045.861,17371.585,25195.275,23951.676,25886.421,12179.569,20833.21,30508.404,9201.524,22417.297,22751.346,23054.3295,45564.24400000001,13001.178999999998,28836.421,27339.558,20977.46,16136.312,39337.868,24643.1985,34911.099,25394.03,null,23054.3295,24137.183,29650.152,27281.343,25627.761,29451.933,40857.423,16347.02,null,35438.295,34191.123,40555.835,23054.3295,19951.655,64345.255,35731.469,30397.508,26950.782000000007,10205.132,30468.001,81416.166,19005.644,6548.851,14078.493,16780.922,50891.797,26471.598,24564.548,37888.907,32297.264,18096.847,24253.168,29171.011,45526.217,10587.07,32006.838,40305.923,16275.258,12644.057,6789.2930000000015,23509.244,20168.812,16173.43,16318.535,34998.146,11167.918,41954.339000000014,26216.976,24137.183,16327.232,null,8255.81,16735.817,15944.619,43975.477,22003.924,26222.372000000007,26355.936,30225.934,28393.286,25753.14,27093.439,22722.243,5137.573,28372.67,15528.828,10916.446000000002,21271.317000000006,31384.523,28372.67,10150.899,54375.037,8495.926,34322.259,17991.949,39662.245,11049.692,24700.887,23054.3295,28372.67,8259.862,17272.115,null,12825.878,76623.819,23054.3295,18767.187,16074.973999999998,35951.127,10173.088,14164.109,27575.499,25768.219,25452.957,30563.383,18138.732,21037.286,32803.614,36575.044,19054.836,23054.3295,21836.583,23312.784,30608.211,23630.176,9634.735,198426.4,42625.713,36419.864,28372.67,24137.183,null,22148.709,15905.342,30799.054,32265.948,22821.028,19557.6,32348.966,19608.487,17036.846999999998,16183.014,28198.342,18044.502,16798.862,29665.757,26897.773,null,20507.346,17804.927,20379.444,null,34472.494,31072.62,24137.183,11655.762,22288.716,23054.3295,26222.897,20413.664,21427.274,28372.67,20716.959,32952.529,22516.673,31320.429,28372.67,14594.98,48477.374,42047.447,14915.538,8965.132,23054.3295,23054.3295,21378.364,16456.214,15148.493,28372.67,28372.67,17759.771,14038.788,null,16671.905,18233.051,28372.67,49370.163,17314.381999999998,18945.114,34958.047,21670.47,18350.23,22363.492,36521.503,20751.575,28372.67,16081.154,23546.495,10373.448,26742.021,19369.999,36300.354,21537.479,15117.226,28372.67,31271.734,null,20205.769,null,19926.369,26773.885,26916.962000000003,21694.217,9886.936,10467.105,21361.52,25191.693,18727.883,21537.479,26051.679,21904.077,39336.615,13078.566,28372.67,21537.479,18745.582,37267.066,18047.667,26945.86,23870.243,23361.375,null,28372.67,25970.024,25196.889,28696.8,8168.094,28372.67,16048.579,25382.378,53335.16099999999,17435.811999999998,41596.033,25599.125,21097.986,64111.711,15810.784,17978.606,20098.33,32641.192000000006,25367.323,28295.412,10808.823,52775.973,20683.527,28372.67,25032.467,34785.764,27851.642000000003,27539.678,18486.279,21537.479,16079.253,20468.494,13798.505,36899.294,18904.271,27526.515,48796.34099999999,26148.739,23054.3295,18031.991,17672.813000000002,18005.482,11239.515,25865.378,60840.269,19356.994,null,20629.638,27635.602000000006,39176.354,20389.99,41283.107,21824.459,29534.881,25599.125,22861.6,30457.822,16089.494,30129.433,14200.924,18822.228,37396.311,29243.113,41514.479,45228.265,30058.904,34624.219,27232.796,32065.713,27239.771,21448.163,19542.491,27102.034,29418.097,16710.891,27716.834,37392.816,23402.309,25000.723,21101.255,14630.826,27220.459,63187.84099999999,15575.67,20006.996,18370.448,35593.795,18519.061,23569.598,21999.28,25599.125,23347.058,8209.097,17253.19,21537.479,57508.032,45760.338,25548.188,26876.74,27859.855,23687.274,null,51647.482,41333.554,23054.3295,22503.638,10980.249,19985.373,76921.054,13074.913,18853.907,26402.903,44523.936,33799.689,10896.436000000003,39502.985,15637.82,21131.89,11225.12,16910.851000000002,13914.58,15553.408,30921.501,23059.392000000003,46269.082,28225.736,23084.157000000007,21839.028,17853.175,11123.45,35806.02,17847.603,21537.479,47444.057,52445.27,71576.091,42353.242,15329.334,32103.597,35571.324,25598.899,33532.383,16975.226000000002,17956.556,18965.83,48768.81400000001,29268.348,15150.32,25169.68,39003.701,23054.3295,24667.528,14971.83,23054.3295,40795.174,19898.851,31822.009,31568.228,27775.561,50355.811,44413.162,30341.937,27151.705,35528.67,33058.745,23594.574,12079.035,22570.871,15807.817,44841.023,32234.711,20346.012,9700.675,42370.708,9863.48,32163.059,23375.842,59612.82900000001,83412.012,12869.693,12328.205,37208.741,20446.429,15827.125,12980.982,45879.406,38110.015,43184.537,16371.151000000002,11903.497,29074.865,20321.043,41277.174,31973.294,8678.712,41305.985,42343.044,57858.046,13400.014,33084.927,25144.18,21246.453,36698.671,44213.972,23054.3295,10702.587,23395.493,15599.393999999998,20457.553,18165.674,21426.187,24563.694,29992.782000000007,23149.028,34883.109,17395.975,19885.778,32752.899,12857.813999999997,22246.105,25599.125,null,30809.718,28084.338,10897.941,27647.046,19836.143,13016.201,34987.972,45311.629,26417.067000000006,23156.578,15393.272,25187.046,32779.666,16243.642,48675.345,14484.264,16851.115,23054.3295,22809.714,23012.518,15315.024,13054.225,24963.268,36534.994,29225.756,7803.663,10061.48,20772.619,14225.965,42015.008,14917.893999999998,29815.861,41399.963,21764.85,60327.208,29713.868,24711.559,38372.74,31719.783,11591.761,17409.486,19179.074,17592.984,25329.934,61046.281,30401.864,38250.85,23312.944,34065.658,137317.611,23054.3295,16273.853,19189.334,16447.596999999998,45594.068,null,25599.125,null,33831.605,23629.249,19338.387,23054.3295,19353.999,26137.205,21537.479,30733.714,29197.324,28009.163,22493.684,16886.18,14696.235,21861.396,13436.037,63510.75900000001,13916.403,26893.694,27443.193,22270.17,29517.646,34921.94,25597.735,17916.776,26603.48,13807.16,21058.602000000006,21593.545,16029.835,28372.67,20576.613,20426.354,16908.433999999994,17101.226000000002,19693.522,54085.44,6689.661,12976.326,45850.667,23054.3295,15383.747,37979.17,13299.694,26155.455,13376.687,15388.406,23054.3295,26324.806,59310.991,30408.267000000003,11114.219,31607.243,33149.006,29352.071,16156.607,21811.115,23340.236,6646.607,23054.3295,35679.758,27310.97,15526.345,26085.694,32754.861,28372.67,23535.525,24169.276,21589.567000000006,15352.881,24263.836,13147.425,24710.483,22453.444,null,27269.983,10702.944,21175.651,24137.183,70221.098,18711.337,19252.3,55743.575,23054.3295,18222.185,27865.527,23566.996,12228.951,null,22100.265,18116.711,21447.109,23054.3295,28372.67,18907.068,93572.235,24379.28,16449.447,23054.3295,21711.212000000003,25956.164,14687.766,27938.302000000003,13900.184,13873.22,36357.464,21968.873,21207.433,28372.67,16235.181,34971.932,59610.309,26738.554,15243.223,39176.153,10771.343,28372.67,21217.791,34567.78,17100.216,35156.112,24224.825,59261.765,46879.59400000001,25332.585,28372.67,17649.819,21908.936,28372.67,73249.354,40580.844,18805.007,23054.3295,null,8807.219000000001,18473.634,28372.67,23054.3295,19953.943,33655.221,51682.903,36075.828,46428.18,17680.879,8512.091,32772.447,13929.07,14254.445,35326.2,28794.381,53500.725,32557.765,21156.942000000006,21537.479,27690.894,47258.211,10250.571,41047.731,38315.908,22450.619,24850.777,32088.485,33502.886,65089.227,39151.857,17951.287,19587.514,26941.351,8487.341,12054.271,23793.496,20950.511,77084.465,11222.973999999998,28372.67,24199.909,16483.002,14265.743,15254.762,23054.3295,17914.45,23054.3295,28794.931,30216.829,51272.403,38075.048,21483.99,16681.096999999998,31445.292,28068.272,53029.055,11041.113,19869.842,26089.687,28372.67,22552.492,59315.41,14449.467,30665.729,28372.67,51598.225,13726.654,34725.617,23054.3295,17388.616,40173.748,33515.207,62184.278,53892.126,24138.917,15149.78,24067.224,18001.325,41308.764,22199.256,28372.67,28058.427000000003,21290.221,23432.859,31877.295,39243.528,33514.404,14258.458,null,24137.183,27177.944,21537.479,45457.36900000001,11643.014,27028.828,36634.573,15950.803999999998,23054.3295,39682.155,43388.832,14230.341,13447.062,22705.467,30635.033,31430.538,39655.574,20861.861,18882.261,28372.67,13292.507,18809.083,18521.145,31376.722,26035.264,25841.708,36012.965,26577.484,19427.323,31826.044,88504.80900000002,12340.823,17982.422,23335.452,17843.074,25160.384,16282.881,49172.782,23994.484,11998.903,22209.453,25782.116,28372.67,11035.141,49703.63,30360.035,32693.442000000006,21998.037,15154.607,16500.07,22623.736,30077.421,21109.492,23054.3295,28427.992,28101.669,8705.929,12131.882,11650.923,14274.881,20066.424,30296.819,30438.693,72970.51400000001,37887.876,29618.059,23054.3295,43126.232,113898.597,14023.592,28239.545,15393.585,31514.904,21992.042,34675.541,14082.327,4245.348,30155.429,32017.762,33867.505,15182.788,20728.372,26509.392000000003,23054.3295,25304.907000000007,22672.808,13422.491000000002,20568.986,29732.787,23054.3295,37399.845,17057.058,25599.125,24710.044,106167.744,39098.411,154788.068,23054.3295,28372.67,20798.609,13784.335,22143.448,22825.308,11880.143,20860.868,20604.773,20418.704,12104.639,22167.237,12545.323,10963.857,20848.916,41742.451,19963.203,19194.395,31745.176,17627.637,38105.138,32886.362,33528.276,41718.93700000001,26846.718,33216.082,7583.27,31193.545,27959.769,15248.61,19858.46,28853.289,22308.173,30281.11,10454.178,14318.381,20038.048,13694.46,30860.935,22747.148,83038.70599999999,23054.3295,18888.94,15004.338,39491.231,11646.31,22492.095,24168.825,28372.67,19185.892,36822.584,23054.3295,20677.955,46426.031,22748.172,46422.294,21139.745,23387.843,18684.308,31829.743,28372.67,49266.72,11774.294,45542.13,39916.401,26432.217,38224.372,28121.507,41933.693,20024.171,20873.405,39402.82700000001,20953.333,28895.221,8154.029,15655.585,24054.1,22466.517000000003,26790.778,24394.016,36155.318,44414.129,22572.535,32370.021,32679.778,22529.581,18783.14,36305.66,23166.429,26673.403,30980.722,65303.641,20100.443,28372.67,19070.81,19178.083,23054.3295,17796.218,39399.348,35105.202000000005,10195.058,32552.17,24243.636,20056.296,14616.674,52627.06,61938.593,23054.3295,23122.324,24643.1985,61409.205,18689.394,12515.537,null,28286.622000000007,null,25829.274,28372.67,41865.368,58702.724,83678.613,30550.133,23241.043,25637.698,18897.568,22054.679,null,15385.589,23054.3295,21537.479,23054.3295,26843.442000000006,25223.457,6637.729,17457.97,22247.921,37076.626,24020.111,null,33585.396,22019.825,null,20464.751,30474.911,17839.837,23507.396,28372.67,12654.031,28372.67,25182.006,48958.35400000001,31317.486,21271.697,21639.149,28009.451,21082.074,16426.949,22547.831,13007.417,27459.026,40869.232,42113.307,28372.67,23054.3295,44297.446,19621.456,23483.169,43501.785,18303.138,23054.3295,51589.948,null,14309.428999999998,21537.479,22186.536,12895.62,20824.661,16852.727,27926.478,28372.67,10505.027,12705.73,50046.414,22214.38,37507.929,12712.666,21843.159,26595.478,12289.202,32353.905,32254.769,67243.797,21611.546,14623.444,29774.864,21300.218,15170.372,14283.046,24878.888,41172.707,18441.856,9665.221,26113.402,8620.065,11907.508,13157.376,15592.771,16838.735,49563.898,11999.258999999998,12966.73,17533.388,35259.592000000004,19456.296,32094.311,42263.552,11175.59,19792.904,74566.711,23292.461,16967.488,25564.033,26235.164,47622.798,34081.113,23054.3295,28463.946,26439.668,18062.995,28681.649,33547.344,10129.066,60467.414,12512.916,23770.694,25830.415,29258.609,36938.307,31927.992,26488.837000000003,56517.269,36736.129,12346.936000000003,24405.337000000003,31778.979,31943.849,16085.217,33536.776,12990.822,27201.345,65637.848,27887.82,24988.437,46377.285,36727.07,15209.353,20208.92,23054.3295,29325.861,36799.159,23038.526,32578.317000000006,54379.10400000001,23054.3295,19021.184,28426.769,26563.452,null,21595.193,12483.593,13595.161,26265.407000000007,28477.825,22340.433,14122.393999999998,38810.707,42814.054,18318.399,14784.303999999998,23054.3295,18124.861,23054.3295,17717.1,25678.256,94130.998,31723.494,26059.591,13967.119,40863.371,10913.103,32816.53,30282.333,19486.362,26134.234,29550.013,20460.487,9156.449,16737.906000000006,40134.582,5148.514,13848.958,30666.853,11737.9,22531.213,24829.189,13422.77,9137.86,24137.183,41447.81200000001,37965.843,28667.985,13191.688,40202.961,38260.984,15188.11,29073.514,27806.761,19493.278,17717.613999999998,28372.67,24137.183,40972.059,45665.097,30053.362,30795.243,14942.06,21610.782000000007,17082.601000000002,13546.978,13605.19,22058.159,52364.518,21178.732000000004,22290.431,16785.131999999998,8453.127,22548.614,21627.165,39381.295,23054.3295,40822.059,26954.608,19159.803,18922.458,15819.455,25363.089,24137.183,15284.14,40260.571,21067.64,17393.876,13966.085,31581.216,22402.577,19282.535,25523.034,48813.75700000001,23054.3295,16241.026000000002,36659.906,53872.792,20252.709,21537.479,9396.234,27917.493,22235.633,40123.494,32757.513,18458.808,56025.898,27317.847,23054.3295,12237.915,36149.378,19980.024,21537.479,39241.405,33907.386,31953.153,23054.3295,22326.751,35833.102,32200.453,16231.551,42181.29,41067.778,37180.918,36201.039,46987.614,14540.608,28087.193,26948.745,23054.3295,25599.125,20430.696,78276.312,41381.856,27915.284,33851.153,21697.148,34707.54,30037.075,46471.679,18447.836,45771.90900000001,10085.365,21521.416,14442.397,62802.136,13711.917,17985.47,23032.572,24692.45,null,25837.29,44087.044,16830.03,25027.476,11225.987,13116.776000000002,23345.059,13746.369,47451.33,47548.887,20202.023,24140.356,41926.318,35527.949,15426.938999999997,10460.428,20967.843,33816.461,14842.276000000002,19825.315,28372.67,71640.025,19051.091,21193.575,28884.746,32402.223,28040.808,16521.186999999998,29971.772,25224.333,31334.761,20461.38,26914.453,23054.3295,null,20964.484,31083.672,30094.209,23054.3295,23054.3295,20871.882,71247.155,9911.007,23054.3295,15977.933,31382.853,15970.101,18047.111,10344.836,21537.479,55871.78,12445.485,21537.479,25772.936,22867.513,14037.249,6227.21,11171.465,28390.473,23749.634,13521.624,16349.021,28372.67,19935.026,37158.954,13682.801,31612.55,28724.503,35591.187999999995,41124.6,24525.224,11210.526000000002,16230.732,70675.413,26316.956,17565.65,23054.3295,52520.599,23054.3295,27455.966,15098.642,24795.987,62075.626,23509.127,65800.049,35829.406,30752.24,null,45353.133,12651.522,18244.061,23049.303,23810.733,21537.479,45013.147,28084.045,9879.29,33253.133,32061.335,20839.964,43765.108,23054.3295,30644.291,52896.11,14566.0,32055.435,7605.863,81729.355,23054.3295,46023.291,20450.825,30229.591,20030.829,16446.029,20769.503,24137.183,26570.552000000003,42680.824,30259.392000000003,12844.211,49465.164,9940.303,19977.377,21793.796,26524.243,26993.103,20763.285,32796.457,41853.706,31517.406000000006,60730.88200000001,33825.268,20421.881,9712.563,36463.246,48109.133,17940.383,23054.3295,21241.951,66428.698,36066.108,14764.562,17972.742,14655.74,25967.969,25316.381,39796.82700000001,null,10239.484,15359.692,19173.588,25433.832,17676.674,17985.841,26935.467,24821.184,29643.534,18475.633,11847.257,15163.04,21533.555,26255.729,22390.018,19482.048,16223.49,29020.197,13146.881,26778.655,16020.944,29013.992,11913.758999999998,55791.571,13999.517,38850.301,32190.766,31635.82,33729.829,15456.845,14342.733,27853.278,25484.438,21467.94100000001,23054.3295,34718.289,44704.256,40588.892,24137.183,24913.841,24172.592,11727.063,25233.585,13583.485,14083.388,18340.125,56857.25,10296.44,39752.886,18496.957,25269.893,23054.3295,21434.63,17879.353,23504.5105,10219.773,16823.508,18355.161,23951.352000000006,36133.973,69579.592,13622.921,23054.3295,19772.363,21966.268,16268.025,18699.918,14963.131,30485.599,21295.993,18903.915,25073.205,30500.933,35412.263,24142.603,17909.402,50986.865,12894.765,23359.594,32802.197,15416.49,38701.304,20341.117,46321.101,23054.3295,12837.775,17471.402,24537.06,20717.828,61825.403,43109.208,16565.699,17777.821,null,21550.216,25599.125,23054.3295,14342.515,27730.825,18466.113,15879.291,25599.125,24251.832,11370.711,10375.534,15066.271,49167.211,28035.539,43062.709,23054.3295,8371.021,26381.81,19703.653,52363.125,18121.113,13757.121,35100.69,54711.123,45430.472,18071.527,7910.731,null,15155.927,31539.894,8352.197,27646.8,15640.283,35817.211,12784.473999999998,23054.3295,28863.006,14787.19,21114.695,19863.902,63450.671,45484.109,17890.497,27244.125,31454.972,26623.499,17041.465,9554.981,21537.479,17661.961,51367.044,28372.67,39396.218,40572.709,27700.306,20207.943,29753.013,17243.525,24137.183,38327.984,44372.103,36694.816,30451.01,53411.921,28387.016,null,17833.641,64612.028,161034.897,38006.29,29733.729,17826.675,31827.11,54108.967,35587.732,27650.597,14617.122,24725.162,276204.162,23662.243,28372.67,22715.229,25093.43,30386.017000000003,14528.896,8982.005,50721.427,16797.646,18582.29,19277.786,28372.67,25395.812,29704.126,15405.508,23054.3295,27616.19,51545.715,16005.891,30388.66,28372.67,null,16881.685,21243.847,24137.183,13078.95,24781.243,23034.289,30575.345,23796.603,22561.683,41838.94,59221.60400000001,26433.183,10811.898,23506.018,11273.001,36974.407,24163.621,13051.293,26623.046,31045.278,44197.212,68199.29400000001,16588.237,34913.536,23054.3295,28780.673,13650.645,30263.795,18979.707,27274.134,61371.85400000001,14975.017,13052.087,24150.681,18376.796,21659.344,41752.471,28372.67,24554.199,34461.99,19660.626,31902.342,47719.974,48155.069,24324.808,8460.209,8696.693000000001,27668.531000000006,23054.3295,24584.077,25908.399,13379.9,23226.926,42908.055,8483.559000000001,43161.464000000014,28372.67,20171.497,11957.567,34248.698,23054.3295,51200.608,13964.02,29592.953,40290.153,64773.907,46768.53599999999,16700.761000000002,23054.3295,26155.832,20389.389,36512.818,54274.655,10362.047,23054.3295,13270.555,19523.169,null,21822.673,17784.179,22522.321,37768.384,34260.515,44882.92,17749.194,26833.136,27793.122000000007,19376.463,31956.693,18694.922,31971.805,23504.5105,16572.953,null,22027.089,28373.346,51179.525,24662.212000000003,47962.816,16414.385,17198.76,12519.258999999998,24173.081,8674.212,43759.772,26401.557,8911.41,10535.166,25536.378,15632.111,10368.348,20537.392,15882.19,16075.011,38977.12,24355.952,7833.555,27326.123,37195.695,20956.516,14199.656,18514.969,42417.5,20268.394,32000.993,37632.343,52576.957,32452.232000000004,45586.292,11267.712,20131.689,46242.06400000001,null,25218.248,41366.903,22669.631,30248.34,17425.483,37903.495,24929.647,13266.553999999998,27248.535,24540.355,35099.487,68252.648,16274.466,22560.858,33482.931000000004,14026.202,35336.794,18589.609,10421.355,45098.03,44397.45200000001,38462.035,28372.67,9591.824,9914.341,13997.734,16136.25,38027.188,null,15210.481000000002,20992.379,52321.556,34601.791,null,17042.393,17416.825,20730.251,30078.603,30226.835,17653.21,21537.479,9860.482,8072.573,24041.342,null,21832.241,23382.756,28028.818,22584.95,null,26449.094,13261.5,16782.18,15712.26,25413.785,26502.519,14795.433,53355.883,26390.401,16986.041,26883.562,33536.261,13196.951,35101.937000000005,19638.483,20094.359,17772.94,12585.779,23901.878,null,29080.874,21586.743,26669.075,21051.323,20380.054,17708.753,23402.855,23279.908,23124.823,null,13194.351,23054.3295,35208.518,41829.529,27026.967,37379.099,null,59376.783,32282.13,28372.67,35732.448,30065.477000000006,39066.278,23052.386,16378.569,17669.87,15155.196000000002,9693.913,21223.554,22781.19100000001,29125.868,46611.828,10599.747,51614.897,51123.772,14368.391,31657.491,50494.533,30162.089,13987.291,14002.045,10529.466,24858.99,23054.3295,33476.518,14653.892,18035.779,69608.0,29948.675,10631.642,32760.882,19956.041,23054.3295,13512.17,30732.636,28372.67,17911.796000000002,42107.799000000006,28033.679,18208.672,27955.259,32196.164,31302.182,34803.367999999995,37379.016,44210.122,23054.3295,51289.478,120038.401,35963.598,32461.554,30640.45,45187.01,59935.234,31576.647,27546.955,45945.36900000001,13575.869,31474.493,23264.109,14895.676,25599.125,23054.3295,24307.262,24137.183,23126.298,33627.577000000005,19653.146,23340.099,23054.3295,43812.19,23655.94,14537.671,31240.162,23054.3295,23054.3295,9097.503,39187.01,23054.3295,24519.183,9217.697,20962.074,14278.516,31884.635,14845.378,8319.232,28372.67,20839.402,28577.346,24421.423,15065.765,22554.747000000007,20280.745,17799.142,20459.14,12248.018,17118.892,36409.107,28372.67,48501.946,15023.972,20218.067,14757.285,9992.615,46761.81200000001,23054.3295,23054.3295,35828.335,16331.52,28899.959,45671.48,18017.843,null,21537.479,null,12880.609,21047.808,17925.83,null,20645.358,21352.509,21059.177000000003,12660.618,13414.084,56775.429,18453.717,23054.3295,26838.552000000003,60102.764,31825.793,25729.681,28679.85,8953.542,20045.284,36171.906,13785.307,13180.667,29156.601,25605.562,28372.67,null,51746.175,21299.624,28372.67,24137.183,40369.066,13077.531,16956.013,19556.036,27037.44100000001,24819.745,38369.002,25294.642000000003,31933.912,73737.408,32110.89,26446.969,29104.966,28964.417,35376.309,26443.618,28554.526,20921.655,16119.536,6766.734,20579.478,20779.861,27706.769,7727.371,15321.229,24893.438,16227.483,17813.813000000002,18280.345,35987.699,21449.331,10535.248,39492.89,21537.479,null,20484.395,17726.402,23184.42,28637.016,null,33514.554,25357.305,16529.127,25599.125,20568.944,49150.856,22067.142000000003,12257.832,21802.168,40599.091,22445.389,28554.297,29372.422,45909.65,60519.243,24171.947,42192.482,23947.5,28372.67,31237.129,17836.07,45318.961,15150.253,9154.337,23800.23,31729.462000000003,9135.619,20877.38,24060.247000000007,23054.3295,27333.887,27021.196,35128.508,28585.124,25027.05,18186.229,31725.286,12867.287,34411.622,24434.56,8735.003,11885.984,null,16931.653000000002,30740.789,28860.352000000006,15803.483,54924.016,27560.645,26724.752,36936.691,25857.158,38893.774,16743.898,23054.3295,15142.488,27325.905,17020.743000000002,53555.082,20311.257,26042.377,27077.287,23054.3295,10224.057,24310.82,29619.077,18044.639,18246.956,14553.476,48097.71400000001,19383.339,23409.162,42764.198,null,20073.922,24375.3,21513.737,52921.525,29185.162,68110.19099999999,14145.779,69856.712,38749.375,26632.14,24755.696,21837.989,17300.846999999998,17321.81,29757.53,25837.835,42240.214000000014,11573.677,28374.262,28372.67,30911.796,34692.16,17358.695,24137.183,51343.959,14436.494,17355.863,49183.566,23054.3295,37402.691,37515.459,33786.643,19198.561,19370.96,13918.72,11431.831,16204.997,22718.63,9348.68,15250.068,11643.074,25516.973,25736.519,23054.3295,23054.3295,17168.104,15177.621,16766.806,22779.041,54003.982,23054.3295,8163.589,23054.3295,22714.457,27739.325,21983.256,28079.577,22102.972,33707.254,15714.846,31242.277,15637.209,27147.843,8777.038,18753.452,59670.431,23054.3295,17902.699,23054.3295,12022.819,22743.793,14998.885,35316.207,23054.3295,23054.3295,25599.125,10521.746,25599.125,36726.298,34729.907,22650.484,30710.555,19381.16,25527.412,63010.348,25085.4,74434.198,17763.384,32028.538,21770.327,63562.138,31625.349,34937.134,45365.623,null,21537.479,176552.86899999995,32194.454,17553.304,51514.567,26903.686,22875.084,41242.424,34392.671,38544.104,27058.137,17404.103,28372.67,null,13376.994,17063.343,7914.873,42167.214000000014,8635.452,77267.125,44919.828,24565.628,94461.557,16691.095,14384.993,21094.932,26747.218,23054.3295,29262.496,30799.71,18617.923,31021.14,21431.53,31245.35,18119.711,7789.81,null,34733.305,14259.963,23054.3295,26190.468,41398.891,27622.922,15654.898,28372.67,10671.05,29131.536,27436.356,21545.705,43365.426,34737.475,25596.588,21537.479,37190.9,40416.123,21342.494,20124.911,41081.551,21057.355,54474.81200000001,45595.128,16306.526000000002,7086.267,47758.155,36656.839,17059.727,27189.494,12914.957,7907.044,23054.3295,20777.229,23533.055,26345.75,19396.352,39004.175,42933.171,28372.67,30892.829,44764.213,23054.3295,28724.493,42476.851,25746.401,10745.602,10992.28,19635.319,25154.92,24941.659,25540.324,22518.684,11656.258,15149.745,22091.447,45068.324,23537.843,23648.221,20985.261,23054.3295,11226.915,47071.931,14377.347,70860.869,48489.701,39625.653,13737.587,50362.383,23054.3295,29903.649,24666.0,37051.317,28372.67,110402.161,34798.466,15883.191,175672.758,46978.667,14470.124,24137.183,36264.823,72414.762,17252.45,22254.767000000003,28372.67,11392.543,22320.819,15878.23,20653.612,null,14155.631,16477.631999999998,27440.036,37211.848,23538.19,9923.431,24619.891,28117.514,19138.792,12446.935,23826.56,25701.531000000006,24599.425,16617.195,59694.91,28372.67,77288.768,16773.706000000002,13880.879,13597.959,23054.3295,27799.785,38244.101,18225.228,18826.499,30784.387,30577.338,34664.156,23579.864,31080.342,29034.561,23054.3295,10066.611,11024.535,30649.52,24179.068,null,10377.524,31621.798,24867.855,16225.561000000003,36721.762,22162.158,23588.472,4036.463,71982.66,29408.37,40433.206,12466.204,32863.657,32204.687,55618.367,28372.67,22079.614,61704.352,33118.686,16951.723,54501.431,null,41965.039,12441.188,54378.98,17972.111,21181.719,null,13435.898,18860.322,23969.102000000006,43004.654,64568.708,33074.364,27507.604,21344.375,49988.336,24863.201,18165.936,35729.177,15889.017,21680.743,12043.712,30730.494,15124.255,9196.012,33924.068,33582.015,21815.096,34316.104,19252.723,37682.36,30138.252,20798.403,32795.038,43838.027,25859.043,21947.159,36410.915,23752.956,18554.905,23054.3295,23054.3295,15834.253,26598.472,23054.3295,13181.994,42662.06200000001,37226.011,null,33400.644,53391.444,23164.834,37375.094,19118.69,67122.9,13439.133999999998,38320.735,23054.3295,25832.261,14195.656,28372.67,29064.076,21072.267000000003,15748.683,28124.565,28992.087000000003,36055.426,20075.28,17763.547,16960.521,12881.261,32866.241,19429.288,53605.713,22512.642000000003,26449.655,49658.801,20778.73,62404.08,21277.328,33574.966,13924.075,37339.504,38277.235,31130.477000000006,22833.861,16715.058999999994,24862.912,22056.771,34887.552,16564.135,19939.52,27753.313,26089.687,38083.436,134693.896,13009.711,18570.01,43675.499,28837.462000000003,10171.943,41101.996,14088.628,34862.422,28113.829,25051.674,51284.319,10710.782,17608.738,16942.209,24740.033,22140.824,48262.06,7894.071,12840.629,14901.129,25529.398,31758.007,12396.621,15579.672,21537.479,11290.431,23054.3295,15758.727,11970.968,37127.032,40095.43700000001,22525.349,21009.404,10659.756,24100.136,32656.314,34330.531,18782.421,14873.765,23504.5105,35883.479,29532.701,28372.67,26807.667,19599.167,12872.61,31403.86,27235.94100000001,26089.657000000007,38027.369,16311.017,31761.504,10793.625,24916.149,31297.274,32635.782000000007,99482.523,24151.1,26544.611,20259.251,null,30118.98,23054.3295,25599.125,38244.289,30566.971,12956.821000000002,42779.209,12412.788,11590.391,26758.754,15252.008,22902.284,11587.341,16175.856000000002,17659.896,28372.67,24772.267000000003,57147.11,36862.977,23054.3295,17366.39,23389.54,42952.777,21887.825,36897.717,18949.565,44367.972,38848.557,12214.962,38765.578,20744.733,65925.98,61443.285,23054.3295,15122.918,23054.3295,25599.125,39894.957,18851.768,27599.341,17262.251,17465.828999999998,25865.078,17785.179,26144.483,23098.786,31791.384,12735.073,30701.195,45052.616,27244.626,32634.186,24095.601,11176.028,15139.528,41228.731,15575.895,10277.447,31694.189,39076.43,47404.685,28477.789,21021.275,28395.982000000004,56052.59400000001,18822.322,18451.549,10185.404,22889.486,25873.476,14192.831,16121.507,31527.5,18543.891,37408.04,27034.605,34861.457,34078.44,14877.041,35955.484,13532.438999999997,64301.13400000001,12905.725,29450.072,21183.52,22963.43,19705.139,10847.1,25013.279,33155.583,12930.18,28995.394,9903.982,21620.662,15011.065,27899.242,42155.929,27452.302000000003,54221.256,51256.172,8237.966,20739.286,28372.67,28372.67,13345.883999999998,50448.587,46786.897,11403.058,20134.791,16072.457,39939.539,32941.742999999995,13206.706,38456.428,24885.679,18162.368,16883.091,16567.216,28372.67,18352.727,20125.445,23054.3295,41027.84,28372.67,24428.174,21757.2,34545.142,20215.413,17023.8,43655.991,14036.809,5639.846,26363.287,11090.241000000002,28191.536,17652.231,23134.421,19574.853,24582.12,23642.621,23482.92,11269.595,8469.247,27045.692000000006,15732.348999999998,44788.442,28450.829,28594.019,21537.479,21754.79,22725.861,23962.722,45018.459,17402.645,31464.458,9671.633,16124.028,38485.19,27180.534,57561.413,38759.221,25806.008,36027.299,16757.623,20968.48,35500.439,11973.23,21886.619,32716.42,21537.479,40911.469,50195.872,22291.609,25960.111,23054.3295,13655.3,22328.965,31640.472,24748.124,15527.157,28372.67,19408.178,23516.276,23054.3295,15148.063,25692.019,29678.742,33302.055,21666.098,36639.35,29991.731,26643.296,24890.759,15542.293,15065.707,45130.087,24059.096,14068.116000000002,26222.172,13873.316,36133.93700000001,10146.226,27877.019,31450.946,33262.362,20096.06,36741.225,63822.096,16070.42,63289.92,17655.102,35167.916,23054.3295,23054.3295,22669.581,13495.672,12862.938,34113.343,22926.296,23054.3295,15316.68,10354.645,10060.709,34790.701,23054.3295,24843.899,27680.599,28372.67,26698.204,15175.434,28372.67,28407.413,32927.202000000005,45781.475,66361.73,30465.574,45943.372,9893.924,8234.199,28236.461,70480.276,17276.186999999998,null,7840.161,23054.3295,23054.3295,22565.34,34704.757000000005,25018.837000000003,22917.563,52577.273,null,22041.475,8906.845,27504.407000000007,76073.203,17748.539,23096.777,16883.246,13530.7,29459.206,23054.3295,67349.272,null,51343.936,16677.592,13248.275,87418.39300000001,10495.973,null,38562.538,13178.078,20790.706,17290.667,35777.864,21537.479,12744.561000000003,15520.004,65308.796,16691.738999999998,40899.976,23054.3295,null,23689.728,28462.747000000007,null,19312.899,19671.934,82985.235,36309.089,18479.949,12968.604,22573.353,159522.288,51116.059,15768.511,18166.627,8189.61,21537.479,16620.997,20500.456,21537.479,23235.336,39908.962,5430.683000000001,20917.988,18876.526,34472.037000000004,22178.744,11055.686000000003,44623.848,8893.518,34534.226,31485.342,23660.563,55712.221,38128.613,24137.183,23054.3295,18248.13,10127.944,41237.932,21981.217,27671.069,17899.546000000002,8129.411,25543.269,null,28372.67,12538.746,21087.284,52973.205,79094.031,31535.633,22180.344,28901.465,26081.501,35372.3,19410.38,18122.825,23347.245,41544.525,19490.88,21537.479,22378.537,20387.234,33692.462,28716.257,36657.473,21594.165,23054.3295,28199.64,33665.115,16450.661,10593.204,21222.647,37209.419,30994.048,31861.635,20186.771,31256.746,64018.688,46231.31,26587.423,29171.989,27948.631,15104.303,24631.783,27903.492,32624.825,14370.871,38532.042,20378.75,9532.217,25541.546,10524.321000000002,25746.333,24580.733,21101.782000000007,22791.675,46033.775,27182.837000000003,23054.3295,53713.427,33363.259,25667.794,15096.237,32879.375,14777.641,24209.43,32202.494,12300.428999999998,9102.823,30098.925,24753.002,40780.626,19467.852,51194.215,19509.029,13278.708,47644.307,32230.562,27140.396,46613.613,28915.304,23344.087000000003,27036.295,13695.48,null,9996.183,16274.982,21537.479,42014.307,21334.837000000003,23054.3295,30949.839,23054.3295,14875.537,36735.576,24339.45,13163.998,20318.081,43867.12,null,20260.125,29127.865,22182.105,20000.406000000006,23127.125,36756.94,29101.432,24492.508,24563.65,16161.018999999998,32305.875,11737.789,15747.063,23356.535,18541.921,40329.613,null,26210.018,44277.02400000001,41339.204,20924.417,46005.43900000001,32079.336,33522.335,55027.352,38340.479,21475.299,28180.142000000003,47144.256,23054.3295,10875.512,10424.877,12279.526000000002,18785.059,41704.063,47596.706,60972.258,15996.905,33491.624,34360.739,43227.022,25343.056,23054.3295,22192.085,39972.821,25605.386,23054.3295,31331.461,40637.917,36458.707,31234.839,42208.32700000001,27135.883,20467.111,37767.361,16648.693,10234.021,49523.547,36319.984,48415.783,23054.3295,29912.75,12359.092,11766.118,25771.674,41137.245,38879.079,14764.817,39980.762,28744.434,10462.846,17449.83,30909.928,18611.658,26844.683,23054.3295,17784.146,37574.68,34616.911,28176.016,null,32431.412,37310.604,53450.103,23054.3295,23688.561,20630.619,28372.67,16069.235,24309.481,30869.53,21870.747000000007,40560.913,24539.079,17532.252,13709.841,8274.47,25599.125,51772.69,22483.384,18003.367,31868.12,21537.479,28682.453,22728.269,18719.125,20822.6,23054.3295,45266.413,28372.67,36359.95200000001,20541.165,37721.506,63309.614,13537.124,23054.3295,40065.125,23980.482000000004,21537.479,19812.011,21537.479,36294.963,41699.003,36732.794,36350.259,18382.077,76659.047,19456.939,23054.3295,28973.306,20148.721,42925.538,71143.149,19252.361,25137.417,28980.17,28372.67,23054.3295,27602.506,12558.448,12161.695,69102.593,27819.527,null,20165.823,12570.64,12584.805,7175.371,16891.016,42891.367,18382.383,25191.619,54923.76,23387.562,17679.179,40119.247,16504.95,45616.81200000001,33671.596,15131.871,22887.955,null,55328.82,21704.507,34214.174,11277.565,9191.57,6208.323,23054.3295,29843.026,42279.43900000001,23054.3295,37330.005,23054.3295,22318.788,24476.361,15204.154,16558.585,25198.165,66668.968,23054.3295,25710.819,30493.12,28645.657000000007,15173.893,33808.213,23054.3295,34076.367999999995,27647.475,29992.121,19552.827,11842.043,14705.395,13073.652,24137.183,24653.106,22086.28,15510.475,69552.457,23054.3295,23054.3295,15668.186000000003,25054.531000000006,12163.286,22711.042,52192.648,24770.492,40858.016,39214.543,20512.009,8547.997,null,29246.059,23054.3295,20806.033,28372.67,67186.012,32489.952,58009.412,30530.166,18810.723,24137.183,54592.183,11137.653,22418.863,37054.054,15517.065,23054.3295,27607.873,23054.3295,46182.907,29582.461,26564.974,28342.561,8596.723,53173.809,14863.59,13830.306,22828.772,34280.308,21865.261,22352.273,31908.797,15073.928999999998,23054.3295,45592.52400000001,205804.96,23604.958,28372.67,36496.645,13020.479,7890.931,16208.328,24568.943,26532.387,13239.494,45270.973,12728.687,61820.581,32602.469,23054.3295,28372.67,23054.3295,24137.183,14161.449,12837.333,29299.764,26243.632,22270.855,42890.6,32173.667,29324.365,29480.158,25755.326,17939.807,26511.417,null,21367.815,26766.026,59215.862,35179.842000000004,12561.883,21834.618,26214.174,21907.395,23054.3295,23054.3295,28372.67,19446.037,45683.97900000001,21534.246,38811.301,21488.921,26487.345,23876.94100000001,35006.375,22192.115,30594.817000000006,18701.713,18276.857,16352.91,22553.61,25072.05,12674.142,20171.366,15167.912,null,12257.036,42178.778,15668.778,33777.108,14154.18,25865.55,32673.245,20865.346,15835.95,14489.847,45266.922,101829.634,14929.232,102677.119,25503.01,24723.375,41938.245,15916.965,12966.485,24106.543,21236.077,null,15644.363,null,27530.379,19110.453,18302.05,50943.121,24034.288,16276.742,22772.434,34789.065,27323.105,15695.187,19228.4,11836.74,32181.232000000004,34198.32,38819.947,21984.518,null,25653.501,39380.223,28246.094,7391.353,23054.3295,63419.787,24137.183,15931.338,33989.258,50149.60400000001,21537.479,19235.206,47257.25,38189.367,47101.781,13193.228,45434.505,32977.595,null,22393.258,30289.547,30303.284,28372.67,13398.417,28491.793,55016.24400000001,null,87148.609,29635.108,28372.67,37061.795,40563.164,23997.618,23054.3295,12565.581,13414.024,29602.233,18410.396,29599.346,23054.3295,34758.562000000005,22171.091,21537.479,105400.683,25786.626,23054.3295,23806.994,19070.625,24155.854,7277.896,15178.958,20974.683,31139.086,22460.803,22550.194,18180.098,28250.284,26667.932,22193.354,32013.008,13096.722,null,64751.297,35035.238,15316.145,17576.879,11763.767,51456.592,23372.66,83192.646,24137.183,64894.151,27898.982000000004,37353.357,26024.218,12419.968,16543.916,23054.3295,52448.768,29106.94,19905.73,18352.252,41449.014,43509.493,17379.668999999998,47702.002,28372.67,47469.15900000001,27031.958,32769.299,19901.991,12868.7,11381.235,24623.18,16234.313,41140.791,23054.3295,17211.711,43529.725,14287.245,25288.121,24094.425,30886.741,26730.448,10323.06,22654.813,22733.086,12731.928999999998,51463.33900000001,18125.069,23054.3295,32662.09,23054.3295,15080.905,20425.011,15486.89,13381.393999999998,19555.662,55842.018,28401.157000000007,16547.727,28041.762,26235.049,28588.202,29450.022,31606.063,null,13884.887,28372.67,31735.658,32891.012,null,25942.483,26065.998,21607.932,45426.913,25599.125,30107.386,29592.894,36777.589,32699.335,24896.186,15144.652,36643.957,14008.383,14396.604,34086.362,10655.824,23054.3295,20853.44100000001,20523.008,18246.385,10797.503,27313.715,23054.3295,9405.41,16005.155,16938.373,44925.737,20131.387,26526.999,28372.67,18639.45,38269.363,28372.67,45566.351,53167.215,32115.252,44049.25900000001,17588.163,28013.776,19288.688,28170.558,23054.3295,25938.48,84745.10800000001,15044.764,19261.826,25592.3,18180.553,16960.046000000002,59158.267,21870.376,21595.317000000006,23054.3295,24834.192000000006,38293.794,18086.503,28372.67,25599.125,14209.64,21537.479,15206.642,30925.9,22694.872000000007,22471.57,57722.359,16441.288,24137.183,29151.36,62354.852,25001.483,19542.452,10385.657,54477.531,14448.638,23517.353,11715.537,30017.676,34453.75,23650.046,25599.125,23054.3295,25736.391,29792.665,34412.8,11121.905,23468.091,20189.558,53999.785,19428.872,28372.67,33308.187000000005,23054.3295,36808.968,19929.698,34785.25,14192.919,13833.901000000002,31734.219,12709.234,26820.946,25470.463,15594.746,28360.68,null,25895.208,8807.117,25369.108,28372.67,19182.414,19902.498,59390.177,123701.88,28468.628,26176.547,33619.4,34311.836,26178.012,40334.329,15555.972,29552.265,62374.573,28495.176,31320.179,27989.361,22699.942000000006,45136.289,12517.767,21685.832,29037.247000000007,14191.359,32561.616,44383.321,38374.834,11575.482,13098.405,18067.897,62245.39,59463.267,20855.26,12987.238,20060.222,12956.966,28268.089,29809.771,37298.805,34061.984,19814.991,15581.958,22207.743,16450.421000000002,14766.274,45382.76,16135.337,24460.139,28357.508,29869.513,15831.345,12666.585,27849.328,25131.643,16553.723,10166.417,17469.301,54169.049000000006,26780.135,55141.366,22854.711,11507.117,null,null,null,21417.666,24086.937,26089.836,27963.328,25599.125,14248.267,24844.109,29848.938,27799.018,34534.85,null,113024.236,35961.121,24177.988,40952.05,16674.763,25359.486,29047.05,33125.623,45058.055,58635.242,7973.876999999998,17574.994,26974.29,12698.534,52669.127,42898.35,24137.183,23054.3295,23625.884,19163.686,40738.923,10774.669,15009.683,22169.117,28077.138,14726.149,58339.086,26880.418,31944.406000000006,22339.627,9861.738,18815.447,26243.519,69204.901,32043.72,43850.784000000014,40221.255,13012.745,15260.143999999998,28372.67,16262.523,19507.801,28372.67,42707.723,11149.538,26334.602000000006,17773.235,36007.398,41308.335,9421.143,20221.983,30156.057,15972.748,27531.165,22232.25,31554.864,19908.307,26749.858,17438.336,40998.394,19317.25,19690.772,15961.682,67430.77900000001,61411.71,21738.149,27019.609,14938.59,23054.3295,26337.946,27700.547,41489.788,11943.656,13019.369,23054.3295,115521.939,15310.799,32367.96,39085.63,26585.496,22804.359,21652.156000000006,18588.525,25599.125,13057.175,21493.584,27925.45,36169.25,27795.286,23027.335,13605.8,14026.41,9710.311,13861.85,11424.343,35508.033,25620.869,19259.42,28372.67,21537.479,39503.313,37867.556,62109.027,15507.821000000002,19509.933,27173.15,32268.98,13949.34,17091.923,25325.261,48061.154,87623.965,52053.109,24283.823,42467.617,23054.3295,15016.697,27062.518,27571.074,18685.921,null,23054.3295,23722.562,11548.369,12163.233,35323.422,21537.479,31319.792,25673.264,20276.699,24720.003,14220.531,9628.688,15734.914,10434.417,22546.329,35166.619,14664.408,13573.118,18200.186,28341.602000000006,16219.826,24100.125,17307.929,23054.3295,10488.595,31199.828,65265.59400000001,101481.222,30802.704,32378.614,24117.051,11697.248,18671.507,28385.933,15930.656,23129.983,16470.922,19321.445,42432.456,11423.669,25544.464,22148.271,23054.3295,14837.743,43345.667,23658.692000000006,null,13980.375,39729.485,24941.89,25042.358,23054.3295,14721.982,16785.514,19875.729,39939.369,24273.624,18689.862,12504.637,22897.861,21204.086,14459.905,36616.975,16271.181,57849.359,72839.368,23054.3295,16891.935,11231.414,10334.801,64404.162,16410.754,40395.08,58895.301,42526.1,23054.3295,23054.3295,11391.359,28372.67,24712.234,29224.403,28372.67,24675.073,25244.463,24109.456,20346.913,9550.749,28103.532000000007,46676.554,22958.896,15070.691,24789.166,18046.985,52446.084,23054.3295,30878.685,54588.76,28372.67,17014.252,53662.51,20292.276,18197.841,52619.822,34828.848,41548.129,10251.332,28372.67,30199.915,13598.606000000002,23054.3295,26780.24,29054.382,31614.932,31052.473,20940.277,24461.892000000003,21592.137,null,42346.31400000001,14471.348999999998,null,34321.433,14911.812,24070.863,12179.675,23668.558,28635.014,50223.725,15754.674,25496.62,17246.302,22050.616,32535.549,13116.677,13328.178,42180.017,19539.991,21689.903,23782.171,19202.245,54154.188,26677.608,11495.146,32698.026,26658.012,30532.219,31210.08,14979.575,27920.218,18601.36,36451.943,25277.572,32234.03,33314.533,32298.416,60115.648,52906.262,22945.738,25439.016,17873.107,23130.499,61583.002,23054.3295,25293.878,22131.067000000006,33252.023,26111.162,18281.426,15354.623,23187.464,12903.067,12044.511,21537.479,26370.868,30013.552000000003,13203.225,21537.479,23054.3295,9629.969,16361.501,15762.241000000002,18206.15,10810.146,39096.81,6906.651,23344.25,25357.317000000006,38706.806,18511.032,25599.125,52710.595,16597.786,27976.983,25631.893,77286.478,24040.64,38051.454,24722.531000000006,18073.404,17234.448,44531.811,19628.825,24762.676,45946.336,19782.253,23690.653,35454.097,23054.3295,21478.448,92905.265,21537.479,26968.835,24907.181,16403.372,67996.562,30315.779,13799.777,23560.912,14583.793,16323.831,26497.982000000004,11162.838,29255.672,35715.494,23054.3295,28063.565,13392.775,15183.89,16342.694,29206.019,26987.548,21888.522,23382.62,21371.022,18248.078,23054.3295,33327.001000000004,8795.385,10257.686,19925.475,41271.45,23054.3295,20834.434,10801.469,12465.425,39740.401,20825.03,null,17698.81,23054.3295,36433.296,15631.924,20018.706,11441.588,15485.766,40790.304,23518.525,19695.455,null,23092.403,27107.72,17562.652,36374.46,35393.865,23054.3295,15899.667,12937.94,14692.242,46564.998,16847.088,17822.756999999998,29673.115,27574.174,27957.44,39216.048,45805.96400000001,null,39202.057,28372.67,20559.061,47524.142,8214.076,31371.772,23054.3295,28272.713,29711.098,26149.849,13880.163,19447.36,21537.479,28151.319,17507.496,21916.82,14934.901000000002,11498.112,18777.523,20253.974,40917.352,33488.562000000005,22939.106,10677.914,39613.741,7764.336999999998,23318.422,78382.366,22574.225,20790.56,40768.97,45096.861,23451.725,78150.437,14117.797,21308.846,12436.95,45176.225,43693.426,19100.415,23054.3295,19192.731,15064.673,75663.856,36142.795,23334.997000000007,16903.453,28028.036,36883.168,37073.907,34400.425,29929.022,25267.313,21537.479,36779.967,32844.285,28372.67,9024.393,18655.227,35365.836,24241.248,23054.3295,38985.318,36440.092,10274.021,30985.962000000003,17842.217,21632.901,35198.806000000004,28372.67,35680.2,26132.921,49030.158,45388.996,40293.911,35721.829,16157.472,34001.676,22401.591,28372.67,24644.536,19471.868,35046.443,26239.27,41659.628,29223.101,59066.59,29955.764,28461.854,16358.148,25375.746,28372.67,53540.389,28165.076,21326.194,23054.3295,26493.781000000006,45226.221,14696.529,24334.417,35781.851,15044.402,14874.32,23717.622000000007,20026.981,29782.399,25747.492,9128.451,12945.844,22975.295,15072.015,15766.483,26651.477000000006,44276.737,49903.8,23489.974,29301.714,25519.762,6442.342,14123.482,19889.076,54883.061,46296.356,30372.552000000003,28774.449,20193.69,25758.458,34598.492,9222.873,34685.167,26173.123,28372.67,51310.88400000001,18025.818,64119.817,23054.3295,13690.015,36476.693,32676.766,27526.438,22098.793,40794.921,13009.592,31448.38,22437.719,25580.222,15524.49,null,8136.274,27513.555,6141.791,21311.742,50044.34099999999,23054.3295,23054.3295,23054.3295,27419.488,34572.06,10626.557,23054.3295,29015.884,10884.925,13097.938,27961.391,11840.604,9030.921,null,20747.911,49167.471,58721.81,37408.513,15511.76,25767.114,30375.965,14918.643,24549.419,53587.573,37997.206,19300.959,25881.288,12878.618,28372.67,13049.291,21169.055,24057.712000000003,20445.768,42501.335,26968.513,86023.69099999999,21537.479,35631.184,24665.363,20060.861,10556.715,33774.435,20685.277,6316.23,26979.209,31325.638,24137.183,10628.791,21321.257,6666.741,29055.681,6857.654,14802.969,16061.296,16618.099,16345.221,25599.125,19429.304,20553.908,21379.793,26512.912,76456.091,17987.968,16995.542,50400.989,20718.261,31678.084,48190.653,16214.975,23054.3295,44510.717,23054.3295,41493.538,13353.604,13516.619,28372.67,16556.138,19972.813,23054.3295,27164.944,20626.06600000001,24579.95,17157.23,34523.989,27675.186,17085.567,38218.907,18760.356,13988.115,23054.3295,41747.614,23370.175,23157.118,20587.743,26728.337000000003,23864.254,24137.183,37167.714,15862.551,55636.337,20914.203,28887.035,21889.432,17902.736,11918.66,41071.185,24019.37,16447.203,28166.229,35968.976,13659.426,35076.447,43965.27,17500.413,null,17809.123,23043.819,24643.1985,29596.811,28372.67,39419.251,64735.708,20324.687,38534.111,29312.732000000004,21145.962000000003,53109.391,13942.461,17533.273,20850.366,21322.141,52916.332,23215.311,26089.687,null,29012.121,22667.494,11091.244,null,17781.366,10421.204,24662.609,16212.915,23054.3295,24643.1985,37134.621,28809.86,18211.308,null,70923.271,26098.411,28026.867,362496.645,10962.076,22320.661,36398.006,29653.643,23870.208,17254.605,23103.803,36570.991,23054.3295,42200.09099999999,29753.627,34336.729,52967.968,51994.069,25265.63,16037.633,24137.183,49631.37,33522.598,29778.619,18505.127,14554.142,23125.306,16905.369,43432.551,18008.091,15829.832,5409.738,56132.484,21537.479,38334.124,48445.457,19516.449,27884.052000000003,28240.614,23054.3295,18669.931,29633.456,55362.332,22551.752,31381.501,25542.585,33872.195,22952.04,35215.053,17424.179,16356.62,76231.238,16719.754,28372.67,23054.3295,36532.281,17994.67,18153.623,21518.429,23029.718,25599.125,16120.655,28372.67,53071.418,18837.133,13251.688999999997,25599.125,21166.699,27382.033,54677.302,22088.48,24493.885,33111.246,35191.809,25945.788,70764.473,21311.53,24137.183,23054.3295,15494.418,45998.07900000001,17156.417,28477.433,20003.31600000001,10837.123,13602.848999999998,28304.413,21840.467,46476.00900000001,35843.155,10004.303,69487.406,39502.238,41988.886,28651.132,27817.318,32108.404,25551.043,15350.076,8724.224,18635.576,36281.636,26054.087000000003,28985.348,33796.212,20082.89,21901.851,29153.475,8650.449,23054.3295,24951.045,20713.806,49306.335,23054.3295,14287.701,27395.346,21537.479,23216.754,13483.1,15946.813,24270.041,41464.373,16150.928,19498.347,21154.802000000003,34332.219,27233.118,32050.629,27511.493,60596.123,23054.3295,16474.247,25235.506,21775.671,21523.172,26954.198,27175.087000000003,13026.154,23054.3295,23054.3295,31610.498,27694.41,23283.711,22456.34,38280.598,26093.051,108187.705,22741.883,21317.956,40556.679,19276.627,15786.877,23054.3295,34561.487,16660.79,23777.856,61698.115,17933.508,29897.969,14428.395,17405.858,67199.715,23054.3295,19929.938,17188.53,56216.278,20795.348,10175.058,52107.303,15160.568,56068.215,20472.845,16206.245,32161.301,27502.498,10769.74,18429.214,29662.186,16336.048,31280.39,null,21913.693,18089.996,28372.67,12792.261,15750.693,19711.698,52647.014,11804.91,26754.156000000006,15970.006,23034.088,10593.707,56798.20400000001,15272.213,21545.2,26249.329,13329.27,20214.096,17288.028000000002,16933.936,27783.307,28702.645,23054.3295,54554.181,20413.477,20967.842,null,28421.749,null,23586.013,42744.546,19179.782,9308.953,59708.707,32400.784,11274.556,18511.934,12979.188999999997,23054.3295,20192.541,15747.371,20941.16,82276.478,23504.5105,38834.011,23273.136,18391.007,21955.03,42004.21599999999,23054.3295,35491.448,17046.313000000002,38523.517,14029.056,38665.431,20191.461,25780.494,23798.626,45346.002,31920.651,13128.803,16614.971,19965.18,21727.31,13988.424,32084.035,21734.092,28278.598,19467.478,23054.3295,25914.454,41692.603,18959.584,25083.746,17980.481,24843.302000000003,25466.491,47859.499,20534.805,18007.936999999998,42527.433,24671.86,19878.344,34273.482,22091.438,19078.314,32565.953,14308.867,12244.377,21801.225,10306.373,24419.31600000001,17797.19,23054.3295,23371.648,15558.092,22224.129,5579.965,71949.963,19997.617,23356.062,59863.578,30710.492,14300.348999999998,31992.033,11642.351,13636.681,37299.371,16523.096999999998,44408.836,68871.66900000001,16408.527,36863.301,41272.281,29560.876,36527.634,25456.383,25712.216,16510.361,41269.908,11800.861,22414.156000000006,17671.031000000006,28372.67,28167.204,14900.73,26236.623,45424.51,19888.482,28139.284,13852.053,35924.364,28372.67,19462.913,23054.3295,46535.21599999999,21067.375,34977.38,23054.3295,50750.747,26643.374,26692.636,10241.072,23344.723,14176.231000000002,19629.482,28041.325,36560.932,23653.83,60257.08900000001,19837.782,7988.785,21537.479,24662.744,17662.667,23054.3295,16075.098999999998,23054.3295,13444.578,42604.765,16712.193,21718.022,23054.3295,16116.68,10205.238,24137.183,24946.554,33832.697,29493.859,26935.722,13747.392,55412.135,21672.626,17780.799,22182.725,20530.811,27761.595,37901.393,12885.223,35373.946,17314.672,24659.888,13535.138,27994.663,28372.67,37413.866,27059.846,23054.3295,23054.3295,10255.085,27394.996,14926.943,34156.487,16007.361,10520.731000000002,15864.876,29839.084,16705.818,42585.1,25032.863,16149.008999999998,47142.137,39708.578,27706.138,17656.178,22680.318,52773.36,55538.217,15243.548,29879.195,60264.88,27344.554,17537.33,32162.415,43143.973,9241.485,16956.603,29224.352000000006,31000.366,39371.407,63846.328,23001.785,40282.799,25163.634,16818.156000000006,22396.334,14938.748,57338.462,38887.772,46946.245,12120.32,null,22692.144,21537.479,18905.033,26908.053,21537.479,20152.46,null,37543.74,27967.361,38215.484,23054.3295,25599.125,29137.524,26344.46,20511.481,27697.834,19458.712,32885.629,27261.487,13450.247,20713.395,23054.3295,23054.3295,21503.614,32728.074,20696.434,27252.341,28372.67,19755.379,14483.653,16196.603,23054.3295,31829.787,10320.895,8004.154,23054.3295,29337.542,14101.51,71278.016,18851.073,20548.407,14586.548,16731.66,21537.479,30269.233,11340.167,24048.294,39129.987,33048.556000000004,104512.433,20669.113,17178.485,17657.808999999994,13632.05,24313.315,38590.393,42560.748,23054.3295,30015.099,23133.493,24574.803,25403.985,36520.209,23199.298,19817.265,36749.819,24214.379,21886.355,31981.584,37348.836,30021.424,37264.885,24472.318,55302.432,17906.134,28768.36,17943.395,22955.242,24137.183,36372.976,21138.084,34858.937999999995,21647.013,42701.953,53060.775,23054.3295,23054.3295,30814.874,46878.799000000006,27500.035,12145.156,41251.258,41089.184,44271.06200000001,20436.985,28017.167,10314.897,26443.044,14306.368,28600.579,84161.32800000001,21281.417,32041.59,20912.432,19525.45,28372.67,25010.772,6890.73,null,23054.3295,11764.787,39817.655,22236.397,34815.958,22150.77,32939.103,null,10569.252,21932.019,33921.576,21987.013,28372.67,28047.113,10716.623,11873.217,16011.914,16988.338,13676.459,68141.882,24349.215,20130.803,17564.353,83658.67599999999,39106.372,21537.479,16432.826,9722.895,10662.034,23064.464,42057.276,16380.327,29559.51,13375.773,43870.929,23054.3295,50758.201,28775.045,36933.036,15365.107,31538.042,46988.321,null,14181.323,32241.801,29643.787,20526.15,31299.854,180613.801,28372.67,21120.387,21785.299,42925.455,30479.674,40513.723,23054.3295,18825.61,13742.437,21583.892000000003,8757.815999999999,23839.246,null,22710.812,12674.502,23504.5105,26779.934,null,25599.125,36625.893,10890.371,36392.49,23054.3295,44273.82900000001,29894.595,16607.133,37124.261,17974.232,24137.183,41650.449,33846.912000000004,20716.294,34768.419,28372.67,18216.014,16159.978,44297.862,34404.572,34505.111000000004,56802.574,null,20668.406000000006,20347.475,24137.183,16749.064,21853.63,36875.531,21588.03,18561.479,48416.546,39977.611,15039.723999999998,32422.434,21986.784,36214.244,40608.725,7548.964,24712.128,16818.715,8168.392,34706.846,29977.785,20174.463,27424.194,24137.183,15544.636,27074.822,19598.936,14880.399,22689.996,48024.811,26777.123,38096.50700000001,29421.796,14344.621,46194.563,19990.104,17890.505,15583.115,16856.732,23857.908,24817.24,16035.778,26713.466,29252.435,12513.467,23709.055,42610.084,53500.914,31271.947,22378.208,24670.944,23333.3,35394.033,44785.801,null,15171.813,43719.299000000006,35793.289,10521.211,26561.561,36941.275,21834.831,24072.474,31360.234,11493.238,61040.246,28372.67,13254.865,36745.179,13459.017,17158.078999999998,27940.986,22501.295,28372.67,25230.414,13792.355,null,21079.611,32300.73,28372.67,44767.34,20126.53,19659.518,32225.676,30922.147,22508.44,40239.042,49066.902,20469.568,17757.988999999998,23228.744,14354.569,18739.885,35070.553,29801.328,16559.349,22108.654,13504.806,22099.411,26513.962000000003,13394.693,32671.639,26613.477000000006,65881.343,19386.26,15071.07,41726.318,28372.67,27251.922,20030.619,18988.467,11427.471,17202.866,22681.21,15000.012,18911.385,13745.645,41784.441,23054.3295,31529.517000000003,33131.452000000005,21634.896,30779.609,39834.652,109929.185,25798.356,37241.571,11074.005,23054.3295,18829.455,34760.65,31366.982000000004,62009.359,17693.373,23054.3295,null,21663.559,29410.555,15413.143,12649.137,35400.603,31318.175,18422.094,13666.221,22655.42,21537.479,30098.22,20230.811,59704.819,15507.805,13167.149,26428.147,null,22993.41,26822.798,40560.106,21537.479,37265.958,13214.416,20907.512,43781.496,27770.032000000007,14076.705,41230.879,45351.10400000001,46416.427,10108.235,37590.005,29326.7,28372.67,31546.4,12353.786,18654.587,23079.382,45878.291,31728.302000000003,28372.67,44589.188,31690.909,28732.267000000003,20884.932,85440.021,27094.886,24021.037,31536.563,12642.841,25370.56600000001,13549.837,23054.3295,15686.464,30499.956,39801.32700000001,17163.743000000002,17857.95,28372.67,37251.617,33643.599,28663.878,25221.69,12906.891,23504.5105,40773.511,11825.398,30778.724,22087.659,40054.121,9787.809,25104.279,41599.055,13867.535,37195.663,25382.031000000006,24204.075,18866.624,28706.477000000006,27583.742,24448.76,38085.71,36255.03,16272.688999999997,34987.591,20876.399,20032.123,25599.125,11701.863,43978.295,22863.225,35313.178,23054.3295,13883.346,24243.988,16797.947,45840.867,43442.374,7581.018,40050.277,36357.033,28372.67,22729.17,46667.426,42802.019,16172.537,43116.222,16507.761000000002,36277.713,18389.786,17762.912,30216.594,121202.699,57230.405,27863.146,23054.3295,16678.188000000002,11877.93,28043.322,21537.479,32204.492,27169.173,18778.127,22337.154,16117.572,64235.1,12587.358,21417.313,16222.048,69872.614,null,16707.297,13395.885,24477.328,20621.978,41095.556,38045.451,30681.573,29777.146,null,10172.602,39203.199,10504.441,25550.626,23054.3295,51357.279,42380.606,14440.682,28054.909,22087.78,15999.795,17264.069,33582.142,52577.157,24241.371,12963.84,24137.183,24682.557,29639.537,42861.265,11006.865,null,38949.04,6857.978,15209.8,39248.823,33849.292,33135.494,28755.071,39618.176,18264.872,25459.868,32756.129,13821.637,18851.658,39071.743,21537.479,11624.069,26353.762,15672.021,18694.705,17284.95,19040.096,63199.70200000001,50626.974,27716.831,21126.936,30546.857000000004,15163.248,26157.937,26061.339,46726.88200000001,39278.296,19329.578,20776.9,14598.184,40640.528,10906.545,28372.67,34905.36,24592.436,28894.188,27459.005,18533.72,78626.439,15405.55,51135.557,17307.407,25513.487,15526.772,12245.322,22389.84,14341.397,23054.3295,16542.56,52026.441,28139.51,49981.04,46951.478,55588.36,41880.607,32755.422,24205.641,33935.027,23054.3295,31133.608,31438.92,17290.06,25258.716,15676.963,21795.192000000006,20172.051,27096.019,48930.972,26093.062,21654.931,14427.878,32516.131,15387.727,15926.516,8376.92,28597.17,14637.152,20833.029,28479.111,24137.183,40904.589,34625.177,5037.321,25271.079,12634.058,17114.42,27483.155,39698.854,36510.413,31325.325,74013.07,21982.672,17947.116,16806.006,24129.704,48837.21400000001,27578.299,15084.113,18449.845,12263.69,25478.169,12312.558,71484.963,23489.616,23054.3295,12906.482,38930.341,23639.278,28372.67,13501.962,30807.032000000007,29230.452,21010.903,23054.3295,46753.367,45799.717,20813.338,10144.536,19703.402,55155.731,28372.67,23300.94100000001,24237.358,30638.904,26877.09,19945.21,24945.025,8396.332,24078.377,28920.563,15558.926,17764.78,27601.866,30270.147,16435.259,42562.686,25088.701,32498.306,13430.888,27259.157000000007,35283.961,29032.569,20978.395,28786.7,40121.392,21058.665,13400.246,28372.67,12539.062,23097.33,43625.695,16664.223,26097.245,21745.002,38343.338,33108.508,23547.067000000006,21591.282000000007,55506.889,9124.97,17448.952,31358.967,52757.644,14967.961,44224.408,65508.801,14380.42,31756.11,25599.125,4919.749,23054.3295,53009.924000000006,32593.803,48257.525,21537.479,14849.991000000002,35917.262,24137.183,34916.34,16097.611,49830.585,18618.531000000006,37729.981,39285.344,36829.753,27190.091,12907.681,20459.854,14821.437,10114.716,null,32737.203,22749.396,21950.852000000006,15820.233,33569.538,23718.422,27782.425,26072.856,34796.566,33841.242999999995,12825.125,41911.943,36278.693,18471.79,18509.449,13652.418,16153.592,16933.879,23054.3295,55624.008,12368.718,23486.141,17814.279,55802.83,24736.821,12891.266,23054.3295,26995.416,33594.343,10856.556,21395.859,24137.183,82017.786,23646.526,45367.554,12441.178999999998,22002.699,15169.366000000002,21881.352000000006,null,18306.322,28372.67,23054.3295,16538.4,23054.3295,28919.696,29605.358,7415.092,29402.644,28372.67,11254.004,8404.257,27115.59,66230.201,17859.661,17191.455,16427.125,42622.075,21082.625,24557.842,23054.3295,37818.337,30045.705,23504.5105,24308.272,55181.114,49196.217,18713.283,45428.754,20798.549,42856.698,25961.165,21523.558,21537.479,17858.474,63253.723,6564.906,27290.72,18605.685,null,23462.446,null,17602.026,25231.363,10095.142,16643.468999999994,31880.1,28372.67,17188.946,22735.718,28408.671,84298.748,23980.582,34353.062999999995,25115.096,25722.375,38831.663,null,23054.3295,22626.228,13703.84,34177.083,8627.354,29127.865,32311.786,26506.205,43887.902,18080.782,24765.782000000007,null,23359.087000000003,11031.471,51648.15,31385.005,15422.194,23539.854,23054.3295,25065.947,19629.003,19193.8,33129.641,25565.763,null,35911.713,26665.102000000006,16619.388,23054.3295,23054.3295,37122.556,23458.823,78282.219,22218.276,20238.469,19442.98,15274.071000000002,34602.028,null,12739.723,24137.183,28998.346,24975.37,70213.009,33267.74,20730.747,32109.618,null,34327.371,14394.905,null,30023.907000000007,41402.052,14505.728,153349.533,38019.454,35222.894,10386.281,27338.759,63798.525,34908.62,17500.537,17612.534,56258.60400000001,37080.126,25532.206,21537.479,25599.125,19630.533,14401.412,34145.252,6753.853,32469.999,24964.206,66671.267,33388.533,21148.736,32579.679,20840.977,20800.147,37230.548,16304.137,19828.041,33624.327000000005,17850.905,16626.069,25634.887,19359.255,15846.989,42823.163,30686.69100000001,14163.538,32602.608,28372.67,23054.3295,19180.761,10167.784,48074.631,27600.828,27680.3,18045.342,22957.606,29024.201,23054.3295,17651.753,null,30446.278,37430.637,11651.596,45196.403,14604.427,null,14939.01,19922.865,14757.919,23908.476,18319.193,44907.71,29594.331,16053.098999999998,15380.418,44298.64900000001,24328.902,9976.01,55300.688,29612.85,22051.771,30356.583,20553.402,30631.906000000006,28372.67,12747.475,19954.78,20960.669,51854.60400000001,26576.94,19675.373,31846.103,24242.943,6961.638000000001,23054.3295,16164.331,15003.317,15709.851,50218.968,20954.596,21831.15,25319.273,43635.923,27131.413,23244.336,26850.154,44707.09400000001,45449.858,13131.466,26294.512,42747.987,16124.454,49634.377,23054.3295,39083.615,23054.3295,6634.772,31081.264,20483.683,23054.3295,13635.097,20850.98,43914.397,81924.74799999999,40907.511,21537.479,36715.515,13058.818,55965.496,17422.063000000002,27320.263,28372.67,17663.458,34388.256,19370.008,51290.153,68535.223,17478.17,46446.39,19725.359,29645.156000000006,35306.087,8889.382,12227.491000000002,26907.783,27929.907000000007,7572.936,31246.849,null,23054.3295,15126.422,17401.031000000006,25203.124,29517.239,10990.885,25869.842,19485.644,34909.602,33945.484,34916.619,41403.823,27075.082,13415.991000000002,21537.479,13635.855,31141.928,16308.598,23054.3295,29866.9,11145.986,15419.89,20065.69,43896.194,44563.337,69543.695,52884.207,23710.725,24424.544,40732.019,30782.893,30182.938,17487.191000000006,9113.664,24137.183,23054.3295,18449.491,42016.233,39676.219,11555.418,17868.533,44928.891,16756.974,10374.976,18784.757,5464.092,20322.216,37822.50700000001,17464.508,11992.645,23054.3295,16418.612,44581.144,25533.543,19967.689,30201.948,15914.05,35074.554,24137.183,40267.018,21051.628,14116.453,28086.704,20247.707,22575.498,22923.248,26928.397,14228.73,24558.69,15947.897,18211.624,23054.3295,9649.84,26015.364,26641.985,12493.331,21452.275,33444.103,29568.934,18899.168,15447.301,5208.353,29250.625,19764.393,13664.786,55812.96599999999,15040.438,35158.172,26529.938,22555.229,125832.259,21885.919,17662.238,26321.068,14528.786,18952.751,23285.635,20995.606,37038.642,24123.847,11424.073,18193.914,30835.543,30448.246,32509.873,28419.648,26228.875,17988.723,15257.206,25298.569,9860.925,19665.093,34287.41,15447.559,null,34082.557,12971.983,23628.528,23220.24,20337.285,27347.13,14668.279,33049.792,36988.11,26431.43,30233.63,22931.026,24595.868,42879.11900000001,20389.921,14842.295,16127.735,18267.255,15215.482,44799.249,32611.187,13421.075,33670.981,6290.377,26629.883,8692.165,31905.197,22934.342,20989.782000000007,18728.548,14221.216,27182.97,21537.479,13659.302,45871.743,17114.923,23940.512,46205.62,24467.467,20295.212,32152.127,11376.86,11952.197,33424.451,23539.944,40429.069,35534.964,31650.797,26286.137,23084.523,19893.98,37753.798,25152.934,18591.443,23685.545,25230.696,23388.807,42995.473,24997.227000000006,54635.29,15095.778,21421.707,56112.006,20599.213,41554.313,59200.125,26401.469,14202.676,19020.43,17116.343999999994,19496.2,23054.3295,31740.147,23121.161,25617.247000000007,28372.67,49195.421,34149.148,34086.637,28372.67,19733.426,5703.853,41547.34,99284.696,23054.3295,20412.156000000006,55885.908,17899.787,53259.373,22383.611,22728.756,25939.89,23054.3295,14761.213,30889.323,33920.73,27128.6,27789.621,28372.67,24663.581,66425.549,29843.833,30010.425,null,30742.42,16898.418,72969.303,29923.463,21931.403,20966.814,24591.834,23054.3295,23793.889,20876.534,30750.321,53665.39599999999,31685.949,22586.069,21537.479,43818.182,15918.139,20365.505,16753.058999999994,19405.505,18059.907,24322.348,40220.462,27671.118,21089.255,23011.102000000006,21620.878,52909.261,null,30250.279,31726.813,30410.826,16397.415,31184.426,54862.001,7399.364,35624.028,23054.3295,25570.053,7799.196,37956.167,14971.128,22620.944,28372.67,35217.009,44855.91099999999,26433.822,18360.786,30529.368,7180.439,43639.613,30203.463,24731.451,42617.315,24623.88,23054.3295,68292.339,26291.234,null,15806.809,25599.125,8178.799,23880.385,41717.371,31523.925,31269.007,21367.218,25197.047,29970.779,18426.202,31818.04,15631.458,8889.817,19044.545,83702.771,25745.206,16944.341,30987.655,23054.3295,37713.079,16944.193,28372.67,12929.651000000002,31527.292,9736.096,39054.732,24085.307,45032.436,32354.068,18739.661,45113.372,37016.354,51560.582,42293.683,48193.631,28372.67,5885.856,null,43995.662,28951.927000000003,20652.434,13588.286,9988.06,29442.971,32371.616,13771.576,22270.522,29493.007,23054.3295,62147.745,null,37118.631,28372.67,18395.515,25708.721,21750.785,22521.543,6868.19,51130.86,40239.504,37134.00700000001,26204.964,53958.893,23054.3295,null,25684.282000000007,23370.25,9981.058,27464.149,30224.462000000003,12406.841,59008.809,28372.67,20758.506,16568.654,42345.305,8347.992,59321.671,18793.05,33844.445,26361.702,16140.1,35857.945,36572.153,45007.533,54913.331,28372.67,13260.347,47797.326,25015.279,20036.49,23054.3295,25599.125,17253.001,16344.203,55316.253,28372.67,21044.481,22068.067000000006,13366.392,25825.747000000007,14160.441,18879.075,13826.712,15698.761,31285.93,47673.148,15903.836,41751.814,26635.416,10629.246,41927.331,56424.11900000001,9591.219,31805.226,31662.709,27929.098,30750.45,41417.611,14289.248,20985.859,24371.846,21908.537,23260.592,42537.157,26249.779,44721.804,15986.328,18663.011,33369.44,28630.081,26384.333,23142.253,13161.489,30146.734,37455.545,10391.406,23181.085,91207.837,18095.375,17290.159,50012.017,13887.169,20239.772,17341.523,22457.706,12351.503,109994.128,8243.363000000001,14554.799,18148.533,null,18303.305,43836.403,17389.755,32444.94100000001,39972.134,23054.3295,23054.3295,23675.627,26290.437,24722.237,35071.58,28372.67,34097.882000000005,18762.637,41360.988,9683.011,17058.605,23054.3295,21537.479,45666.123,29459.873,11575.948,13964.797,24902.419,22886.729,43961.754,24369.202,25564.948,22723.717,43151.12,21301.368,21634.758,25389.294,32920.904,27951.003,16810.348,23477.673,13091.717,28250.807,37315.778,15313.383,23054.3295,23125.412,15104.167,17120.542,23054.3295,23443.784,24137.183,23054.3295,8025.727,30585.238,40662.194,7958.536,39027.422,10817.853,43876.768,13624.586,20927.649,38136.279,68990.981,28372.67,30198.841,52975.769,25651.793,23054.3295,34604.229,14581.718,28372.67,48104.488,36228.826,12249.956,36244.424,33007.583,10074.983,10605.623,37219.203,11314.022,17123.203999999998,23054.3295,24342.467,17600.624,16738.727,23054.3295,28876.462000000003,36540.537,32637.229,54339.042,18901.446,18678.504,21537.479,20698.394,34512.224,21537.479,22214.659,19813.552,19522.49,28780.142000000003,64514.179,47961.069,33680.408,15794.816,30478.728,25780.184,41600.603,20752.355,15923.839,36558.633,17675.18,71272.075,16272.352,46397.306,19146.141,22205.393,33809.759,25701.314,11089.612,21537.479,23054.3295,34689.086,31605.184,26796.286,31146.576,34447.361000000004,13215.303999999998,26733.013,18687.858,21453.863,21310.595,26339.407000000007,27318.123,19009.465,14030.882,46559.817,13119.506,13390.856000000002,28372.67,19179.56,18232.26,37854.983,33587.661,58483.78,17265.481,22550.578,36723.05,19386.779,28720.329,20451.02,23054.3295,17919.672,52619.138,20514.774,27802.121,23054.3295,23054.3295,18357.366,21994.298,23054.3295,26953.801,22908.254,12768.39,19419.746,34583.802,18331.871,35174.624,24916.165,23158.689,36416.771,21306.597,28016.913,43337.528,43001.078,null,15151.819,null,22237.633,55646.76,11362.874,47744.943,30439.058,14178.053,104559.179,28372.67,44627.416,23054.3295,33993.125,18289.781000000006,52807.636,null,19267.673,17464.046000000002,41915.958,21515.381,23054.3295,29267.632,14908.981000000002,32720.818,25661.736,60758.617,34498.353,7586.471,37398.249,23972.959,23986.206,15858.632,43688.232,26948.859,24107.839,23054.3295,19216.928,29504.079,34665.487,38410.492,30009.204,37714.402,29871.051,29572.433,44984.055,24812.725,null,15241.09,23054.3295,15465.245,22051.81,24643.1985,33613.247,28372.67,32685.787,17765.139,21537.479,22663.775,28027.095,42394.644,19418.457,44102.684,20690.747,32035.483,25599.125,4494.861,51629.811,10303.718,28372.67,28372.67,18445.251,24028.164,12883.128,13822.585,23054.3295,23054.3295,23054.3295,25757.164,19769.743,17770.346999999998,17529.023,16702.698,12903.25,14388.587,17459.668999999998,36128.038,22041.299,31769.1,41120.809,20101.27,37700.865,62698.894,18479.447,33294.526,8107.303000000001,19135.753,20241.739,60310.442,25513.042,21539.183,21537.479,35606.14,17536.681,8371.266,28372.67,30096.11,24137.183,23054.3295,24562.877,24137.183,11964.867,21537.479,16686.156000000006,31394.695,41287.456,25410.224,25170.891,10550.639,48643.578,61803.876,70363.297,15893.449,11724.153,12998.14,23387.294,21558.141,25715.356,10316.506,14517.663,26013.237,37373.981,13937.586,15397.765,20585.462,25844.937,15760.35,25113.338,25046.569,24964.052000000003,31790.66,23054.3295,57058.903,28372.67,23054.3295,36682.916,28627.863,10544.851,null,24300.221,23492.66,34438.587,31727.763,14094.249,39140.074,13819.242,11024.105,22514.284,null,37018.302,9501.919,28372.67,23262.558,18929.362,45439.722,29808.048,32637.162,39685.815,17225.589,11584.092,19079.921,169310.956,27049.193,26653.274,37342.042,28839.016,23054.3295,11982.075,17255.936999999998,36012.411,25944.3,42710.614,25559.085,12455.355,28372.67,34395.781,28281.44,34799.867,21537.479,108345.496,33354.174,15010.641,23054.3295,24137.183,42549.985,22934.395,25348.144,24137.183,40899.508,30472.051,31720.377,21817.859,42570.27400000001,28372.67,34163.624,23149.323,null,21778.396,22732.707,31538.881,41464.255,20105.266,29665.721,14540.585,14735.042,22854.847,15499.085,11319.484,12544.993,28945.693,40287.871,14325.867,26347.19100000001,23054.3295,26830.673,16797.179,22536.935,52647.47,14863.478,19872.938,13948.281,37545.333,67886.526,12643.994,32489.671,13951.018,21537.479,18666.99,null,34481.926,54708.633,19446.252,9004.962,40951.871,23054.3295,21001.859,12735.318,45767.65900000001,35165.405,30798.476,25315.833,20370.256,40356.87,31799.839,53654.85400000001,17758.53,19198.615,34944.312999999995,26523.867,23058.174,26049.136,20262.287,12645.153,24369.039,24973.257,34931.32,32787.81,28372.67,19087.306,46625.811,6264.665,80996.55099999999,13884.883999999998,53886.59,17949.22,15128.922,30720.734,29559.148,22601.259,21819.4,25475.936,28372.67,23218.803,24137.183,33901.546,42270.929,46048.455,33070.187000000005,43726.811,44703.669,54303.68,33483.159,16450.085,52646.394,23054.3295,30685.353,23054.3295,18891.8,70134.50200000001,34302.911,21537.479,34867.885,26138.01,11767.979,18389.912,36974.419,18429.671,31103.138,27948.72,21537.479,187593.573,22131.435,19552.651,23054.3295,23054.3295,16328.32,39977.892,50995.822,19613.505,28715.723,37849.367,11903.182,29807.482000000004,28877.491,42747.407,20142.437,25087.228,20929.121,null,null,23242.722,20282.039,19589.896,26038.558,10028.085,21247.318,27156.939,16798.575,21935.26,39109.256,28372.67,null,16061.148,18528.696,13215.332,21289.109,33363.29,24814.878,54338.918,8813.099,35959.051,21093.356,22842.535,14230.879,23097.612,11496.048,17368.471999999998,76453.78,24916.394,null,72056.23,44088.42,216039.297,23054.3295,21934.204,48694.992,23427.956,50614.544,22084.393,27996.249,8813.565,27160.703,32645.18,10835.221,21537.479,17901.254,31182.746,44612.815,52114.397,11582.473,13340.521,21537.479,37220.887,47673.578,23867.63,45899.866,18304.697,13917.766,27222.521,29438.424,16854.398,null,44546.381,30056.847,52367.231,16363.957,36126.463,14072.527,14776.583,19668.253,58350.907,47894.34,18788.13,16514.555,12292.491000000002,11606.916,25169.8,18341.31600000001,28458.903,59767.826,28372.67,24778.712000000003,17855.55,24109.506,20660.143,25599.125,16630.889,25168.631,28523.025,11294.99,23051.354,80918.292,26188.242,42117.559,24406.534,14315.859,17169.711,36225.503,11984.994,20381.767,63350.681,24192.548,30646.136,38516.161,49795.403,16927.798,28595.509,23054.3295,23054.3295,33630.378,17550.461,18129.452,58390.43,20260.094,28372.67,26453.286,20255.493,12683.718,18416.402,23063.893,28372.67,28456.913,62915.352,23054.3295,19552.261,18191.627,13657.015,38740.231,25599.125,47704.005,48625.138,13794.343,23054.3295,17090.177,25192.128,36763.778,21537.479,4212.77,28692.182,82297.50099999999,24322.737,69858.49900000001,19916.276,15439.83,12713.28,43702.06200000001,14244.137,23513.145,26172.035,43955.928,28812.679,23054.3295,34770.026,21015.108,15373.719,30164.895,75003.07400000001,49627.03599999999,23054.3295,17989.694,13641.174,21769.259,11919.733,25239.31600000001,17803.355,40437.899,31791.753,23054.3295,30392.167,11475.388,23176.549,15700.406,23054.3295,49266.697,25195.173,31571.453,26404.779,23339.427000000003,43223.575,20581.103,23537.235,32466.555,12929.408,60735.95200000001,29329.045,22157.226,53142.033,null,12871.887,16752.409,19764.42,73001.365,28587.423,47502.397,58858.551,49389.047,28372.67,16950.511000000002,26292.577,37088.558,18967.456,38308.95200000001,22011.724,18366.002,26255.237,16523.696,23049.623,43069.06,14691.187,12978.17,107646.109,11286.302,85636.26,11685.947,43173.772,18373.45,19170.927,10224.748,14231.335,23054.3295,21107.064,13392.537,27389.143,10140.055,36958.537,null,23054.3295,26954.692000000006,27493.18,40447.854,44767.64599999999,55293.191,33094.274,14485.085,62456.765,8641.282,18721.384,16857.906000000006,12100.613,23054.3295,21537.479,29056.203,41242.119,20225.097,18587.667,5195.285,21483.28,24387.333,15982.449,11259.734,25820.782000000007,19322.187,26072.01,46883.447,56059.96900000001,41706.466,19313.212,24444.056,15539.203,24136.228,34198.991,62380.421,20970.072,10425.014,33989.294,23054.3295,21537.479,13703.321000000002,36733.341,18993.653,29624.739,17876.22,21553.05,40882.797,23638.039,18156.296,28055.431,23054.3295,24242.326,19270.496,5577.521,65096.491,23054.3295,39213.193,27327.701,19293.612,32671.947,42795.57700000001,31163.284,16937.842,11233.642,31781.225,38365.232,28372.67,35602.758,null,23054.3295,17537.749,55583.804,9500.807,20116.179,15872.459,17345.453999999998,32106.326,31588.911,26284.45,74948.095,17895.462,45742.97900000001,null,25494.966,28372.67,45896.476,10554.127,12842.636,44797.505,13406.386,17328.23,16034.881,21642.421,30437.064,23054.3295,7697.143,18737.774,106233.246,60272.63200000001,null,18496.174,17057.492,12296.85,24258.544,15493.872,16362.95,28352.413,15941.146,21537.479,25438.169,31479.054,39097.129,25187.425,19800.774,40468.428,9192.549,22185.728,21537.479,17997.721,19561.117,20438.387,40186.294,23063.663,23672.213,56011.114,11661.02,17093.771,26753.823,24718.037,25360.913,16341.88,13121.571000000002,10148.051,42637.653,33861.132000000005,11010.574,43578.178,22818.295,45231.107,24890.811,30208.011,53987.035,26549.268,11057.596,12176.548,39819.409,6574.414000000002,22014.372000000007,11022.52,27774.242,28890.673,21410.308,25781.631,27009.037,10706.653,50832.321,18858.799,26165.311,24565.899,26748.59,27171.984,21537.479,16847.863999999998,22729.767000000003,33364.222,8319.808,15447.893999999998,18509.519,9667.859,13155.883,51004.55,29675.494,14945.711,13235.885,50050.738,15361.35,28370.272,13486.65,20454.812,9189.389,26028.946,27678.337000000003,24907.06,25765.06,10911.964,15316.548,25712.205,18925.956,15443.261,21194.136,35399.321,27650.373,41959.83,20001.164,34268.018,31397.567000000006,7844.7159999999985,7472.661999999998,13564.066,9701.662,22355.469,22192.928,15977.553,31653.35,16418.685,14111.736,27185.06600000001,28029.163,28372.67,9034.445,12402.502,35605.602,9687.837,28372.67,27413.103,56427.8,31369.119,12867.892,21587.925,46148.162,25856.614,22964.714,16708.224,27500.655,21387.996,17953.061,14587.138,9757.902,27497.048,36111.874,23054.3295,30066.393,104855.476,28372.67,23054.3295,28372.67,24663.622000000007,18347.829,34526.554,21042.985,74240.075,42628.198,12711.026000000002,21702.064,29329.001,41107.172,18194.04,21963.049,20445.509,23054.3295,35942.594,63786.516,15362.667,32053.878,14249.482,23054.3295,30768.794,31268.81600000001,44324.319,39588.743,17950.584,11611.834,21544.268,25556.948,47242.434,38404.141,15300.106000000002,15882.485,15389.96,15434.423,21537.479,82936.12299999999,26897.687,11968.901000000002,12408.389,24996.031000000006,19167.633,21537.479,34451.201,null,26893.288,30570.695,21720.168,21537.479,23954.603,51957.281,31145.219,41843.059,27107.656000000006,18306.234,11254.624,20890.236,19670.104,20975.188,17798.924,17931.549,19816.97,19312.185,8231.177,56272.548,19636.403,23703.331,38124.479,14793.421,23054.3295,13323.916,23193.458,26208.194,9498.503,17933.423,25873.584,11357.311000000003,30812.783,29808.494,25353.549,20847.512,38817.369,18158.356,37457.372,null,56154.17,15639.823,23054.3295,23054.3295,26176.589,15585.401000000002,18490.247,17816.775,19330.94100000001,24529.476,21537.479,36862.31200000001,14051.579,27884.415,26839.578,16496.619,26585.082,15812.359,26101.129,18717.785,28372.67,28372.67,22125.13,24137.183,14057.45,61972.336,12693.132,34211.904,14777.569,15788.111,13195.32,41071.736,20720.259,28667.81,37545.697,10830.811000000003,29658.438,28348.107000000004,40722.429,35495.384,29353.193,37177.593,17278.207,64962.366,37512.573,13882.448,21537.479,23054.3295,24152.382,25650.367,17108.139,36746.941,74045.349,36091.238,22663.551,29598.534,34420.51,42880.303,18823.775,20096.504,18850.361,46305.166,18416.493,21381.434,18037.829,22406.068,28511.403,70636.563,25064.979,23054.3295,17424.162,23211.285,23127.384,17638.372,36092.199,16204.482,41471.186,19508.149,25162.764,11868.475,28646.766,30313.091,23054.3295,23054.3295,23685.322,26630.71,28372.67,60349.971,26406.905,22967.091,13445.015,24781.396,66868.63,21537.479,9649.542,22905.731,19866.451,22948.822,12791.088,19828.08,17263.273999999998,23054.3295,29989.354,23054.3295,28372.67,9413.504,34313.963,27577.272,15832.973,16120.477,23344.489,83984.584,35393.204,116291.506,41187.701,11375.172,21537.479,8977.624,8938.692,41939.099,12720.891,14693.58,41123.722,19217.675,19860.334,10130.36,19971.922,null,22179.331,23054.3295,28372.67,29922.331,21537.479,23163.903,23054.3295,23054.3295,16478.807,13003.607,17525.773,13165.029,27165.211,16057.577,21424.407000000007,32007.917,10893.528,26332.993,27131.671,27254.105,14291.641,16216.832,11761.241000000002,40608.397,44415.13,23054.3295,65303.806,18001.26,22552.428,10035.876,7812.005,19569.142,20841.087,13169.968,31592.278,21969.748,19877.788,39096.686,null,31218.098,32530.785,48710.929,18125.295,19165.228,30505.623,27191.068,null,40638.275,28372.67,28372.67,22220.944,13186.748,11099.917,48800.908,19882.325,26682.654,26773.64,12859.126,47488.198,43981.785,27810.156000000006,30927.65,38351.058,23054.3295,30410.368,29332.771,16614.08,27594.641,27388.577,27372.013,18832.909,28372.67,29897.425,17053.433999999994,13421.109,23054.3295,37927.273,14710.159,12655.207,18665.577,13880.092,51390.83,23054.3295,23942.573,12616.734,36221.318,55216.301,18172.4,15600.348999999998,24864.71,28372.67,12174.445,16099.287,23054.3295,17067.729,22111.073,44192.798,23054.3295,12597.333,26224.764,28372.67,13082.365,50531.462,16441.526,16703.123,23504.5105,null,18737.036,16335.761,41017.163,26320.653,25599.125,14977.806,24164.067000000006,22366.849,7578.588000000002,55097.462,15189.63,22725.186,50273.581,21176.393,23410.25,17199.941000000006,3418.824,29014.706,36198.225,24412.665,13215.094,70932.364,16030.203,57447.75700000001,40999.792,33116.905,21210.074,137492.448,12435.621,14133.122,17332.351000000002,11584.788,10588.133,40581.834,18586.69100000001,23054.3295,40850.364,97819.216,18856.205,25673.783,74553.924,17352.225,29127.865,13859.63,29505.835,20176.344,65153.234,23504.5105,12967.435,34355.653,14680.983,16576.504,27215.003,17713.755,21490.297,18822.143,26013.514,31073.154,13218.403,27376.171,23054.3295,63155.475,61085.123,53157.413,13549.622,21537.479,19700.637,18683.494,23054.3295,17197.813000000002,11788.318,28372.67,35538.456,34954.113,15663.268999999998,26894.964,28965.388,55994.15,23054.3295,6731.343000000002,30672.715,16144.077,16414.721,17917.516,39430.853,12069.275,23054.3295,21721.115,48951.751,18205.052,null,20069.216,19349.196,30885.488,23054.3295,32920.091,30717.219,35739.692,50180.597,13068.03,22476.312,103341.998,35794.756,83427.22099999999,51754.781,54167.554,50345.096,23838.516,18553.997,66526.86200000001,26898.812,13838.101,32810.234,38708.044,44063.965,20838.443,20316.72,23054.3295,30481.667,59027.931,23926.152,25668.457,10200.986,17172.414,36500.558,29751.219,21537.479,7822.828,7191.755,23054.3295,36351.443,34212.575,60746.212,23054.3295,47263.987,14318.277,null,29135.261,13800.331,28372.67,27442.944,21537.479,14220.877,24244.841,28372.67,29788.629,31223.495,9826.636,28439.068,31006.744,20071.621,21254.054,14734.877,16908.634,10512.635,41975.343,42987.037,21656.023,28372.67,22464.403,18956.644,27765.558,17055.988999999998,9273.96,10452.002,29354.641,22757.505,23054.3295,9902.905,23054.3295,23054.3295,13460.079,51113.942,23054.3295,33044.565,16720.683999999994,19529.973,14599.258,55674.07900000001,26479.214,28577.786,39552.717,14111.279,16174.061000000003,16743.943,44484.764,32665.21,38819.505,59564.556,28372.67,20577.582,31113.72,49052.24,15518.346,null,null,21537.479,32145.119,32476.65,22219.875,17667.931,21935.264,28421.765,21921.751,13287.96,12455.151000000002,33948.212,31331.009,null,43347.261,16280.366000000002,null,11915.087,28372.67,30195.809,16130.873,15229.249,23054.3295,26303.489,24580.973,29217.827,34773.151,36640.037,35600.504,33958.211,14359.323,20442.704,25909.568,26719.442000000006,28372.67,23054.3295,25060.684,14759.565,43667.515,40577.41,43703.474,22330.931,28939.155,22041.933,null,44347.856,23522.246,17992.078999999998,14124.143,38924.12,28372.67,null,46694.89,25905.288,36204.645,17646.743000000002,36278.097,52432.228,19159.674,10851.806,23054.3295,25850.111,75141.951,28640.063,31169.007,9365.88,14131.098999999998,11548.895,30439.245,103479.828,18201.489,9356.967,26468.453,13535.123,20642.269,32564.104,34186.555,36256.353,59009.688,88375.737,18402.129,44306.34400000001,18547.155,37196.08,28646.478,8505.835,26245.737,10633.518999999998,18474.173,26542.747000000007,23054.3295,25024.051,7737.235,26165.421,36638.755,23439.908,20390.186,11687.997,null,16924.071,24667.94100000001,26916.18,35260.288,14685.649,30043.555,10216.424,31177.938,65469.563,25599.125,19708.546,10540.017,47635.55,28948.459,32902.175,15661.942,37280.976,17066.276,23219.375,13046.297,12704.432,136538.84900000002,10948.109,88961.881,19233.984,23054.3295,10199.035,83689.993,25895.309,37279.605,20599.639,27662.672,20066.462,null,43819.897,23054.3295,12616.248,25248.069,22940.378,15641.156,62935.872,10508.728,43455.558,32686.682,28514.48,14988.067,72251.51,8847.009,14907.593,36604.363,55432.474,35792.658,17007.801,14583.087,14410.445,22070.06,27092.737,16699.672,34613.488,32373.253,62257.324,26146.314,44848.372,14105.201,23054.3295,24821.127,28372.67,41112.557,33872.595,13286.198,13445.086,null,4592.45,19207.17,30013.294,24137.183,16836.512,23054.3295,16249.416,31219.073,33051.875,18803.046,19552.405,39287.487,17279.061,26739.178,44853.397,23347.549,44065.101,23054.3295,12622.656,16425.67,null,70284.729,23054.3295,16038.989,7997.883000000002,46186.471,11299.846,18836.59,22734.231,13759.346,24262.54,22150.848,53241.304,24484.424,23054.3295,19084.615,36593.876,20278.844,15351.074,22166.627,28372.67,63081.717,21891.324,18929.446,29746.144,11952.963,17270.72,55377.037,42113.74400000001,null,23400.681,17831.6,62119.028,29854.875,70947.806,48252.532,27779.358,24348.697,18894.805,18074.536,37364.175,36347.165,32472.604,43291.473,41435.057,23257.931,11479.553999999998,46175.31,null,51550.109,18489.621,11338.537,23355.194,22574.918,8876.017,13125.842,42102.211,30494.994,17855.866,25812.403,26479.945,20862.068,13293.115,15381.949,23869.635,36030.15,21537.479,42309.892,49928.067,29361.874,33523.406,51621.924000000006,23054.3295,40643.697,27561.164,36694.272,17334.008,46283.779,8862.25,40086.625,36489.723,25758.952,28031.32,20445.645,12731.985,44081.225,59883.067,null,25880.685,38002.451,28597.96,21423.51,17071.602,null,42288.206,13211.549,47202.24,33608.009,23054.3295,17377.776,15160.901000000002,39777.442,21795.243,19303.365,28372.67,28372.67,20328.976,35023.46,37969.564,14832.166,25955.659,14780.445,9572.346,16974.59,15535.424,36366.825,35276.383,25714.429,32358.33,24599.672,29423.284,41134.694,22090.981,14341.574,14331.424,21844.449,33105.289,17408.678,19415.94100000001,23054.3295,40257.475,16417.215,21983.863,18398.436,27796.721,20501.842,10867.156,14829.908,24137.183,18610.217,22275.165,40341.458,15272.779,26389.989,21096.926,26502.699,23054.3295,34594.297,22217.009,23054.3295,21434.373,18620.43,23054.3295,37116.587,null,14738.989,28372.67,23504.5105,34272.96,13205.376,14312.151000000002,33773.36,49129.815,29920.334,14644.43,12037.425,22727.325,null,16468.043,11744.766,56038.75900000001,40216.593,36219.441,20616.256,22766.746,43999.916,27851.314,29717.5,26733.976,33084.83,18773.442,44893.815,24137.183,55029.379,33402.262,28814.104,13721.187,11535.268,26058.726,41929.345,26563.496,25772.748,58596.065,23054.3295,24797.932,31199.021,null,21447.619,13902.52,16311.688999999997,13405.901000000002,34136.222,23054.3295,41776.332,23802.723,20229.504,22903.6,39347.684,23054.3295,30251.57,21537.479,13865.018999999998,23191.974,20236.228,36987.117,25785.054,14003.981000000002,21537.479,11724.917,14034.68,18816.172,28372.67,23009.395,23918.567000000006,18900.064,8648.266,98605.453,29341.439,17855.128,20923.857,55956.584,23707.396,18546.162,33528.126000000004,21487.517000000003,24895.514,22132.034,23352.318,null,13813.133,18750.185,17124.933,33999.661,15865.329,18689.905,21995.347,16734.283,24137.183,13541.692,40767.448,17625.045,104655.747,53652.039,21756.141,25551.79,20510.235,20362.397,12310.874,13673.777,40911.606,16715.708,30968.896,54102.836,23133.287,34612.535,23054.3295,32551.387,23506.409,23054.3295,13329.916,13537.326,26948.225,52278.808,13722.665,18125.629,56185.194,31756.746,13724.299,28372.67,23054.3295,28372.67,21474.405,47658.664,32463.299,13127.324,19681.831,21133.14,41772.645,57500.93,16682.006999999998,20882.083,23296.596,21537.479,41789.476,22711.139,11759.719,22766.693,21401.788,20805.027,36400.579,28372.67,16588.119,32772.381,25888.13,32536.555,29789.319,35102.457,14591.441,43843.182,12103.333,48180.047,24137.183,17496.795,15173.081,19946.627,39015.332,15648.424,25279.839,24796.869,8788.169,17897.315,23054.3295,52856.569,38952.108,22235.796,50544.333,21166.836,48850.248,15316.262,26156.534,29147.22,30256.261,21631.79,25908.625,24233.61,26093.117,14765.842,22390.609,9063.313,20518.574,14061.414,25599.125,11664.723,49463.901,23054.3295,15797.566,5982.694,32436.933,15438.294,22758.533,33800.86,27240.272,9517.34,29525.634,17014.527,20836.457,23266.934,21829.342,13306.982,92735.109,20165.378,12853.444,12062.163,15005.278,23054.3295,28430.796,23054.3295,26248.063,32344.718,26055.192000000006,64386.3,39935.768,13683.692,30943.83,17101.034,18625.498,57699.113,23054.3295,51010.401,9943.48,20077.638,15535.369,16387.015,43068.20200000001,11691.132,null,29207.022,28372.67,27224.915,18268.414,10704.119,30309.662,null,25138.149,34436.162000000004,58375.453,28182.072,40911.363,12672.121,15187.123,25208.55,19263.536,44045.47,35632.36,15307.244,15768.688,41792.287,13688.052,25589.096,41853.486,16814.868000000002,15529.13,30634.556,23356.895,21831.449,38399.981,34446.482,11267.608,23054.3295,12968.686000000003,13612.45,23054.3295,19574.947,13565.254,null,14226.295,113462.764,58701.317,33713.812000000005,14640.126,31504.756,20643.264,47220.679,14724.11,14186.806,25718.426,28332.94,13125.412,25122.09,14005.941,25599.125,36709.073,29847.366,11560.878,15834.171,51995.707,30446.489,15987.424,21244.12,31426.614,24031.236,138685.566,273809.483,17421.065,19844.763,23054.3295,31588.405,17953.176,22231.604,26210.83,12533.131,112109.852,44549.048,23365.614,32726.94,20251.188,42703.19,19797.232,34576.104,40020.858,24572.255,24099.649,9800.376,27146.204,50960.171,18626.677,20111.021,20186.727,8867.155,41033.189,22460.542,23054.3295,8639.908000000001,34076.365,18307.867,23498.318,null,17889.339,35947.217000000004,18458.952,41048.819,null,23054.3295,29839.5,16941.075,37201.646,70846.659,24773.988,8030.755,17281.494,null,50468.431,23054.3295,23054.3295,15199.799,7787.566,13610.873,29218.31600000001,47041.516,19497.392,40370.009,28372.67,37846.858,31822.47,27662.894,25439.803,27296.727000000006,21016.947,23344.849,27879.63,21626.11,17681.12,39879.697,12119.99,54797.09,17221.528000000002,12266.348,15562.363,23054.3295,39268.633,15125.559,36412.806,39291.292,null,74170.742,24182.062,13909.352,17989.017,19337.132,30247.829,19208.33,23054.3295,26340.893,19867.032,9809.491,23054.3295,45145.88,22768.489,30821.516,36418.243,94434.08,29534.163,30494.5,14483.365,55414.988,32849.877,24934.257,28372.67,35998.464,30247.773,43283.55,20868.305,36296.234,26445.097,24653.338,44192.50700000001,50054.212,9598.112,15522.04,20030.547,26848.926,17224.099,13771.456,25303.344,35948.767,54345.38,11825.244,20694.736,36865.136,9100.663,23940.042,27548.232000000004,null,15083.275,36556.75700000001,23970.698,8184.071999999999,45242.224,20301.165,26413.998,13995.521,17458.176,5331.621,48512.352,23054.3295,22873.132,59758.735,15304.813999999997,22516.278,20542.25,17561.539,45144.555,26112.961,21346.304,40392.258,23054.3295,25299.254,20618.08,17111.834,18756.211,29127.865,30342.183,31397.447,12033.866000000002,16662.728,23054.3295,41967.548,14015.847,41564.185,13613.291,20382.565,11461.435,21533.771,9107.736,22276.392000000003,15879.906,30339.397,24137.183,28372.67,16942.391,18177.594,26978.644,29641.999,31740.419,24126.303,12767.219,17141.089,24186.31600000001,6067.147,28372.67,22633.993,14782.392,8668.663,28372.67,22870.482000000004,24547.677000000003,33800.028,25239.309,34089.229,18564.806,20569.189,21003.19,15700.193,36976.94,23800.418,28473.586,52062.558,31921.188,34370.242999999995,null,30340.097,27184.291,null,27424.411,26712.386,18599.239,23054.3295,null,18132.639,22055.999,19998.67,38860.45200000001,20644.118,29215.987,16252.837,16521.171000000002,28197.071,13459.536,21475.146,15600.101,15761.046,25546.807,23054.3295,33791.905,14152.023,41531.479,9225.487,25016.059,52995.638,23697.38,26299.56600000001,18550.147,16681.125,16125.632,35159.375,16974.273,16968.293999999998,24291.224,20714.975,16927.581000000002,60700.372,21385.726,22721.46,21438.145,11980.653,60124.486,33690.246,44413.639,21361.73,23054.3295,16759.393,15538.817,26337.852000000006,48771.25,33930.668,255618.158,23054.3295,25888.901,32446.982000000004,34367.383,15124.713,14550.063,60267.005,21864.475,11487.555,38317.862,22119.915,48862.588,21697.158,22892.567000000006,23038.745,31015.514,35057.503,null,28372.67,34192.451,16494.98,56142.001,28372.67,25321.87,24137.183,30530.384,30965.645,23098.49,16469.41,21202.179,41314.996,21805.707,11800.138,31915.81,22523.533,null,30670.889,null,37146.535,19594.205,14679.936000000003,38513.721,39249.906,23641.357000000004,23046.6,9863.493,25143.209,29872.951,21554.36,52077.198,21253.861,37690.536,7105.919,27342.33,27068.364,29689.285,29529.968,19233.797,30902.673,21221.633,40820.82700000001,8696.499,28868.149,22077.908,23054.3295,23127.157000000007,6764.879,19947.372,35893.523,28701.218,17970.002,50372.57900000001,19392.747,21126.143,55696.95200000001,22046.281000000006,27044.098,23054.3295,32449.916,23054.3295,23799.601,23054.3295,31071.361,20500.405,14426.033,22502.179,21464.293,13718.999,15889.768999999998,14923.846,28372.67,17518.516,17947.494,11414.601,27413.115,15400.309,10712.105,22865.648,17904.078999999998,40265.261,29676.072,34263.222,28372.67,51420.423,18250.392,18243.403,29446.68,18686.149,23054.3295,21755.571,13845.22,33573.279,30985.75,34657.856,14063.72,17049.24,22769.284,9301.678,56208.417,14593.039,21946.949,21139.462000000003,32016.687,61526.504,23892.597,28372.67,39833.13200000001,36960.781,null,23283.507,36432.214,28190.804,42032.51,19536.867,23054.3295,24002.686,null,27529.892000000003,10304.248,27427.664,39753.252,64006.056,30268.684,30717.85,49654.038,31923.108,28346.573,7434.175999999998,30984.558,17705.057,56021.455,30680.425,17012.94,10513.132,37338.159,20049.364,26539.569,22620.496,29983.852000000006,31629.31,28372.67,33710.839,15283.32,15837.847,14644.135,19825.244,16445.65,17051.313000000002,null,25543.676,49270.708,82133.598,23693.348,23953.955,21894.09,13690.0,11047.239,35587.883,23054.3295,37146.783,17590.832,30760.876,21540.671,21508.087000000003,27664.032000000007,23690.724,20783.081,25482.515,16294.232,24137.183,12950.791,27011.012,10390.721,21537.479,17149.241,35611.687000000005,27459.292,8324.949,112084.059,23325.547,10090.037,16698.387,null,8808.546999999999,54414.516,47106.423,19207.92,27263.091,32394.904,24719.892000000003,43655.528,15603.411,18261.284,21270.006,47702.99,42974.732,19702.598,36311.529,31005.399,23011.715,27989.06600000001,35697.209,33902.626000000004,18555.802,23968.371,14218.699,20630.982,55505.492,30203.025,21748.228,16870.26,37381.146,21537.479,43295.824,42900.854000000014,32804.199,36419.395,23054.3295,22812.425,17600.693,26769.513,24137.183,15830.633999999998,null,20970.89,21537.479,13386.094,15667.021,42967.363,12869.957,22011.85,42225.407,16043.18,40856.362,14500.396,25738.686,17945.258,23313.146,21864.725,25232.695,26681.537,33391.517,23700.132,23054.3295,20681.288,23054.3295,35372.284,23925.624,36303.35,7895.78,21703.585,13069.864,10737.053999999998,14740.705,34493.804,18106.521,14453.908,21858.961,43165.5,22847.366,null,8601.655999999999,40856.07,47419.251,10527.035,8198.235,14698.619,25823.522,45303.856,22292.308,16917.843999999994,15094.579,21580.414,20925.043,20684.663,25351.772,15429.164,39056.169,50771.607,38199.161,null,16571.82,10072.077,10999.518,26584.946,37222.355,23504.5105,null,25986.083,22564.544,null,32899.47,21994.867,15059.406,30980.402,53623.513,36831.39,54453.21599999999,24795.835,12404.962,21312.81600000001,44438.174000000006,25843.703,23766.18,14176.446000000002,19795.025,32572.685,11222.508999999998,17307.22,19198.874,13190.533,null,35243.457,17955.849,22112.445,32230.634,40312.214,33988.15,21173.292,27133.044,65240.5,29865.083,42421.7,23054.3295,18332.964,30432.232000000004,25599.125,25599.125,41114.186,31799.474,16974.311999999998,32326.602000000006,30949.151,36205.863,10126.141,28685.062,29976.293,30659.946,31363.006,30176.909,33093.257000000005,32827.75,16318.794,27366.761,67276.702,20811.372,22709.888,20621.175,17545.568,31340.678,28874.304,14015.802,23054.3295,30462.864,23054.3295,9627.961,14355.731000000002,16175.977,44396.741,27268.598,27336.178,29041.21,13327.087,15822.073,15247.398,23054.3295,44340.923,18042.138,23086.242,25599.125,16419.738,13088.431,21537.479,43431.226,24076.15,43346.75900000001,29497.709,18593.082,58628.961,6157.545999999999,9385.917,32212.719,15304.94,67427.634,44685.066,18568.226,36001.573,37608.302,13389.937,17130.046000000002,12710.7,null,42851.876,14571.511,null,59986.574,40408.62,39590.668,23054.3295,22713.764,17799.694,19240.488,30130.599,28363.947,22525.715,17335.452,15223.438999999997,23054.3295,17737.818,23054.3295,19895.187,23054.3295,15583.07,28411.879,42166.608,17535.859,12668.548,18677.829,23054.3295,13033.357,37188.106,11618.691,21072.711,20174.598,18059.304,11343.32,41806.607,12778.18,27739.397,20425.735,16815.55,47040.103,27992.391,13128.312,31783.419,20686.357,24314.615,23841.581,41164.328,23054.3295,23239.541,18615.487,32743.001,31750.34,46127.621,42412.93700000001,13427.444,18277.403,19073.721,35771.148,15252.188,50979.672,15410.517,31174.18,15413.698,20675.169,15058.962,21537.479,15356.12,10022.261,41246.113,19506.311,19855.952,24137.183,29463.638,38269.664,25266.308,34869.715,13333.411,18043.818,10904.91,28372.67,31500.141,18252.543,24291.993,20546.988,12118.922,44705.22,17261.585,18108.994,17578.035,16772.305,25488.916,37074.346,16467.625,32420.664,18757.759,35096.705,43198.461,24137.183,28573.178,38606.963,28627.17,13761.26,50714.70400000001,19451.431,36143.018,46516.478,51646.576,34666.851,18447.311,41834.699,13425.176,21367.433,24235.856,14917.053,28372.67,12607.51,40154.068,6832.725,19313.903,19904.207,23054.3295,23958.978,25182.61,14197.702,21772.594,35441.731,33198.617999999995,32181.083,17787.628,28372.67,21340.362,22228.88,19701.628,22960.592,23054.3295,15664.005,13866.369,10964.854,10494.526000000002,13028.397,20256.599,23504.5105,23528.832,20559.43,37699.295,20233.104,68085.526,28327.509,34495.931000000004,28372.67,21586.999,17579.647,10714.503,27722.759,17511.674,37996.529,14993.007,16946.508,23054.3295,10839.785,51154.867,null,21537.479,48919.816,null,18839.695,18132.374,31739.815,32378.498,23283.516,14692.059,16608.236,16565.486,22964.934,23054.3295,37416.055,20197.859,11689.627,10037.939,43260.824,40893.059,24134.766,21673.909,9737.635,50754.315,21924.369,22696.368,53558.434,27517.138,39303.29,10452.295,10812.457,29442.349,35160.279,18985.653,23300.634,16081.444,23054.3295,19587.255,23648.054,21830.538,38361.955,20537.924,28372.67,27501.902,13770.126,28463.439,23517.015,13361.018,77286.48,10599.591,21537.479,44691.127,24137.183,24174.355,22108.859,19137.474,18373.04,36885.339,23054.3295,36841.03,17188.041,77437.414,36172.893,38212.485,23054.3295,11936.927,17896.873,10508.71,34699.962,23054.3295,21345.313,null,20637.632,19538.312,24555.297,69329.714,19616.795,17796.623,25666.766,62138.383,50047.9,69443.74799999999,33501.501000000004,18349.807,17158.596999999998,10861.987,12674.457,21538.202,27723.062,21228.041,16272.991000000002,25121.203,28504.275,17623.554,44220.621,60362.82900000001,29290.715,10438.486,44133.20400000001,25005.824,57879.75900000001,11385.167,23730.736,12966.612,24400.888,24137.183,29745.708,107520.75,48875.472,39036.533,27113.295,8980.323,20612.221,12096.596,27696.2,31000.709,32655.995,28372.67,28001.839,7304.674,23079.546,16375.783,79424.62599999999,24144.292,33334.467000000004,12299.084,23054.3295,15637.937,17673.683,46739.873,73781.985,24137.183,23054.3295,43701.553,25327.0,19894.955,35062.036,28661.949,27635.885,32724.64,21470.062,26066.5,15897.163,21250.356,12998.195,80621.052,70643.671,59794.834,164438.765,23054.3295,29388.461,22208.353,42253.983,228469.514,25599.125,25599.125,23054.3295,40636.329,18706.948,23861.153,8486.503,22346.069,6886.538000000001,24995.982000000004,20665.57,26479.667,248184.463,31327.922,33359.456,23054.3295,44930.394,21194.888,11908.588,93511.113,25379.837000000003,25675.315,24643.1985,11975.968,60287.77099999999,17232.37,24137.183,21537.479,17405.737,41909.985,32992.619,15914.926,20438.868,16546.935,24335.353,8632.582,39059.73,14328.79,31940.99,82570.062,28372.67,16913.16,21886.846,63910.544,15128.821000000002,25236.673,15846.545,45248.595,13635.467,45278.122,50952.459,59740.794,39553.356,11362.784,25889.137,18991.906000000006,17321.732,18320.016,26351.15,21537.479,34731.545,61021.43900000001,28372.67,null,52782.779,66718.62599999999,59881.285,34165.958,34248.949,18661.013,19025.326,39210.65,21298.997000000007,31575.91,23697.507,17683.486,14600.561000000003,52902.186,16047.295,33727.752,26100.261,88228.978,14097.937,27847.31600000001,null,18742.137,21994.936,16311.301,17095.736,24714.358,62589.906,15737.63,58536.14900000001,8098.985,28540.194,30792.684,14905.481000000002,17611.825,22683.284,27433.456,25492.682,63542.302,41280.929,21459.264,16771.558999999994,36993.16,38313.472,22286.726,17377.703,40560.569,17921.243000000002,23054.3295,12410.748,null,25575.931,38222.303,49089.41,24208.132,20682.934,22556.483,15184.773,52321.946,9843.992,40924.472,30525.632,29100.584,25677.837000000003,23054.3295,13516.051,21304.912,14206.013,21925.936,33150.398,40537.252,26338.731,16310.584,66829.29,19040.321,25990.554,31871.324,17427.95,23054.3295,21397.77,76703.133,46595.935,26124.613,14972.941,16817.53,27786.429,11941.954,20394.509,83600.887,null,14883.329,36868.279,22287.47,12769.131,19225.95,21731.865,52448.412,35678.695,46451.20400000001,13781.865,22088.784,39305.338,null,99317.724,24137.183,null,22199.06,25599.125,24256.931,null,27797.371,15772.665,40705.289,null,18900.532,24660.901,26802.282000000007,18863.424,29569.057,66720.244,30864.011,26314.598,23054.3295,47284.658,26591.532000000007,15425.841,43847.101,58380.106,25203.698,23054.3295,11174.637,23333.501,30136.236,36125.336,17855.784,45761.626,28372.67,24339.343,5028.623,28372.67,20312.71,42070.481,20812.057,28684.782000000007,48070.455,37131.838,13819.764,6994.401,26769.747000000007,11486.908,15384.62,24428.674,28371.099,25365.672,17749.668999999998,12770.021,28372.67,26362.033,14840.475,36582.791,27033.06,45599.712,19173.499,30908.122000000007,23870.445,19416.235,8702.576,44583.96599999999,28711.273,25352.811,18462.632,16020.785,20109.8,31360.678,36700.802,25475.268,36614.447,19277.88,17882.999,11659.923,26841.869,15642.543,34341.149,42501.728,25599.125,16704.224,12793.168,17929.523,32491.002,10908.412,55554.523,26474.177000000003,23054.3295,21537.479,null,18038.568,21537.479,4672.012,23054.3295,27333.329,23054.3295,16990.926,34719.305,22198.986,23821.144,35420.116,17375.4,27119.024,44973.695,18235.443,27077.361,11118.55,16552.358,24137.183,16066.768,20475.735,25192.666,13537.007,28866.867,23054.3295,22692.626,79866.103,23054.3295,12406.936000000003,16083.911,16571.371,12622.735,51969.208,17652.365,37835.625,22604.361,28372.67,87466.23300000001,23054.3295,41675.643,28833.791,23054.3295,13827.311000000003,25923.438,22068.007,18215.738,69866.01,25900.664,20484.824,18640.933,9748.79,12155.282,35955.747,25745.339,44177.933,23054.3295,21155.452,14472.436000000003,15297.089,38889.107,28372.67,21721.907000000007,23054.3295,75361.363,18771.067,48406.615,15435.115,10834.102,25582.569,23553.259,23054.3295,27985.838,44618.22900000001,35942.051,28372.67,23797.381,31093.421,7625.653,20605.244,23054.3295,63041.599,12256.65,174817.312,37237.331,20930.595,10081.358,null,18401.872,27526.517000000003,26210.355,29858.898,19462.132,24617.544,12036.994,27921.947,26073.94,15020.77,35824.496,16782.963,34581.864,20876.256,65912.414,7117.498000000001,37576.446,19270.615,40317.107,26895.263,21878.923,32597.853,16189.737,41038.792,14728.015,10272.907,14607.198,32973.928,20863.879,38600.56200000001,77218.07,18028.174,31345.874,20433.997,10977.639,21699.475,23054.3295,21537.479,16434.495,34866.656,41334.612,21537.479,23054.3295,61865.722,21537.479,23561.831,20540.814,12112.035,16172.631,35588.42,23540.315,20824.038,16450.628,30490.365,32949.028,35589.382000000005,18171.952,32083.737,19175.881,12793.635,20486.289,25366.65,29117.247000000007,21537.479,27564.893,23054.3295,13717.016,13257.277,7341.274,23054.3295,21823.778,18368.272,11351.522,32980.29,32332.8,24652.944,29794.486,5803.271,15797.1,8083.467,23184.423,17531.456000000002,25231.633,42944.907,20090.537,10283.177,76477.381,14797.373,10533.557,35108.708,39344.676,59160.623,24983.26,6945.621999999999,40378.985,13896.801,34049.851,31409.618,35734.195,42861.99400000001,8821.593,18024.535,45828.858,12545.423,29964.6,36918.097,14624.458,51543.083,17476.84,9984.011,13360.795,26010.101,16837.023999999998,59038.749,19973.758,28597.292,26077.832,29058.741,52346.36,16181.663,22857.797,44269.086,26268.045,12782.076,18033.252,41709.338,26125.031000000006,55876.708,13409.405,11255.487,19230.645,24786.839,26388.484,17820.005,22866.59,50732.75,32697.135,16922.036,11224.522,40751.865,37064.305,21709.977000000006,32680.912,19410.292,23054.3295,28372.67,20354.985,27150.098,31269.565,16018.341,12734.618,16424.54,22241.515,28366.568,29044.517000000003,21537.479,13653.052,16344.537,22100.272,36044.793,10696.823,14183.383,19777.455,14173.448,11670.268,28372.67,44232.412,27731.864,35687.827000000005,16288.573,22434.032000000007,18983.503,14486.547,8136.0340000000015,56634.548,10758.753,22819.485,17947.552,21048.515,14323.143,21617.265,28372.67,72259.61099999999,11252.158,21246.097,23054.3295,12440.447,23054.3295,23054.3295,41724.333,37220.95200000001,24137.183,14926.67,24542.843,32383.244,18109.562,10558.491000000002,51222.071,17545.638,16872.682,26146.414,13347.694,17443.248,46627.877,12604.67,22559.85,16714.651,14311.937,11113.633,14539.667,29193.879,54729.769,43583.029,27229.537,35662.861000000004,17889.113999999998,21484.3,28151.629,21838.348,16533.735,16245.865,28160.024,23054.3295,40347.93700000001,20915.908,33664.359,22776.624,25215.644,23061.267000000003,11158.572,23054.3295,45447.053,28372.67,23047.873,26425.476,22480.286,12835.355,42516.531,25960.932,32273.334,22228.605,22805.06600000001,23054.3295,15174.645,33983.487,18768.177,75950.917,15365.943,17781.695,20908.546,45942.563,41584.903,21011.358,10814.585,58055.792,17791.701,26097.026,79419.95,23054.3295,24305.61,23054.3295,18962.675,47806.171,24439.154,60008.116,19552.88,21995.029,17924.795,28372.67,51113.225,27430.362,22614.927000000003,22496.527,25365.846,25254.63,25912.026,20741.912,15681.58,28734.719,39764.658,21462.646,23566.706,28372.67,23054.3295,47796.667,30151.711,9888.551,24889.179,16321.649,33866.104,27564.459,26714.987,20670.98,19209.742,31577.772,37190.393,20723.57,17403.09,35946.961,14219.535,17190.397,23148.825,14465.637,11020.542,45448.906,26572.673,16597.987,6995.833000000001,20845.897,15057.148,18721.79,43640.45200000001,39671.54,29110.272,13819.588,36038.606,22885.299,14925.342,48066.269,24114.51,30056.859,21117.31600000001,35745.833,21142.434,28372.67,16611.093999999994,87481.69900000001,20075.916,8279.112,null,10937.73,26126.755,15419.271,29961.6,22786.775,34038.264,13386.058,18943.62,17572.992,16463.737,23722.466,19665.436,21537.479,44962.337,23054.3295,17458.025,22647.982000000004,12495.507,25090.939,17133.296000000002,24050.856,11392.124,16221.351,13188.533,26492.876,null,6295.399,35901.204,7764.299,22245.512,38993.77,23537.323,47255.826,56449.386,16750.892,14415.714,25051.616,27589.448,11403.388,48219.34,60686.212,26657.81600000001,null,32014.695,36395.137,14936.917,31702.548,38721.832,6757.274,21068.924,44583.561,61037.444,35181.833,15718.738,59944.401,29586.164,18201.247,12625.021,53289.497,24531.41,26308.981,38310.841,23054.3295,27426.495,56121.77400000001,24575.391,36462.96,22680.772,26633.332,18492.456,36465.956,24775.135,13514.712,28496.695,17817.245,19329.5,26794.896,39990.247,30671.669,25218.628,7996.8780000000015,18793.813,43620.261,39140.93,55458.005,20145.428,35392.16,38996.289,30069.683,23973.836,32175.361,null,21469.18,51586.23,23054.3295,28372.67,23054.3295,62223.511,29105.884,28886.597,5461.996,12164.52,30734.917,16815.694,27772.026,41698.061,138966.93,137991.636,13762.669,78844.189,36825.769,25991.133,8190.53,24926.606,31461.575,32137.769,23054.3295,29249.955,15595.772,36406.514,23054.3295,27476.847,19605.917,23054.3295,18431.344,37167.945,35901.005,26165.213,34838.364,23054.3295,17576.121,22755.868,null,174660.414,24728.917,31599.943,11136.847,17943.973,24949.84,31992.023,8705.030999999999,15562.214,19081.706,26208.715,25383.579,22760.054,27485.117,19617.25,42237.38200000001,23190.132,24137.183,39361.513,23316.965,28372.67,43463.215,23054.3295,24688.667,26314.611,null,30539.02,24894.203,38069.069,36449.254,34221.039,31149.2,22685.706,34999.998,70121.599,13287.695,59591.57700000001,27036.331,null,22287.496,21537.479,11584.353,18300.589,26781.299,29703.56600000001,13273.65,32039.339,31592.698,38766.087,18035.148,53773.278,47964.07700000001,14477.806,25579.799,21683.559,25507.012,45462.335,15434.911,32255.737,21537.479,48428.856,22161.821,20775.559,17657.97,12502.327,47615.152,34238.839,20170.979,28372.67,28442.142000000003,34471.454,28372.67,null,28372.67,18463.324,30813.559,34252.637,28372.67,23963.742,9251.547,30773.509,23054.3295,13312.275,11912.799,15448.928999999998,18394.344,7433.092,24295.423,23054.3295,29666.478,16767.363,78701.829,16641.744,34223.531,38066.479,28372.67,39281.284,54602.435,24632.82,26635.548,23888.133,20958.435,34835.239,41102.802,24137.183,16906.442,19562.139,55230.308,23054.3295,44417.691,10637.76,19373.829,25889.172,23054.3295,9549.388,41110.625,44951.076,20298.176,19890.402,23054.3295,63119.498,17786.926,25166.89,41763.385,27592.757,46861.572,23227.664,12379.371,21892.733,12388.992,23054.3295,23054.3295,46471.68900000001,19168.742,36882.336,15744.793,10557.698,8781.25,21105.728,27894.76,11330.136,null,33368.955,8688.555,23854.113,47274.742,23054.3295,9214.315,106550.124,22345.729,11020.529,34427.226,39312.228,19851.635,22967.439,90499.942,22779.715,11368.245,18149.46,18128.848,46929.895,10500.261,21537.479,55582.205,14217.695,32428.548,31243.065,23054.3295,37166.527,21847.785,7520.864,15138.322,23054.3295,52838.98,35465.085,18950.98,48541.431,30145.923,32119.709,21331.135,14443.153,23054.3295,28372.67,25451.31,26727.992,21537.479,27932.559,32998.158,53431.706,26605.446,74656.65400000001,17980.293999999998,23054.3295,26013.847,11101.973,15984.345,null,14352.244,23054.3295,36172.109,30632.916,13692.058,26622.135,38440.978,36127.57700000001,27268.087000000003,43064.603,27952.72,16559.093,15290.296,28372.67,25453.443,31134.601,32783.963,352136.354,null,9235.216,32935.968,28801.264,11652.852,29105.526,15354.169,31159.457,21517.204,39708.038,26509.906000000006,28372.67,23202.87,26487.012,27097.085,8765.302,43463.81200000001,53565.385,40738.996,28372.67,32926.249,29531.045,28372.67,27785.891,23054.3295,22805.493,19520.682,18871.127,5274.611,48696.983,18665.33,23054.3295,17161.694,13016.238,29534.236,31338.711,23054.3295,24207.536,22153.47,39167.901,20488.849,16580.386000000002,26295.828,16007.293,5217.0340000000015,10519.532,31392.196,23054.3295,19619.771,21297.703,28372.67,12903.36,28678.985,7941.472,22575.594,16681.436,36099.251,25357.813,27211.784,38484.342,28336.544,13628.625,14286.633999999998,30241.58,36682.114,9291.258,17680.003,18289.622,35689.331,48046.389,14922.109,27557.444,12495.746,15416.746,33659.49,14828.44,24137.183,23054.3295,27691.682,20938.667,11500.726,13067.646,23771.058,15000.37,22862.99,28372.67,17632.773999999998,26813.252,26433.901,23397.324,18685.817,16633.194,47839.28400000001,26221.794,27617.364,20103.281000000006,25620.288,39788.70200000001,9615.919,31384.221,21830.25,27868.313,26627.12,21537.479,37322.787,41017.527,null,21299.278,37636.135,17087.694,19747.039,28372.67,22343.002,21274.734,29835.919,28372.67,16352.119,23054.3295,76274.655,63292.831,23139.297,40641.346,22098.753,17794.526,31964.853,14897.506,29588.11,23054.3295,36640.1,22932.945,39088.505,23355.876,37578.574,23352.477000000006,23504.5105,17945.049,25599.125,null,15679.58,18496.645,22014.662,17267.2,19222.819,17638.659,22998.675,13302.909,12705.836,20323.658,20777.152,33702.312999999995,19676.219,20448.703,23054.3295,44726.84099999999,35347.249,21537.479,27794.862,34300.672,28372.67,26913.769,32672.669,21185.351,28372.67,40103.24,32788.372,13738.872,45244.745,23054.3295,28372.67,41887.037,90422.946,27989.159,80652.68400000001,195686.797,12673.505,20504.371,25319.217,25803.903,18353.998,27498.636,24311.872000000007,28216.603,20246.475,7740.834,17528.71,13070.213,25739.804,24137.183,12841.421,29387.589,12920.312,16693.692,8691.234,24828.916,33304.898,24456.476,21536.344,12712.14,16765.508,20572.209,27664.829,13491.919,52055.82,51008.108,28372.67,34131.891,63774.627,35200.603,28690.707,26196.699,15769.762,22698.449,16371.438,36094.023,13134.748,39220.413,21254.94,31194.071,31833.705,23054.3295,13479.312,59838.38200000001,35065.781,49201.482,32995.148,8858.293,38046.716,34809.151,32624.479,13574.347,49516.683,26645.161,8862.065,34526.936,19273.483,48788.559,28372.67,16722.506,41412.209,27144.313,8255.157,28960.846,41005.565,21314.491,28617.792,23054.3295,55981.63,22327.549,95732.368,28439.847,93904.937,14600.126,36643.049,26080.236,31004.536,38574.31200000001,23054.3295,19509.115,63586.772,56590.997,15380.971,26940.582,25327.453,26680.676,28372.67,null,48906.018,55663.446,38420.998,16409.394,27219.732000000004,10524.925,40476.847,12533.813999999997,33156.885,28372.67,24966.693,20387.91,27545.51,17521.832,10167.767,22745.113,24223.72,28372.67,26212.563,11025.863,8806.834,22928.515,21537.479,16716.349,13820.886,17837.713,8162.357,23054.3295,21537.479,29925.232000000004,54294.355,19961.451,23054.3295,24763.009,41156.394,41866.567,38642.954,63994.919,16360.43,14753.281,23054.3295,68239.417,31433.173,70111.364,10582.146,19766.276,25881.788,13066.802,12188.662,29029.186,26323.685,32658.599,18174.097,19927.175,23054.3295,13811.096,45900.819,40196.621,11594.366000000002,35741.107,21513.949,81496.19,16607.191000000006,13183.203,33987.741,30120.366,34552.334,28372.67,12838.305,26736.649,41295.796,29747.458,23054.3295,17876.736,21565.432,34469.387,26559.455,23054.3295,31947.205,22775.122000000007,21537.479,31339.362,15955.942,18511.196,26471.312,12955.146,24395.148,25937.55,23113.915,35567.102,23887.035,15351.393,28335.29,25737.792,50715.13,20777.595,25412.388,52305.37,20821.71,16770.534,44203.086,20291.248,18841.368,30706.797,23054.3295,23054.3295,55542.517,null,41454.174,13580.351,7882.948,31883.712000000003,29678.204,51806.171,22905.074,20555.324,22899.593,26575.735,9019.09,32004.142000000003,22404.853,18725.514,28699.12,14642.203,20645.456,14162.681,18249.838,35868.655,25599.125,15886.117,11063.639,28372.67,28372.67,38012.595,35171.902,33646.648,28806.306,32452.815,18915.075,78330.215,28372.67,21777.85,20348.355,50236.19,28586.544,19626.623,36752.774,38823.528,18523.767,25365.139,21952.615,20597.22,6605.21,58166.565,34633.274,17378.306,null,25185.97,22651.723,82272.643,21222.002,30564.409,28372.67,null,16816.615,53594.461,13809.033,41370.279,13862.353,21111.896,21028.425,15990.355,32144.875,16411.921000000002,31448.484,22229.954,31543.442000000006,17320.45,17996.175,31919.948,40299.38200000001,33866.574,26474.924,13368.328,36478.25,9438.972,28372.67,16839.595,29826.145,21654.373,30842.634,17478.961,28372.67,34644.117999999995,14503.684,9369.601,23054.3295,9822.17,48147.395,28372.67,31791.384,12924.115,26812.248,49329.126,19800.964,22349.04,51676.008,13936.62,19295.453,23054.3295,36688.676,16124.063,22059.785,48868.115,46877.807,23808.129,46765.65900000001,16452.558,28696.929,36306.034,13035.936000000003,19849.82,14954.77,21537.479,34657.835,39606.524,23054.3295,18423.51,23054.3295,28389.988,18309.545,24213.257,31550.933,48605.331,22901.668,28372.67,29288.914,47221.645,30685.538,17420.782,33732.96,31773.509,16059.447,23054.3295,24137.183,9065.139,24254.801,22679.215,23169.249,21638.555,23054.3295,10483.269,29237.187,25673.888,8600.277,16860.581000000002,35415.771,16808.513,17234.278000000002,14298.537,23916.881,14530.542,21862.49,12125.986,23504.5105,32792.754,34562.28,84602.365,37668.041,31318.062,15761.498,16790.905,17754.368000000002,29720.26,50298.53599999999,14626.983,13903.187,27994.625,28372.67,28536.797,25975.099,32577.44,57732.435,30213.932,24137.183,83380.065,33146.834,26575.675,24137.183,30011.246,32471.084,105861.729,9858.406,14415.573,41375.02,33548.693,61061.553,23054.3295,24978.041,23054.3295,21685.987,21008.31,10485.347,8182.9090000000015,42169.022,20162.125,42303.428,11968.531,39826.814,24114.01,null,21063.024,12813.829,24160.493,26998.306,30341.822,36802.50700000001,22582.311,19551.432,35477.367,71499.332,39671.533,18104.077,34815.72,35708.114,43124.822,17337.571,28871.434,16178.942,18280.196,23054.3295,24506.839,27475.767000000003,13275.538,28764.259,14964.104,26696.611,21537.479,39298.093,32067.527,21775.026,23054.3295,17078.015,28372.67,15543.309,7958.852,13653.861,null,65263.983,15659.616000000002,23054.3295,31163.591,23233.752,25989.826,20388.204,13330.211,41626.423,43964.718,21835.69,42638.038,19686.19100000001,22697.517000000003,24137.183,32310.358,null,23054.3295,17689.51,12162.703,null,15209.404,14145.063,14001.617,26521.381,null,28467.621,23054.3295,24137.183,26343.777,21572.139,37298.824,42928.725,15684.501,12608.129,21283.646,25588.404,24759.285,29785.349,9426.066,32112.32,23173.223,38968.638,19611.589,20207.672,28084.179,20951.872,23054.3295,44559.93900000001,41749.196,45963.63400000001,36465.541,24137.183,9875.888,35971.09,45771.11900000001,45484.785,null,24853.459,28266.089,9764.076,17089.64,11861.104,16580.956000000002,22672.932,34355.718,53842.978,11520.435,29035.228,13868.749,31129.906000000006,22312.919,38245.768,13774.639,17572.092,30137.991,9830.74,26777.922,12485.948,28372.67,20845.832,23054.3295,20643.743,16080.704,23291.108,17235.09,16302.844,23054.3295,29116.284,7888.85,10932.397,21388.551,35320.245,60317.727,22708.486,70217.731,26402.075,23520.274,36007.773,25895.445,31225.038,26803.655,21537.479,30407.287,15217.143999999998,67832.398,17578.515,21537.479,20381.208,34007.259,74356.723,26606.499,52253.88,23054.3295,31927.508,26730.739,28372.67,39107.111,24139.713,29242.687,23067.399,11829.675,24137.183,32173.24,23054.3295,42302.963,25599.125,41325.418,32374.931,10543.257,23504.5105,37641.173,23054.3295,23448.986,44374.993,26640.385,37462.163,17741.953999999998,15480.038,15496.377,15709.066,42996.422,6704.075,12137.42,12091.014,12501.904,16950.245,28372.67,8987.072,11830.736,43450.999,23410.977000000006,17916.237,38233.208,null,46500.581,25207.311,25958.81,73204.62400000001,80370.967,30050.729,12478.261,30920.078,55852.914,15936.136,21654.216,45659.145,86790.095,27947.048,17708.87,13508.707,18657.585,17312.717,15156.583,14601.839,29065.786,19920.329,43522.058,27807.466,21493.685,29824.4,34560.645,29619.851,9901.415,13155.754,14414.96,25599.125,11293.173,16281.78,9043.052,20673.708,19987.779,null,31614.572,28372.67,21595.114,15178.584,48036.902,20727.996,53908.647,21455.957,17625.771,17512.415,28372.67,22359.755,44525.417,51156.621,19109.27,12452.526000000002,17768.913,31530.895,15041.227,20792.968,27306.944,47318.803,28372.67,11100.313999999997,47947.217,64826.08900000001,35942.34,35285.564,23054.3295,79072.475,46821.551,20846.531000000006,39250.378,22134.145,36068.737,28372.67,19692.855,27093.12,36104.186,20834.65,13216.486,31037.79,23390.057,15897.391,null,24378.823,28837.475,25413.778,19219.929,24412.495,13749.518999999998,23023.611,23054.3295,null,17800.778000000002,20159.186,18876.647,23041.984,34890.196,18738.715,23054.3295,28372.67,25097.429,16413.514,37972.535,15076.696000000002,37909.955,12075.278,24238.005,17867.887,57054.538,11831.572,21309.412,28372.67,18545.872,15590.383999999998,50067.436,22538.31,27242.526,18398.051,38420.42,33999.617999999995,36992.375,35928.703,46624.974,31592.25,103593.032,17765.903000000002,31939.928,9439.292,28372.67,17746.473,22686.374,31396.906000000006,15264.796,null,28372.67,18912.576,13467.992,37536.469,23054.3295,25039.355,20319.931,14903.074,43714.681,13695.628,28520.689,23435.537,64401.35400000001,15604.35,28372.67,16192.355,35327.755,33698.734,33284.303,29617.914,15264.87,41330.879,23054.3295,15548.755,23807.982000000004,24194.633,23054.3295,78058.298,24041.535,23702.165,8416.589,20759.634,21999.893,51754.612,21984.862,28131.09,38480.088,26264.786,25576.321,12181.574,56162.614,30444.649,26268.12,13000.92,23054.3295,10258.487,18573.051,21695.525,16224.895,27559.102000000006,40527.641,7978.384,22320.817000000006,16559.432,20050.631,40047.604,31655.315,34632.797999999995,21133.0,21738.743,27488.115,83422.718,26102.244,23459.288,26510.648,10444.921,17855.729,17731.122,34392.865,10161.907,17274.845,40099.875,28534.865,48107.752,26595.146,18715.591,32172.954,50369.935,39998.66,43166.297,23251.156000000006,32154.012,28372.67,21537.479,23054.3295,38947.738,25941.784,20491.904,11978.251,37157.45,36742.396,29951.177000000003,19217.054,35784.486000000004,31756.035,24000.293,45866.43700000001,26069.612,43774.464000000014,17001.977,27147.168,24860.713,28444.759,27713.735,36645.361,23054.3295,19147.843,20516.834,26360.973,42788.069,8042.76,37319.17,18252.154,64200.511,19175.468,52215.017,21764.994,274402.943,33909.875,12126.606000000002,16503.506,9577.48,26551.21,null,47826.811,33914.483,42725.276,9525.822,21537.479,12701.86,23054.3295,23054.3295,35877.288,16570.355,21437.923,22430.514,17143.249,43469.614,21058.894,50156.736,31195.544,32678.703,41610.58,11410.883999999998,27509.619,21301.545,28622.899,24415.31,14164.651000000002,8612.661,11969.371,19895.487,32830.359,25354.972,77270.51299999999,27706.707,43441.533,49506.075,22418.681,25602.145,23828.152,26469.188,34758.642,15938.294,32270.598,12118.616000000002,31368.45,26032.164,10973.287,27566.765,22184.571,34501.015,28372.67,28124.956,13864.21,16494.846999999998,14520.324,46226.82700000001,28372.67,19120.068,16242.657,16231.254,27855.442000000006,21579.047,23054.3295,19971.961,10880.64,17432.491,21337.968,17683.699,19435.375,30845.721,65106.269,20871.295,18595.215,40517.779,23054.3295,16525.074,11365.745,43822.626,27939.617,26849.328,22644.807,18063.11,43530.434,23054.3295,41553.281,34807.689,24137.183,14390.355,26879.44100000001,23054.3295,53100.087,61684.984,25453.378,16405.139,17966.121,7771.774,50186.343,15156.265,82375.24,26244.333,13854.405,48516.849,24348.993,35033.43,10359.749,23054.3295,27991.25,11137.579,28372.67,19068.972,55933.713,10594.139,27717.907000000007,26799.198,23846.311,22903.966,24705.955,23518.056,29930.325,42906.993,18865.303,14873.218,42511.50900000001,16156.859,20114.035,27791.552000000003,45601.008,26611.79,12859.792,7644.045,23054.3295,15345.59,27435.13,46393.442,35885.059,28469.491,34110.774,15130.524,25026.759,10737.453,26390.707,45176.482,17203.703,null,53501.788,39928.745,22495.619,25371.12,28086.909,42656.34400000001,10771.879,52259.184,35102.297999999995,22173.903,19694.425,23054.3295,26390.477000000006,20201.953,47225.04,12124.059,22959.405,9618.714,26991.727000000006,21363.842,30357.626,12083.427,9944.645,12451.643999999998,38777.246,28246.752,30363.575,17073.791,18342.053,25199.863,35433.514,17490.85,24027.903,16293.99,29002.983,14853.562,20542.096,null,14001.517,21912.645,12767.864,14680.666,40514.719,15076.71,34202.592000000004,16019.686000000003,19122.711,12440.492,17625.349,51166.03400000001,23553.925,19117.665,18653.214,13832.288,20103.572,42677.854000000014,16580.121,18073.472,23054.3295,15423.478,17788.41,21537.479,16067.496,8772.203000000001,27065.163,19526.226,13658.15,31185.499,24318.234,87459.17599999999,null,11653.725,25633.6,23078.504,39828.983,28372.67,35421.375,17921.308,48675.85,33592.748,48422.773,23959.851,23054.3295,33918.012,10868.581,14602.193,17202.449,28372.67,18608.921,26007.987,12730.345,39193.162,17851.566000000006,14150.151000000002,35708.709,27252.592,33925.592000000004,47852.02400000001,23054.3295,22138.287,34497.394,13992.435,26102.034,30173.505,14684.922,21384.236,22341.661,35443.309,18039.393,25821.84,33862.419,23054.3295,34687.665,11059.764,79987.902,29410.209,null,25405.061,23054.3295,22851.757,57240.029,12842.27,39025.254,31589.759,37093.326,10432.793,30866.487,31394.458,35159.184,27129.935,19615.64,23017.351,10608.778,14294.761,null,26276.247000000007,39923.628,26470.108,11452.603,23054.3295,41749.644,21471.141,29761.568,43050.936,12240.566,25785.374,10642.252,19835.001,13381.732,11088.784,23385.065,60614.635,41933.329,21572.552000000003,22364.377,28103.965,18399.208,25750.229,15682.941,23144.323,25599.125,20531.848,20102.114,13871.742,21537.479,22361.279,14658.569,39585.656,26525.458,27639.096,23063.448,14995.204,13737.562,18807.772,15539.31,14613.926,37282.491,46701.429,27440.218,18619.587,26895.823,30166.056,20356.29,25105.132,16511.515,28372.67,13370.239,22047.114,21249.667,35438.8,23054.3295,10725.502,24226.294,18855.141,50570.03400000001,24170.842,41477.122,14504.881,21465.165,22700.232000000004,91982.619,23054.3295,13621.585,29825.704,24693.756,49679.584,15815.119,21863.538,14259.182,77155.224,13655.143999999998,45156.21400000001,25477.883,24967.51,24137.183,25293.06600000001,15110.641,38645.558,17532.516,13239.257,25438.243,23054.3295,36770.316,76983.65400000001,23832.986,23054.3295,92110.266,25218.319,25316.026,29154.214,65185.858,15623.678,21539.653,15302.33,8625.894,24137.183,35726.726,26393.781000000006,23054.3295,59586.678,44457.956,26938.077,37330.70200000001,24289.427000000003,34008.82,17634.984,11172.528,15707.106000000002,15722.477,32332.413,17400.194,39582.97,37330.685,15651.546,26628.26,15997.116000000002,17354.008,44551.996,23054.3295,130563.7,15649.718,18059.879,28372.67,31368.208,22903.334,40688.519,52341.643,null,10388.064,28372.67,20615.119,19115.524,null,41663.576,19392.541,19339.399,62736.817,13575.276000000002,13051.252,25962.221,36812.777,null,72046.582,12669.013,13831.21,16477.771,20518.483,22961.405,22871.233,14912.015,15095.261,12204.803,21125.122000000007,13048.3,35073.88,37793.153,67397.511,15926.81,20810.768,31529.955,22630.855,33161.172999999995,59656.493,13059.844,25599.125,25533.391,25504.774,79672.508,14116.909,29944.467,12580.555,32795.014,10808.163,27094.54,26435.969,35366.945,23054.3295,48664.36900000001,10755.57,24874.796,8868.062,28372.67,41313.212,21206.794,29693.131,33499.593,26039.487,24674.606,33226.09,16484.526,33418.481,44184.078,37432.691,15106.923,27918.787,18206.201,50668.88200000001,28372.67,28372.67,101842.447,33875.537000000004,19593.342,16593.895,30573.503,31707.908,15470.917,25060.749,43830.5,28372.67,35154.616,38719.939,40407.147,32575.4,42408.881,30644.216,null,32073.554,16170.454,20113.244,24935.978,17820.8,18390.201,null,64098.366,23054.3295,21093.396,15365.889,53894.151,56143.673,29976.722,23054.3295,17546.777,33968.683,14623.876,23554.629,27738.707,17033.503,13906.004,24633.057,8706.805,20003.81,35438.99,17728.692,44200.736,31144.201,21096.705,30678.137,17165.818,33738.832,11378.523,18446.675,25011.209,20047.835,24090.898,14484.757,17836.713,5515.539000000002,23054.3295,16841.923,27523.75,11765.752,26260.444,28608.856,33680.795,39059.751,58030.629,32035.813,45264.357,84392.45300000001,11477.425,28989.738,27440.696,23511.207,70475.341,15050.405,12386.81,15306.792,12922.217,14053.53,20623.598,28372.67,5562.874,24883.344,47237.474,23600.416,28219.135,23054.3295,19102.819,28372.67,38522.81200000001,25208.505,12450.127,23054.3295,42280.16,23286.719,15708.845,21537.479,22410.956,23568.233,40157.783,56958.145,17517.811999999998,51649.24400000001,28489.529,18551.846,35966.698,14347.61,39054.888,13127.587],\"y0\":\" \",\"yaxis\":\"y\",\"type\":\"box\"}],                        {\"template\":{\"data\":{\"bar\":[{\"error_x\":{\"color\":\"#2a3f5f\"},\"error_y\":{\"color\":\"#2a3f5f\"},\"marker\":{\"line\":{\"color\":\"#E5ECF6\",\"width\":0.5},\"pattern\":{\"fillmode\":\"overlay\",\"size\":10,\"solidity\":0.2}},\"type\":\"bar\"}],\"barpolar\":[{\"marker\":{\"line\":{\"color\":\"#E5ECF6\",\"width\":0.5},\"pattern\":{\"fillmode\":\"overlay\",\"size\":10,\"solidity\":0.2}},\"type\":\"barpolar\"}],\"carpet\":[{\"aaxis\":{\"endlinecolor\":\"#2a3f5f\",\"gridcolor\":\"white\",\"linecolor\":\"white\",\"minorgridcolor\":\"white\",\"startlinecolor\":\"#2a3f5f\"},\"baxis\":{\"endlinecolor\":\"#2a3f5f\",\"gridcolor\":\"white\",\"linecolor\":\"white\",\"minorgridcolor\":\"white\",\"startlinecolor\":\"#2a3f5f\"},\"type\":\"carpet\"}],\"choropleth\":[{\"colorbar\":{\"outlinewidth\":0,\"ticks\":\"\"},\"type\":\"choropleth\"}],\"contour\":[{\"colorbar\":{\"outlinewidth\":0,\"ticks\":\"\"},\"colorscale\":[[0.0,\"#0d0887\"],[0.1111111111111111,\"#46039f\"],[0.2222222222222222,\"#7201a8\"],[0.3333333333333333,\"#9c179e\"],[0.4444444444444444,\"#bd3786\"],[0.5555555555555556,\"#d8576b\"],[0.6666666666666666,\"#ed7953\"],[0.7777777777777778,\"#fb9f3a\"],[0.8888888888888888,\"#fdca26\"],[1.0,\"#f0f921\"]],\"type\":\"contour\"}],\"contourcarpet\":[{\"colorbar\":{\"outlinewidth\":0,\"ticks\":\"\"},\"type\":\"contourcarpet\"}],\"heatmap\":[{\"colorbar\":{\"outlinewidth\":0,\"ticks\":\"\"},\"colorscale\":[[0.0,\"#0d0887\"],[0.1111111111111111,\"#46039f\"],[0.2222222222222222,\"#7201a8\"],[0.3333333333333333,\"#9c179e\"],[0.4444444444444444,\"#bd3786\"],[0.5555555555555556,\"#d8576b\"],[0.6666666666666666,\"#ed7953\"],[0.7777777777777778,\"#fb9f3a\"],[0.8888888888888888,\"#fdca26\"],[1.0,\"#f0f921\"]],\"type\":\"heatmap\"}],\"heatmapgl\":[{\"colorbar\":{\"outlinewidth\":0,\"ticks\":\"\"},\"colorscale\":[[0.0,\"#0d0887\"],[0.1111111111111111,\"#46039f\"],[0.2222222222222222,\"#7201a8\"],[0.3333333333333333,\"#9c179e\"],[0.4444444444444444,\"#bd3786\"],[0.5555555555555556,\"#d8576b\"],[0.6666666666666666,\"#ed7953\"],[0.7777777777777778,\"#fb9f3a\"],[0.8888888888888888,\"#fdca26\"],[1.0,\"#f0f921\"]],\"type\":\"heatmapgl\"}],\"histogram\":[{\"marker\":{\"pattern\":{\"fillmode\":\"overlay\",\"size\":10,\"solidity\":0.2}},\"type\":\"histogram\"}],\"histogram2d\":[{\"colorbar\":{\"outlinewidth\":0,\"ticks\":\"\"},\"colorscale\":[[0.0,\"#0d0887\"],[0.1111111111111111,\"#46039f\"],[0.2222222222222222,\"#7201a8\"],[0.3333333333333333,\"#9c179e\"],[0.4444444444444444,\"#bd3786\"],[0.5555555555555556,\"#d8576b\"],[0.6666666666666666,\"#ed7953\"],[0.7777777777777778,\"#fb9f3a\"],[0.8888888888888888,\"#fdca26\"],[1.0,\"#f0f921\"]],\"type\":\"histogram2d\"}],\"histogram2dcontour\":[{\"colorbar\":{\"outlinewidth\":0,\"ticks\":\"\"},\"colorscale\":[[0.0,\"#0d0887\"],[0.1111111111111111,\"#46039f\"],[0.2222222222222222,\"#7201a8\"],[0.3333333333333333,\"#9c179e\"],[0.4444444444444444,\"#bd3786\"],[0.5555555555555556,\"#d8576b\"],[0.6666666666666666,\"#ed7953\"],[0.7777777777777778,\"#fb9f3a\"],[0.8888888888888888,\"#fdca26\"],[1.0,\"#f0f921\"]],\"type\":\"histogram2dcontour\"}],\"mesh3d\":[{\"colorbar\":{\"outlinewidth\":0,\"ticks\":\"\"},\"type\":\"mesh3d\"}],\"parcoords\":[{\"line\":{\"colorbar\":{\"outlinewidth\":0,\"ticks\":\"\"}},\"type\":\"parcoords\"}],\"pie\":[{\"automargin\":true,\"type\":\"pie\"}],\"scatter\":[{\"marker\":{\"colorbar\":{\"outlinewidth\":0,\"ticks\":\"\"}},\"type\":\"scatter\"}],\"scatter3d\":[{\"line\":{\"colorbar\":{\"outlinewidth\":0,\"ticks\":\"\"}},\"marker\":{\"colorbar\":{\"outlinewidth\":0,\"ticks\":\"\"}},\"type\":\"scatter3d\"}],\"scattercarpet\":[{\"marker\":{\"colorbar\":{\"outlinewidth\":0,\"ticks\":\"\"}},\"type\":\"scattercarpet\"}],\"scattergeo\":[{\"marker\":{\"colorbar\":{\"outlinewidth\":0,\"ticks\":\"\"}},\"type\":\"scattergeo\"}],\"scattergl\":[{\"marker\":{\"colorbar\":{\"outlinewidth\":0,\"ticks\":\"\"}},\"type\":\"scattergl\"}],\"scattermapbox\":[{\"marker\":{\"colorbar\":{\"outlinewidth\":0,\"ticks\":\"\"}},\"type\":\"scattermapbox\"}],\"scatterpolar\":[{\"marker\":{\"colorbar\":{\"outlinewidth\":0,\"ticks\":\"\"}},\"type\":\"scatterpolar\"}],\"scatterpolargl\":[{\"marker\":{\"colorbar\":{\"outlinewidth\":0,\"ticks\":\"\"}},\"type\":\"scatterpolargl\"}],\"scatterternary\":[{\"marker\":{\"colorbar\":{\"outlinewidth\":0,\"ticks\":\"\"}},\"type\":\"scatterternary\"}],\"surface\":[{\"colorbar\":{\"outlinewidth\":0,\"ticks\":\"\"},\"colorscale\":[[0.0,\"#0d0887\"],[0.1111111111111111,\"#46039f\"],[0.2222222222222222,\"#7201a8\"],[0.3333333333333333,\"#9c179e\"],[0.4444444444444444,\"#bd3786\"],[0.5555555555555556,\"#d8576b\"],[0.6666666666666666,\"#ed7953\"],[0.7777777777777778,\"#fb9f3a\"],[0.8888888888888888,\"#fdca26\"],[1.0,\"#f0f921\"]],\"type\":\"surface\"}],\"table\":[{\"cells\":{\"fill\":{\"color\":\"#EBF0F8\"},\"line\":{\"color\":\"white\"}},\"header\":{\"fill\":{\"color\":\"#C8D4E3\"},\"line\":{\"color\":\"white\"}},\"type\":\"table\"}]},\"layout\":{\"annotationdefaults\":{\"arrowcolor\":\"#2a3f5f\",\"arrowhead\":0,\"arrowwidth\":1},\"autotypenumbers\":\"strict\",\"coloraxis\":{\"colorbar\":{\"outlinewidth\":0,\"ticks\":\"\"}},\"colorscale\":{\"diverging\":[[0,\"#8e0152\"],[0.1,\"#c51b7d\"],[0.2,\"#de77ae\"],[0.3,\"#f1b6da\"],[0.4,\"#fde0ef\"],[0.5,\"#f7f7f7\"],[0.6,\"#e6f5d0\"],[0.7,\"#b8e186\"],[0.8,\"#7fbc41\"],[0.9,\"#4d9221\"],[1,\"#276419\"]],\"sequential\":[[0.0,\"#0d0887\"],[0.1111111111111111,\"#46039f\"],[0.2222222222222222,\"#7201a8\"],[0.3333333333333333,\"#9c179e\"],[0.4444444444444444,\"#bd3786\"],[0.5555555555555556,\"#d8576b\"],[0.6666666666666666,\"#ed7953\"],[0.7777777777777778,\"#fb9f3a\"],[0.8888888888888888,\"#fdca26\"],[1.0,\"#f0f921\"]],\"sequentialminus\":[[0.0,\"#0d0887\"],[0.1111111111111111,\"#46039f\"],[0.2222222222222222,\"#7201a8\"],[0.3333333333333333,\"#9c179e\"],[0.4444444444444444,\"#bd3786\"],[0.5555555555555556,\"#d8576b\"],[0.6666666666666666,\"#ed7953\"],[0.7777777777777778,\"#fb9f3a\"],[0.8888888888888888,\"#fdca26\"],[1.0,\"#f0f921\"]]},\"colorway\":[\"#636efa\",\"#EF553B\",\"#00cc96\",\"#ab63fa\",\"#FFA15A\",\"#19d3f3\",\"#FF6692\",\"#B6E880\",\"#FF97FF\",\"#FECB52\"],\"font\":{\"color\":\"#2a3f5f\"},\"geo\":{\"bgcolor\":\"white\",\"lakecolor\":\"white\",\"landcolor\":\"#E5ECF6\",\"showlakes\":true,\"showland\":true,\"subunitcolor\":\"white\"},\"hoverlabel\":{\"align\":\"left\"},\"hovermode\":\"closest\",\"mapbox\":{\"style\":\"light\"},\"paper_bgcolor\":\"white\",\"plot_bgcolor\":\"#E5ECF6\",\"polar\":{\"angularaxis\":{\"gridcolor\":\"white\",\"linecolor\":\"white\",\"ticks\":\"\"},\"bgcolor\":\"#E5ECF6\",\"radialaxis\":{\"gridcolor\":\"white\",\"linecolor\":\"white\",\"ticks\":\"\"}},\"scene\":{\"xaxis\":{\"backgroundcolor\":\"#E5ECF6\",\"gridcolor\":\"white\",\"gridwidth\":2,\"linecolor\":\"white\",\"showbackground\":true,\"ticks\":\"\",\"zerolinecolor\":\"white\"},\"yaxis\":{\"backgroundcolor\":\"#E5ECF6\",\"gridcolor\":\"white\",\"gridwidth\":2,\"linecolor\":\"white\",\"showbackground\":true,\"ticks\":\"\",\"zerolinecolor\":\"white\"},\"zaxis\":{\"backgroundcolor\":\"#E5ECF6\",\"gridcolor\":\"white\",\"gridwidth\":2,\"linecolor\":\"white\",\"showbackground\":true,\"ticks\":\"\",\"zerolinecolor\":\"white\"}},\"shapedefaults\":{\"line\":{\"color\":\"#2a3f5f\"}},\"ternary\":{\"aaxis\":{\"gridcolor\":\"white\",\"linecolor\":\"white\",\"ticks\":\"\"},\"baxis\":{\"gridcolor\":\"white\",\"linecolor\":\"white\",\"ticks\":\"\"},\"bgcolor\":\"#E5ECF6\",\"caxis\":{\"gridcolor\":\"white\",\"linecolor\":\"white\",\"ticks\":\"\"}},\"title\":{\"x\":0.05},\"xaxis\":{\"automargin\":true,\"gridcolor\":\"white\",\"linecolor\":\"white\",\"ticks\":\"\",\"title\":{\"standoff\":15},\"zerolinecolor\":\"white\",\"zerolinewidth\":2},\"yaxis\":{\"automargin\":true,\"gridcolor\":\"white\",\"linecolor\":\"white\",\"ticks\":\"\",\"title\":{\"standoff\":15},\"zerolinecolor\":\"white\",\"zerolinewidth\":2}}},\"xaxis\":{\"anchor\":\"y\",\"domain\":[0.0,1.0]},\"yaxis\":{\"anchor\":\"x\",\"domain\":[0.0,1.0],\"title\":{\"text\":\"total_income\"}},\"legend\":{\"tracegroupgap\":0},\"margin\":{\"t\":60},\"boxmode\":\"group\"},                        {\"responsive\": true}                    ).then(function(){\n",
              "                            \n",
              "var gd = document.getElementById('d127652f-c4a0-4930-be8e-4141628251ed');\n",
              "var x = new MutationObserver(function (mutations, observer) {{\n",
              "        var display = window.getComputedStyle(gd).display;\n",
              "        if (!display || display === 'none') {{\n",
              "            console.log([gd, 'removed!']);\n",
              "            Plotly.purge(gd);\n",
              "            observer.disconnect();\n",
              "        }}\n",
              "}});\n",
              "\n",
              "// Listen for the removal of the full notebook cells\n",
              "var notebookContainer = gd.closest('#notebook-container');\n",
              "if (notebookContainer) {{\n",
              "    x.observe(notebookContainer, {childList: true});\n",
              "}}\n",
              "\n",
              "// Listen for the clearing of the current output cell\n",
              "var outputEl = gd.closest('.output');\n",
              "if (outputEl) {{\n",
              "    x.observe(outputEl, {childList: true});\n",
              "}}\n",
              "\n",
              "                        })                };                            </script>        </div>\n",
              "</body>\n",
              "</html>"
            ]
          },
          "metadata": {}
        }
      ],
      "source": [
        "# Check for outliers\n",
        "px.box(credit_scoring, y='total_income')"
      ]
    },
    {
      "cell_type": "markdown",
      "metadata": {
        "id": "dzpbxfVmkuzj"
      },
      "source": [
        "There are many outliers in `total_income`. The minimum value is 3.306. The maximum is 362.496, which falls beyond three times of the standard deviation from the mean. \n",
        "\n",
        "In categorising, two middle range around the median with the same size and touching the upper fence is defined. While top and bottom range are to contain the top and bottom outliers."
      ]
    },
    {
      "cell_type": "code",
      "execution_count": null,
      "metadata": {
        "id": "QPczxO4qkuzj"
      },
      "outputs": [],
      "source": [
        "# Define function for categorisation\n",
        "def income_class(income):\n",
        "    try:\n",
        "        if income < 8000:\n",
        "            return 'lower'\n",
        "        elif 8000 <= income < 23000:\n",
        "            return 'lower middle'\n",
        "        elif 23000 <= income < 38000:\n",
        "            return 'middle'\n",
        "        else:\n",
        "            return 'upper middle'\n",
        "    except:\n",
        "        return 'NA'"
      ]
    },
    {
      "cell_type": "code",
      "execution_count": null,
      "metadata": {
        "id": "AsMZv3B7kuzk"
      },
      "outputs": [],
      "source": [
        "# Create a column containing the categories by applying the function\n",
        "credit_scoring['income_class'] = credit_scoring['total_income'].apply(income_class)"
      ]
    },
    {
      "cell_type": "code",
      "execution_count": null,
      "metadata": {
        "scrolled": true,
        "colab": {
          "base_uri": "https://localhost:8080/"
        },
        "id": "XNyLtTIokuzl",
        "outputId": "dbc1bdfb-c097-48f6-a32a-68556cb06350"
      },
      "outputs": [
        {
          "output_type": "execute_result",
          "data": {
            "text/plain": [
              "lower middle    40.59\n",
              "middle          40.15\n",
              "upper middle    18.20\n",
              "lower            1.07\n",
              "Name: income_class, dtype: float64"
            ]
          },
          "metadata": {},
          "execution_count": 119
        }
      ],
      "source": [
        "# Load distribution of unique values\n",
        "round(credit_scoring['income_class'].value_counts(normalize=True)*100,2)"
      ]
    },
    {
      "cell_type": "markdown",
      "metadata": {
        "id": "2NmuBj1jkuzu"
      },
      "source": [
        "## Checking the hypothesis\n"
      ]
    },
    {
      "cell_type": "markdown",
      "source": [
        "In the next step, the hypothesis are checked"
      ],
      "metadata": {
        "id": "5t0TBX6dG-VW"
      }
    },
    {
      "cell_type": "code",
      "execution_count": null,
      "metadata": {
        "scrolled": true,
        "colab": {
          "base_uri": "https://localhost:8080/"
        },
        "id": "96DzvcWbkuzu",
        "outputId": "f85a07d8-4fce-4c03-bc0b-3f90872ee086"
      },
      "outputs": [
        {
          "output_type": "stream",
          "name": "stdout",
          "text": [
            "<class 'pandas.core.frame.DataFrame'>\n",
            "RangeIndex: 17925 entries, 0 to 17924\n",
            "Data columns (total 15 columns):\n",
            " #   Column            Non-Null Count  Dtype  \n",
            "---  ------            --------------  -----  \n",
            " 0   children          17925 non-null  int64  \n",
            " 1   days_employed     17925 non-null  int64  \n",
            " 2   dob_years         17925 non-null  int64  \n",
            " 3   education         17925 non-null  object \n",
            " 4   education_id      17925 non-null  int64  \n",
            " 5   family_status     17925 non-null  object \n",
            " 6   family_status_id  17925 non-null  int64  \n",
            " 7   gender            17925 non-null  object \n",
            " 8   income_type       17925 non-null  object \n",
            " 9   debt              17925 non-null  int64  \n",
            " 10  total_income      17542 non-null  float64\n",
            " 11  purpose           17925 non-null  object \n",
            " 12  dob_group         17925 non-null  object \n",
            " 13  purpose_topic     17925 non-null  object \n",
            " 14  income_class      17925 non-null  object \n",
            "dtypes: float64(1), int64(6), object(8)\n",
            "memory usage: 2.1+ MB\n"
          ]
        }
      ],
      "source": [
        "# Load general info of the dataset\n",
        "credit_scoring.info()"
      ]
    },
    {
      "cell_type": "code",
      "execution_count": null,
      "metadata": {
        "colab": {
          "base_uri": "https://localhost:8080/"
        },
        "id": "FHyfccgBkuzu",
        "outputId": "7e095b4f-31f3-44cc-bb2f-b26ea325afe8"
      },
      "outputs": [
        {
          "output_type": "execute_result",
          "data": {
            "text/plain": [
              "0"
            ]
          },
          "metadata": {},
          "execution_count": 121
        }
      ],
      "source": [
        "# Re-check for duplicate\n",
        "credit_scoring.duplicated().sum()"
      ]
    },
    {
      "cell_type": "markdown",
      "metadata": {
        "id": "KVpQ8SIckuzu"
      },
      "source": [
        "### **Is there a correlation between having children and paying off on time?**"
      ]
    },
    {
      "cell_type": "code",
      "execution_count": null,
      "metadata": {
        "scrolled": false,
        "colab": {
          "base_uri": "https://localhost:8080/",
          "height": 300
        },
        "id": "N64kPxVJkuzv",
        "outputId": "da689341-294b-4fde-d8f8-b67eabf1b0d9"
      },
      "outputs": [
        {
          "output_type": "execute_result",
          "data": {
            "text/plain": [
              "debt            0       1  Total\n",
              "children                        \n",
              "0          9993.0   892.0  10885\n",
              "1          4149.0   430.0   4579\n",
              "2          1890.0   200.0   2090\n",
              "3           296.0    26.0    322\n",
              "4            36.0     4.0     40\n",
              "5             9.0     NaN      9\n",
              "Total     16373.0  1552.0  17925"
            ],
            "text/html": [
              "\n",
              "  <div id=\"df-6c707610-457e-442d-ade0-95100b4f4287\">\n",
              "    <div class=\"colab-df-container\">\n",
              "      <div>\n",
              "<style scoped>\n",
              "    .dataframe tbody tr th:only-of-type {\n",
              "        vertical-align: middle;\n",
              "    }\n",
              "\n",
              "    .dataframe tbody tr th {\n",
              "        vertical-align: top;\n",
              "    }\n",
              "\n",
              "    .dataframe thead th {\n",
              "        text-align: right;\n",
              "    }\n",
              "</style>\n",
              "<table border=\"1\" class=\"dataframe\">\n",
              "  <thead>\n",
              "    <tr style=\"text-align: right;\">\n",
              "      <th>debt</th>\n",
              "      <th>0</th>\n",
              "      <th>1</th>\n",
              "      <th>Total</th>\n",
              "    </tr>\n",
              "    <tr>\n",
              "      <th>children</th>\n",
              "      <th></th>\n",
              "      <th></th>\n",
              "      <th></th>\n",
              "    </tr>\n",
              "  </thead>\n",
              "  <tbody>\n",
              "    <tr>\n",
              "      <th>0</th>\n",
              "      <td>9993.0</td>\n",
              "      <td>892.0</td>\n",
              "      <td>10885</td>\n",
              "    </tr>\n",
              "    <tr>\n",
              "      <th>1</th>\n",
              "      <td>4149.0</td>\n",
              "      <td>430.0</td>\n",
              "      <td>4579</td>\n",
              "    </tr>\n",
              "    <tr>\n",
              "      <th>2</th>\n",
              "      <td>1890.0</td>\n",
              "      <td>200.0</td>\n",
              "      <td>2090</td>\n",
              "    </tr>\n",
              "    <tr>\n",
              "      <th>3</th>\n",
              "      <td>296.0</td>\n",
              "      <td>26.0</td>\n",
              "      <td>322</td>\n",
              "    </tr>\n",
              "    <tr>\n",
              "      <th>4</th>\n",
              "      <td>36.0</td>\n",
              "      <td>4.0</td>\n",
              "      <td>40</td>\n",
              "    </tr>\n",
              "    <tr>\n",
              "      <th>5</th>\n",
              "      <td>9.0</td>\n",
              "      <td>NaN</td>\n",
              "      <td>9</td>\n",
              "    </tr>\n",
              "    <tr>\n",
              "      <th>Total</th>\n",
              "      <td>16373.0</td>\n",
              "      <td>1552.0</td>\n",
              "      <td>17925</td>\n",
              "    </tr>\n",
              "  </tbody>\n",
              "</table>\n",
              "</div>\n",
              "      <button class=\"colab-df-convert\" onclick=\"convertToInteractive('df-6c707610-457e-442d-ade0-95100b4f4287')\"\n",
              "              title=\"Convert this dataframe to an interactive table.\"\n",
              "              style=\"display:none;\">\n",
              "        \n",
              "  <svg xmlns=\"http://www.w3.org/2000/svg\" height=\"24px\"viewBox=\"0 0 24 24\"\n",
              "       width=\"24px\">\n",
              "    <path d=\"M0 0h24v24H0V0z\" fill=\"none\"/>\n",
              "    <path d=\"M18.56 5.44l.94 2.06.94-2.06 2.06-.94-2.06-.94-.94-2.06-.94 2.06-2.06.94zm-11 1L8.5 8.5l.94-2.06 2.06-.94-2.06-.94L8.5 2.5l-.94 2.06-2.06.94zm10 10l.94 2.06.94-2.06 2.06-.94-2.06-.94-.94-2.06-.94 2.06-2.06.94z\"/><path d=\"M17.41 7.96l-1.37-1.37c-.4-.4-.92-.59-1.43-.59-.52 0-1.04.2-1.43.59L10.3 9.45l-7.72 7.72c-.78.78-.78 2.05 0 2.83L4 21.41c.39.39.9.59 1.41.59.51 0 1.02-.2 1.41-.59l7.78-7.78 2.81-2.81c.8-.78.8-2.07 0-2.86zM5.41 20L4 18.59l7.72-7.72 1.47 1.35L5.41 20z\"/>\n",
              "  </svg>\n",
              "      </button>\n",
              "      \n",
              "  <style>\n",
              "    .colab-df-container {\n",
              "      display:flex;\n",
              "      flex-wrap:wrap;\n",
              "      gap: 12px;\n",
              "    }\n",
              "\n",
              "    .colab-df-convert {\n",
              "      background-color: #E8F0FE;\n",
              "      border: none;\n",
              "      border-radius: 50%;\n",
              "      cursor: pointer;\n",
              "      display: none;\n",
              "      fill: #1967D2;\n",
              "      height: 32px;\n",
              "      padding: 0 0 0 0;\n",
              "      width: 32px;\n",
              "    }\n",
              "\n",
              "    .colab-df-convert:hover {\n",
              "      background-color: #E2EBFA;\n",
              "      box-shadow: 0px 1px 2px rgba(60, 64, 67, 0.3), 0px 1px 3px 1px rgba(60, 64, 67, 0.15);\n",
              "      fill: #174EA6;\n",
              "    }\n",
              "\n",
              "    [theme=dark] .colab-df-convert {\n",
              "      background-color: #3B4455;\n",
              "      fill: #D2E3FC;\n",
              "    }\n",
              "\n",
              "    [theme=dark] .colab-df-convert:hover {\n",
              "      background-color: #434B5C;\n",
              "      box-shadow: 0px 1px 3px 1px rgba(0, 0, 0, 0.15);\n",
              "      filter: drop-shadow(0px 1px 2px rgba(0, 0, 0, 0.3));\n",
              "      fill: #FFFFFF;\n",
              "    }\n",
              "  </style>\n",
              "\n",
              "      <script>\n",
              "        const buttonEl =\n",
              "          document.querySelector('#df-6c707610-457e-442d-ade0-95100b4f4287 button.colab-df-convert');\n",
              "        buttonEl.style.display =\n",
              "          google.colab.kernel.accessAllowed ? 'block' : 'none';\n",
              "\n",
              "        async function convertToInteractive(key) {\n",
              "          const element = document.querySelector('#df-6c707610-457e-442d-ade0-95100b4f4287');\n",
              "          const dataTable =\n",
              "            await google.colab.kernel.invokeFunction('convertToInteractive',\n",
              "                                                     [key], {});\n",
              "          if (!dataTable) return;\n",
              "\n",
              "          const docLinkHtml = 'Like what you see? Visit the ' +\n",
              "            '<a target=\"_blank\" href=https://colab.research.google.com/notebooks/data_table.ipynb>data table notebook</a>'\n",
              "            + ' to learn more about interactive tables.';\n",
              "          element.innerHTML = '';\n",
              "          dataTable['output_type'] = 'display_data';\n",
              "          await google.colab.output.renderOutput(dataTable, element);\n",
              "          const docLink = document.createElement('div');\n",
              "          docLink.innerHTML = docLinkHtml;\n",
              "          element.appendChild(docLink);\n",
              "        }\n",
              "      </script>\n",
              "    </div>\n",
              "  </div>\n",
              "  "
            ]
          },
          "metadata": {},
          "execution_count": 122
        }
      ],
      "source": [
        "# Load pivot table that gorups event of timely payment and default by number of children\n",
        "credit_scoring.pivot_table(index='children', columns='debt', values='dob_years', aggfunc='count', margins=True,margins_name='Total')\n"
      ]
    },
    {
      "cell_type": "code",
      "execution_count": null,
      "metadata": {
        "colab": {
          "base_uri": "https://localhost:8080/"
        },
        "id": "WCy20sSPkuzv",
        "outputId": "9819a6f3-4fd4-4f2b-bdb8-3f5bebc37cfd"
      },
      "outputs": [
        {
          "output_type": "execute_result",
          "data": {
            "text/plain": [
              "children\n",
              "0    892\n",
              "1    430\n",
              "2    200\n",
              "3     26\n",
              "4      4\n",
              "Name: debt, dtype: int64"
            ]
          },
          "metadata": {},
          "execution_count": 123
        }
      ],
      "source": [
        "# Check number of of event of default based on number of children\n",
        "debt_1 = credit_scoring[credit_scoring['debt'] == 1]\n",
        "debt_1.groupby('children')['debt'].count()"
      ]
    },
    {
      "cell_type": "markdown",
      "metadata": {
        "id": "eUNYH8e3kuzv"
      },
      "source": [
        "**Conclusion**\n",
        "\n",
        "A relationship between having children and timeliness of repayment is observed. From the pivot table that compares the distribution of defaults and non-defaults, as well as from the grouping of defaults based on the number of children, it appears that there is no trend exists indicating such a relationship. In the event of default, the borrowers mostly do not have children. The event of defaults decreases as the number of children increases. However, in the event of timely repayment, a similar trend exists. \n",
        "\n",
        "In general, the distribution ratio in each value of the number of children between on timely repayment : default is around 91% : 9%. Hence it can be concluded that there is no relationship between the number of children and event of default."
      ]
    },
    {
      "cell_type": "markdown",
      "metadata": {
        "id": "TV-QWLdukuzw"
      },
      "source": [
        "### **Is there a correlation between family status and timely repayment?**"
      ]
    },
    {
      "cell_type": "code",
      "execution_count": null,
      "metadata": {
        "scrolled": true,
        "colab": {
          "base_uri": "https://localhost:8080/",
          "height": 269
        },
        "id": "pzQlOsb2kuzw",
        "outputId": "bf06a4cb-fa2a-40d2-acaf-e70d9ece6585"
      },
      "outputs": [
        {
          "output_type": "execute_result",
          "data": {
            "text/plain": [
              "debt                   0     1  Total    % timely      % late\n",
              "family_status                                                \n",
              "civil partnership   3196   357   3553   19.519941   23.002577\n",
              "divorced             914    74    988    5.582361    4.768041\n",
              "married             9596   829  10425   58.608685   53.414948\n",
              "unmarried           2224   261   2485   13.583338   16.817010\n",
              "widow / widower      443    31    474    2.705674    1.997423\n",
              "Total              16373  1552  17925  100.000000  100.000000"
            ],
            "text/html": [
              "\n",
              "  <div id=\"df-c735af1a-51df-4e62-833c-c499670745a4\">\n",
              "    <div class=\"colab-df-container\">\n",
              "      <div>\n",
              "<style scoped>\n",
              "    .dataframe tbody tr th:only-of-type {\n",
              "        vertical-align: middle;\n",
              "    }\n",
              "\n",
              "    .dataframe tbody tr th {\n",
              "        vertical-align: top;\n",
              "    }\n",
              "\n",
              "    .dataframe thead th {\n",
              "        text-align: right;\n",
              "    }\n",
              "</style>\n",
              "<table border=\"1\" class=\"dataframe\">\n",
              "  <thead>\n",
              "    <tr style=\"text-align: right;\">\n",
              "      <th>debt</th>\n",
              "      <th>0</th>\n",
              "      <th>1</th>\n",
              "      <th>Total</th>\n",
              "      <th>% timely</th>\n",
              "      <th>% late</th>\n",
              "    </tr>\n",
              "    <tr>\n",
              "      <th>family_status</th>\n",
              "      <th></th>\n",
              "      <th></th>\n",
              "      <th></th>\n",
              "      <th></th>\n",
              "      <th></th>\n",
              "    </tr>\n",
              "  </thead>\n",
              "  <tbody>\n",
              "    <tr>\n",
              "      <th>civil partnership</th>\n",
              "      <td>3196</td>\n",
              "      <td>357</td>\n",
              "      <td>3553</td>\n",
              "      <td>19.519941</td>\n",
              "      <td>23.002577</td>\n",
              "    </tr>\n",
              "    <tr>\n",
              "      <th>divorced</th>\n",
              "      <td>914</td>\n",
              "      <td>74</td>\n",
              "      <td>988</td>\n",
              "      <td>5.582361</td>\n",
              "      <td>4.768041</td>\n",
              "    </tr>\n",
              "    <tr>\n",
              "      <th>married</th>\n",
              "      <td>9596</td>\n",
              "      <td>829</td>\n",
              "      <td>10425</td>\n",
              "      <td>58.608685</td>\n",
              "      <td>53.414948</td>\n",
              "    </tr>\n",
              "    <tr>\n",
              "      <th>unmarried</th>\n",
              "      <td>2224</td>\n",
              "      <td>261</td>\n",
              "      <td>2485</td>\n",
              "      <td>13.583338</td>\n",
              "      <td>16.817010</td>\n",
              "    </tr>\n",
              "    <tr>\n",
              "      <th>widow / widower</th>\n",
              "      <td>443</td>\n",
              "      <td>31</td>\n",
              "      <td>474</td>\n",
              "      <td>2.705674</td>\n",
              "      <td>1.997423</td>\n",
              "    </tr>\n",
              "    <tr>\n",
              "      <th>Total</th>\n",
              "      <td>16373</td>\n",
              "      <td>1552</td>\n",
              "      <td>17925</td>\n",
              "      <td>100.000000</td>\n",
              "      <td>100.000000</td>\n",
              "    </tr>\n",
              "  </tbody>\n",
              "</table>\n",
              "</div>\n",
              "      <button class=\"colab-df-convert\" onclick=\"convertToInteractive('df-c735af1a-51df-4e62-833c-c499670745a4')\"\n",
              "              title=\"Convert this dataframe to an interactive table.\"\n",
              "              style=\"display:none;\">\n",
              "        \n",
              "  <svg xmlns=\"http://www.w3.org/2000/svg\" height=\"24px\"viewBox=\"0 0 24 24\"\n",
              "       width=\"24px\">\n",
              "    <path d=\"M0 0h24v24H0V0z\" fill=\"none\"/>\n",
              "    <path d=\"M18.56 5.44l.94 2.06.94-2.06 2.06-.94-2.06-.94-.94-2.06-.94 2.06-2.06.94zm-11 1L8.5 8.5l.94-2.06 2.06-.94-2.06-.94L8.5 2.5l-.94 2.06-2.06.94zm10 10l.94 2.06.94-2.06 2.06-.94-2.06-.94-.94-2.06-.94 2.06-2.06.94z\"/><path d=\"M17.41 7.96l-1.37-1.37c-.4-.4-.92-.59-1.43-.59-.52 0-1.04.2-1.43.59L10.3 9.45l-7.72 7.72c-.78.78-.78 2.05 0 2.83L4 21.41c.39.39.9.59 1.41.59.51 0 1.02-.2 1.41-.59l7.78-7.78 2.81-2.81c.8-.78.8-2.07 0-2.86zM5.41 20L4 18.59l7.72-7.72 1.47 1.35L5.41 20z\"/>\n",
              "  </svg>\n",
              "      </button>\n",
              "      \n",
              "  <style>\n",
              "    .colab-df-container {\n",
              "      display:flex;\n",
              "      flex-wrap:wrap;\n",
              "      gap: 12px;\n",
              "    }\n",
              "\n",
              "    .colab-df-convert {\n",
              "      background-color: #E8F0FE;\n",
              "      border: none;\n",
              "      border-radius: 50%;\n",
              "      cursor: pointer;\n",
              "      display: none;\n",
              "      fill: #1967D2;\n",
              "      height: 32px;\n",
              "      padding: 0 0 0 0;\n",
              "      width: 32px;\n",
              "    }\n",
              "\n",
              "    .colab-df-convert:hover {\n",
              "      background-color: #E2EBFA;\n",
              "      box-shadow: 0px 1px 2px rgba(60, 64, 67, 0.3), 0px 1px 3px 1px rgba(60, 64, 67, 0.15);\n",
              "      fill: #174EA6;\n",
              "    }\n",
              "\n",
              "    [theme=dark] .colab-df-convert {\n",
              "      background-color: #3B4455;\n",
              "      fill: #D2E3FC;\n",
              "    }\n",
              "\n",
              "    [theme=dark] .colab-df-convert:hover {\n",
              "      background-color: #434B5C;\n",
              "      box-shadow: 0px 1px 3px 1px rgba(0, 0, 0, 0.15);\n",
              "      filter: drop-shadow(0px 1px 2px rgba(0, 0, 0, 0.3));\n",
              "      fill: #FFFFFF;\n",
              "    }\n",
              "  </style>\n",
              "\n",
              "      <script>\n",
              "        const buttonEl =\n",
              "          document.querySelector('#df-c735af1a-51df-4e62-833c-c499670745a4 button.colab-df-convert');\n",
              "        buttonEl.style.display =\n",
              "          google.colab.kernel.accessAllowed ? 'block' : 'none';\n",
              "\n",
              "        async function convertToInteractive(key) {\n",
              "          const element = document.querySelector('#df-c735af1a-51df-4e62-833c-c499670745a4');\n",
              "          const dataTable =\n",
              "            await google.colab.kernel.invokeFunction('convertToInteractive',\n",
              "                                                     [key], {});\n",
              "          if (!dataTable) return;\n",
              "\n",
              "          const docLinkHtml = 'Like what you see? Visit the ' +\n",
              "            '<a target=\"_blank\" href=https://colab.research.google.com/notebooks/data_table.ipynb>data table notebook</a>'\n",
              "            + ' to learn more about interactive tables.';\n",
              "          element.innerHTML = '';\n",
              "          dataTable['output_type'] = 'display_data';\n",
              "          await google.colab.output.renderOutput(dataTable, element);\n",
              "          const docLink = document.createElement('div');\n",
              "          docLink.innerHTML = docLinkHtml;\n",
              "          element.appendChild(docLink);\n",
              "        }\n",
              "      </script>\n",
              "    </div>\n",
              "  </div>\n",
              "  "
            ]
          },
          "metadata": {},
          "execution_count": 124
        }
      ],
      "source": [
        "# Load pivot table gorups event of timely payment and default for each family_status \n",
        "family_pivot = credit_scoring.pivot_table(index='family_status', columns='debt', values='dob_years', aggfunc='count', margins=True, margins_name='Total')\n",
        "family_pivot['% timely'] = family_pivot[0]/(family_pivot.loc['Total',0])*100\n",
        "family_pivot['% late'] = family_pivot[1]/(family_pivot.loc['Total',1])*100\n",
        "\n",
        "family_pivot"
      ]
    },
    {
      "cell_type": "code",
      "execution_count": null,
      "metadata": {
        "scrolled": false,
        "colab": {
          "base_uri": "https://localhost:8080/"
        },
        "id": "8Kvl29Nrkuzw",
        "outputId": "6154cd2a-7a24-4619-c723-19fb010c4af2"
      },
      "outputs": [
        {
          "output_type": "execute_result",
          "data": {
            "text/plain": [
              "family_status\n",
              "civil partnership    357\n",
              "divorced              74\n",
              "married              829\n",
              "unmarried            261\n",
              "widow / widower       31\n",
              "Name: debt, dtype: int64"
            ]
          },
          "metadata": {},
          "execution_count": 125
        }
      ],
      "source": [
        "# Load event of defaults based on family_status\n",
        "\n",
        "debt_1.groupby('family_status')['debt'].count()\n"
      ]
    },
    {
      "cell_type": "markdown",
      "metadata": {
        "id": "wJB4GM5Mkuzx"
      },
      "source": [
        "**Conclusion**\n",
        "\n",
        "A relationship between marital status to timeliness of repayment is observed\n",
        "\n",
        "From the pivot table and groupby, it appears that the percentage of event of default is greater than of timely repayment for civil_partnership and unmarried. This is  contrast to married, widowed, and divorced. \n",
        "\n",
        "However, the difference between the percentage of default and timely repayment is not too significant so it can be concluded that there is no effect of marital status on timeliness in paying off loans."
      ]
    },
    {
      "cell_type": "markdown",
      "metadata": {
        "id": "jw7N6FIqkuzx"
      },
      "source": [
        "### **Is there a correlation between income levels and timely repayment?**"
      ]
    },
    {
      "cell_type": "code",
      "execution_count": null,
      "metadata": {
        "colab": {
          "base_uri": "https://localhost:8080/",
          "height": 206
        },
        "id": "oTAKvLk9kuzx",
        "outputId": "ce6874d1-e92b-4cd9-b73c-36cceab2982c"
      },
      "outputs": [
        {
          "output_type": "execute_result",
          "data": {
            "text/plain": [
              "debt             0    1   % timely     % late\n",
              "income_class                                 \n",
              "lower          177   14   1.081048   0.902062\n",
              "lower middle  6586  689  40.224760  44.394330\n",
              "middle        6590  607  40.249191  39.110825\n",
              "upper middle  3020  242  18.445001  15.592784"
            ],
            "text/html": [
              "\n",
              "  <div id=\"df-68b56fa1-02cd-425c-9f4b-8bc1f4d907af\">\n",
              "    <div class=\"colab-df-container\">\n",
              "      <div>\n",
              "<style scoped>\n",
              "    .dataframe tbody tr th:only-of-type {\n",
              "        vertical-align: middle;\n",
              "    }\n",
              "\n",
              "    .dataframe tbody tr th {\n",
              "        vertical-align: top;\n",
              "    }\n",
              "\n",
              "    .dataframe thead th {\n",
              "        text-align: right;\n",
              "    }\n",
              "</style>\n",
              "<table border=\"1\" class=\"dataframe\">\n",
              "  <thead>\n",
              "    <tr style=\"text-align: right;\">\n",
              "      <th>debt</th>\n",
              "      <th>0</th>\n",
              "      <th>1</th>\n",
              "      <th>% timely</th>\n",
              "      <th>% late</th>\n",
              "    </tr>\n",
              "    <tr>\n",
              "      <th>income_class</th>\n",
              "      <th></th>\n",
              "      <th></th>\n",
              "      <th></th>\n",
              "      <th></th>\n",
              "    </tr>\n",
              "  </thead>\n",
              "  <tbody>\n",
              "    <tr>\n",
              "      <th>lower</th>\n",
              "      <td>177</td>\n",
              "      <td>14</td>\n",
              "      <td>1.081048</td>\n",
              "      <td>0.902062</td>\n",
              "    </tr>\n",
              "    <tr>\n",
              "      <th>lower middle</th>\n",
              "      <td>6586</td>\n",
              "      <td>689</td>\n",
              "      <td>40.224760</td>\n",
              "      <td>44.394330</td>\n",
              "    </tr>\n",
              "    <tr>\n",
              "      <th>middle</th>\n",
              "      <td>6590</td>\n",
              "      <td>607</td>\n",
              "      <td>40.249191</td>\n",
              "      <td>39.110825</td>\n",
              "    </tr>\n",
              "    <tr>\n",
              "      <th>upper middle</th>\n",
              "      <td>3020</td>\n",
              "      <td>242</td>\n",
              "      <td>18.445001</td>\n",
              "      <td>15.592784</td>\n",
              "    </tr>\n",
              "  </tbody>\n",
              "</table>\n",
              "</div>\n",
              "      <button class=\"colab-df-convert\" onclick=\"convertToInteractive('df-68b56fa1-02cd-425c-9f4b-8bc1f4d907af')\"\n",
              "              title=\"Convert this dataframe to an interactive table.\"\n",
              "              style=\"display:none;\">\n",
              "        \n",
              "  <svg xmlns=\"http://www.w3.org/2000/svg\" height=\"24px\"viewBox=\"0 0 24 24\"\n",
              "       width=\"24px\">\n",
              "    <path d=\"M0 0h24v24H0V0z\" fill=\"none\"/>\n",
              "    <path d=\"M18.56 5.44l.94 2.06.94-2.06 2.06-.94-2.06-.94-.94-2.06-.94 2.06-2.06.94zm-11 1L8.5 8.5l.94-2.06 2.06-.94-2.06-.94L8.5 2.5l-.94 2.06-2.06.94zm10 10l.94 2.06.94-2.06 2.06-.94-2.06-.94-.94-2.06-.94 2.06-2.06.94z\"/><path d=\"M17.41 7.96l-1.37-1.37c-.4-.4-.92-.59-1.43-.59-.52 0-1.04.2-1.43.59L10.3 9.45l-7.72 7.72c-.78.78-.78 2.05 0 2.83L4 21.41c.39.39.9.59 1.41.59.51 0 1.02-.2 1.41-.59l7.78-7.78 2.81-2.81c.8-.78.8-2.07 0-2.86zM5.41 20L4 18.59l7.72-7.72 1.47 1.35L5.41 20z\"/>\n",
              "  </svg>\n",
              "      </button>\n",
              "      \n",
              "  <style>\n",
              "    .colab-df-container {\n",
              "      display:flex;\n",
              "      flex-wrap:wrap;\n",
              "      gap: 12px;\n",
              "    }\n",
              "\n",
              "    .colab-df-convert {\n",
              "      background-color: #E8F0FE;\n",
              "      border: none;\n",
              "      border-radius: 50%;\n",
              "      cursor: pointer;\n",
              "      display: none;\n",
              "      fill: #1967D2;\n",
              "      height: 32px;\n",
              "      padding: 0 0 0 0;\n",
              "      width: 32px;\n",
              "    }\n",
              "\n",
              "    .colab-df-convert:hover {\n",
              "      background-color: #E2EBFA;\n",
              "      box-shadow: 0px 1px 2px rgba(60, 64, 67, 0.3), 0px 1px 3px 1px rgba(60, 64, 67, 0.15);\n",
              "      fill: #174EA6;\n",
              "    }\n",
              "\n",
              "    [theme=dark] .colab-df-convert {\n",
              "      background-color: #3B4455;\n",
              "      fill: #D2E3FC;\n",
              "    }\n",
              "\n",
              "    [theme=dark] .colab-df-convert:hover {\n",
              "      background-color: #434B5C;\n",
              "      box-shadow: 0px 1px 3px 1px rgba(0, 0, 0, 0.15);\n",
              "      filter: drop-shadow(0px 1px 2px rgba(0, 0, 0, 0.3));\n",
              "      fill: #FFFFFF;\n",
              "    }\n",
              "  </style>\n",
              "\n",
              "      <script>\n",
              "        const buttonEl =\n",
              "          document.querySelector('#df-68b56fa1-02cd-425c-9f4b-8bc1f4d907af button.colab-df-convert');\n",
              "        buttonEl.style.display =\n",
              "          google.colab.kernel.accessAllowed ? 'block' : 'none';\n",
              "\n",
              "        async function convertToInteractive(key) {\n",
              "          const element = document.querySelector('#df-68b56fa1-02cd-425c-9f4b-8bc1f4d907af');\n",
              "          const dataTable =\n",
              "            await google.colab.kernel.invokeFunction('convertToInteractive',\n",
              "                                                     [key], {});\n",
              "          if (!dataTable) return;\n",
              "\n",
              "          const docLinkHtml = 'Like what you see? Visit the ' +\n",
              "            '<a target=\"_blank\" href=https://colab.research.google.com/notebooks/data_table.ipynb>data table notebook</a>'\n",
              "            + ' to learn more about interactive tables.';\n",
              "          element.innerHTML = '';\n",
              "          dataTable['output_type'] = 'display_data';\n",
              "          await google.colab.output.renderOutput(dataTable, element);\n",
              "          const docLink = document.createElement('div');\n",
              "          docLink.innerHTML = docLinkHtml;\n",
              "          element.appendChild(docLink);\n",
              "        }\n",
              "      </script>\n",
              "    </div>\n",
              "  </div>\n",
              "  "
            ]
          },
          "metadata": {},
          "execution_count": 126
        }
      ],
      "source": [
        "# Load pivot tabel that groups event of timely payment and default for each income level\n",
        "income_pivot = credit_scoring.pivot_table(index='income_class', columns='debt', values='dob_years', aggfunc='count')\n",
        "income_pivot['% timely'] = income_pivot[0]/(income_pivot[0].sum())*100\n",
        "income_pivot['% late'] = income_pivot[1]/(income_pivot[1].sum())*100\n",
        "\n",
        "income_pivot\n",
        "\n"
      ]
    },
    {
      "cell_type": "code",
      "execution_count": null,
      "metadata": {
        "colab": {
          "base_uri": "https://localhost:8080/"
        },
        "id": "8b0b8dHqkuzy",
        "outputId": "4f334881-b018-4d1f-9a1f-b53676c6b315"
      },
      "outputs": [
        {
          "output_type": "execute_result",
          "data": {
            "text/plain": [
              "income_class\n",
              "lower            14\n",
              "lower middle    689\n",
              "middle          607\n",
              "upper middle    242\n",
              "Name: debt, dtype: int64"
            ]
          },
          "metadata": {},
          "execution_count": 127
        }
      ],
      "source": [
        "# Load event of default based on income_class\n",
        "debt_1.groupby('income_class')['debt'].count()\n"
      ]
    },
    {
      "cell_type": "markdown",
      "metadata": {
        "id": "3FSlAB9ekuzy"
      },
      "source": [
        "**Conclusion**\n",
        "\n",
        "A relationship between income_class to timeliness of repayment is observed.\n",
        "\n",
        "From the pivot and grouping results, it appears that in general the greater the income, the lower the default rate. This is what is happening in the lower middle, middle, and upper middle income classes. Only the lower classes are outliers. Consider that it has small amount of data, it can be ignored. Hence it can be concluded that the higher the income, the lower the default rate.\n"
      ]
    },
    {
      "cell_type": "markdown",
      "metadata": {
        "id": "Nrb90QL7kuzy"
      },
      "source": [
        "### **How ​​does borrowing purpose affect default rates?**"
      ]
    },
    {
      "cell_type": "code",
      "execution_count": null,
      "metadata": {
        "colab": {
          "base_uri": "https://localhost:8080/",
          "height": 206
        },
        "id": "4cHSr5Rqkuzy",
        "outputId": "5250b35e-1aa7-4a3a-ea59-94bfe83221a5"
      },
      "outputs": [
        {
          "output_type": "execute_result",
          "data": {
            "text/plain": [
              "debt              0    1   % timely     % late\n",
              "purpose_topic                                 \n",
              "car            3214  358  19.629878  23.067010\n",
              "education      3019  328  18.438893  21.134021\n",
              "property       8369  701  51.114640  45.167526\n",
              "wedding        1771  165  10.816588  10.631443"
            ],
            "text/html": [
              "\n",
              "  <div id=\"df-efb3c845-ecdd-4555-be3f-0c3c0d263725\">\n",
              "    <div class=\"colab-df-container\">\n",
              "      <div>\n",
              "<style scoped>\n",
              "    .dataframe tbody tr th:only-of-type {\n",
              "        vertical-align: middle;\n",
              "    }\n",
              "\n",
              "    .dataframe tbody tr th {\n",
              "        vertical-align: top;\n",
              "    }\n",
              "\n",
              "    .dataframe thead th {\n",
              "        text-align: right;\n",
              "    }\n",
              "</style>\n",
              "<table border=\"1\" class=\"dataframe\">\n",
              "  <thead>\n",
              "    <tr style=\"text-align: right;\">\n",
              "      <th>debt</th>\n",
              "      <th>0</th>\n",
              "      <th>1</th>\n",
              "      <th>% timely</th>\n",
              "      <th>% late</th>\n",
              "    </tr>\n",
              "    <tr>\n",
              "      <th>purpose_topic</th>\n",
              "      <th></th>\n",
              "      <th></th>\n",
              "      <th></th>\n",
              "      <th></th>\n",
              "    </tr>\n",
              "  </thead>\n",
              "  <tbody>\n",
              "    <tr>\n",
              "      <th>car</th>\n",
              "      <td>3214</td>\n",
              "      <td>358</td>\n",
              "      <td>19.629878</td>\n",
              "      <td>23.067010</td>\n",
              "    </tr>\n",
              "    <tr>\n",
              "      <th>education</th>\n",
              "      <td>3019</td>\n",
              "      <td>328</td>\n",
              "      <td>18.438893</td>\n",
              "      <td>21.134021</td>\n",
              "    </tr>\n",
              "    <tr>\n",
              "      <th>property</th>\n",
              "      <td>8369</td>\n",
              "      <td>701</td>\n",
              "      <td>51.114640</td>\n",
              "      <td>45.167526</td>\n",
              "    </tr>\n",
              "    <tr>\n",
              "      <th>wedding</th>\n",
              "      <td>1771</td>\n",
              "      <td>165</td>\n",
              "      <td>10.816588</td>\n",
              "      <td>10.631443</td>\n",
              "    </tr>\n",
              "  </tbody>\n",
              "</table>\n",
              "</div>\n",
              "      <button class=\"colab-df-convert\" onclick=\"convertToInteractive('df-efb3c845-ecdd-4555-be3f-0c3c0d263725')\"\n",
              "              title=\"Convert this dataframe to an interactive table.\"\n",
              "              style=\"display:none;\">\n",
              "        \n",
              "  <svg xmlns=\"http://www.w3.org/2000/svg\" height=\"24px\"viewBox=\"0 0 24 24\"\n",
              "       width=\"24px\">\n",
              "    <path d=\"M0 0h24v24H0V0z\" fill=\"none\"/>\n",
              "    <path d=\"M18.56 5.44l.94 2.06.94-2.06 2.06-.94-2.06-.94-.94-2.06-.94 2.06-2.06.94zm-11 1L8.5 8.5l.94-2.06 2.06-.94-2.06-.94L8.5 2.5l-.94 2.06-2.06.94zm10 10l.94 2.06.94-2.06 2.06-.94-2.06-.94-.94-2.06-.94 2.06-2.06.94z\"/><path d=\"M17.41 7.96l-1.37-1.37c-.4-.4-.92-.59-1.43-.59-.52 0-1.04.2-1.43.59L10.3 9.45l-7.72 7.72c-.78.78-.78 2.05 0 2.83L4 21.41c.39.39.9.59 1.41.59.51 0 1.02-.2 1.41-.59l7.78-7.78 2.81-2.81c.8-.78.8-2.07 0-2.86zM5.41 20L4 18.59l7.72-7.72 1.47 1.35L5.41 20z\"/>\n",
              "  </svg>\n",
              "      </button>\n",
              "      \n",
              "  <style>\n",
              "    .colab-df-container {\n",
              "      display:flex;\n",
              "      flex-wrap:wrap;\n",
              "      gap: 12px;\n",
              "    }\n",
              "\n",
              "    .colab-df-convert {\n",
              "      background-color: #E8F0FE;\n",
              "      border: none;\n",
              "      border-radius: 50%;\n",
              "      cursor: pointer;\n",
              "      display: none;\n",
              "      fill: #1967D2;\n",
              "      height: 32px;\n",
              "      padding: 0 0 0 0;\n",
              "      width: 32px;\n",
              "    }\n",
              "\n",
              "    .colab-df-convert:hover {\n",
              "      background-color: #E2EBFA;\n",
              "      box-shadow: 0px 1px 2px rgba(60, 64, 67, 0.3), 0px 1px 3px 1px rgba(60, 64, 67, 0.15);\n",
              "      fill: #174EA6;\n",
              "    }\n",
              "\n",
              "    [theme=dark] .colab-df-convert {\n",
              "      background-color: #3B4455;\n",
              "      fill: #D2E3FC;\n",
              "    }\n",
              "\n",
              "    [theme=dark] .colab-df-convert:hover {\n",
              "      background-color: #434B5C;\n",
              "      box-shadow: 0px 1px 3px 1px rgba(0, 0, 0, 0.15);\n",
              "      filter: drop-shadow(0px 1px 2px rgba(0, 0, 0, 0.3));\n",
              "      fill: #FFFFFF;\n",
              "    }\n",
              "  </style>\n",
              "\n",
              "      <script>\n",
              "        const buttonEl =\n",
              "          document.querySelector('#df-efb3c845-ecdd-4555-be3f-0c3c0d263725 button.colab-df-convert');\n",
              "        buttonEl.style.display =\n",
              "          google.colab.kernel.accessAllowed ? 'block' : 'none';\n",
              "\n",
              "        async function convertToInteractive(key) {\n",
              "          const element = document.querySelector('#df-efb3c845-ecdd-4555-be3f-0c3c0d263725');\n",
              "          const dataTable =\n",
              "            await google.colab.kernel.invokeFunction('convertToInteractive',\n",
              "                                                     [key], {});\n",
              "          if (!dataTable) return;\n",
              "\n",
              "          const docLinkHtml = 'Like what you see? Visit the ' +\n",
              "            '<a target=\"_blank\" href=https://colab.research.google.com/notebooks/data_table.ipynb>data table notebook</a>'\n",
              "            + ' to learn more about interactive tables.';\n",
              "          element.innerHTML = '';\n",
              "          dataTable['output_type'] = 'display_data';\n",
              "          await google.colab.output.renderOutput(dataTable, element);\n",
              "          const docLink = document.createElement('div');\n",
              "          docLink.innerHTML = docLinkHtml;\n",
              "          element.appendChild(docLink);\n",
              "        }\n",
              "      </script>\n",
              "    </div>\n",
              "  </div>\n",
              "  "
            ]
          },
          "metadata": {},
          "execution_count": 128
        }
      ],
      "source": [
        "# Load pivot tabel that groups event of timely payment and default for each purpose\n",
        "\n",
        "purpose_pivot = credit_scoring.pivot_table(index='purpose_topic', columns='debt', values='dob_years', aggfunc='count')\n",
        "purpose_pivot['% timely'] = purpose_pivot[0]/(purpose_pivot[0].sum())*100\n",
        "purpose_pivot['% late'] = purpose_pivot[1]/(purpose_pivot[1].sum())*100\n",
        "\n",
        "purpose_pivot\n"
      ]
    },
    {
      "cell_type": "markdown",
      "metadata": {
        "id": "Vdkkj1u8kuzz"
      },
      "source": [
        "**Conclusion**\n",
        "\n",
        "A relationship between borrowing purpose and timeliness of repayment is observed.\n",
        "\n",
        "From the results of the pivot, it appears that the purpose of borrowing for cars and education is more likely to go on default. While for property and wedding purposes there is no significant difference between rate of defaults and timely repayment.\n"
      ]
    },
    {
      "cell_type": "markdown",
      "metadata": {
        "id": "zNNfXSVIkuzz"
      },
      "source": [
        "# General conclusion\n",
        "\n",
        "First, the missing values ​​in days_employed and total_income are not clearly identified. The proportion is 10% of the total data. Because the portion is quite significant, keeping the obervations might be beneficial for the testing the hypothesis. Median then is used to fill in the missing values. The median is preferred over the mean because of the massive number of outliers in the data.\n",
        "On another note, the median used is the median that is grouped by other relating, obersed factors.\n",
        "\n",
        "Second, explicit duplicates are found, which account for 0.3% of the total data. The cause for the duplicates is not known. Since the portion is small, it is pragmatic to drop them.\n",
        "\n",
        "Third, it is found that values are written in redundant ways, causing many unique values have one exactly the same meaning. A standardisation the is done to the writing style using all lowercase letters.\n",
        "\n",
        "Fourth, unreasonable values exist, such as negative values ​​for the number of children, and implausible number of days working. A technical error is assumed to has happned that causes the unreasonable values, and they then so are replaced with their absolute values, or reasonable value.\n",
        "\n",
        "Fifth, the data type are changed to the suitable one.\n",
        "\n",
        "In the final steps, the hypothetical questions are addressed. The conclusions drawns are:\n",
        "1. There is no effect of the number of children had to the timeliness of repayment.\n",
        "2. Civil partnership and unmarried marital status have a greater possibilities to default.\n",
        "3. The greater the income level, the smaller the probability of default.\n",
        "4. Loans for the purpose of buying cars and education has a greater probability to default."
      ]
    }
  ],
  "metadata": {
    "ExecuteTimeLog": [
      {
        "duration": 2741,
        "start_time": "2021-10-21T01:08:49.480Z"
      },
      {
        "duration": 52,
        "start_time": "2021-10-21T01:08:53.315Z"
      },
      {
        "duration": 49,
        "start_time": "2021-10-21T01:08:57.432Z"
      },
      {
        "duration": 70,
        "start_time": "2021-10-21T01:09:07.706Z"
      }
    ],
    "kernelspec": {
      "display_name": "Python 3 (ipykernel)",
      "language": "python",
      "name": "python3"
    },
    "language_info": {
      "codemirror_mode": {
        "name": "ipython",
        "version": 3
      },
      "file_extension": ".py",
      "mimetype": "text/x-python",
      "name": "python",
      "nbconvert_exporter": "python",
      "pygments_lexer": "ipython3",
      "version": "3.9.5"
    },
    "toc": {
      "base_numbering": 1,
      "nav_menu": {},
      "number_sections": true,
      "sideBar": true,
      "skip_h1_title": true,
      "title_cell": "Table of Contents",
      "title_sidebar": "Contents",
      "toc_cell": false,
      "toc_position": {},
      "toc_section_display": true,
      "toc_window_display": false
    },
    "vscode": {
      "interpreter": {
        "hash": "ef1728426330606e01c1da091626d7dbd7604032247e9790b44969d857c4f729"
      }
    },
    "colab": {
      "provenance": [],
      "toc_visible": true
    }
  },
  "nbformat": 4,
  "nbformat_minor": 0
}